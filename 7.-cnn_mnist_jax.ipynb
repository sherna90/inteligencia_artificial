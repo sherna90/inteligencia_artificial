{
  "cells": [
    {
      "cell_type": "markdown",
      "metadata": {
        "id": "view-in-github",
        "colab_type": "text"
      },
      "source": [
        "<a href=\"https://colab.research.google.com/github/sherna90/inteligencia_artificial/blob/master/7.-cnn_mnist_jax.ipynb\" target=\"_parent\"><img src=\"https://colab.research.google.com/assets/colab-badge.svg\" alt=\"Open In Colab\"/></a>"
      ]
    },
    {
      "cell_type": "markdown",
      "metadata": {
        "id": "hRTa3Ee15WsJ"
      },
      "source": [
        "# Redes Neuronales Convolucionales"
      ]
    },
    {
      "cell_type": "markdown",
      "metadata": {
        "id": "2X4KyhORdSeO"
      },
      "source": [
        "Este tutorial te guiará a través del proceso de creación, entrenamiento y validación de una red neuronal convolucional (CNN) usando JAX y Flax para clasificar imágenes del dataset MNIST.\n",
        "\n",
        "1. Examine and understand the data\n",
        "1. Build an input pipeline, in this case using Keras ImageDataGenerator\n",
        "1. Compose the model\n",
        "   * Load in the pretrained base model (and pretrained weights)\n",
        "   * Stack the classification layers on top\n",
        "1. Train the model\n",
        "1. Evaluate model\n"
      ]
    },
    {
      "cell_type": "code",
      "execution_count": null,
      "metadata": {
        "execution": {
          "iopub.execute_input": "2023-10-27T06:20:25.912144Z",
          "iopub.status.busy": "2023-10-27T06:20:25.911675Z",
          "iopub.status.idle": "2023-10-27T06:20:28.516843Z",
          "shell.execute_reply": "2023-10-27T06:20:28.516151Z"
        },
        "id": "TqOt6Sv7AsMi"
      },
      "outputs": [],
      "source": [
        "!pip install jax jaxlib flax optax matplotlib\n"
      ]
    },
    {
      "cell_type": "code",
      "execution_count": null,
      "metadata": {
        "execution": {
          "iopub.execute_input": "2023-10-27T06:20:28.521737Z",
          "iopub.status.busy": "2023-10-27T06:20:28.520994Z",
          "iopub.status.idle": "2023-10-27T06:20:32.908007Z",
          "shell.execute_reply": "2023-10-27T06:20:32.907251Z"
        },
        "id": "ro4oYaEmxe4r"
      },
      "outputs": [],
      "source": [
        "import jax\n",
        "import jax.numpy as jnp\n",
        "import flax.linen as nn\n",
        "from flax.training import train_state\n",
        "import optax\n",
        "import numpy as np\n",
        "import matplotlib.pyplot as plt\n",
        "import tensorflow as tf\n",
        "from tensorflow.keras.datasets import mnist"
      ]
    },
    {
      "cell_type": "markdown",
      "metadata": {
        "id": "v77rlkCKW0IJ"
      },
      "source": [
        "### Arquitectura de la CNN"
      ]
    },
    {
      "cell_type": "markdown",
      "metadata": {
        "id": "0GoKGm1duzgk"
      },
      "source": [
        "### Modelo"
      ]
    },
    {
      "cell_type": "markdown",
      "metadata": {
        "id": "vHP9qMJxt2oz"
      },
      "source": [
        "Usaremos Flax Linen para definir la CNN. Este ejemplo incluye dos capas convolucionales seguidas de una capa densa para la clasificación.\n",
        "\n"
      ]
    },
    {
      "cell_type": "code",
      "execution_count": null,
      "metadata": {
        "execution": {
          "iopub.execute_input": "2023-10-27T06:20:32.912005Z",
          "iopub.status.busy": "2023-10-27T06:20:32.911580Z",
          "iopub.status.idle": "2023-10-27T06:20:32.979955Z",
          "shell.execute_reply": "2023-10-27T06:20:32.979342Z"
        },
        "id": "cAvtLwi7_J__"
      },
      "outputs": [],
      "source": [
        "class CNN(nn.Module):\n",
        "    @nn.compact\n",
        "    def __call__(self, x):\n",
        "      x = nn.Conv(features=32, kernel_size=(3, 3))(x)\n",
        "      x = nn.relu(x)\n",
        "      x = nn.max_pool(x, window_shape=(2, 2), strides=(2, 2))\n",
        "      x = nn.Conv(features=64, kernel_size=(3, 3))(x)\n",
        "      x = nn.relu(x)\n",
        "      x = nn.max_pool(x, window_shape=(2, 2), strides=(2, 2))\n",
        "      x = x.reshape((x.shape[0], -1)) # Aplanar la salida para la capa densa\n",
        "      x = nn.Dense(features=10)(x)\n",
        "      return x"
      ]
    },
    {
      "cell_type": "markdown",
      "metadata": {
        "id": "yO1Q2JaW5sIy"
      },
      "source": [
        "Cargar y preprocesar el dataset MNIST:"
      ]
    },
    {
      "cell_type": "code",
      "execution_count": null,
      "metadata": {
        "execution": {
          "iopub.execute_input": "2023-10-27T06:20:32.983580Z",
          "iopub.status.busy": "2023-10-27T06:20:32.982941Z",
          "iopub.status.idle": "2023-10-27T06:20:33.965642Z",
          "shell.execute_reply": "2023-10-27T06:20:33.964851Z"
        },
        "id": "K5BeQyKThC_Y"
      },
      "outputs": [],
      "source": [
        "(x_train, y_train), (x_test, y_test) = mnist.load_data()\n",
        "\n",
        "# Normalizar y añadir una dimensión para el canal\n",
        "x_train = x_train.astype(jnp.float32) / 255.0\n",
        "x_train = x_train.reshape(-1, 28, 28, 1)\n",
        "x_test = x_test.astype(jnp.float32) / 255.0\n",
        "x_test = x_test.reshape(-1, 28, 28, 1)\n",
        "\n",
        "y_train = jax.nn.one_hot(y_train, num_classes=10)\n",
        "y_test = jax.nn.one_hot(y_test, num_classes=10)\n",
        "\n"
      ]
    },
    {
      "cell_type": "code",
      "source": [
        "x_train.shape,y_train.shape"
      ],
      "metadata": {
        "id": "KivjsxAHDdc1"
      },
      "execution_count": null,
      "outputs": []
    },
    {
      "cell_type": "markdown",
      "source": [],
      "metadata": {
        "id": "H3kegalOENPq"
      }
    },
    {
      "cell_type": "code",
      "source": [
        "class_names = ['0', '1', '2', '3', '4', '5', '6', '7', '8', '9']"
      ],
      "metadata": {
        "id": "NHSbQOncD9gD"
      },
      "execution_count": null,
      "outputs": []
    },
    {
      "cell_type": "code",
      "source": [
        "plt.figure(figsize=(10, 10))\n",
        "for i in range(9):\n",
        "  ax = plt.subplot(3, 3, i + 1)\n",
        "  plt.imshow(x_train[i],cmap='gray')\n",
        "  plt.title(class_names[jnp.argmax(y_train[i])])\n",
        "  plt.axis(\"off\")"
      ],
      "metadata": {
        "id": "OL8KmCvb0wLu"
      },
      "execution_count": null,
      "outputs": []
    },
    {
      "cell_type": "markdown",
      "metadata": {
        "id": "EZqCX_mpV3Mx"
      },
      "source": [
        "Inicializar el modelo y el estado de entrenamiento:"
      ]
    },
    {
      "cell_type": "code",
      "execution_count": null,
      "metadata": {
        "execution": {
          "iopub.execute_input": "2023-10-27T06:20:33.979709Z",
          "iopub.status.busy": "2023-10-27T06:20:33.979411Z",
          "iopub.status.idle": "2023-10-27T06:20:33.989106Z",
          "shell.execute_reply": "2023-10-27T06:20:33.988369Z"
        },
        "id": "uFFIYrTFV9RO"
      },
      "outputs": [],
      "source": [
        "@jax.jit\n",
        "def predict(params, inputs):\n",
        "  return net.apply({\"params\": params}, inputs)\n",
        "\n",
        "\n",
        "@jax.jit\n",
        "def loss_fun(params, data):\n",
        "  inputs, labels = data\n",
        "  logits = predict(params, inputs)\n",
        "  loss = optax.softmax_cross_entropy(logits=logits, labels=labels).mean()\n",
        "  return loss\n",
        "\n",
        "\n",
        "net = CNN()\n",
        "optimizer = optax.adam(1e-3)\n",
        "rng = jax.random.PRNGKey(0)\n",
        "dummy_data = jnp.zeros((1, 28, 28, 1))\n",
        "params = net.init({\"params\": rng}, dummy_data)[\"params\"]"
      ]
    },
    {
      "cell_type": "markdown",
      "source": [
        " Definir la función y ciclo de entrenamiento usando mini-batches."
      ],
      "metadata": {
        "id": "s0aVtkWHNiUG"
      }
    },
    {
      "cell_type": "code",
      "execution_count": null,
      "metadata": {
        "execution": {
          "iopub.execute_input": "2023-10-27T06:20:33.992687Z",
          "iopub.status.busy": "2023-10-27T06:20:33.992029Z",
          "iopub.status.idle": "2023-10-27T06:20:33.996689Z",
          "shell.execute_reply": "2023-10-27T06:20:33.995957Z"
        },
        "id": "Q9pFlFWgBKgH"
      },
      "outputs": [],
      "source": [
        "def train_step(params, optimizer, x_train, y_train,x_test,y_test,num_epochs=10,batch_size=64):\n",
        "  \"\"\"Computes loss and accuracy over the dataset `data_loader`.\"\"\"\n",
        "  opt_state = optimizer.init(params)\n",
        "  train_accuracy = []\n",
        "  train_loss = []\n",
        "  test_accuracy = []\n",
        "  test_loss = []\n",
        "  for j in range(num_epochs):\n",
        "    for i in range(0, len(x_train), batch_size):\n",
        "      batch_images = x_train[i:i+batch_size]\n",
        "      batch_labels = y_train[i:i+batch_size]\n",
        "      loss, grads = jax.value_and_grad(loss_fun)(params, (batch_images, batch_labels))\n",
        "      updates, opt_state = optimizer.update(grads, opt_state)\n",
        "      params = optax.apply_updates(params, updates)\n",
        "      predictions = predict(params, batch_images)\n",
        "      accuracy = jnp.mean(jnp.argmax(predictions, axis=-1) == jnp.argmax(batch_labels, axis=-1))\n",
        "      train_accuracy.append(accuracy)\n",
        "      train_loss.append(loss)\n",
        "    if j % (num_epochs//10) == 0:\n",
        "      test_predictions = predict(params, x_test)\n",
        "      test_accuracy.append(jnp.mean(jnp.argmax(test_predictions, axis=-1) == jnp.argmax(y_test, axis=-1)))\n",
        "      test_loss.append(loss_fun(params,(x_test,y_test)))\n",
        "      print(f\"Epoch {j}, Loss: {loss}, Accuracy: {accuracy}\")\n",
        "  return params,(train_loss,train_accuracy),(test_loss,test_accuracy)"
      ]
    },
    {
      "cell_type": "code",
      "source": [
        "updated_params,train_history,test_history=train_step(params, optimizer, x_train, y_train,x_test,y_test)"
      ],
      "metadata": {
        "id": "3sbGTrlbLoSb"
      },
      "execution_count": null,
      "outputs": []
    },
    {
      "cell_type": "code",
      "source": [
        "jnp.argmax(y_train[-10:],axis=-1)"
      ],
      "metadata": {
        "id": "nj7Mw5KOU7kd"
      },
      "execution_count": null,
      "outputs": []
    },
    {
      "cell_type": "code",
      "source": [
        "predictions = predict(updated_params, x_train[-10:])\n",
        "jnp.argmax(predictions, axis=-1)"
      ],
      "metadata": {
        "id": "NWIB4hafVH5R"
      },
      "execution_count": null,
      "outputs": []
    },
    {
      "cell_type": "code",
      "source": [
        "import matplotlib.pyplot as plt\n",
        "\n",
        "fig, (ax1, ax2) = plt.subplots(1, 2,sharex=True, sharey=False,figsize=(10,5))\n",
        "fig.suptitle('Train')\n",
        "ax1.plot(train_history[0],linewidth=1, linestyle='--')\n",
        "ax1.set_title('Loss')\n",
        "ax2.plot(train_history[1],'tab:orange',linewidth=1, linestyle='--')\n",
        "ax2.set_title('Accuracy')\n",
        "plt.show()"
      ],
      "metadata": {
        "id": "FqEm5o9TUfUV"
      },
      "execution_count": null,
      "outputs": []
    },
    {
      "cell_type": "code",
      "source": [
        "fig, (ax1, ax2) = plt.subplots(1, 2,sharex=True, sharey=False,figsize=(10,5))\n",
        "fig.suptitle('Test')\n",
        "ax1.plot(test_history[0],linewidth=1, linestyle='--')\n",
        "ax1.set_title('Loss')\n",
        "ax2.plot(test_history[1],'tab:orange',linewidth=1, linestyle='--')\n",
        "ax2.set_title('Accuracy')\n",
        "plt.show()"
      ],
      "metadata": {
        "id": "BVwZcecMUyDb"
      },
      "execution_count": null,
      "outputs": []
    }
  ],
  "metadata": {
    "accelerator": "GPU",
    "colab": {
      "private_outputs": true,
      "provenance": [],
      "include_colab_link": true
    },
    "kernelspec": {
      "display_name": "Python 3",
      "name": "python3"
    },
    "language_info": {
      "codemirror_mode": {
        "name": "ipython",
        "version": 3
      },
      "file_extension": ".py",
      "mimetype": "text/x-python",
      "name": "python",
      "nbconvert_exporter": "python",
      "pygments_lexer": "ipython3",
      "version": "3.8.15"
    }
  },
  "nbformat": 4,
  "nbformat_minor": 0
}