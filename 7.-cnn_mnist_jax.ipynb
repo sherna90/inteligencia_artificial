{
 "cells": [
  {
   "cell_type": "markdown",
   "metadata": {
    "colab_type": "text",
    "id": "view-in-github"
   },
   "source": [
    "<a href=\"https://colab.research.google.com/github/sherna90/inteligencia_artificial/blob/master/7.-cnn_mnist_jax.ipynb\" target=\"_parent\"><img src=\"https://colab.research.google.com/assets/colab-badge.svg\" alt=\"Open In Colab\"/></a>"
   ]
  },
  {
   "cell_type": "markdown",
   "metadata": {
    "id": "hRTa3Ee15WsJ"
   },
   "source": [
    "# Redes Neuronales Convolucionales"
   ]
  },
  {
   "cell_type": "markdown",
   "metadata": {
    "id": "2X4KyhORdSeO"
   },
   "source": [
    "Este tutorial te guiará a través del proceso de creación, entrenamiento y validación de una red neuronal convolucional (CNN) usando JAX y Flax para clasificar imágenes del dataset MNIST.\n",
    "\n",
    "1. Examine and understand the data\n",
    "1. Build an input pipeline, in this case using Keras ImageDataGenerator\n",
    "1. Compose the model\n",
    "   * Load in the pretrained base model (and pretrained weights)\n",
    "   * Stack the classification layers on top\n",
    "1. Train the model\n",
    "1. Evaluate model\n"
   ]
  },
  {
   "cell_type": "code",
   "execution_count": null,
   "metadata": {
    "execution": {
     "iopub.execute_input": "2023-10-27T06:20:25.912144Z",
     "iopub.status.busy": "2023-10-27T06:20:25.911675Z",
     "iopub.status.idle": "2023-10-27T06:20:28.516843Z",
     "shell.execute_reply": "2023-10-27T06:20:28.516151Z"
    },
    "id": "TqOt6Sv7AsMi"
   },
   "outputs": [],
   "source": [
    "!pip install jax jaxlib flax optax matplotlib\n"
   ]
  },
  {
   "cell_type": "code",
   "execution_count": 3,
   "metadata": {
    "execution": {
     "iopub.execute_input": "2023-10-27T06:20:28.521737Z",
     "iopub.status.busy": "2023-10-27T06:20:28.520994Z",
     "iopub.status.idle": "2023-10-27T06:20:32.908007Z",
     "shell.execute_reply": "2023-10-27T06:20:32.907251Z"
    },
    "id": "ro4oYaEmxe4r"
   },
   "outputs": [],
   "source": [
    "import jax\n",
    "import jax.numpy as jnp\n",
    "import flax.linen as nn\n",
    "from flax.training import train_state\n",
    "import optax\n",
    "import numpy as np\n",
    "import matplotlib.pyplot as plt\n",
    "#import tensorflow as tf\n",
    "#from tensorflow.keras.datasets import mnist"
   ]
  },
  {
   "cell_type": "code",
   "execution_count": 4,
   "metadata": {},
   "outputs": [],
   "source": [
    "import tensorflow as tf\n",
    "from tensorflow.keras.datasets import mnist"
   ]
  },
  {
   "cell_type": "markdown",
   "metadata": {
    "id": "v77rlkCKW0IJ"
   },
   "source": [
    "### Arquitectura de la CNN"
   ]
  },
  {
   "cell_type": "markdown",
   "metadata": {
    "id": "0GoKGm1duzgk"
   },
   "source": [
    "### Modelo"
   ]
  },
  {
   "cell_type": "markdown",
   "metadata": {
    "id": "vHP9qMJxt2oz"
   },
   "source": [
    "Usaremos Flax Linen para definir la CNN. Este ejemplo incluye dos capas convolucionales seguidas de una capa densa para la clasificación.\n",
    "\n"
   ]
  },
  {
   "cell_type": "code",
   "execution_count": 6,
   "metadata": {
    "execution": {
     "iopub.execute_input": "2023-10-27T06:20:32.912005Z",
     "iopub.status.busy": "2023-10-27T06:20:32.911580Z",
     "iopub.status.idle": "2023-10-27T06:20:32.979955Z",
     "shell.execute_reply": "2023-10-27T06:20:32.979342Z"
    },
    "id": "cAvtLwi7_J__"
   },
   "outputs": [],
   "source": [
    "class CNN(nn.Module):\n",
    "    @nn.compact\n",
    "    def __call__(self, x):\n",
    "      x = nn.Conv(features=32, kernel_size=(3, 3))(x)\n",
    "      x = nn.relu(x)\n",
    "      x = nn.max_pool(x, window_shape=(2, 2), strides=(2, 2))\n",
    "      x = nn.Conv(features=64, kernel_size=(3, 3))(x)\n",
    "      x = nn.relu(x)\n",
    "      x = nn.max_pool(x, window_shape=(2, 2), strides=(2, 2))\n",
    "      x = x.reshape((x.shape[0], -1)) # Aplanar la salida para la capa densa\n",
    "      x = nn.Dense(features=10)(x)\n",
    "      return x"
   ]
  },
  {
   "cell_type": "markdown",
   "metadata": {
    "id": "yO1Q2JaW5sIy"
   },
   "source": [
    "Cargar y preprocesar el dataset MNIST:"
   ]
  },
  {
   "cell_type": "code",
   "execution_count": 7,
   "metadata": {
    "execution": {
     "iopub.execute_input": "2023-10-27T06:20:32.983580Z",
     "iopub.status.busy": "2023-10-27T06:20:32.982941Z",
     "iopub.status.idle": "2023-10-27T06:20:33.965642Z",
     "shell.execute_reply": "2023-10-27T06:20:33.964851Z"
    },
    "id": "K5BeQyKThC_Y"
   },
   "outputs": [
    {
     "name": "stdout",
     "output_type": "stream",
     "text": [
      "Downloading data from https://storage.googleapis.com/tensorflow/tf-keras-datasets/mnist.npz\n",
      "11490434/11490434 [==============================] - 1s 0us/step\n"
     ]
    }
   ],
   "source": [
    "(x_train, y_train), (x_test, y_test) = mnist.load_data()\n",
    "\n",
    "# Normalizar y añadir una dimensión para el canal\n",
    "x_train = x_train.astype(jnp.float32) / 255.0\n",
    "x_train = x_train.reshape(-1, 28, 28, 1)\n",
    "x_test = x_test.astype(jnp.float32) / 255.0\n",
    "x_test = x_test.reshape(-1, 28, 28, 1)\n",
    "\n",
    "y_train = jax.nn.one_hot(y_train, num_classes=10)\n",
    "y_test = jax.nn.one_hot(y_test, num_classes=10)\n",
    "\n"
   ]
  },
  {
   "cell_type": "code",
   "execution_count": 8,
   "metadata": {
    "id": "KivjsxAHDdc1"
   },
   "outputs": [
    {
     "data": {
      "text/plain": [
       "((60000, 28, 28, 1), (60000, 10))"
      ]
     },
     "execution_count": 8,
     "metadata": {},
     "output_type": "execute_result"
    }
   ],
   "source": [
    "x_train.shape,y_train.shape"
   ]
  },
  {
   "cell_type": "markdown",
   "metadata": {
    "id": "H3kegalOENPq"
   },
   "source": []
  },
  {
   "cell_type": "code",
   "execution_count": 9,
   "metadata": {
    "id": "NHSbQOncD9gD"
   },
   "outputs": [],
   "source": [
    "class_names = ['0', '1', '2', '3', '4', '5', '6', '7', '8', '9']"
   ]
  },
  {
   "cell_type": "code",
   "execution_count": 10,
   "metadata": {
    "id": "OL8KmCvb0wLu"
   },
   "outputs": [
    {
     "data": {
      "image/png": "[encoded data removed]",
      "text/plain": [
       "<Figure size 720x720 with 9 Axes>"
      ]
     },
     "metadata": {
      "needs_background": "light"
     },
     "output_type": "display_data"
    }
   ],
   "source": [
    "plt.figure(figsize=(10, 10))\n",
    "for i in range(9):\n",
    "  ax = plt.subplot(3, 3, i + 1)\n",
    "  plt.imshow(x_train[i],cmap='gray')\n",
    "  plt.title(class_names[jnp.argmax(y_train[i])])\n",
    "  plt.axis(\"off\")"
   ]
  },
  {
   "cell_type": "markdown",
   "metadata": {
    "id": "EZqCX_mpV3Mx"
   },
   "source": [
    "Inicializar el modelo y el estado de entrenamiento:"
   ]
  },
  {
   "cell_type": "code",
   "execution_count": 15,
   "metadata": {
    "execution": {
     "iopub.execute_input": "2023-10-27T06:20:33.979709Z",
     "iopub.status.busy": "2023-10-27T06:20:33.979411Z",
     "iopub.status.idle": "2023-10-27T06:20:33.989106Z",
     "shell.execute_reply": "2023-10-27T06:20:33.988369Z"
    },
    "id": "uFFIYrTFV9RO"
   },
   "outputs": [],
   "source": [
    "@jax.jit\n",
    "def predict(params, inputs):\n",
    "  return net.apply({\"params\": params}, inputs)\n",
    "\n",
    "\n",
    "@jax.jit\n",
    "def loss_fun(params, data):\n",
    "  inputs, labels = data\n",
    "  logits = predict(params, inputs)\n",
    "  loss = optax.softmax_cross_entropy(logits=logits, labels=labels).mean()\n",
    "  return loss\n",
    "\n",
    "\n",
    "net = CNN()\n",
    "optimizer = optax.adam(1e-3)\n",
    "rng = jax.random.PRNGKey(0)\n",
    "dummy_data = jnp.zeros((1, 28, 28, 1))\n",
    "params = net.init({\"params\": rng}, dummy_data)[\"params\"]"
   ]
  },
  {
   "cell_type": "code",
   "execution_count": 22,
   "metadata": {
    "id": "iAE1WMYke10t"
   },
   "outputs": [
    {
     "data": {
      "text/plain": [
       "{'Conv_0': {'bias': (32,), 'kernel': (3, 3, 1, 32)},\n",
       " 'Conv_1': {'bias': (64,), 'kernel': (3, 3, 32, 64)},\n",
       " 'Dense_0': {'bias': (10,), 'kernel': (3136, 10)}}"
      ]
     },
     "execution_count": 22,
     "metadata": {},
     "output_type": "execute_result"
    }
   ],
   "source": [
    "jax.tree_map(lambda p: jnp.shape(p),params)"
   ]
  },
  {
   "cell_type": "code",
   "execution_count": 25,
   "metadata": {},
   "outputs": [
    {
     "data": {
      "text/plain": [
       "3136.0"
      ]
     },
     "execution_count": 25,
     "metadata": {},
     "output_type": "execute_result"
    }
   ],
   "source": [
    "3*3*32*64/6+64"
   ]
  },
  {
   "cell_type": "markdown",
   "metadata": {
    "id": "s0aVtkWHNiUG"
   },
   "source": [
    " Definir la función y ciclo de entrenamiento usando mini-batches."
   ]
  },
  {
   "cell_type": "code",
   "execution_count": 26,
   "metadata": {
    "execution": {
     "iopub.execute_input": "2023-10-27T06:20:33.992687Z",
     "iopub.status.busy": "2023-10-27T06:20:33.992029Z",
     "iopub.status.idle": "2023-10-27T06:20:33.996689Z",
     "shell.execute_reply": "2023-10-27T06:20:33.995957Z"
    },
    "id": "Q9pFlFWgBKgH"
   },
   "outputs": [],
   "source": [
    "def train_step(params, optimizer, x_train, y_train,x_test,y_test,num_epochs=10,batch_size=64):\n",
    "  \"\"\"Computes loss and accuracy over the dataset `data_loader`.\"\"\"\n",
    "  opt_state = optimizer.init(params)\n",
    "  train_accuracy = []\n",
    "  train_loss = []\n",
    "  test_accuracy = []\n",
    "  test_loss = []\n",
    "  for j in range(num_epochs):\n",
    "    for i in range(0, len(x_train), batch_size):\n",
    "      batch_images = x_train[i:i+batch_size]\n",
    "      batch_labels = y_train[i:i+batch_size]\n",
    "      loss, grads = jax.value_and_grad(loss_fun)(params, (batch_images, batch_labels))\n",
    "      updates, opt_state = optimizer.update(grads, opt_state)\n",
    "      params = optax.apply_updates(params, updates)\n",
    "      predictions = predict(params, batch_images)\n",
    "      accuracy = jnp.mean(jnp.argmax(predictions, axis=-1) == jnp.argmax(batch_labels, axis=-1))\n",
    "      train_accuracy.append(accuracy)\n",
    "      train_loss.append(loss)\n",
    "    if j % (num_epochs//10) == 0:\n",
    "      test_predictions = predict(params, x_test)\n",
    "      test_accuracy.append(jnp.mean(jnp.argmax(test_predictions, axis=-1) == jnp.argmax(y_test, axis=-1)))\n",
    "      test_loss.append(loss_fun(params,(x_test,y_test)))\n",
    "      print(f\"Epoch {j}, Loss: {loss}, Accuracy: {accuracy}\")\n",
    "  return params,(train_loss,train_accuracy),(test_loss,test_accuracy)"
   ]
  },
  {
   "cell_type": "code",
   "execution_count": 27,
   "metadata": {
    "id": "3sbGTrlbLoSb"
   },
   "outputs": [
    {
     "name": "stdout",
     "output_type": "stream",
     "text": [
      "Epoch 0, Loss: 0.03320257365703583, Accuracy: 1.0\n",
      "Epoch 1, Loss: 0.004114678129553795, Accuracy: 1.0\n",
      "Epoch 2, Loss: 0.0027005355805158615, Accuracy: 1.0\n",
      "Epoch 3, Loss: 0.0034238870721310377, Accuracy: 1.0\n",
      "Epoch 4, Loss: 0.003192773787304759, Accuracy: 1.0\n",
      "Epoch 5, Loss: 0.0035385394003242254, Accuracy: 1.0\n",
      "Epoch 6, Loss: 0.00048785144463181496, Accuracy: 1.0\n",
      "Epoch 7, Loss: 0.0003866527695208788, Accuracy: 1.0\n",
      "Epoch 8, Loss: 0.00030919801793061197, Accuracy: 1.0\n",
      "Epoch 9, Loss: 0.00010290610953234136, Accuracy: 1.0\n"
     ]
    }
   ],
   "source": [
    "updated_params,train_history,test_history=train_step(params, optimizer, x_train, y_train,x_test,y_test)"
   ]
  },
  {
   "cell_type": "code",
   "execution_count": 28,
   "metadata": {
    "id": "nj7Mw5KOU7kd"
   },
   "outputs": [
    {
     "data": {
      "text/plain": [
       "Array([9, 2, 9, 5, 1, 8, 3, 5, 6, 8], dtype=int32)"
      ]
     },
     "execution_count": 28,
     "metadata": {},
     "output_type": "execute_result"
    }
   ],
   "source": [
    "jnp.argmax(y_train[-10:],axis=-1)"
   ]
  },
  {
   "cell_type": "code",
   "execution_count": 31,
   "metadata": {
    "id": "NWIB4hafVH5R"
   },
   "outputs": [
    {
     "data": {
      "text/plain": [
       "Array([9, 2, 9, 5, 1, 8, 3, 5, 6, 8], dtype=int32)"
      ]
     },
     "execution_count": 31,
     "metadata": {},
     "output_type": "execute_result"
    }
   ],
   "source": [
    "predictions = predict(updated_params, x_train[-10:])\n",
    "jnp.argmax(predictions, axis=-1)"
   ]
  },
  {
   "cell_type": "code",
   "execution_count": 32,
   "metadata": {
    "id": "FqEm5o9TUfUV"
   },
   "outputs": [
    {
     "data": {
      "image/png": "[encoded data removed]",
      "text/plain": [
       "<Figure size 720x360 with 2 Axes>"
      ]
     },
     "metadata": {
      "needs_background": "light"
     },
     "output_type": "display_data"
    }
   ],
   "source": [
    "import matplotlib.pyplot as plt\n",
    "\n",
    "fig, (ax1, ax2) = plt.subplots(1, 2,sharex=True, sharey=False,figsize=(10,5))\n",
    "fig.suptitle('Train')\n",
    "ax1.plot(train_history[0],linewidth=1, linestyle='--')\n",
    "ax1.set_title('Loss')\n",
    "ax2.plot(train_history[1],'tab:orange',linewidth=1, linestyle='--')\n",
    "ax2.set_title('Accuracy')\n",
    "plt.show()"
   ]
  },
  {
   "cell_type": "code",
   "execution_count": 34,
   "metadata": {},
   "outputs": [
    {
     "data": {
      "text/plain": [
       "9375.0"
      ]
     },
     "execution_count": 34,
     "metadata": {},
     "output_type": "execute_result"
    }
   ],
   "source": [
    "60000/64*10"
   ]
  },
  {
   "cell_type": "code",
   "execution_count": 35,
   "metadata": {
    "id": "BVwZcecMUyDb"
   },
   "outputs": [
    {
     "data": {
      "image/png": "[encoded data removed]",
      "text/plain": [
       "<Figure size 720x360 with 2 Axes>"
      ]
     },
     "metadata": {
      "needs_background": "light"
     },
     "output_type": "display_data"
    }
   ],
   "source": [
    "fig, (ax1, ax2) = plt.subplots(1, 2,sharex=True, sharey=False,figsize=(10,5))\n",
    "fig.suptitle('Test')\n",
    "ax1.plot(test_history[0],linewidth=1, linestyle='--')\n",
    "ax1.set_title('Loss')\n",
    "ax2.plot(test_history[1],'tab:orange',linewidth=1, linestyle='--')\n",
    "ax2.set_title('Accuracy')\n",
    "plt.show()"
   ]
  },
  {
   "cell_type": "markdown",
   "metadata": {
    "id": "5v9zX0FCWu4g"
   },
   "source": [
    "# Selección del Modelo"
   ]
  },
  {
   "cell_type": "code",
   "execution_count": 36,
   "metadata": {
    "id": "pi-mG4V7V66n"
   },
   "outputs": [],
   "source": [
    "from typing import Any, Callable, Sequence,Tuple\n",
    "\n",
    "class ExplicitCNN(nn.Module):\n",
    "  features: Sequence[int]\n",
    "  kernel_size: Tuple[int, int] = (3, 3)\n",
    "  strides: Tuple[int, int] = (1, 1)\n",
    "  padding: str = \"SAME\"\n",
    "  activation: Callable[[Any], Any] = nn.relu\n",
    "  pooling: Callable[[Any], Any] = nn.max_pool\n",
    "  pool_size: Tuple[int, int] = (2, 2)\n",
    "  batch_norm: bool = False\n",
    "\n",
    "  @nn.compact\n",
    "  def __call__(self, inputs):\n",
    "    x = inputs\n",
    "    for i, feat in enumerate(self.features):\n",
    "      if i != len(self.features):\n",
    "        x = nn.Conv(features=feat, kernel_size=self.kernel_size,name=f'cnn_layer_{i}')(x)\n",
    "        x = self.activation(x)\n",
    "        x = self.pooling(x, window_shape=self.pool_size, strides=self.strides)\n",
    "    x = x.reshape((x.shape[0], -1)) # Aplanar la salida para la capa densa\n",
    "    x = nn.Dense(features=10,name=f'bottleneck')(x)\n",
    "    return x"
   ]
  },
  {
   "cell_type": "code",
   "execution_count": 40,
   "metadata": {
    "id": "IKPqj3sKWzv2"
   },
   "outputs": [],
   "source": [
    "rng = jax.random.PRNGKey(0)\n",
    "\n",
    "net = ExplicitCNN(features=[8,32],pooling=nn.avg_pool,activation=nn.tanh)\n",
    "optimizer = optax.adam(1e-3)\n",
    "dummy_data = jnp.zeros((1, 28, 28, 1))\n",
    "params = net.init({\"params\": rng}, dummy_data)[\"params\"]\n",
    "opt_state = optimizer.init(params)"
   ]
  },
  {
   "cell_type": "code",
   "execution_count": 42,
   "metadata": {
    "id": "288vn__AbzNe"
   },
   "outputs": [
    {
     "data": {
      "text/plain": [
       "{'bottleneck': {'bias': (10,), 'kernel': (21632, 10)},\n",
       " 'cnn_layer_0': {'bias': (8,), 'kernel': (3, 3, 1, 8)},\n",
       " 'cnn_layer_1': {'bias': (32,), 'kernel': (3, 3, 8, 32)}}"
      ]
     },
     "execution_count": 42,
     "metadata": {},
     "output_type": "execute_result"
    }
   ],
   "source": [
    "jax.tree_map(lambda p: jnp.shape(p),params)"
   ]
  },
  {
   "cell_type": "code",
   "execution_count": 45,
   "metadata": {
    "id": "jWtOtrMEdUj1"
   },
   "outputs": [
    {
     "name": "stdout",
     "output_type": "stream",
     "text": [
      "Epoch 0, Loss: 0.2757613956928253, Accuracy: 0.96875\n",
      "Epoch 1, Loss: 0.18675939738750458, Accuracy: 0.9895833730697632\n",
      "Epoch 2, Loss: 0.16034621000289917, Accuracy: 0.9895833730697632\n",
      "Epoch 3, Loss: 0.1520346850156784, Accuracy: 0.9895833730697632\n",
      "Epoch 4, Loss: 0.1440628170967102, Accuracy: 0.9895833730697632\n",
      "Epoch 5, Loss: 0.1345575451850891, Accuracy: 0.9895833730697632\n",
      "Epoch 6, Loss: 0.12658771872520447, Accuracy: 0.9895833730697632\n",
      "Epoch 7, Loss: 0.11798541247844696, Accuracy: 0.9895833730697632\n",
      "Epoch 8, Loss: 0.10954972356557846, Accuracy: 0.9895833730697632\n",
      "Epoch 9, Loss: 0.10254234075546265, Accuracy: 0.9895833730697632\n"
     ]
    }
   ],
   "source": [
    "updated_params,train_history,test_history=train_step(params, optimizer, x_train, y_train,x_test,y_test,num_epochs=10,batch_size=256)"
   ]
  },
  {
   "cell_type": "code",
   "execution_count": 46,
   "metadata": {
    "id": "6gc5VprTepAa"
   },
   "outputs": [
    {
     "data": {
      "image/png": "[encoded data removed]",
      "text/plain": [
       "<Figure size 720x360 with 2 Axes>"
      ]
     },
     "metadata": {
      "needs_background": "light"
     },
     "output_type": "display_data"
    }
   ],
   "source": [
    "fig, (ax1, ax2) = plt.subplots(1, 2,sharex=True, sharey=False,figsize=(10,5))\n",
    "fig.suptitle('Train')\n",
    "ax1.plot(train_history[0],linewidth=1, linestyle='--')\n",
    "ax1.set_title('Loss')\n",
    "ax2.plot(train_history[1],'tab:orange',linewidth=1, linestyle='--')\n",
    "ax2.set_title('Accuracy')\n",
    "plt.show()"
   ]
  },
  {
   "cell_type": "code",
   "execution_count": 47,
   "metadata": {
    "id": "wkO0GutBer9Z"
   },
   "outputs": [
    {
     "data": {
      "image/png": "[encoded data removed]",
      "text/plain": [
       "<Figure size 720x360 with 2 Axes>"
      ]
     },
     "metadata": {
      "needs_background": "light"
     },
     "output_type": "display_data"
    }
   ],
   "source": [
    "fig, (ax1, ax2) = plt.subplots(1, 2,sharex=True, sharey=False,figsize=(10,5))\n",
    "fig.suptitle('Test')\n",
    "ax1.plot(test_history[0],linewidth=1, linestyle='--')\n",
    "ax1.set_title('Loss')\n",
    "ax2.plot(test_history[1],'tab:orange',linewidth=1, linestyle='--')\n",
    "ax2.set_title('Accuracy')\n",
    "plt.show()"
   ]
  },
  {
   "cell_type": "code",
   "execution_count": 50,
   "metadata": {},
   "outputs": [],
   "source": [
    "y_hat=predict(updated_params,x_test)\n",
    "predictions=jnp.argmax(y_hat,axis=-1)\n",
    "labels=jnp.argmax(y_test,axis=-1)\n"
   ]
  },
  {
   "cell_type": "code",
   "execution_count": 56,
   "metadata": {},
   "outputs": [
    {
     "data": {
      "text/plain": [
       "Array([7, 2, 1, ..., 4, 5, 6], dtype=int32)"
      ]
     },
     "execution_count": 56,
     "metadata": {},
     "output_type": "execute_result"
    }
   ],
   "source": [
    "labels"
   ]
  },
  {
   "cell_type": "code",
   "execution_count": 55,
   "metadata": {},
   "outputs": [
    {
     "data": {
      "text/plain": [
       "Array([7, 2, 1, ..., 4, 5, 6], dtype=int32)"
      ]
     },
     "execution_count": 55,
     "metadata": {},
     "output_type": "execute_result"
    }
   ],
   "source": [
    "predictions"
   ]
  },
  {
   "cell_type": "code",
   "execution_count": 58,
   "metadata": {},
   "outputs": [
    {
     "data": {
      "text/plain": [
       "['0', '1', '2', '3', '4', '5', '6', '7', '8', '9']"
      ]
     },
     "execution_count": 58,
     "metadata": {},
     "output_type": "execute_result"
    }
   ],
   "source": [
    "class_names"
   ]
  },
  {
   "cell_type": "code",
   "execution_count": 60,
   "metadata": {},
   "outputs": [
    {
     "data": {
      "text/plain": [
       "array([[ 973,    1,    1,    1,    0,    1,    2,    0,    1,    0],\n",
       "       [   1, 1129,    2,    1,    1,    0,    0,    0,    1,    0],\n",
       "       [   4,    2, 1015,    0,    2,    0,    2,    3,    3,    1],\n",
       "       [   2,    0,    4,  989,    1,    7,    0,    2,    3,    2],\n",
       "       [   2,    0,    2,    0,  972,    0,    3,    0,    1,    2],\n",
       "       [   2,    0,    0,    5,    0,  881,    2,    0,    2,    0],\n",
       "       [   9,    3,    0,    0,    2,    6,  937,    0,    1,    0],\n",
       "       [   2,    4,   13,    1,    2,    1,    0,  987,    4,   14],\n",
       "       [   7,    0,    3,    1,    3,    2,    2,    2,  948,    6],\n",
       "       [   2,    4,    0,    1,    6,    5,    1,    4,    0,  986]])"
      ]
     },
     "execution_count": 60,
     "metadata": {},
     "output_type": "execute_result"
    }
   ],
   "source": [
    "from sklearn.metrics import confusion_matrix\n",
    "\n",
    "confusion_matrix(labels,predictions)"
   ]
  },
  {
   "cell_type": "code",
   "execution_count": 62,
   "metadata": {},
   "outputs": [
    {
     "name": "stdout",
     "output_type": "stream",
     "text": [
      "              precision    recall  f1-score   support\n",
      "\n",
      "           0       0.97      0.99      0.98       980\n",
      "           1       0.99      0.99      0.99      1135\n",
      "           2       0.98      0.98      0.98      1032\n",
      "           3       0.99      0.98      0.98      1010\n",
      "           4       0.98      0.99      0.99       982\n",
      "           5       0.98      0.99      0.98       892\n",
      "           6       0.99      0.98      0.98       958\n",
      "           7       0.99      0.96      0.97      1028\n",
      "           8       0.98      0.97      0.98       974\n",
      "           9       0.98      0.98      0.98      1009\n",
      "\n",
      "    accuracy                           0.98     10000\n",
      "   macro avg       0.98      0.98      0.98     10000\n",
      "weighted avg       0.98      0.98      0.98     10000\n",
      "\n"
     ]
    }
   ],
   "source": [
    "from sklearn.metrics import classification_report\n",
    "\n",
    "print(classification_report(labels,predictions))"
   ]
  }
 ],
 "metadata": {
  "accelerator": "GPU",
  "colab": {
   "include_colab_link": true,
   "private_outputs": true,
   "provenance": []
  },
  "kernelspec": {
   "display_name": "distrax",
   "language": "python",
   "name": "python3"
  },
  "language_info": {
   "codemirror_mode": {
    "name": "ipython",
    "version": 3
   },
   "file_extension": ".py",
   "mimetype": "text/x-python",
   "name": "python",
   "nbconvert_exporter": "python",
   "pygments_lexer": "ipython3",
   "version": "3.8.17"
  }
 },
 "nbformat": 4,
 "nbformat_minor": 0
}
