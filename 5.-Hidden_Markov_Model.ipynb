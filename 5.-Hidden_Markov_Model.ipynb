{
  "cells": [
    {
      "cell_type": "markdown",
      "metadata": {
        "id": "y-b2XJG3sUcT"
      },
      "source": [
        "# Hidden Markov Model\n",
        "\n",
        "Tal cual como redes Bayesianas con probabilidades discretas, también es posible estudiar secuencias temporales discretas. Estas secuencias se dan en muchas problemas en que necesitamos clasificar el estado de un proceso (oculto o latente) $Z$ que toma valores (discretos o contínuos) a los que tenemos acceso a través de  variables observadas $X$.  \n",
        "\n",
        "\n",
        "Sin embargo, si sabemos que el proceso $Z$ tiene la propiedad de Markov de primer orden $p(z_k \\vert z_{k-1},\\ldots,z_1)=p(z_k \\vert z_{k-1})$ y que las observaciones $X$ son independientes entre si y solamente dependen de la variable oculta.\n",
        "\n",
        "Las variables observadas pueden ser variables discretas o continuas. Cuando se consideran v.a. discretas, podemos especificar una matriz $\\boldsymbol{A}_{[N \\times N]}$ de transición para los $N$ posibles estados, una matriz de emisión $\\boldsymbol{B}_{[M \\times N]}$ y un conjunto de probabilidades iniciales $\\boldsymbol{\\pi}$."
      ]
    },
    {
      "cell_type": "markdown",
      "metadata": {
        "id": "tkpQnSoksUcW"
      },
      "source": [
        "$\n",
        "\\begin{align*}\n",
        "\\boldsymbol{A}_{n,n} = \n",
        "\\begin{pmatrix}\n",
        "z_{1,1} & z_{1,2} & \\cdots & z_{1,N} \\\\\n",
        "z_{2,1} & z_{2,2} & \\cdots & z_{2,N} \\\\\n",
        "\\vdots  & \\vdots  & \\ddots & \\vdots  \\\\\n",
        "z_{N,1} & z_{N,2} & \\cdots & z_{N,N} \n",
        "\\end{pmatrix};\\quad\n",
        "&\\boldsymbol{B}_{m,n} = \n",
        "\\begin{pmatrix}\n",
        "x_{1,1} & x_{1,2} & \\cdots & x_{1,N} \\\\\n",
        "x_{2,1} & x_{2,2} & \\cdots & x_{2,N} \\\\\n",
        "\\vdots  & \\vdots  & \\ddots & \\vdots  \\\\\n",
        "x_{M,1} & x_{M,2} & \\cdots & x_{M,N} \n",
        "\\end{pmatrix}; \\quad\n",
        "\\boldsymbol{\\pi}=[\\pi_1,\\ldots,\\pi_N]\n",
        "\\end{align*}\n",
        "$"
      ]
    },
    {
      "cell_type": "markdown",
      "metadata": {
        "id": "zkmH5EsbsUcX"
      },
      "source": [
        "Dado un modelo $\\lambda=(\\boldsymbol{A,B,\\pi})$, una secuencia observada $X_n=\\{x_1,\\ldots,x_n\\}$ y un conjunto de estados $Z_n=\\{z_1,\\ldots,z_n\\}$, los patrones de inferencia para HMM son los siguientes:\n",
        "\t\n",
        "Filtrado : Determinar $p(z_n \\vert X_n)$.\n",
        "\n",
        "Verosimilitud :  Determinar $p(X_n)$. \n",
        "\n",
        "Secuencia más probable :  $p(Z_n \\vert X_n)$."
      ]
    },
    {
      "cell_type": "code",
      "execution_count": 1,
      "metadata": {
        "id": "wgLRjLszsUcX"
      },
      "outputs": [],
      "source": [
        "import numpy as np\n",
        "\n",
        "class HMM:\n",
        "\n",
        "    def __init__(self,A,B,pi):\n",
        "        self.A = A\n",
        "        self.B = B\n",
        "        self.pi = pi\n",
        "\n",
        "    def alpha_recursion(self,observations):\n",
        "        D=len(self.pi)\n",
        "        T=len(observations)\n",
        "        alpha=np.zeros((D,T))\n",
        "        alpha[:,0]=self.pi*self.B[observations[0]]\n",
        "        #alpha[:,0]=alpha[:,0]/alpha[:,0].sum()\n",
        "        for i in range(1,T):\n",
        "            alpha[:,i]=np.dot(np.diag(self.B[observations[i]]),np.dot(self.A.T,alpha[:,i-1]))\n",
        "            #alpha[:,i]=alpha[:,i]/alpha[:,i].sum()\n",
        "        return alpha\n",
        "    \n",
        "    def beta_recursion(self,observations):\n",
        "        D=len(self.pi)\n",
        "        T=len(observations)\n",
        "        beta=np.zeros((D,T))\n",
        "        beta[:,-1]=np.ones(D)\n",
        "        for i in range(T-1,0,-1):\n",
        "            beta[:,i-1]=np.dot(self.A,np.diag(self.B[observations[i]]).dot(beta[:,i]))\n",
        "        return beta\n",
        "    \n",
        "    def likelihood(self,observations):\n",
        "        alpha=self.alpha_recursion(observations)\n",
        "        likelihood=np.sum(alpha,0)\n",
        "        return likelihood.sum()\n",
        "    \n"
      ]
    },
    {
      "cell_type": "code",
      "execution_count": 2,
      "metadata": {
        "id": "3YVu24rNsUcY"
      },
      "outputs": [],
      "source": [
        "B=np.array([[0.7,0.4,0.8],\n",
        "           [0.3,0.6,0.2]])\n",
        "A=np.array([[0.5,0.3,0.2],\n",
        "            [0.0,0.6,0.4],\n",
        "            [0.0,0.0,1.0]])\n",
        "pi=np.array([0.9,0.1,0.0])\n",
        "observations=np.array([0,1,0])\n",
        "\n",
        "hmm=HMM(A,B,pi)\n"
      ]
    },
    {
      "cell_type": "code",
      "execution_count": 6,
      "metadata": {
        "colab": {
          "base_uri": "https://localhost:8080/"
        },
        "id": "w11kBPo1sUcZ",
        "outputId": "0260a61b-79b7-4fc8-f1e6-500f16aa2341"
      },
      "outputs": [
        {
          "name": "stdout",
          "output_type": "stream",
          "text": [
            "p(v_1,v_2,v_3)=0.154\n"
          ]
        }
      ],
      "source": [
        "alpha=hmm.alpha_recursion(observations)\n",
        "beta=hmm.beta_recursion(observations)\n",
        "\n",
        "print('p(v_1,v_2,v_3)={0:0.3f}'.format(alpha[:,-1].sum()))"
      ]
    },
    {
      "cell_type": "code",
      "execution_count": 5,
      "metadata": {},
      "outputs": [
        {
          "data": {
            "text/plain": [
              "array([[0.63    , 0.0945  , 0.033075],\n",
              "       [0.04    , 0.1278  , 0.042012],\n",
              "       [0.      , 0.0284  , 0.078736]])"
            ]
          },
          "execution_count": 5,
          "metadata": {},
          "output_type": "execute_result"
        }
      ],
      "source": [
        "alpha"
      ]
    },
    {
      "cell_type": "code",
      "execution_count": 41,
      "metadata": {},
      "outputs": [
        {
          "data": {
            "text/plain": [
              "3.0"
            ]
          },
          "execution_count": 41,
          "metadata": {},
          "output_type": "execute_result"
        }
      ],
      "source": [
        "hmm.likelihood(observations)"
      ]
    },
    {
      "cell_type": "code",
      "execution_count": 62,
      "metadata": {},
      "outputs": [
        {
          "data": {
            "text/plain": [
              "array([[0.63    , 0.0945  , 0.033075],\n",
              "       [0.04    , 0.1278  , 0.042012],\n",
              "       [0.      , 0.0284  , 0.078736]])"
            ]
          },
          "execution_count": 62,
          "metadata": {},
          "output_type": "execute_result"
        }
      ],
      "source": [
        "alpha"
      ]
    },
    {
      "cell_type": "code",
      "execution_count": 81,
      "metadata": {
        "colab": {
          "base_uri": "https://localhost:8080/"
        },
        "id": "jLbR5hepsUca",
        "outputId": "4a5ee826-02a9-4b6c-9ece-3f42b446b7d2"
      },
      "outputs": [
        {
          "name": "stdout",
          "output_type": "stream",
          "text": [
            "alpha 0 : [0.94029851 0.05970149 0.        ]\n",
            "alpha 1 : [0.37694456 0.50977264 0.11328281]\n",
            "alpha 2 : [0.21501986 0.2731191  0.51186104]\n"
          ]
        }
      ],
      "source": [
        "alpha_norm=alpha/alpha.sum(axis=0)\n",
        "\n",
        "for i in range(alpha_norm.shape[1]):\n",
        "    print('alpha {0} : {1}'.format(i,alpha_norm[:,i]))"
      ]
    },
    {
      "cell_type": "code",
      "execution_count": 82,
      "metadata": {
        "colab": {
          "base_uri": "https://localhost:8080/"
        },
        "id": "hRLtwhQ2sUca",
        "outputId": "88afc023-fbd4-48f8-e4ba-455c56fadf6b"
      },
      "outputs": [
        {
          "name": "stdout",
          "output_type": "stream",
          "text": [
            "beta 0 : [0.34813907 0.40680043 0.2450605 ]\n",
            "beta 1 : [0.31658291 0.28140704 0.40201005]\n",
            "beta 2 : [0.33333333 0.33333333 0.33333333]\n"
          ]
        }
      ],
      "source": [
        "beta_norm=beta/beta.sum(axis=0)\n",
        "\n",
        "for i in range(beta_norm.shape[1]):\n",
        "    print('beta {0} : {1}'.format(i,beta_norm[:,i]))"
      ]
    },
    {
      "cell_type": "code",
      "execution_count": 83,
      "metadata": {
        "colab": {
          "base_uri": "https://localhost:8080/"
        },
        "id": "BYa3cU-0sUcb",
        "outputId": "67399ea8-9196-4e5d-db87-b294d23328ff"
      },
      "outputs": [
        {
          "name": "stdout",
          "output_type": "stream",
          "text": [
            "p(h_1 |v_1, v_2,v_3)=[0.93093361 0.06906639 0.        ]\n"
          ]
        }
      ],
      "source": [
        "pv1=alpha_norm[:,0]*beta_norm[:,0]\n",
        "pv1=pv1/pv1.sum()\n",
        "print('p(h_1 |v_1, v_2,v_3)={0}'.format(pv1))"
      ]
    },
    {
      "cell_type": "code",
      "execution_count": 68,
      "metadata": {
        "id": "LiSuBZKusUcb"
      },
      "outputs": [],
      "source": [
        "B=np.array([[0.9,0.2],\n",
        "           [0.1,0.8]])\n",
        "A=np.array([[0.7,0.3],\n",
        "            [0.3,0.7]])\n",
        "pi=np.array([0.5,0.5])\n",
        "observations=np.array([0,0,1,0,0])\n",
        "\n",
        "hmm=HMM(A,B,pi)"
      ]
    },
    {
      "cell_type": "code",
      "execution_count": 69,
      "metadata": {
        "id": "wlXTZscosUcb"
      },
      "outputs": [],
      "source": [
        "alpha=hmm.alpha_recursion(observations)\n",
        "beta=hmm.beta_recursion(observations)\n"
      ]
    },
    {
      "cell_type": "code",
      "execution_count": 71,
      "metadata": {
        "colab": {
          "base_uri": "https://localhost:8080/"
        },
        "id": "_OyAyPDtsUcc",
        "outputId": "8c9aa31d-d04b-4977-99f2-ae122c5cfe6d"
      },
      "outputs": [
        {
          "name": "stdout",
          "output_type": "stream",
          "text": [
            "alpha 0 : [0.81818182 0.18181818]\n",
            "alpha 1 : [0.88335704 0.11664296]\n",
            "alpha 2 : [0.19066794 0.80933206]\n",
            "alpha 3 : [0.730794 0.269206]\n",
            "alpha 4 : [0.86733889 0.13266111]\n"
          ]
        }
      ],
      "source": [
        "alpha_norm=alpha/alpha.sum(axis=0)\n",
        "\n",
        "for i in range(alpha_norm.shape[1]):\n",
        "    print('alpha {0} : {1}'.format(i,alpha_norm[:,i]))"
      ]
    },
    {
      "cell_type": "code",
      "execution_count": 72,
      "metadata": {
        "colab": {
          "base_uri": "https://localhost:8080/"
        },
        "id": "wKWJ6U_4sUcc",
        "outputId": "0dfb8d49-318d-4592-ed22-eac0a7c6c7c5"
      },
      "outputs": [
        {
          "name": "stdout",
          "output_type": "stream",
          "text": [
            "beta 0 : [0.5923176 0.4076824]\n",
            "beta 1 : [0.37626718 0.62373282]\n",
            "beta 2 : [0.65334282 0.34665718]\n",
            "beta 3 : [0.62727273 0.37272727]\n",
            "beta 4 : [0.5 0.5]\n"
          ]
        }
      ],
      "source": [
        "beta_norm=beta/beta.sum(axis=0)\n",
        "\n",
        "for i in range(beta_norm.shape[1]):\n",
        "    print('beta {0} : {1}'.format(i,beta_norm[:,i]))"
      ]
    },
    {
      "cell_type": "markdown",
      "metadata": {
        "id": "S7QE5g-jspZv"
      },
      "source": [
        "# Human Activity Recognition\n",
        "\n",
        "En este laboratorio usaremos registro de actividades capturado por smartphones que fueron desarrolladas por 30 personas distintas. Entre las actividades se incluyen:\n",
        "\n",
        "1 WALKING\n",
        "2 WALKING_UPSTAIRS\n",
        "3 WALKING_DOWNSTAIRS\n",
        "4 SITTING\n",
        "5 STANDING\n",
        "6 LAYING\n",
        "\n",
        "Al mismo tiempo, cada registro de la base de datos incluye las siguientes mediciones:ç\n",
        "\n",
        "Aceleracion total y aceleracion del cuerpo estimada en los 3 ejes (X-Y-Z)\n",
        "Velocidad angular del giroscopio en 3 los ejes (X-Y-Z)\n",
        "Un vector de dimensionalidad 561 con descriptores derivados a partir de los datos de movimiento.\n",
        "Etiqueta de actividad\n",
        "Un identificador de la persona que ejecuta la actividad\n",
        "Los datos originales se pueden encontrar en este enlace\n",
        "\n",
        "Más información del dataset se encuentra en:\n",
        "\n",
        "Davide Anguita, Alessandro Ghio, Luca Oneto, Xavier Parra and Jorge L. Reyes-Ortiz. A Public Domain Dataset for Human Activity Recognition Using Smartphones. 21th European Symposium on Artificial Neural Networks, Computational Intelligence and Machine Learning, ESANN 2013. Bruges, Belgium 24-26 April 2013."
      ]
    },
    {
      "cell_type": "code",
      "execution_count": 1,
      "metadata": {
        "colab": {
          "base_uri": "https://localhost:8080/"
        },
        "id": "7--nrhB1sUce",
        "outputId": "24aac180-4448-4615-a4a3-3a06d94de392"
      },
      "outputs": [
        {
          "name": "stdout",
          "output_type": "stream",
          "text": [
            "('Google Colab? ', True)\n"
          ]
        }
      ],
      "source": [
        "try:\n",
        "    # %tensorflow_version only exists in Colab.\n",
        "    %tensorflow_version 2.x\n",
        "    IS_COLAB = True\n",
        "except Exception:\n",
        "    IS_COLAB = False\n",
        "\n",
        "\n",
        "print('Google Colab? ',IS_COLAB)"
      ]
    },
    {
      "cell_type": "code",
      "execution_count": 2,
      "metadata": {
        "colab": {
          "base_uri": "https://localhost:8080/"
        },
        "id": "6PjkhEsxsza6",
        "outputId": "49d4cf1f-3299-4205-e840-e3b036861bb6"
      },
      "outputs": [
        {
          "name": "stdout",
          "output_type": "stream",
          "text": [
            "--2021-07-08 20:01:37--  https://ucmcl-my.sharepoint.com/:u:/g/personal/shernandez_ucm_cl/EWvE2qLEt7lGkusfUcjYHnMBbtVOqIrdzY15Dnd2hHDUJA?e=NAeghv&download=1\n",
            "Resolving ucmcl-my.sharepoint.com (ucmcl-my.sharepoint.com)... 13.107.136.9\n",
            "Connecting to ucmcl-my.sharepoint.com (ucmcl-my.sharepoint.com)|13.107.136.9|:443... connected.\n",
            "HTTP request sent, awaiting response... 302 Found\n",
            "Location: /personal/shernandez_ucm_cl/Documents/HAR.tar.xz?originalPath=aHR0cHM6Ly91Y21jbC1teS5zaGFyZXBvaW50LmNvbS86dTovZy9wZXJzb25hbC9zaGVybmFuZGV6X3VjbV9jbC9FV3ZFMnFMRXQ3bEdrdXNmVWNqWUhuTUJidFZPcUlyZHpZMTVEbmQyaEhEVUpBP3J0aW1lPWFZakNNVXRDMlVn [following]\n",
            "--2021-07-08 20:01:37--  https://ucmcl-my.sharepoint.com/personal/shernandez_ucm_cl/Documents/HAR.tar.xz?originalPath=aHR0cHM6Ly91Y21jbC1teS5zaGFyZXBvaW50LmNvbS86dTovZy9wZXJzb25hbC9zaGVybmFuZGV6X3VjbV9jbC9FV3ZFMnFMRXQ3bEdrdXNmVWNqWUhuTUJidFZPcUlyZHpZMTVEbmQyaEhEVUpBP3J0aW1lPWFZakNNVXRDMlVn\n",
            "Reusing existing connection to ucmcl-my.sharepoint.com:443.\n",
            "HTTP request sent, awaiting response... 200 OK\n",
            "Length: 33237852 (32M) [application/octet-stream]\n",
            "Saving to: ‘HAR.tar.xz’\n",
            "\n",
            "HAR.tar.xz          100%[===================>]  31.70M  93.6MB/s    in 0.3s    \n",
            "\n",
            "2021-07-08 20:01:38 (93.6 MB/s) - ‘HAR.tar.xz’ saved [33237852/33237852]\n",
            "\n"
          ]
        }
      ],
      "source": [
        "if IS_COLAB:\n",
        "    ! wget  -c \"https://ucmcl-my.sharepoint.com/:u:/g/personal/shernandez_ucm_cl/EWvE2qLEt7lGkusfUcjYHnMBbtVOqIrdzY15Dnd2hHDUJA?e=NAeghv&download=1\" -O HAR.tar.xz\n",
        "    ! tar -xf HAR.tar.xz"
      ]
    },
    {
      "cell_type": "code",
      "execution_count": null,
      "metadata": {
        "colab": {
          "base_uri": "https://localhost:8080/"
        },
        "id": "X_Nl78x4s3YS",
        "outputId": "5e7fd198-e1de-438d-8931-7b2d31fbb3ae"
      },
      "outputs": [
        {
          "name": "stdout",
          "output_type": "stream",
          "text": [
            "x_test.npy  x_train.npy  y_test.npy  y_train.npy\n"
          ]
        }
      ],
      "source": [
        "! ls HAR"
      ]
    },
    {
      "cell_type": "code",
      "execution_count": 3,
      "metadata": {
        "id": "_ElkTvJ8s6vJ"
      },
      "outputs": [],
      "source": [
        "import numpy as np\n",
        "\n",
        "X_train=np.load('HAR/x_train.npy')\n",
        "X_test=np.load('HAR/x_test.npy')\n",
        "y_train=np.load('HAR/y_train.npy')\n",
        "y_test=np.load('HAR/y_test.npy')\n",
        "\n",
        "label_to_activity = {1: 'walking horizontally', 2: 'walking upstairs', 3: 'walking downstairs',\n",
        "                     4: 'sitting', 5: 'standing', 6: 'laying'}"
      ]
    },
    {
      "cell_type": "code",
      "execution_count": 4,
      "metadata": {
        "colab": {
          "base_uri": "https://localhost:8080/"
        },
        "id": "BJfCS9Kfs-fh",
        "outputId": "3116ee7d-d892-49f6-f94d-be9f079e0078"
      },
      "outputs": [
        {
          "data": {
            "text/plain": [
              "(7352, 1)"
            ]
          },
          "execution_count": 4,
          "metadata": {
            "tags": []
          },
          "output_type": "execute_result"
        }
      ],
      "source": [
        "y_train.shape"
      ]
    },
    {
      "cell_type": "code",
      "execution_count": 5,
      "metadata": {
        "colab": {
          "base_uri": "https://localhost:8080/"
        },
        "id": "CwxfFjuXtPp_",
        "outputId": "f7e3b8e3-725d-4d2e-8408-ba742ff6ca09"
      },
      "outputs": [
        {
          "data": {
            "text/plain": [
              "(7352, 128, 9)"
            ]
          },
          "execution_count": 5,
          "metadata": {
            "tags": []
          },
          "output_type": "execute_result"
        }
      ],
      "source": [
        "X_train.shape"
      ]
    },
    {
      "cell_type": "code",
      "execution_count": 6,
      "metadata": {
        "colab": {
          "base_uri": "https://localhost:8080/",
          "height": 977
        },
        "id": "eEm1kaS5tXbW",
        "outputId": "a1b934f6-6003-4e70-d4a4-0d7944d95ce4"
      },
      "outputs": [
        {
          "data": {
            "image/png": "[encoded data removed]",
            "text/plain": [
              "<Figure size 720x72 with 1 Axes>"
            ]
          },
          "metadata": {
            "needs_background": "light",
            "tags": []
          },
          "output_type": "display_data"
        },
        {
          "data": {
            "image/png": "[encoded data removed]",
            "text/plain": [
              "<Figure size 720x72 with 1 Axes>"
            ]
          },
          "metadata": {
            "needs_background": "light",
            "tags": []
          },
          "output_type": "display_data"
        },
        {
          "data": {
            "image/png": "[encoded data removed]",
            "text/plain": [
              "<Figure size 720x72 with 1 Axes>"
            ]
          },
          "metadata": {
            "needs_background": "light",
            "tags": []
          },
          "output_type": "display_data"
        },
        {
          "data": {
            "image/png": "[encoded data removed]",
            "text/plain": [
              "<Figure size 720x72 with 1 Axes>"
            ]
          },
          "metadata": {
            "needs_background": "light",
            "tags": []
          },
          "output_type": "display_data"
        },
        {
          "data": {
            "image/png": "[encoded data removed]",
            "text/plain": [
              "<Figure size 720x72 with 1 Axes>"
            ]
          },
          "metadata": {
            "needs_background": "light",
            "tags": []
          },
          "output_type": "display_data"
        },
        {
          "data": {
            "image/png": "[encoded data removed]",
            "text/plain": [
              "<Figure size 720x72 with 1 Axes>"
            ]
          },
          "metadata": {
            "needs_background": "light",
            "tags": []
          },
          "output_type": "display_data"
        },
        {
          "data": {
            "image/png": "[encoded data removed]",
            "text/plain": [
              "<Figure size 720x72 with 1 Axes>"
            ]
          },
          "metadata": {
            "needs_background": "light",
            "tags": []
          },
          "output_type": "display_data"
        },
        {
          "data": {
            "image/png": "[encoded data removed]",
            "text/plain": [
              "<Figure size 720x72 with 1 Axes>"
            ]
          },
          "metadata": {
            "needs_background": "light",
            "tags": []
          },
          "output_type": "display_data"
        },
        {
          "data": {
            "image/png": "[encoded data removed]",
            "text/plain": [
              "<Figure size 720x72 with 1 Axes>"
            ]
          },
          "metadata": {
            "needs_background": "light",
            "tags": []
          },
          "output_type": "display_data"
        },
        {
          "data": {
            "image/png": "[encoded data removed]",
            "text/plain": [
              "<Figure size 720x72 with 1 Axes>"
            ]
          },
          "metadata": {
            "needs_background": "light",
            "tags": []
          },
          "output_type": "display_data"
        },
        {
          "data": {
            "image/png": "[encoded data removed]",
            "text/plain": [
              "<Figure size 720x72 with 1 Axes>"
            ]
          },
          "metadata": {
            "needs_background": "light",
            "tags": []
          },
          "output_type": "display_data"
        },
        {
          "data": {
            "image/png": "[encoded data removed]",
            "text/plain": [
              "<Figure size 720x72 with 1 Axes>"
            ]
          },
          "metadata": {
            "needs_background": "light",
            "tags": []
          },
          "output_type": "display_data"
        }
      ],
      "source": [
        "import matplotlib.pyplot as plt\n",
        "\n",
        "def make_plots(num_examples_per_category):\n",
        "    for label in range(1,7):\n",
        "        x_label = X_train[y_train[:, 0] == label]\n",
        "        for i in range(num_examples_per_category):\n",
        "            fig, ax = plt.subplots(figsize=(10, 1))\n",
        "            ax.imshow(x_label[100*i].T, cmap='Greys', vmin=-1, vmax=1)\n",
        "            ax.axis('off')\n",
        "            if i == 0:\n",
        "                ax.set_title(label_to_activity[label])\n",
        "            plt.show()\n",
        "        \n",
        "make_plots(2)"
      ]
    },
    {
      "cell_type": "code",
      "execution_count": 7,
      "metadata": {
        "colab": {
          "base_uri": "https://localhost:8080/"
        },
        "id": "LeAHBM2Ctaue",
        "outputId": "3b54770a-22d9-468d-b3e5-af5eb15a1ba7"
      },
      "outputs": [
        {
          "name": "stdout",
          "output_type": "stream",
          "text": [
            "Collecting hmmlearn\n",
            "\u001b[?25l  Downloading https://files.pythonhosted.org/packages/d7/c5/91b43156b193d180ed94069269bcf88d3c7c6e54514a8482050fa9995e10/hmmlearn-0.2.2.tar.gz (146kB)\n",
            "\r\u001b[K     |██▎                             | 10kB 18.7MB/s eta 0:00:01\r\u001b[K     |████▌                           | 20kB 25.4MB/s eta 0:00:01\r\u001b[K     |██████▊                         | 30kB 29.1MB/s eta 0:00:01\r\u001b[K     |█████████                       | 40kB 31.4MB/s eta 0:00:01\r\u001b[K     |███████████▏                    | 51kB 31.0MB/s eta 0:00:01\r\u001b[K     |█████████████▍                  | 61kB 30.8MB/s eta 0:00:01\r\u001b[K     |███████████████▊                | 71kB 25.6MB/s eta 0:00:01\r\u001b[K     |██████████████████              | 81kB 26.9MB/s eta 0:00:01\r\u001b[K     |████████████████████▏           | 92kB 28.8MB/s eta 0:00:01\r\u001b[K     |██████████████████████▍         | 102kB 28.3MB/s eta 0:00:01\r\u001b[K     |████████████████████████▋       | 112kB 28.3MB/s eta 0:00:01\r\u001b[K     |██████████████████████████▉     | 122kB 28.3MB/s eta 0:00:01\r\u001b[K     |█████████████████████████████   | 133kB 28.3MB/s eta 0:00:01\r\u001b[K     |███████████████████████████████▍| 143kB 28.3MB/s eta 0:00:01\r\u001b[K     |████████████████████████████████| 153kB 28.3MB/s \n",
            "\u001b[?25hRequirement already satisfied: numpy>=1.10 in /usr/local/lib/python2.7/dist-packages (from hmmlearn) (1.16.4)\n",
            "Requirement already satisfied: scikit-learn>=0.16 in /usr/local/lib/python2.7/dist-packages (from hmmlearn) (0.20.3)\n",
            "Requirement already satisfied: scipy>=0.13.3 in /usr/local/lib/python2.7/dist-packages (from scikit-learn>=0.16->hmmlearn) (1.2.2)\n",
            "Building wheels for collected packages: hmmlearn\n",
            "  Building wheel for hmmlearn (setup.py) ... \u001b[?25l\u001b[?25hdone\n",
            "  Created wheel for hmmlearn: filename=hmmlearn-0.2.2-cp27-cp27mu-linux_x86_64.whl size=189250 sha256=24e0927d5f367da31201878c2198edc5e1fb199e61a553c54ad97cf6d550ac2b\n",
            "  Stored in directory: /root/.cache/pip/wheels/2c/b6/0e/63a865a30e21e01d04f417d8995fbfb793d6bd464707efc546\n",
            "Successfully built hmmlearn\n",
            "Installing collected packages: hmmlearn\n",
            "Successfully installed hmmlearn-0.2.2\n"
          ]
        }
      ],
      "source": [
        "!pip install hmmlearn"
      ]
    },
    {
      "cell_type": "code",
      "execution_count": 8,
      "metadata": {
        "id": "bGWgJrELuBUN"
      },
      "outputs": [],
      "source": [
        "X_activity=X_train[(y_train==1).flatten()]"
      ]
    },
    {
      "cell_type": "code",
      "execution_count": 9,
      "metadata": {
        "id": "ZM26Otxcu5_W"
      },
      "outputs": [],
      "source": [
        "lengths=[X_activity.shape[1]]*X_activity.shape[0]"
      ]
    },
    {
      "cell_type": "code",
      "execution_count": 10,
      "metadata": {
        "id": "eEqA6QaavSEd"
      },
      "outputs": [],
      "source": [
        "from hmmlearn import hmm\n",
        "\n",
        "model = hmm.GaussianHMM(n_components=3, covariance_type=\"diag\", n_iter=100)"
      ]
    },
    {
      "cell_type": "code",
      "execution_count": 11,
      "metadata": {
        "colab": {
          "base_uri": "https://localhost:8080/"
        },
        "id": "r2dZhH7XvksY",
        "outputId": "570b0dda-b3e6-4575-b3f8-32dfc0d263bf"
      },
      "outputs": [
        {
          "data": {
            "text/plain": [
              "GaussianHMM(algorithm='viterbi', covariance_type='diag', covars_prior=0.01,\n",
              "      covars_weight=1, init_params='stmc', means_prior=0, means_weight=0,\n",
              "      min_covar=0.001, n_components=3, n_iter=100, params='stmc',\n",
              "      random_state=None, startprob_prior=1.0, tol=0.01, transmat_prior=1.0,\n",
              "      verbose=False)"
            ]
          },
          "execution_count": 11,
          "metadata": {
            "tags": []
          },
          "output_type": "execute_result"
        }
      ],
      "source": [
        "model.fit(X_activity.reshape([X_activity.shape[0]*X_activity.shape[1],X_activity.shape[2]]),lengths)"
      ]
    },
    {
      "cell_type": "code",
      "execution_count": 12,
      "metadata": {
        "colab": {
          "base_uri": "https://localhost:8080/",
          "height": 305
        },
        "id": "wwtzL7M1wPXO",
        "outputId": "fa2ef653-71b7-47de-9cbe-8bc66eaf1a8f"
      },
      "outputs": [
        {
          "data": {
            "text/plain": [
              "Text(0,0.5,'Observation ')"
            ]
          },
          "execution_count": 12,
          "metadata": {
            "tags": []
          },
          "output_type": "execute_result"
        },
        {
          "data": {
            "text/plain": [
              "<Figure size 720x72 with 0 Axes>"
            ]
          },
          "metadata": {
            "tags": []
          },
          "output_type": "display_data"
        },
        {
          "data": {
            "image/png": "[encoded data removed]",
            "text/plain": [
              "<Figure size 432x288 with 2 Axes>"
            ]
          },
          "metadata": {
            "needs_background": "light",
            "tags": []
          },
          "output_type": "display_data"
        }
      ],
      "source": [
        "Z=model.predict(X_activity[0])\n",
        "label=y_train[(y_train==1)][0]\n",
        "plt.figure(figsize=(10, 1)) \n",
        "fig, (ax1, ax2) = plt.subplots(2,1)\n",
        "fig.suptitle(label_to_activity[label])\n",
        "\n",
        "ax1.plot(range(128),(Z-2),color=\"r\",linewidth=3)\n",
        "ax1.set_ylabel('Label')\n",
        "\n",
        "ax2.imshow(X_activity[0].T, cmap='Greys', vmin=-1, vmax=1)\n",
        "ax2.set_xlabel('time (s)')\n",
        "ax2.set_ylabel('Observation ')\n",
        "\n"
      ]
    },
    {
      "cell_type": "code",
      "execution_count": 13,
      "metadata": {
        "id": "FxldN0EY3Hbg"
      },
      "outputs": [],
      "source": [
        "model_activities={activity:hmm.GaussianHMM(n_components=3, covariance_type=\"diag\", n_iter=100) \n",
        "                    for activity in label_to_activity.keys()}"
      ]
    },
    {
      "cell_type": "code",
      "execution_count": 14,
      "metadata": {
        "colab": {
          "base_uri": "https://localhost:8080/"
        },
        "id": "BaFtujI_3vjG",
        "outputId": "30a97538-45ef-4a65-afc7-d85a86b040f9"
      },
      "outputs": [
        {
          "data": {
            "text/plain": [
              "{1: GaussianHMM(algorithm='viterbi', covariance_type='diag', covars_prior=0.01,\n",
              "       covars_weight=1, init_params='stmc', means_prior=0, means_weight=0,\n",
              "       min_covar=0.001, n_components=3, n_iter=100, params='stmc',\n",
              "       random_state=None, startprob_prior=1.0, tol=0.01, transmat_prior=1.0,\n",
              "       verbose=False),\n",
              " 2: GaussianHMM(algorithm='viterbi', covariance_type='diag', covars_prior=0.01,\n",
              "       covars_weight=1, init_params='stmc', means_prior=0, means_weight=0,\n",
              "       min_covar=0.001, n_components=3, n_iter=100, params='stmc',\n",
              "       random_state=None, startprob_prior=1.0, tol=0.01, transmat_prior=1.0,\n",
              "       verbose=False),\n",
              " 3: GaussianHMM(algorithm='viterbi', covariance_type='diag', covars_prior=0.01,\n",
              "       covars_weight=1, init_params='stmc', means_prior=0, means_weight=0,\n",
              "       min_covar=0.001, n_components=3, n_iter=100, params='stmc',\n",
              "       random_state=None, startprob_prior=1.0, tol=0.01, transmat_prior=1.0,\n",
              "       verbose=False),\n",
              " 4: GaussianHMM(algorithm='viterbi', covariance_type='diag', covars_prior=0.01,\n",
              "       covars_weight=1, init_params='stmc', means_prior=0, means_weight=0,\n",
              "       min_covar=0.001, n_components=3, n_iter=100, params='stmc',\n",
              "       random_state=None, startprob_prior=1.0, tol=0.01, transmat_prior=1.0,\n",
              "       verbose=False),\n",
              " 5: GaussianHMM(algorithm='viterbi', covariance_type='diag', covars_prior=0.01,\n",
              "       covars_weight=1, init_params='stmc', means_prior=0, means_weight=0,\n",
              "       min_covar=0.001, n_components=3, n_iter=100, params='stmc',\n",
              "       random_state=None, startprob_prior=1.0, tol=0.01, transmat_prior=1.0,\n",
              "       verbose=False),\n",
              " 6: GaussianHMM(algorithm='viterbi', covariance_type='diag', covars_prior=0.01,\n",
              "       covars_weight=1, init_params='stmc', means_prior=0, means_weight=0,\n",
              "       min_covar=0.001, n_components=3, n_iter=100, params='stmc',\n",
              "       random_state=None, startprob_prior=1.0, tol=0.01, transmat_prior=1.0,\n",
              "       verbose=False)}"
            ]
          },
          "execution_count": 14,
          "metadata": {
            "tags": []
          },
          "output_type": "execute_result"
        }
      ],
      "source": [
        "model_activities"
      ]
    },
    {
      "cell_type": "code",
      "execution_count": 15,
      "metadata": {
        "id": "2MaksgWw3zYR"
      },
      "outputs": [],
      "source": [
        "for id,model in model_activities.iteritems():\n",
        "  X_activity=X_train[(y_train==id).flatten()]\n",
        "  lengths=[X_activity.shape[1]]*X_activity.shape[0]\n",
        "  model.fit(X_activity.reshape([X_activity.shape[0]*X_activity.shape[1],X_activity.shape[2]]),lengths)"
      ]
    },
    {
      "cell_type": "code",
      "execution_count": 23,
      "metadata": {
        "id": "k14GdLBG4Avy"
      },
      "outputs": [],
      "source": [
        "y_hat=[]\n",
        "for id_example in range(X_test.shape[0]):\n",
        "  predicted_label_arr=[]\n",
        "  for id,model in model_activities.iteritems():\n",
        "    predicted_label_arr.append(model.score(X_test[id_example]))\n",
        "  predicted_label=np.array(predicted_label_arr).argmax()+1\n",
        "  y_hat.append(predicted_label)\n",
        "  "
      ]
    },
    {
      "cell_type": "code",
      "execution_count": 24,
      "metadata": {
        "colab": {
          "base_uri": "https://localhost:8080/"
        },
        "id": "gvadLr26uwxV",
        "outputId": "cbbf4bc1-c739-4b43-e05b-a9a869dcc679"
      },
      "outputs": [
        {
          "name": "stdout",
          "output_type": "stream",
          "text": [
            "              precision    recall  f1-score   support\n",
            "\n",
            "           1       0.65      0.86      0.74       496\n",
            "           2       0.93      0.66      0.77       471\n",
            "           3       0.75      0.74      0.75       420\n",
            "           4       0.91      0.69      0.78       491\n",
            "           5       0.77      0.91      0.84       532\n",
            "           6       1.00      1.00      1.00       537\n",
            "\n",
            "   micro avg       0.82      0.82      0.82      2947\n",
            "   macro avg       0.84      0.81      0.81      2947\n",
            "weighted avg       0.84      0.82      0.82      2947\n",
            "\n"
          ]
        }
      ],
      "source": [
        "from sklearn.metrics import classification_report\n",
        "\n",
        "print(classification_report(np.int32(y_test.reshape(-1)),np.int32(y_hat)))"
      ]
    },
    {
      "cell_type": "code",
      "execution_count": 18,
      "metadata": {
        "colab": {
          "base_uri": "https://localhost:8080/"
        },
        "id": "rhNdqnE6uzSl",
        "outputId": "c4923b08-8d0d-4042-d549-3aaf2e62a175"
      },
      "outputs": [
        {
          "data": {
            "text/plain": [
              "(2947, 128, 9)"
            ]
          },
          "execution_count": 18,
          "metadata": {
            "tags": []
          },
          "output_type": "execute_result"
        }
      ],
      "source": [
        "X_test.shape"
      ]
    }
  ],
  "metadata": {
    "colab": {
      "name": "5.-Hidden_Markov_Model.ipynb",
      "provenance": []
    },
    "kernelspec": {
      "display_name": "Python 3.9.1 64-bit ('base')",
      "language": "python",
      "name": "python3"
    },
    "language_info": {
      "codemirror_mode": {
        "name": "ipython",
        "version": 3
      },
      "file_extension": ".py",
      "mimetype": "text/x-python",
      "name": "python",
      "nbconvert_exporter": "python",
      "pygments_lexer": "ipython3",
      "version": "3.9.1"
    },
    "vscode": {
      "interpreter": {
        "hash": "2ac3d5d3a4336f34c662130573d1ea696fb4dfcbf6baf7c9925b84262e1f6ae2"
      }
    }
  },
  "nbformat": 4,
  "nbformat_minor": 0
}
