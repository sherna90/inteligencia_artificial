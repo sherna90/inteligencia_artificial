{
  "nbformat": 4,
  "nbformat_minor": 0,
  "metadata": {
    "kernelspec": {
      "display_name": "Python 2",
      "language": "python",
      "name": "python2"
    },
    "language_info": {
      "codemirror_mode": {
        "name": "ipython",
        "version": 3
      },
      "file_extension": ".py",
      "mimetype": "text/x-python",
      "name": "python",
      "nbconvert_exporter": "python",
      "pygments_lexer": "ipython3",
      "version": "3.6.9"
    },
    "colab": {
      "name": "5.-Hidden_Markov_Model.ipynb",
      "provenance": []
    }
  },
  "cells": [
    {
      "cell_type": "markdown",
      "metadata": {
        "id": "y-b2XJG3sUcT"
      },
      "source": [
        "# Hidden Markov Model\n",
        "\n",
        "Tal cual como redes Bayesianas con probabilidades discretas, también es posible estudiar secuencias temporales discretas. Estas secuencias se dan en muchas problemas en que necesitamos clasificar el estado de un proceso (oculto o latente) $Z$ que toma valores (discretos o contínuos) a los que tenemos acceso a través de  variables observadas $X$.  \n",
        "\n",
        "\n",
        "Sin embargo, si sabemos que el proceso $Z$ tiene la propiedad de Markov de primer orden $p(z_k \\vert z_{k-1},\\ldots,z_1)=p(z_k \\vert z_{k-1})$ y que las observaciones $X$ son independientes entre si y solamente dependen de la variable oculta.\n",
        "\n",
        "Las variables observadas pueden ser variables discretas o continuas. Cuando se consideran v.a. discretas, podemos especificar una matriz $\\boldsymbol{A}_{[N \\times N]}$ de transición para los $N$ posibles estados, una matriz de emisión $\\boldsymbol{B}_{[M \\times N]}$ y un conjunto de probabilidades iniciales $\\boldsymbol{\\pi}$."
      ]
    },
    {
      "cell_type": "markdown",
      "metadata": {
        "id": "tkpQnSoksUcW"
      },
      "source": [
        "$\n",
        "\\begin{align*}\n",
        "\\boldsymbol{A}_{n,n} = \n",
        "\\begin{pmatrix}\n",
        "z_{1,1} & z_{1,2} & \\cdots & z_{1,N} \\\\\n",
        "z_{2,1} & z_{2,2} & \\cdots & z_{2,N} \\\\\n",
        "\\vdots  & \\vdots  & \\ddots & \\vdots  \\\\\n",
        "z_{N,1} & z_{N,2} & \\cdots & z_{N,N} \n",
        "\\end{pmatrix};\\quad\n",
        "&\\boldsymbol{B}_{m,n} = \n",
        "\\begin{pmatrix}\n",
        "x_{1,1} & x_{1,2} & \\cdots & x_{1,N} \\\\\n",
        "x_{2,1} & x_{2,2} & \\cdots & x_{2,N} \\\\\n",
        "\\vdots  & \\vdots  & \\ddots & \\vdots  \\\\\n",
        "x_{M,1} & x_{M,2} & \\cdots & x_{M,N} \n",
        "\\end{pmatrix}; \\quad\n",
        "\\boldsymbol{\\pi}=[\\pi_1,\\ldots,\\pi_N]\n",
        "\\end{align*}\n",
        "$"
      ]
    },
    {
      "cell_type": "markdown",
      "metadata": {
        "id": "zkmH5EsbsUcX"
      },
      "source": [
        "Dado un modelo $\\lambda=(\\boldsymbol{A,B,\\pi})$, una secuencia observada $X_n=\\{x_1,\\ldots,x_n\\}$ y un conjunto de estados $Z_n=\\{z_1,\\ldots,z_n\\}$, los patrones de inferencia para HMM son los siguientes:\n",
        "\t\n",
        "Filtrado : Determinar $p(z_n \\vert X_n)$.\n",
        "\n",
        "Verosimilitud :  Determinar $p(X_n)$. \n",
        "\n",
        "Secuencia más probable :  $p(Z_n \\vert X_n)$."
      ]
    },
    {
      "cell_type": "code",
      "metadata": {
        "id": "wgLRjLszsUcX"
      },
      "source": [
        "import numpy as np\n",
        "\n",
        "class HMM:\n",
        "\n",
        "    def __init__(self,A,B,pi):\n",
        "        self.A = A\n",
        "        self.B = B\n",
        "        self.pi = pi\n",
        "\n",
        "    def alpha_recursion(self,observations):\n",
        "        D=len(self.pi)\n",
        "        T=len(observations)\n",
        "        alpha=np.zeros((D,T))\n",
        "        alpha[:,0]=self.pi*self.B[observations[0]]\n",
        "        #alpha[:,0]=alpha[:,0]/alpha[:,0].sum()\n",
        "        for i in range(1,T):\n",
        "            alpha[:,i]=np.dot(np.diag(self.B[observations[i]]),np.dot(self.A,alpha[:,i-1]))\n",
        "            #alpha[:,i]=alpha[:,i]/alpha[:,i].sum()\n",
        "        return alpha\n",
        "    \n",
        "    def beta_recursion(self,observations):\n",
        "        D=len(self.pi)\n",
        "        T=len(observations)\n",
        "        beta=np.zeros((D,T))\n",
        "        beta[:,-1]=np.ones(D)\n",
        "        for i in range(T-1,0,-1):\n",
        "            beta[:,i-1]=np.dot(self.A,np.diag(self.B[observations[i]]).dot(beta[:,i]))\n",
        "        return beta\n",
        "    \n",
        "    def likelihood(self,observations):\n",
        "        alpha=self.alpha_recursion(observations)\n",
        "        likelihood=np.sum(alpha,0)\n",
        "        return likelihood.sum()\n",
        "    \n"
      ],
      "execution_count": 1,
      "outputs": []
    },
    {
      "cell_type": "code",
      "metadata": {
        "id": "3YVu24rNsUcY"
      },
      "source": [
        "B=np.array([[0.7,0.4,0.8],\n",
        "           [0.3,0.6,0.2]])\n",
        "A=np.array([[0.5,0.3,0.2],\n",
        "            [0.0,0.6,0.4],\n",
        "            [0.0,0.0,1.0]]).T\n",
        "pi=np.array([0.9,0.1,0.0])\n",
        "observations=np.array([0,1,0])\n",
        "\n",
        "hmm=HMM(A,B,pi)\n"
      ],
      "execution_count": 2,
      "outputs": []
    },
    {
      "cell_type": "code",
      "metadata": {
        "id": "w11kBPo1sUcZ",
        "outputId": "0260a61b-79b7-4fc8-f1e6-500f16aa2341",
        "colab": {
          "base_uri": "https://localhost:8080/"
        }
      },
      "source": [
        "alpha=hmm.alpha_recursion(observations)\n",
        "beta=hmm.beta_recursion(observations)\n",
        "\n",
        "print('p(v_1,v_2,v_3)={0:0.3f}'.format(alpha[:,-1].sum()))"
      ],
      "execution_count": 3,
      "outputs": [
        {
          "output_type": "stream",
          "text": [
            "p(v_1,v_2,v_3)=0.154\n"
          ],
          "name": "stdout"
        }
      ]
    },
    {
      "cell_type": "code",
      "metadata": {
        "id": "jLbR5hepsUca",
        "outputId": "4a5ee826-02a9-4b6c-9ece-3f42b446b7d2",
        "colab": {
          "base_uri": "https://localhost:8080/"
        }
      },
      "source": [
        "alpha_norm=alpha/alpha.sum(axis=0)\n",
        "\n",
        "for i in range(alpha_norm.shape[1]):\n",
        "    print('alpha {0} : {1}'.format(i,alpha_norm[:,i]))"
      ],
      "execution_count": 4,
      "outputs": [
        {
          "output_type": "stream",
          "text": [
            "alpha 0 : [0.94029851 0.05970149 0.        ]\n",
            "alpha 1 : [0.37694456 0.50977264 0.11328281]\n",
            "alpha 2 : [0.21501986 0.2731191  0.51186104]\n"
          ],
          "name": "stdout"
        }
      ]
    },
    {
      "cell_type": "code",
      "metadata": {
        "id": "hRLtwhQ2sUca",
        "outputId": "88afc023-fbd4-48f8-e4ba-455c56fadf6b",
        "colab": {
          "base_uri": "https://localhost:8080/"
        }
      },
      "source": [
        "beta_norm=beta/beta.sum(axis=0)\n",
        "\n",
        "for i in range(beta_norm.shape[1]):\n",
        "    print('beta {0} : {1}'.format(i,beta_norm[:,i]))"
      ],
      "execution_count": 5,
      "outputs": [
        {
          "output_type": "stream",
          "text": [
            "beta 0 : [0.08823529 0.32521008 0.58655462]\n",
            "beta 1 : [0.18421053 0.23684211 0.57894737]\n",
            "beta 2 : [0.33333333 0.33333333 0.33333333]\n"
          ],
          "name": "stdout"
        }
      ]
    },
    {
      "cell_type": "code",
      "metadata": {
        "id": "BYa3cU-0sUcb",
        "outputId": "67399ea8-9196-4e5d-db87-b294d23328ff",
        "colab": {
          "base_uri": "https://localhost:8080/"
        }
      },
      "source": [
        "pv1=alpha_norm[:,0]*beta_norm[:,0]\n",
        "pv1=pv1/pv1.sum()\n",
        "print('p(h_1 |v_1, v_2,v_3)={0}'.format(pv1))"
      ],
      "execution_count": 6,
      "outputs": [
        {
          "output_type": "stream",
          "text": [
            "p(h_1 |v_1, v_2,v_3)=[0.81036384 0.18963616 0.        ]\n"
          ],
          "name": "stdout"
        }
      ]
    },
    {
      "cell_type": "code",
      "metadata": {
        "id": "LiSuBZKusUcb"
      },
      "source": [
        "B=np.array([[0.9,0.2],\n",
        "           [0.1,0.8]])\n",
        "A=np.array([[0.7,0.3],\n",
        "            [0.3,0.7]])\n",
        "pi=np.array([0.5,0.5])\n",
        "observations=np.array([0,0,1,0,0])\n",
        "\n",
        "hmm=HMM(A,B,pi)"
      ],
      "execution_count": 7,
      "outputs": []
    },
    {
      "cell_type": "code",
      "metadata": {
        "id": "wlXTZscosUcb"
      },
      "source": [
        "alpha=hmm.alpha_recursion(observations)\n",
        "beta=hmm.beta_recursion(observations)\n"
      ],
      "execution_count": 8,
      "outputs": []
    },
    {
      "cell_type": "code",
      "metadata": {
        "id": "_OyAyPDtsUcc",
        "outputId": "8c9aa31d-d04b-4977-99f2-ae122c5cfe6d",
        "colab": {
          "base_uri": "https://localhost:8080/"
        }
      },
      "source": [
        "alpha_norm=alpha/alpha.sum(axis=0)\n",
        "\n",
        "for i in range(alpha_norm.shape[1]):\n",
        "    print('alpha {0} : {1}'.format(i,alpha_norm[:,i]))"
      ],
      "execution_count": 9,
      "outputs": [
        {
          "output_type": "stream",
          "text": [
            "alpha 0 : [0.81818182 0.18181818]\n",
            "alpha 1 : [0.88335704 0.11664296]\n",
            "alpha 2 : [0.19066794 0.80933206]\n",
            "alpha 3 : [0.730794 0.269206]\n",
            "alpha 4 : [0.86733889 0.13266111]\n"
          ],
          "name": "stdout"
        }
      ]
    },
    {
      "cell_type": "code",
      "metadata": {
        "id": "wKWJ6U_4sUcc",
        "outputId": "0dfb8d49-318d-4592-ed22-eac0a7c6c7c5",
        "colab": {
          "base_uri": "https://localhost:8080/"
        }
      },
      "source": [
        "beta_norm=beta/beta.sum(axis=0)\n",
        "\n",
        "for i in range(beta_norm.shape[1]):\n",
        "    print('beta {0} : {1}'.format(i,beta_norm[:,i]))"
      ],
      "execution_count": 10,
      "outputs": [
        {
          "output_type": "stream",
          "text": [
            "beta 0 : [0.5923176 0.4076824]\n",
            "beta 1 : [0.37626718 0.62373282]\n",
            "beta 2 : [0.65334282 0.34665718]\n",
            "beta 3 : [0.62727273 0.37272727]\n",
            "beta 4 : [0.5 0.5]\n"
          ],
          "name": "stdout"
        }
      ]
    },
    {
      "cell_type": "markdown",
      "metadata": {
        "id": "S7QE5g-jspZv"
      },
      "source": [
        "# Human Activity Recognition\n",
        "\n",
        "En este laboratorio usaremos registro de actividades capturado por smartphones que fueron desarrolladas por 30 personas distintas. Entre las actividades se incluyen:\n",
        "\n",
        "1 WALKING\n",
        "2 WALKING_UPSTAIRS\n",
        "3 WALKING_DOWNSTAIRS\n",
        "4 SITTING\n",
        "5 STANDING\n",
        "6 LAYING\n",
        "\n",
        "Al mismo tiempo, cada registro de la base de datos incluye las siguientes mediciones:ç\n",
        "\n",
        "Aceleracion total y aceleracion del cuerpo estimada en los 3 ejes (X-Y-Z)\n",
        "Velocidad angular del giroscopio en 3 los ejes (X-Y-Z)\n",
        "Un vector de dimensionalidad 561 con descriptores derivados a partir de los datos de movimiento.\n",
        "Etiqueta de actividad\n",
        "Un identificador de la persona que ejecuta la actividad\n",
        "Los datos originales se pueden encontrar en este enlace\n",
        "\n",
        "Más información del dataset se encuentra en:\n",
        "\n",
        "Davide Anguita, Alessandro Ghio, Luca Oneto, Xavier Parra and Jorge L. Reyes-Ortiz. A Public Domain Dataset for Human Activity Recognition Using Smartphones. 21th European Symposium on Artificial Neural Networks, Computational Intelligence and Machine Learning, ESANN 2013. Bruges, Belgium 24-26 April 2013."
      ]
    },
    {
      "cell_type": "code",
      "metadata": {
        "id": "7--nrhB1sUce",
        "outputId": "a79e522d-0fa2-4a64-dc37-1bc5dd97ecfc",
        "colab": {
          "base_uri": "https://localhost:8080/"
        }
      },
      "source": [
        "try:\n",
        "    # %tensorflow_version only exists in Colab.\n",
        "    %tensorflow_version 2.x\n",
        "    IS_COLAB = True\n",
        "except Exception:\n",
        "    IS_COLAB = False\n",
        "\n",
        "\n",
        "print('Google Colab? ',IS_COLAB)"
      ],
      "execution_count": 12,
      "outputs": [
        {
          "output_type": "stream",
          "text": [
            "('Google Colab? ', True)\n"
          ],
          "name": "stdout"
        }
      ]
    },
    {
      "cell_type": "code",
      "metadata": {
        "id": "6PjkhEsxsza6",
        "outputId": "5b74a95b-96c3-4026-a23d-6642cdb08969",
        "colab": {
          "base_uri": "https://localhost:8080/"
        }
      },
      "source": [
        "if IS_COLAB:\n",
        "    ! wget  -c \"https://ucmcl-my.sharepoint.com/:u:/g/personal/shernandez_ucm_cl/EWvE2qLEt7lGkusfUcjYHnMBbtVOqIrdzY15Dnd2hHDUJA?e=NAeghv&download=1\" -O HAR.tar.xz\n",
        "    ! tar -xf HAR.tar.xz"
      ],
      "execution_count": 13,
      "outputs": [
        {
          "output_type": "stream",
          "text": [
            "--2021-06-04 01:46:32--  https://ucmcl-my.sharepoint.com/:u:/g/personal/shernandez_ucm_cl/EWvE2qLEt7lGkusfUcjYHnMBbtVOqIrdzY15Dnd2hHDUJA?e=NAeghv&download=1\n",
            "Resolving ucmcl-my.sharepoint.com (ucmcl-my.sharepoint.com)... 13.107.136.9\n",
            "Connecting to ucmcl-my.sharepoint.com (ucmcl-my.sharepoint.com)|13.107.136.9|:443... connected.\n",
            "HTTP request sent, awaiting response... 302 Found\n",
            "Location: /personal/shernandez_ucm_cl/Documents/HAR.tar.xz?originalPath=aHR0cHM6Ly91Y21jbC1teS5zaGFyZXBvaW50LmNvbS86dTovZy9wZXJzb25hbC9zaGVybmFuZGV6X3VjbV9jbC9FV3ZFMnFMRXQ3bEdrdXNmVWNqWUhuTUJidFZPcUlyZHpZMTVEbmQyaEhEVUpBP3J0aW1lPTRlNllsUG9tMlVn [following]\n",
            "--2021-06-04 01:46:32--  https://ucmcl-my.sharepoint.com/personal/shernandez_ucm_cl/Documents/HAR.tar.xz?originalPath=aHR0cHM6Ly91Y21jbC1teS5zaGFyZXBvaW50LmNvbS86dTovZy9wZXJzb25hbC9zaGVybmFuZGV6X3VjbV9jbC9FV3ZFMnFMRXQ3bEdrdXNmVWNqWUhuTUJidFZPcUlyZHpZMTVEbmQyaEhEVUpBP3J0aW1lPTRlNllsUG9tMlVn\n",
            "Reusing existing connection to ucmcl-my.sharepoint.com:443.\n",
            "HTTP request sent, awaiting response... 200 OK\n",
            "Length: 33237852 (32M) [application/octet-stream]\n",
            "Saving to: ‘HAR.tar.xz’\n",
            "\n",
            "HAR.tar.xz          100%[===================>]  31.70M  18.6MB/s    in 1.7s    \n",
            "\n",
            "2021-06-04 01:46:34 (18.6 MB/s) - ‘HAR.tar.xz’ saved [33237852/33237852]\n",
            "\n"
          ],
          "name": "stdout"
        }
      ]
    },
    {
      "cell_type": "code",
      "metadata": {
        "id": "X_Nl78x4s3YS",
        "outputId": "5e7fd198-e1de-438d-8931-7b2d31fbb3ae",
        "colab": {
          "base_uri": "https://localhost:8080/"
        }
      },
      "source": [
        "! ls HAR"
      ],
      "execution_count": 14,
      "outputs": [
        {
          "output_type": "stream",
          "text": [
            "x_test.npy  x_train.npy  y_test.npy  y_train.npy\n"
          ],
          "name": "stdout"
        }
      ]
    },
    {
      "cell_type": "code",
      "metadata": {
        "id": "_ElkTvJ8s6vJ"
      },
      "source": [
        "import numpy as np\n",
        "\n",
        "X_train=np.load('HAR/x_train.npy')\n",
        "X_test=np.load('HAR/x_test.npy')\n",
        "y_train=np.load('HAR/y_train.npy')\n",
        "y_test=np.load('HAR/y_test.npy')\n",
        "\n",
        "label_to_activity = {1: 'walking horizontally', 2: 'walking upstairs', 3: 'walking downstairs',\n",
        "                     4: 'sitting', 5: 'standing', 6: 'laying'}"
      ],
      "execution_count": 16,
      "outputs": []
    },
    {
      "cell_type": "code",
      "metadata": {
        "id": "BJfCS9Kfs-fh",
        "outputId": "e029ae78-e152-492a-ccea-265effa28077",
        "colab": {
          "base_uri": "https://localhost:8080/"
        }
      },
      "source": [
        "y_train.shape"
      ],
      "execution_count": 19,
      "outputs": [
        {
          "output_type": "execute_result",
          "data": {
            "text/plain": [
              "(7352, 1)"
            ]
          },
          "metadata": {
            "tags": []
          },
          "execution_count": 19
        }
      ]
    },
    {
      "cell_type": "code",
      "metadata": {
        "id": "CwxfFjuXtPp_",
        "outputId": "15fbbda0-c2d1-4f0c-acb7-0e9e5cc662d9",
        "colab": {
          "base_uri": "https://localhost:8080/"
        }
      },
      "source": [
        "X_train.shape"
      ],
      "execution_count": 20,
      "outputs": [
        {
          "output_type": "execute_result",
          "data": {
            "text/plain": [
              "(7352, 128, 9)"
            ]
          },
          "metadata": {
            "tags": []
          },
          "execution_count": 20
        }
      ]
    },
    {
      "cell_type": "code",
      "metadata": {
        "id": "eEm1kaS5tXbW",
        "outputId": "2beb3dd4-8682-4767-a4fb-e181a77ebccb",
        "colab": {
          "base_uri": "https://localhost:8080/",
          "height": 977
        }
      },
      "source": [
        "import matplotlib.pyplot as plt\n",
        "\n",
        "def make_plots(num_examples_per_category):\n",
        "    for label in range(1,7):\n",
        "        x_label = X_train[y_train[:, 0] == label]\n",
        "        for i in range(num_examples_per_category):\n",
        "            fig, ax = plt.subplots(figsize=(10, 1))\n",
        "            ax.imshow(x_label[100*i].T, cmap='Greys', vmin=-1, vmax=1)\n",
        "            ax.axis('off')\n",
        "            if i == 0:\n",
        "                ax.set_title(label_to_activity[label])\n",
        "            plt.show()\n",
        "        \n",
        "make_plots(2)"
      ],
      "execution_count": 21,
      "outputs": [
        {
          "output_type": "display_data",
          "data": {
            "image/png": "[encoded data removed]",
            "text/plain": [
              "<Figure size 720x72 with 1 Axes>"
            ]
          },
          "metadata": {
            "tags": [],
            "needs_background": "light"
          }
        },
        {
          "output_type": "display_data",
          "data": {
            "image/png": "[encoded data removed]",
            "text/plain": [
              "<Figure size 720x72 with 1 Axes>"
            ]
          },
          "metadata": {
            "tags": [],
            "needs_background": "light"
          }
        },
        {
          "output_type": "display_data",
          "data": {
            "image/png": "[encoded data removed]",
            "text/plain": [
              "<Figure size 720x72 with 1 Axes>"
            ]
          },
          "metadata": {
            "tags": [],
            "needs_background": "light"
          }
        },
        {
          "output_type": "display_data",
          "data": {
            "image/png": "[encoded data removed]",
            "text/plain": [
              "<Figure size 720x72 with 1 Axes>"
            ]
          },
          "metadata": {
            "tags": [],
            "needs_background": "light"
          }
        },
        {
          "output_type": "display_data",
          "data": {
            "image/png": "[encoded data removed]",
            "text/plain": [
              "<Figure size 720x72 with 1 Axes>"
            ]
          },
          "metadata": {
            "tags": [],
            "needs_background": "light"
          }
        },
        {
          "output_type": "display_data",
          "data": {
            "image/png": "[encoded data removed]",
            "text/plain": [
              "<Figure size 720x72 with 1 Axes>"
            ]
          },
          "metadata": {
            "tags": [],
            "needs_background": "light"
          }
        },
        {
          "output_type": "display_data",
          "data": {
            "image/png": "[encoded data removed]",
            "text/plain": [
              "<Figure size 720x72 with 1 Axes>"
            ]
          },
          "metadata": {
            "tags": [],
            "needs_background": "light"
          }
        },
        {
          "output_type": "display_data",
          "data": {
            "image/png": "[encoded data removed]",
            "text/plain": [
              "<Figure size 720x72 with 1 Axes>"
            ]
          },
          "metadata": {
            "tags": [],
            "needs_background": "light"
          }
        },
        {
          "output_type": "display_data",
          "data": {
            "image/png": "[encoded data removed]",
            "text/plain": [
              "<Figure size 720x72 with 1 Axes>"
            ]
          },
          "metadata": {
            "tags": [],
            "needs_background": "light"
          }
        },
        {
          "output_type": "display_data",
          "data": {
            "image/png": "[encoded data removed]",
            "text/plain": [
              "<Figure size 720x72 with 1 Axes>"
            ]
          },
          "metadata": {
            "tags": [],
            "needs_background": "light"
          }
        },
        {
          "output_type": "display_data",
          "data": {
            "image/png": "[encoded data removed]",
            "text/plain": [
              "<Figure size 720x72 with 1 Axes>"
            ]
          },
          "metadata": {
            "tags": [],
            "needs_background": "light"
          }
        },
        {
          "output_type": "display_data",
          "data": {
            "image/png": "[encoded data removed]",
            "text/plain": [
              "<Figure size 720x72 with 1 Axes>"
            ]
          },
          "metadata": {
            "tags": [],
            "needs_background": "light"
          }
        }
      ]
    },
    {
      "cell_type": "code",
      "metadata": {
        "id": "LeAHBM2Ctaue",
        "outputId": "e3a30547-eb9f-41dc-9b72-205321f960e7",
        "colab": {
          "base_uri": "https://localhost:8080/"
        }
      },
      "source": [
        "!pip install hmmlearn"
      ],
      "execution_count": 23,
      "outputs": [
        {
          "output_type": "stream",
          "text": [
            "Collecting hmmlearn\n",
            "\u001b[?25l  Downloading https://files.pythonhosted.org/packages/d7/c5/91b43156b193d180ed94069269bcf88d3c7c6e54514a8482050fa9995e10/hmmlearn-0.2.2.tar.gz (146kB)\n",
            "\r\u001b[K     |██▎                             | 10kB 17.8MB/s eta 0:00:01\r\u001b[K     |████▌                           | 20kB 24.1MB/s eta 0:00:01\r\u001b[K     |██████▊                         | 30kB 27.2MB/s eta 0:00:01\r\u001b[K     |█████████                       | 40kB 20.5MB/s eta 0:00:01\r\u001b[K     |███████████▏                    | 51kB 18.1MB/s eta 0:00:01\r\u001b[K     |█████████████▍                  | 61kB 13.5MB/s eta 0:00:01\r\u001b[K     |███████████████▊                | 71kB 14.1MB/s eta 0:00:01\r\u001b[K     |██████████████████              | 81kB 15.2MB/s eta 0:00:01\r\u001b[K     |████████████████████▏           | 92kB 14.3MB/s eta 0:00:01\r\u001b[K     |██████████████████████▍         | 102kB 14.3MB/s eta 0:00:01\r\u001b[K     |████████████████████████▋       | 112kB 14.3MB/s eta 0:00:01\r\u001b[K     |██████████████████████████▉     | 122kB 14.3MB/s eta 0:00:01\r\u001b[K     |█████████████████████████████   | 133kB 14.3MB/s eta 0:00:01\r\u001b[K     |███████████████████████████████▍| 143kB 14.3MB/s eta 0:00:01\r\u001b[K     |████████████████████████████████| 153kB 14.3MB/s \n",
            "\u001b[?25hRequirement already satisfied: numpy>=1.10 in /usr/local/lib/python2.7/dist-packages (from hmmlearn) (1.16.4)\n",
            "Requirement already satisfied: scikit-learn>=0.16 in /usr/local/lib/python2.7/dist-packages (from hmmlearn) (0.20.3)\n",
            "Requirement already satisfied: scipy>=0.13.3 in /usr/local/lib/python2.7/dist-packages (from scikit-learn>=0.16->hmmlearn) (1.2.2)\n",
            "Building wheels for collected packages: hmmlearn\n",
            "  Building wheel for hmmlearn (setup.py) ... \u001b[?25l\u001b[?25hdone\n",
            "  Created wheel for hmmlearn: filename=hmmlearn-0.2.2-cp27-cp27mu-linux_x86_64.whl size=189239 sha256=a3675f9b090d42d606eda7b23d486e39050074320d8e73246ccdb101ec0357d0\n",
            "  Stored in directory: /root/.cache/pip/wheels/2c/b6/0e/63a865a30e21e01d04f417d8995fbfb793d6bd464707efc546\n",
            "Successfully built hmmlearn\n",
            "Installing collected packages: hmmlearn\n",
            "Successfully installed hmmlearn-0.2.2\n"
          ],
          "name": "stdout"
        }
      ]
    },
    {
      "cell_type": "code",
      "metadata": {
        "id": "bGWgJrELuBUN"
      },
      "source": [
        "X_activity=X_train[(y_train==1).flatten()]"
      ],
      "execution_count": 36,
      "outputs": []
    },
    {
      "cell_type": "code",
      "metadata": {
        "id": "ZM26Otxcu5_W"
      },
      "source": [
        "lengths=[X_activity.shape[1]]*X_activity.shape[0]"
      ],
      "execution_count": 45,
      "outputs": []
    },
    {
      "cell_type": "code",
      "metadata": {
        "id": "eEqA6QaavSEd"
      },
      "source": [
        "from hmmlearn import hmm\n",
        "\n",
        "model = hmm.GaussianHMM(n_components=3, covariance_type=\"diag\", n_iter=100)"
      ],
      "execution_count": 65,
      "outputs": []
    },
    {
      "cell_type": "code",
      "metadata": {
        "id": "r2dZhH7XvksY",
        "outputId": "db88dd16-869b-4bca-cab0-b334d8233097",
        "colab": {
          "base_uri": "https://localhost:8080/"
        }
      },
      "source": [
        "model.fit(X_activity.reshape([X_activity.shape[0]*X_activity.shape[1],X_activity.shape[2]]),lengths)"
      ],
      "execution_count": 66,
      "outputs": [
        {
          "output_type": "execute_result",
          "data": {
            "text/plain": [
              "GaussianHMM(algorithm='viterbi', covariance_type='diag', covars_prior=0.01,\n",
              "      covars_weight=1, init_params='stmc', means_prior=0, means_weight=0,\n",
              "      min_covar=0.001, n_components=3, n_iter=100, params='stmc',\n",
              "      random_state=None, startprob_prior=1.0, tol=0.01, transmat_prior=1.0,\n",
              "      verbose=False)"
            ]
          },
          "metadata": {
            "tags": []
          },
          "execution_count": 66
        }
      ]
    },
    {
      "cell_type": "code",
      "metadata": {
        "id": "fiFCKZRKv6O-"
      },
      "source": [
        "Z=model.predict(X_activity[0])"
      ],
      "execution_count": 67,
      "outputs": []
    },
    {
      "cell_type": "code",
      "metadata": {
        "id": "wwtzL7M1wPXO",
        "outputId": "356b9ace-ed8e-46cb-9c22-0d69742906f8",
        "colab": {
          "base_uri": "https://localhost:8080/",
          "height": 427
        }
      },
      "source": [
        "plt.figure(figsize=(10,1))\n",
        "plt.plot(range(128),Z,col=\"r\",linewidth=3)\n",
        "plt.imshow(X_activity[0].T, cmap='Greys', vmin=-1, vmax=1)"
      ],
      "execution_count": 79,
      "outputs": [
        {
          "output_type": "error",
          "ename": "AttributeError",
          "evalue": "ignored",
          "traceback": [
            "\u001b[0;31m\u001b[0m",
            "\u001b[0;31mAttributeError\u001b[0mTraceback (most recent call last)",
            "\u001b[0;32m<ipython-input-79-537ffe84c677>\u001b[0m in \u001b[0;36m<module>\u001b[0;34m()\u001b[0m\n\u001b[1;32m      1\u001b[0m \u001b[0mplt\u001b[0m\u001b[0;34m.\u001b[0m\u001b[0mfigure\u001b[0m\u001b[0;34m(\u001b[0m\u001b[0mfigsize\u001b[0m\u001b[0;34m=\u001b[0m\u001b[0;34m(\u001b[0m\u001b[0;36m10\u001b[0m\u001b[0;34m,\u001b[0m\u001b[0;36m1\u001b[0m\u001b[0;34m)\u001b[0m\u001b[0;34m)\u001b[0m\u001b[0;34m\u001b[0m\u001b[0m\n\u001b[0;32m----> 2\u001b[0;31m \u001b[0mplt\u001b[0m\u001b[0;34m.\u001b[0m\u001b[0mplot\u001b[0m\u001b[0;34m(\u001b[0m\u001b[0mrange\u001b[0m\u001b[0;34m(\u001b[0m\u001b[0;36m128\u001b[0m\u001b[0;34m)\u001b[0m\u001b[0;34m,\u001b[0m\u001b[0mZ\u001b[0m\u001b[0;34m,\u001b[0m\u001b[0mcol\u001b[0m\u001b[0;34m=\u001b[0m\u001b[0;34m\"red\"\u001b[0m\u001b[0;34m)\u001b[0m\u001b[0;34m\u001b[0m\u001b[0m\n\u001b[0m\u001b[1;32m      3\u001b[0m \u001b[0mplt\u001b[0m\u001b[0;34m.\u001b[0m\u001b[0mimshow\u001b[0m\u001b[0;34m(\u001b[0m\u001b[0mX_activity\u001b[0m\u001b[0;34m[\u001b[0m\u001b[0;36m0\u001b[0m\u001b[0;34m]\u001b[0m\u001b[0;34m.\u001b[0m\u001b[0mT\u001b[0m\u001b[0;34m,\u001b[0m \u001b[0mcmap\u001b[0m\u001b[0;34m=\u001b[0m\u001b[0;34m'Greys'\u001b[0m\u001b[0;34m,\u001b[0m \u001b[0mvmin\u001b[0m\u001b[0;34m=\u001b[0m\u001b[0;34m-\u001b[0m\u001b[0;36m1\u001b[0m\u001b[0;34m,\u001b[0m \u001b[0mvmax\u001b[0m\u001b[0;34m=\u001b[0m\u001b[0;36m1\u001b[0m\u001b[0;34m)\u001b[0m\u001b[0;34m\u001b[0m\u001b[0m\n",
            "\u001b[0;32m/usr/local/lib/python2.7/dist-packages/matplotlib/pyplot.pyc\u001b[0m in \u001b[0;36mplot\u001b[0;34m(*args, **kwargs)\u001b[0m\n\u001b[1;32m   3361\u001b[0m                       mplDeprecation)\n\u001b[1;32m   3362\u001b[0m     \u001b[0;32mtry\u001b[0m\u001b[0;34m:\u001b[0m\u001b[0;34m\u001b[0m\u001b[0m\n\u001b[0;32m-> 3363\u001b[0;31m         \u001b[0mret\u001b[0m \u001b[0;34m=\u001b[0m \u001b[0max\u001b[0m\u001b[0;34m.\u001b[0m\u001b[0mplot\u001b[0m\u001b[0;34m(\u001b[0m\u001b[0;34m*\u001b[0m\u001b[0margs\u001b[0m\u001b[0;34m,\u001b[0m \u001b[0;34m**\u001b[0m\u001b[0mkwargs\u001b[0m\u001b[0;34m)\u001b[0m\u001b[0;34m\u001b[0m\u001b[0m\n\u001b[0m\u001b[1;32m   3364\u001b[0m     \u001b[0;32mfinally\u001b[0m\u001b[0;34m:\u001b[0m\u001b[0;34m\u001b[0m\u001b[0m\n\u001b[1;32m   3365\u001b[0m         \u001b[0max\u001b[0m\u001b[0;34m.\u001b[0m\u001b[0m_hold\u001b[0m \u001b[0;34m=\u001b[0m \u001b[0mwashold\u001b[0m\u001b[0;34m\u001b[0m\u001b[0m\n",
            "\u001b[0;32m/usr/local/lib/python2.7/dist-packages/matplotlib/__init__.pyc\u001b[0m in \u001b[0;36minner\u001b[0;34m(ax, *args, **kwargs)\u001b[0m\n\u001b[1;32m   1865\u001b[0m                         \u001b[0;34m\"the Matplotlib list!)\"\u001b[0m \u001b[0;34m%\u001b[0m \u001b[0;34m(\u001b[0m\u001b[0mlabel_namer\u001b[0m\u001b[0;34m,\u001b[0m \u001b[0mfunc\u001b[0m\u001b[0;34m.\u001b[0m\u001b[0m__name__\u001b[0m\u001b[0;34m)\u001b[0m\u001b[0;34m,\u001b[0m\u001b[0;34m\u001b[0m\u001b[0m\n\u001b[1;32m   1866\u001b[0m                         RuntimeWarning, stacklevel=2)\n\u001b[0;32m-> 1867\u001b[0;31m             \u001b[0;32mreturn\u001b[0m \u001b[0mfunc\u001b[0m\u001b[0;34m(\u001b[0m\u001b[0max\u001b[0m\u001b[0;34m,\u001b[0m \u001b[0;34m*\u001b[0m\u001b[0margs\u001b[0m\u001b[0;34m,\u001b[0m \u001b[0;34m**\u001b[0m\u001b[0mkwargs\u001b[0m\u001b[0;34m)\u001b[0m\u001b[0;34m\u001b[0m\u001b[0m\n\u001b[0m\u001b[1;32m   1868\u001b[0m \u001b[0;34m\u001b[0m\u001b[0m\n\u001b[1;32m   1869\u001b[0m         inner.__doc__ = _add_data_doc(inner.__doc__,\n",
            "\u001b[0;32m/usr/local/lib/python2.7/dist-packages/matplotlib/axes/_axes.pyc\u001b[0m in \u001b[0;36mplot\u001b[0;34m(self, *args, **kwargs)\u001b[0m\n\u001b[1;32m   1526\u001b[0m         \u001b[0mkwargs\u001b[0m \u001b[0;34m=\u001b[0m \u001b[0mcbook\u001b[0m\u001b[0;34m.\u001b[0m\u001b[0mnormalize_kwargs\u001b[0m\u001b[0;34m(\u001b[0m\u001b[0mkwargs\u001b[0m\u001b[0;34m,\u001b[0m \u001b[0m_alias_map\u001b[0m\u001b[0;34m)\u001b[0m\u001b[0;34m\u001b[0m\u001b[0m\n\u001b[1;32m   1527\u001b[0m \u001b[0;34m\u001b[0m\u001b[0m\n\u001b[0;32m-> 1528\u001b[0;31m         \u001b[0;32mfor\u001b[0m \u001b[0mline\u001b[0m \u001b[0;32min\u001b[0m \u001b[0mself\u001b[0m\u001b[0;34m.\u001b[0m\u001b[0m_get_lines\u001b[0m\u001b[0;34m(\u001b[0m\u001b[0;34m*\u001b[0m\u001b[0margs\u001b[0m\u001b[0;34m,\u001b[0m \u001b[0;34m**\u001b[0m\u001b[0mkwargs\u001b[0m\u001b[0;34m)\u001b[0m\u001b[0;34m:\u001b[0m\u001b[0;34m\u001b[0m\u001b[0m\n\u001b[0m\u001b[1;32m   1529\u001b[0m             \u001b[0mself\u001b[0m\u001b[0;34m.\u001b[0m\u001b[0madd_line\u001b[0m\u001b[0;34m(\u001b[0m\u001b[0mline\u001b[0m\u001b[0;34m)\u001b[0m\u001b[0;34m\u001b[0m\u001b[0m\n\u001b[1;32m   1530\u001b[0m             \u001b[0mlines\u001b[0m\u001b[0;34m.\u001b[0m\u001b[0mappend\u001b[0m\u001b[0;34m(\u001b[0m\u001b[0mline\u001b[0m\u001b[0;34m)\u001b[0m\u001b[0;34m\u001b[0m\u001b[0m\n",
            "\u001b[0;32m/usr/local/lib/python2.7/dist-packages/matplotlib/axes/_base.pyc\u001b[0m in \u001b[0;36m_grab_next_args\u001b[0;34m(self, *args, **kwargs)\u001b[0m\n\u001b[1;32m    404\u001b[0m                 \u001b[0mthis\u001b[0m \u001b[0;34m+=\u001b[0m \u001b[0margs\u001b[0m\u001b[0;34m[\u001b[0m\u001b[0;36m0\u001b[0m\u001b[0;34m]\u001b[0m\u001b[0;34m,\u001b[0m\u001b[0;34m\u001b[0m\u001b[0m\n\u001b[1;32m    405\u001b[0m                 \u001b[0margs\u001b[0m \u001b[0;34m=\u001b[0m \u001b[0margs\u001b[0m\u001b[0;34m[\u001b[0m\u001b[0;36m1\u001b[0m\u001b[0;34m:\u001b[0m\u001b[0;34m]\u001b[0m\u001b[0;34m\u001b[0m\u001b[0m\n\u001b[0;32m--> 406\u001b[0;31m             \u001b[0;32mfor\u001b[0m \u001b[0mseg\u001b[0m \u001b[0;32min\u001b[0m \u001b[0mself\u001b[0m\u001b[0;34m.\u001b[0m\u001b[0m_plot_args\u001b[0m\u001b[0;34m(\u001b[0m\u001b[0mthis\u001b[0m\u001b[0;34m,\u001b[0m \u001b[0mkwargs\u001b[0m\u001b[0;34m)\u001b[0m\u001b[0;34m:\u001b[0m\u001b[0;34m\u001b[0m\u001b[0m\n\u001b[0m\u001b[1;32m    407\u001b[0m                 \u001b[0;32myield\u001b[0m \u001b[0mseg\u001b[0m\u001b[0;34m\u001b[0m\u001b[0m\n\u001b[1;32m    408\u001b[0m \u001b[0;34m\u001b[0m\u001b[0m\n",
            "\u001b[0;32m/usr/local/lib/python2.7/dist-packages/matplotlib/axes/_base.pyc\u001b[0m in \u001b[0;36m_plot_args\u001b[0;34m(self, tup, kwargs)\u001b[0m\n\u001b[1;32m    394\u001b[0m                                   \"with non-matching shapes is deprecated.\")\n\u001b[1;32m    395\u001b[0m         \u001b[0;32mfor\u001b[0m \u001b[0mj\u001b[0m \u001b[0;32min\u001b[0m \u001b[0mxrange\u001b[0m\u001b[0;34m(\u001b[0m\u001b[0mmax\u001b[0m\u001b[0;34m(\u001b[0m\u001b[0mncx\u001b[0m\u001b[0;34m,\u001b[0m \u001b[0mncy\u001b[0m\u001b[0;34m)\u001b[0m\u001b[0;34m)\u001b[0m\u001b[0;34m:\u001b[0m\u001b[0;34m\u001b[0m\u001b[0m\n\u001b[0;32m--> 396\u001b[0;31m             \u001b[0mseg\u001b[0m \u001b[0;34m=\u001b[0m \u001b[0mfunc\u001b[0m\u001b[0;34m(\u001b[0m\u001b[0mx\u001b[0m\u001b[0;34m[\u001b[0m\u001b[0;34m:\u001b[0m\u001b[0;34m,\u001b[0m \u001b[0mj\u001b[0m \u001b[0;34m%\u001b[0m \u001b[0mncx\u001b[0m\u001b[0;34m]\u001b[0m\u001b[0;34m,\u001b[0m \u001b[0my\u001b[0m\u001b[0;34m[\u001b[0m\u001b[0;34m:\u001b[0m\u001b[0;34m,\u001b[0m \u001b[0mj\u001b[0m \u001b[0;34m%\u001b[0m \u001b[0mncy\u001b[0m\u001b[0;34m]\u001b[0m\u001b[0;34m,\u001b[0m \u001b[0mkw\u001b[0m\u001b[0;34m,\u001b[0m \u001b[0mkwargs\u001b[0m\u001b[0;34m)\u001b[0m\u001b[0;34m\u001b[0m\u001b[0m\n\u001b[0m\u001b[1;32m    397\u001b[0m             \u001b[0mret\u001b[0m\u001b[0;34m.\u001b[0m\u001b[0mappend\u001b[0m\u001b[0;34m(\u001b[0m\u001b[0mseg\u001b[0m\u001b[0;34m)\u001b[0m\u001b[0;34m\u001b[0m\u001b[0m\n\u001b[1;32m    398\u001b[0m         \u001b[0;32mreturn\u001b[0m \u001b[0mret\u001b[0m\u001b[0;34m\u001b[0m\u001b[0m\n",
            "\u001b[0;32m/usr/local/lib/python2.7/dist-packages/matplotlib/axes/_base.pyc\u001b[0m in \u001b[0;36m_makeline\u001b[0;34m(self, x, y, kw, kwargs)\u001b[0m\n\u001b[1;32m    298\u001b[0m         \u001b[0mdefault_dict\u001b[0m \u001b[0;34m=\u001b[0m \u001b[0mself\u001b[0m\u001b[0;34m.\u001b[0m\u001b[0m_getdefaults\u001b[0m\u001b[0;34m(\u001b[0m\u001b[0mNone\u001b[0m\u001b[0;34m,\u001b[0m \u001b[0mkw\u001b[0m\u001b[0;34m)\u001b[0m\u001b[0;34m\u001b[0m\u001b[0m\n\u001b[1;32m    299\u001b[0m         \u001b[0mself\u001b[0m\u001b[0;34m.\u001b[0m\u001b[0m_setdefaults\u001b[0m\u001b[0;34m(\u001b[0m\u001b[0mdefault_dict\u001b[0m\u001b[0;34m,\u001b[0m \u001b[0mkw\u001b[0m\u001b[0;34m)\u001b[0m\u001b[0;34m\u001b[0m\u001b[0m\n\u001b[0;32m--> 300\u001b[0;31m         \u001b[0mseg\u001b[0m \u001b[0;34m=\u001b[0m \u001b[0mmlines\u001b[0m\u001b[0;34m.\u001b[0m\u001b[0mLine2D\u001b[0m\u001b[0;34m(\u001b[0m\u001b[0mx\u001b[0m\u001b[0;34m,\u001b[0m \u001b[0my\u001b[0m\u001b[0;34m,\u001b[0m \u001b[0;34m**\u001b[0m\u001b[0mkw\u001b[0m\u001b[0;34m)\u001b[0m\u001b[0;34m\u001b[0m\u001b[0m\n\u001b[0m\u001b[1;32m    301\u001b[0m         \u001b[0;32mreturn\u001b[0m \u001b[0mseg\u001b[0m\u001b[0;34m\u001b[0m\u001b[0m\n\u001b[1;32m    302\u001b[0m \u001b[0;34m\u001b[0m\u001b[0m\n",
            "\u001b[0;32m/usr/local/lib/python2.7/dist-packages/matplotlib/lines.pyc\u001b[0m in \u001b[0;36m__init__\u001b[0;34m(self, xdata, ydata, linewidth, linestyle, color, marker, markersize, markeredgewidth, markeredgecolor, markerfacecolor, markerfacecoloralt, fillstyle, antialiased, dash_capstyle, solid_capstyle, dash_joinstyle, solid_joinstyle, pickradius, drawstyle, markevery, **kwargs)\u001b[0m\n\u001b[1;32m    419\u001b[0m         \u001b[0;31m# update kwargs before updating data to give the caller a\u001b[0m\u001b[0;34m\u001b[0m\u001b[0;34m\u001b[0m\u001b[0m\n\u001b[1;32m    420\u001b[0m         \u001b[0;31m# chance to init axes (and hence unit support)\u001b[0m\u001b[0;34m\u001b[0m\u001b[0;34m\u001b[0m\u001b[0m\n\u001b[0;32m--> 421\u001b[0;31m         \u001b[0mself\u001b[0m\u001b[0;34m.\u001b[0m\u001b[0mupdate\u001b[0m\u001b[0;34m(\u001b[0m\u001b[0mkwargs\u001b[0m\u001b[0;34m)\u001b[0m\u001b[0;34m\u001b[0m\u001b[0m\n\u001b[0m\u001b[1;32m    422\u001b[0m         \u001b[0mself\u001b[0m\u001b[0;34m.\u001b[0m\u001b[0mpickradius\u001b[0m \u001b[0;34m=\u001b[0m \u001b[0mpickradius\u001b[0m\u001b[0;34m\u001b[0m\u001b[0m\n\u001b[1;32m    423\u001b[0m         \u001b[0mself\u001b[0m\u001b[0;34m.\u001b[0m\u001b[0mind_offset\u001b[0m \u001b[0;34m=\u001b[0m \u001b[0;36m0\u001b[0m\u001b[0;34m\u001b[0m\u001b[0m\n",
            "\u001b[0;32m/usr/local/lib/python2.7/dist-packages/matplotlib/artist.pyc\u001b[0m in \u001b[0;36mupdate\u001b[0;34m(self, props)\u001b[0m\n\u001b[1;32m    886\u001b[0m         \u001b[0;32mtry\u001b[0m\u001b[0;34m:\u001b[0m\u001b[0;34m\u001b[0m\u001b[0m\n\u001b[1;32m    887\u001b[0m             ret = [_update_property(self, k, v)\n\u001b[0;32m--> 888\u001b[0;31m                    for k, v in props.items()]\n\u001b[0m\u001b[1;32m    889\u001b[0m         \u001b[0;32mfinally\u001b[0m\u001b[0;34m:\u001b[0m\u001b[0;34m\u001b[0m\u001b[0m\n\u001b[1;32m    890\u001b[0m             \u001b[0mself\u001b[0m\u001b[0;34m.\u001b[0m\u001b[0meventson\u001b[0m \u001b[0;34m=\u001b[0m \u001b[0mstore\u001b[0m\u001b[0;34m\u001b[0m\u001b[0m\n",
            "\u001b[0;32m/usr/local/lib/python2.7/dist-packages/matplotlib/artist.pyc\u001b[0m in \u001b[0;36m_update_property\u001b[0;34m(self, k, v)\u001b[0m\n\u001b[1;32m    879\u001b[0m                 \u001b[0mfunc\u001b[0m \u001b[0;34m=\u001b[0m \u001b[0mgetattr\u001b[0m\u001b[0;34m(\u001b[0m\u001b[0mself\u001b[0m\u001b[0;34m,\u001b[0m \u001b[0;34m'set_'\u001b[0m \u001b[0;34m+\u001b[0m \u001b[0mk\u001b[0m\u001b[0;34m,\u001b[0m \u001b[0mNone\u001b[0m\u001b[0;34m)\u001b[0m\u001b[0;34m\u001b[0m\u001b[0m\n\u001b[1;32m    880\u001b[0m                 \u001b[0;32mif\u001b[0m \u001b[0;32mnot\u001b[0m \u001b[0mcallable\u001b[0m\u001b[0;34m(\u001b[0m\u001b[0mfunc\u001b[0m\u001b[0;34m)\u001b[0m\u001b[0;34m:\u001b[0m\u001b[0;34m\u001b[0m\u001b[0m\n\u001b[0;32m--> 881\u001b[0;31m                     \u001b[0;32mraise\u001b[0m \u001b[0mAttributeError\u001b[0m\u001b[0;34m(\u001b[0m\u001b[0;34m'Unknown property %s'\u001b[0m \u001b[0;34m%\u001b[0m \u001b[0mk\u001b[0m\u001b[0;34m)\u001b[0m\u001b[0;34m\u001b[0m\u001b[0m\n\u001b[0m\u001b[1;32m    882\u001b[0m                 \u001b[0;32mreturn\u001b[0m \u001b[0mfunc\u001b[0m\u001b[0;34m(\u001b[0m\u001b[0mv\u001b[0m\u001b[0;34m)\u001b[0m\u001b[0;34m\u001b[0m\u001b[0m\n\u001b[1;32m    883\u001b[0m \u001b[0;34m\u001b[0m\u001b[0m\n",
            "\u001b[0;31mAttributeError\u001b[0m: Unknown property col"
          ]
        },
        {
          "output_type": "display_data",
          "data": {
            "image/png": "[encoded data removed]",
            "text/plain": [
              "<Figure size 720x72 with 1 Axes>"
            ]
          },
          "metadata": {
            "tags": [],
            "needs_background": "light"
          }
        }
      ]
    },
    {
      "cell_type": "code",
      "metadata": {
        "id": "dnV7T_U-zqY3",
        "outputId": "5d0bcce4-8528-4e0c-a66f-ed3171c49885",
        "colab": {
          "base_uri": "https://localhost:8080/"
        }
      },
      "source": [
        "Z-1"
      ],
      "execution_count": 76,
      "outputs": [
        {
          "output_type": "execute_result",
          "data": {
            "text/plain": [
              "array([-1, -1, -1,  0,  0,  0,  1,  1,  1,  1,  1, -1, -1, -1, -1, -1, -1,\n",
              "       -1, -1, -1, -1, -1, -1, -1, -1, -1, -1, -1, -1, -1, -1, -1, -1, -1,\n",
              "       -1, -1, -1, -1, -1, -1, -1, -1, -1, -1, -1, -1, -1, -1, -1, -1, -1,\n",
              "       -1, -1, -1, -1, -1, -1, -1, -1, -1, -1, -1, -1, -1, -1, -1, -1, -1,\n",
              "       -1, -1, -1, -1, -1, -1, -1, -1, -1, -1, -1, -1, -1, -1, -1, -1, -1,\n",
              "       -1, -1, -1, -1, -1, -1, -1, -1, -1, -1, -1, -1, -1, -1, -1, -1, -1,\n",
              "       -1, -1, -1, -1, -1, -1, -1, -1, -1, -1, -1, -1, -1, -1, -1, -1, -1,\n",
              "       -1, -1, -1, -1, -1, -1, -1, -1, -1])"
            ]
          },
          "metadata": {
            "tags": []
          },
          "execution_count": 76
        }
      ]
    }
  ]
}