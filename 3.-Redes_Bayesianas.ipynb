{
  "cells": [
    {
      "cell_type": "markdown",
      "metadata": {
        "id": "22ieQsBnfw4M"
      },
      "source": [
        "# Redes Bayesianas\n",
        "Las redes Bayesianas corresponden a un caso particular de factorización de una probabilidad conjunto en que cada factor es también una distribución.\n",
        "\n",
        "El criterio para detectar independencia entre condicional en un grafo probabilístico corresponde a la d-separación, que nos dice que si $x_i$ y $x_j$ están bloqueados por un subconjunto $S \\in X \\setminus \\{x_i,x_j\\}$ de las variables, entonces $x_i$ es independiente de $x_j$ dado $S$. Esto nos lleva también a concluir que en un árbol, cada variable $x_i$ es independiente de sus hijos y sus abuelos, dado el valor de las variables en el conjunto $S$ que contiene a sus padres. \n",
        "\n",
        "\n",
        "En general, podemos decir que podemos garantizar que $x_i \\perp x_j \\vert S$,si no existe ninguna ruta activa entre ambos vertices. Una ruta se dice activa si todas las tripletas que la componen se encuentran activas."
      ]
    },
    {
      "cell_type": "code",
      "execution_count": 1,
      "metadata": {
        "colab": {
          "base_uri": "https://localhost:8080/",
          "height": 319
        },
        "id": "hf0j-Jkifw5O",
        "outputId": "5d30ba6c-7271-4cdd-c758-d2e4971925aa"
      },
      "outputs": [
        {
          "output_type": "display_data",
          "data": {
            "text/plain": [
              "<Figure size 432x288 with 1 Axes>"
            ],
            "image/png": "[encoded data removed]"
          },
          "metadata": {}
        }
      ],
      "source": [
        "import networkx as nx\n",
        "import matplotlib.pyplot as plt\n",
        "\n",
        "G=nx.DiGraph()\n",
        "G.add_edges_from([('B','A'),('E','A'),('A','J'),('A','M')])\n",
        "pos={'A': (0,0),'B':(1,1),'J': (1,-1),'E': (-1,1),'M':(-1,-1)}\n",
        "nx.draw(G,pos=pos,node_size=500)\n",
        "nx.draw_networkx_labels(G,pos)\n",
        "plt.show()\n"
      ]
    },
    {
      "cell_type": "code",
      "execution_count": 2,
      "metadata": {
        "colab": {
          "base_uri": "https://localhost:8080/"
        },
        "id": "wrv2taCx31MB",
        "outputId": "8886f72d-a8bd-49f0-de63-8c1c1f5a86a3"
      },
      "outputs": [
        {
          "output_type": "stream",
          "name": "stdout",
          "text": [
            "Efecto comun\n",
            "Tripleta inactiva=> B _|_ E     :  True\n",
            "Tripleta activa=> B _|_ E | A :  False\n",
            "Tripleta activa=> B _|_ E | J :  False\n",
            "--------------------\n",
            "Cadena causal\n",
            "Tripleta activa=> B _|_ M     :  False\n",
            "Tripleta inactiva=> B _|_ M | A :  True\n",
            "--------------------\n",
            "Causa comun\n",
            "Tripleta activa=> J _|_ M     :  False\n",
            "Tripleta inactiva=> J _|_ M | A :  True\n"
          ]
        }
      ],
      "source": [
        "from networkx.algorithms.d_separation import d_separated\n",
        "\n",
        "print('Efecto comun')\n",
        "print('Tripleta inactiva', end = '=> ')\n",
        "print('B _|_ E     : ',d_separated(G,{'B'},{'E'},{}))\n",
        "\n",
        "print('Tripleta activa', end = '=> ')\n",
        "print('B _|_ E | A : ',d_separated(G,{'B'},{'E'},{'A'}))\n",
        "\n",
        "print('Tripleta activa', end = '=> ')\n",
        "print('B _|_ E | J : ',d_separated(G,{'B'},{'E'},{'J'}))\n",
        "\n",
        "print('--------------------')\n",
        "print('Cadena causal')\n",
        "print('Tripleta activa', end = '=> ')\n",
        "print('B _|_ M     : ',d_separated(G,{'B'},{'M'},{}))\n",
        "\n",
        "print('Tripleta inactiva', end = '=> ')\n",
        "print('B _|_ M | A : ',d_separated(G,{'B'},{'M'},{'A'}))\n",
        "\n",
        "print('--------------------')\n",
        "print('Causa comun')\n",
        "print('Tripleta activa', end = '=> ')\n",
        "print('J _|_ M     : ',d_separated(G,{'J'},{'M'},{}))\n",
        "\n",
        "print('Tripleta inactiva', end = '=> ')\n",
        "print('J _|_ M | A : ',d_separated(G,{'J'},{'M'},{'A'}))"
      ]
    },
    {
      "cell_type": "code",
      "source": [
        "! pip install --user pgmpy"
      ],
      "metadata": {
        "id": "p4q5i67hER3_",
        "outputId": "b0ebb517-f679-45fd-bf34-11618482be26",
        "colab": {
          "base_uri": "https://localhost:8080/"
        }
      },
      "execution_count": 3,
      "outputs": [
        {
          "output_type": "stream",
          "name": "stdout",
          "text": [
            "Looking in indexes: https://pypi.org/simple, https://us-python.pkg.dev/colab-wheels/public/simple/\n",
            "Requirement already satisfied: pgmpy in /root/.local/lib/python3.7/site-packages (0.1.19)\n",
            "Requirement already satisfied: scikit-learn in /usr/local/lib/python3.7/dist-packages (from pgmpy) (1.0.2)\n",
            "Requirement already satisfied: networkx in /usr/local/lib/python3.7/dist-packages (from pgmpy) (2.6.3)\n",
            "Requirement already satisfied: tqdm in /usr/local/lib/python3.7/dist-packages (from pgmpy) (4.64.1)\n",
            "Requirement already satisfied: scipy in /usr/local/lib/python3.7/dist-packages (from pgmpy) (1.7.3)\n",
            "Requirement already satisfied: numpy in /usr/local/lib/python3.7/dist-packages (from pgmpy) (1.21.6)\n",
            "Requirement already satisfied: statsmodels in /usr/local/lib/python3.7/dist-packages (from pgmpy) (0.12.2)\n",
            "Requirement already satisfied: joblib in /usr/local/lib/python3.7/dist-packages (from pgmpy) (1.1.0)\n",
            "Requirement already satisfied: pyparsing in /usr/local/lib/python3.7/dist-packages (from pgmpy) (3.0.9)\n",
            "Requirement already satisfied: torch in /usr/local/lib/python3.7/dist-packages (from pgmpy) (1.12.1+cu113)\n",
            "Requirement already satisfied: pandas in /usr/local/lib/python3.7/dist-packages (from pgmpy) (1.3.5)\n",
            "Requirement already satisfied: python-dateutil>=2.7.3 in /usr/local/lib/python3.7/dist-packages (from pandas->pgmpy) (2.8.2)\n",
            "Requirement already satisfied: pytz>=2017.3 in /usr/local/lib/python3.7/dist-packages (from pandas->pgmpy) (2022.2.1)\n",
            "Requirement already satisfied: six>=1.5 in /usr/local/lib/python3.7/dist-packages (from python-dateutil>=2.7.3->pandas->pgmpy) (1.15.0)\n",
            "Requirement already satisfied: threadpoolctl>=2.0.0 in /usr/local/lib/python3.7/dist-packages (from scikit-learn->pgmpy) (3.1.0)\n",
            "Requirement already satisfied: patsy>=0.5 in /usr/local/lib/python3.7/dist-packages (from statsmodels->pgmpy) (0.5.2)\n",
            "Requirement already satisfied: typing-extensions in /usr/local/lib/python3.7/dist-packages (from torch->pgmpy) (4.1.1)\n"
          ]
        }
      ]
    },
    {
      "cell_type": "code",
      "source": [
        "from pgmpy.models import BayesianNetwork\n",
        "\n",
        "alarm_model = BayesianNetwork(\n",
        "    [\n",
        "        (\"Burglary\", \"Alarm\"),\n",
        "        (\"Earthquake\", \"Alarm\"),\n",
        "        (\"Alarm\", \"JohnCalls\"),\n",
        "        (\"Alarm\", \"MaryCalls\"),\n",
        "    ]\n",
        ")\n",
        "\n",
        "# Defining the parameters using CPT\n",
        "from pgmpy.factors.discrete import TabularCPD\n",
        "\n",
        "cpd_burglary = TabularCPD(\n",
        "    variable=\"Burglary\", variable_card=2, values=[[0.999], [0.001]]\n",
        ")\n",
        "cpd_earthquake = TabularCPD(\n",
        "    variable=\"Earthquake\", variable_card=2, values=[[0.998], [0.002]]\n",
        ")\n",
        "cpd_alarm = TabularCPD(\n",
        "    variable=\"Alarm\",\n",
        "    variable_card=2,\n",
        "    values=[[0.999, 0.71, 0.06, 0.05], [0.001, 0.29, 0.94, 0.95]],\n",
        "    evidence=[\"Burglary\", \"Earthquake\"],\n",
        "    evidence_card=[2, 2],\n",
        ")\n",
        "cpd_johncalls = TabularCPD(\n",
        "    variable=\"JohnCalls\",\n",
        "    variable_card=2,\n",
        "    values=[[0.95, 0.1], [0.05, 0.9]],\n",
        "    evidence=[\"Alarm\"],\n",
        "    evidence_card=[2],\n",
        ")\n",
        "cpd_marycalls = TabularCPD(\n",
        "    variable=\"MaryCalls\",\n",
        "    variable_card=2,\n",
        "    values=[[0.1, 0.7], [0.9, 0.3]],\n",
        "    evidence=[\"Alarm\"],\n",
        "    evidence_card=[2],\n",
        ")\n",
        "\n",
        "# Associating the parameters with the model structure\n",
        "alarm_model.add_cpds(\n",
        "    cpd_burglary, cpd_earthquake, cpd_alarm, cpd_johncalls, cpd_marycalls\n",
        ")"
      ],
      "metadata": {
        "id": "QWRfkORhE1oH"
      },
      "execution_count": 4,
      "outputs": []
    },
    {
      "cell_type": "code",
      "source": [
        "alarm_model.get_independencies()"
      ],
      "metadata": {
        "id": "NDkuUR_pFJSE",
        "outputId": "134ed03e-b4bc-40e7-faa4-ed1d61526c98",
        "colab": {
          "base_uri": "https://localhost:8080/"
        }
      },
      "execution_count": 5,
      "outputs": [
        {
          "output_type": "execute_result",
          "data": {
            "text/plain": [
              "(JohnCalls ⟂ MaryCalls, Burglary, Earthquake | Alarm)\n",
              "(JohnCalls ⟂ Burglary, Earthquake | MaryCalls, Alarm)\n",
              "(JohnCalls ⟂ MaryCalls, Burglary | Alarm, Earthquake)\n",
              "(JohnCalls ⟂ MaryCalls, Earthquake | Alarm, Burglary)\n",
              "(JohnCalls ⟂ Burglary | MaryCalls, Alarm, Earthquake)\n",
              "(JohnCalls ⟂ Earthquake | MaryCalls, Alarm, Burglary)\n",
              "(JohnCalls ⟂ MaryCalls | Alarm, Earthquake, Burglary)\n",
              "(MaryCalls ⟂ JohnCalls, Burglary, Earthquake | Alarm)\n",
              "(MaryCalls ⟂ Burglary, Earthquake | JohnCalls, Alarm)\n",
              "(MaryCalls ⟂ JohnCalls, Burglary | Alarm, Earthquake)\n",
              "(MaryCalls ⟂ JohnCalls, Earthquake | Alarm, Burglary)\n",
              "(MaryCalls ⟂ Burglary | JohnCalls, Alarm, Earthquake)\n",
              "(MaryCalls ⟂ Earthquake | JohnCalls, Alarm, Burglary)\n",
              "(MaryCalls ⟂ JohnCalls | Alarm, Earthquake, Burglary)\n",
              "(Burglary ⟂ Earthquake)\n",
              "(Burglary ⟂ JohnCalls, MaryCalls | Alarm)\n",
              "(Burglary ⟂ MaryCalls | JohnCalls, Alarm)\n",
              "(Burglary ⟂ JohnCalls | MaryCalls, Alarm)\n",
              "(Burglary ⟂ JohnCalls, MaryCalls | Alarm, Earthquake)\n",
              "(Burglary ⟂ MaryCalls | JohnCalls, Alarm, Earthquake)\n",
              "(Burglary ⟂ JohnCalls | MaryCalls, Alarm, Earthquake)\n",
              "(Earthquake ⟂ Burglary)\n",
              "(Earthquake ⟂ JohnCalls, MaryCalls | Alarm)\n",
              "(Earthquake ⟂ MaryCalls | JohnCalls, Alarm)\n",
              "(Earthquake ⟂ JohnCalls | MaryCalls, Alarm)\n",
              "(Earthquake ⟂ JohnCalls, MaryCalls | Alarm, Burglary)\n",
              "(Earthquake ⟂ MaryCalls | JohnCalls, Alarm, Burglary)\n",
              "(Earthquake ⟂ JohnCalls | MaryCalls, Alarm, Burglary)"
            ]
          },
          "metadata": {},
          "execution_count": 5
        }
      ]
    },
    {
      "cell_type": "code",
      "source": [
        "from pgmpy.inference import VariableElimination\n",
        "\n",
        "infer = VariableElimination(alarm_model)\n",
        "e_dist = infer.query(['Earthquake'])\n",
        "print(e_dist)"
      ],
      "metadata": {
        "id": "D1zjr16mFfUQ",
        "outputId": "ff736667-0c63-47c5-ac2a-c409c35ef22b",
        "colab": {
          "base_uri": "https://localhost:8080/",
          "height": 200,
          "referenced_widgets": [
            "d75abef92efb4030ae8cc06d2bb1c0a6",
            "a99e0aaec8e249aaaf97cd665bc2f0bf",
            "3ba7878ea2ec4974869416d8cd15b5d2",
            "2cb185fa139b4f92b32f777507e36c5e",
            "cf3aa46f2ae84d76a06b1cd09fd3daab",
            "819daa58184145a886ab1793db36517e",
            "4b682dc68cce45f59499bc58748f31b9",
            "a600ef5371c24c6887714160a6f875ce",
            "c827a375db96490cad2337b8e96fa297",
            "50ea43a80c8f45d8a6bc97b44863cf69",
            "8564adba793a4e0d999fb79090fc0fdb",
            "bbb0d6d4030d4d1b8989327377cb7236",
            "936b17ca4997418583368fee8aeb49b7",
            "09ec3e7e12bc40448aca75ce68fd93b3",
            "d8974a1e1ca4415682723dd76d97d25d",
            "59d67c1b236b4a7685d6066306465741",
            "71744543e33541c9ae4384523cbe9292",
            "a7183d4bd46b446bb09e3b7d1fa82697",
            "960dc8b0c6a348be84674a535c088f52",
            "64564c0f3b5741c79c073dd54ec08403",
            "eeaf9bec4d8b4cbab55f63b8a63490f9",
            "163785864fe14f40a5bfd7279212be52"
          ]
        }
      },
      "execution_count": 6,
      "outputs": [
        {
          "output_type": "display_data",
          "data": {
            "text/plain": [
              "0it [00:00, ?it/s]"
            ],
            "application/vnd.jupyter.widget-view+json": {
              "version_major": 2,
              "version_minor": 0,
              "model_id": "d75abef92efb4030ae8cc06d2bb1c0a6"
            }
          },
          "metadata": {}
        },
        {
          "output_type": "display_data",
          "data": {
            "text/plain": [
              "0it [00:00, ?it/s]"
            ],
            "application/vnd.jupyter.widget-view+json": {
              "version_major": 2,
              "version_minor": 0,
              "model_id": "bbb0d6d4030d4d1b8989327377cb7236"
            }
          },
          "metadata": {}
        },
        {
          "output_type": "stream",
          "name": "stdout",
          "text": [
            "+---------------+-------------------+\n",
            "| Earthquake    |   phi(Earthquake) |\n",
            "+===============+===================+\n",
            "| Earthquake(0) |            0.9980 |\n",
            "+---------------+-------------------+\n",
            "| Earthquake(1) |            0.0020 |\n",
            "+---------------+-------------------+\n"
          ]
        }
      ]
    },
    {
      "cell_type": "code",
      "source": [
        "ea_dist = infer.query(['Earthquake'],evidence={'Alarm': 1})\n",
        "print(ea_dist)"
      ],
      "metadata": {
        "id": "WQpil8w9GOlf",
        "outputId": "d99bfdc7-9267-43f0-ce63-1383c987c819",
        "colab": {
          "base_uri": "https://localhost:8080/",
          "height": 200,
          "referenced_widgets": [
            "6e5ba2a820fe4bf8a6c42185a673f55c",
            "0f0c46a10bc94c54a791336b6a43edb8",
            "68b0ac82c22b4edab1afbce52855eb66",
            "3f0d8e6eec824264a9f3c3012cc70f06",
            "ab36286fc8e94673b3dee328c594ab7d",
            "201ca3c52ee74c6fb9739df42e1f27ae",
            "2f3eed3b0b8a479ba942673937cf3149",
            "1cb480e406f0412fa77c00cf7262744a",
            "7717d0e78aa94f5b8ab49d4cab4348cf",
            "b57fd36305b04f8eb0a7942193433c07",
            "2de91909880942bd877c8150396259d1",
            "3f166205e73446af8ddcb94b7d1302d3",
            "50857aecc74943c59ddc7c2e5fb8b264",
            "074b2b711f24455ca4e742c14b1247ef",
            "ec069f4c6e4644a983c28254c830753d",
            "8b883d44a60241bb881847655455331b",
            "01223ab1c4db4975a02d75f240810b7a",
            "40c6e5ef531d46a7b2934d828d177892",
            "6820bc7fe6564c2a8f1b8d06f5ec568c",
            "3221f2dfdb6c4b72ad99cc4f6b2f271f",
            "45483c9dcf27439b9d1037a3b000d0af",
            "b80ce1b04d534d35a390b10f9f791409"
          ]
        }
      },
      "execution_count": 13,
      "outputs": [
        {
          "output_type": "display_data",
          "data": {
            "text/plain": [
              "  0%|          | 0/1 [00:00<?, ?it/s]"
            ],
            "application/vnd.jupyter.widget-view+json": {
              "version_major": 2,
              "version_minor": 0,
              "model_id": "6e5ba2a820fe4bf8a6c42185a673f55c"
            }
          },
          "metadata": {}
        },
        {
          "output_type": "display_data",
          "data": {
            "text/plain": [
              "  0%|          | 0/1 [00:00<?, ?it/s]"
            ],
            "application/vnd.jupyter.widget-view+json": {
              "version_major": 2,
              "version_minor": 0,
              "model_id": "3f166205e73446af8ddcb94b7d1302d3"
            }
          },
          "metadata": {}
        },
        {
          "output_type": "stream",
          "name": "stdout",
          "text": [
            "+---------------+-------------------+\n",
            "| Earthquake    |   phi(Earthquake) |\n",
            "+===============+===================+\n",
            "| Earthquake(0) |            0.7690 |\n",
            "+---------------+-------------------+\n",
            "| Earthquake(1) |            0.2310 |\n",
            "+---------------+-------------------+\n"
          ]
        }
      ]
    },
    {
      "cell_type": "code",
      "source": [
        "eab_dist = infer.query(['Earthquake'],evidence={'Alarm': 1,'Burglary':0})\n",
        "print(eab_dist)"
      ],
      "metadata": {
        "id": "_eOc3ZhRGojb",
        "outputId": "81f4e0cb-31a6-4674-c769-d3a8853425c0",
        "colab": {
          "base_uri": "https://localhost:8080/",
          "height": 200,
          "referenced_widgets": [
            "627c02d98a7f4cb9b92d236170d3ccd6",
            "f397be6828de4a5a90ec41f7fd5f5c51",
            "a90c6104103f49ed93e92821b2269d2a",
            "25cf7f90e0fc4d46b1e71dcf0a5d2839",
            "a69b568d6c1c4c8aa1125eab904ec0a3",
            "cacdde64e0014065ae587df4b65c6f47",
            "5d6e20dda5534a39960955e284f9d4dd",
            "923d2065bf00418b8d8fef90367646e3",
            "bbc55ede2bd44319b18371a680d51c60",
            "8f4dcd48b4674b8cb23d785941e7ac9c",
            "e03b138240164aa4bd6f38e57e0e731a",
            "3ad395908ad1474997be3225cd5343a0",
            "15ef77a511434156804aa734c6147db6",
            "0cdc90fa689f4d9a94714a72f5153ffc",
            "315c462dbcd741a3aaf2ce5e1851d22e",
            "32e7f7c0f2be4132a0bf9f1d83739065",
            "65c6c82262144eb9ad2d18e13b669e8d",
            "1b99cb9c49e945be9aa157b41c05198e",
            "dbc1663a600f4e4fb675e272ae70fe1b",
            "554df0482ec34f9b8293b8d06ee519af",
            "fdbba330f45140c39654b037c9ae2e4f",
            "90fc0049b99140a893a023baf4a4c1c8"
          ]
        }
      },
      "execution_count": 14,
      "outputs": [
        {
          "output_type": "display_data",
          "data": {
            "text/plain": [
              "0it [00:00, ?it/s]"
            ],
            "application/vnd.jupyter.widget-view+json": {
              "version_major": 2,
              "version_minor": 0,
              "model_id": "627c02d98a7f4cb9b92d236170d3ccd6"
            }
          },
          "metadata": {}
        },
        {
          "output_type": "display_data",
          "data": {
            "text/plain": [
              "0it [00:00, ?it/s]"
            ],
            "application/vnd.jupyter.widget-view+json": {
              "version_major": 2,
              "version_minor": 0,
              "model_id": "3ad395908ad1474997be3225cd5343a0"
            }
          },
          "metadata": {}
        },
        {
          "output_type": "stream",
          "name": "stdout",
          "text": [
            "+---------------+-------------------+\n",
            "| Earthquake    |   phi(Earthquake) |\n",
            "+===============+===================+\n",
            "| Earthquake(0) |            0.6324 |\n",
            "+---------------+-------------------+\n",
            "| Earthquake(1) |            0.3676 |\n",
            "+---------------+-------------------+\n"
          ]
        }
      ]
    },
    {
      "cell_type": "markdown",
      "metadata": {
        "id": "Vomm4VQpFAX6"
      },
      "source": [
        "1. En el caso más general, vamos a decir que dos grupos de variables están d-separadas si todas las rutas (no dirigidas) entre los nodos están bloqueadas (inactivas). \n",
        "\n",
        "2. Una tripleta inactiva bloquea la información entre los dos nodos. \n",
        "\n",
        "3. Una ruta está activa si todas las tripletas que se encuentran a lo largo del camino se encuentran inactivas. "
      ]
    },
    {
      "cell_type": "code",
      "execution_count": 15,
      "metadata": {
        "colab": {
          "base_uri": "https://localhost:8080/"
        },
        "id": "7wBL2I2CFAX6",
        "outputId": "0c17c507-5ebd-4d86-fe03-11f794a92b71"
      },
      "outputs": [
        {
          "output_type": "stream",
          "name": "stdout",
          "text": [
            "['E', 'A', 'J']\n"
          ]
        }
      ],
      "source": [
        "for path in nx.all_simple_paths(G.to_undirected(), source='E', target='J'):\n",
        "    print(path)"
      ]
    },
    {
      "cell_type": "code",
      "execution_count": null,
      "metadata": {
        "colab": {
          "base_uri": "https://localhost:8080/",
          "height": 319
        },
        "id": "_NZRtGABFAX-",
        "outputId": "c131f0b5-0bbb-4267-8de5-6041a5ef43bb"
      },
      "outputs": [
        {
          "data": {
            "image/png": "[encoded data removed]",
            "text/plain": [
              "<Figure size 432x288 with 1 Axes>"
            ]
          },
          "metadata": {
            "tags": []
          },
          "output_type": "display_data"
        }
      ],
      "source": [
        "G2=nx.DiGraph()\n",
        "G2.add_edges_from([('U','W'),('V','W'),('W','Y'),('X','Y'),\n",
        "                 ('V','X'),('V','T'),('T','Z')])\n",
        "pos={'U': (0,0),'V':(1,0),'W': (0,-1),'X': (1,-1),\n",
        "     'Y':(-0.5,-2),'T':(2,-1),'Z':(2,-2)}\n",
        "nx.draw(G2,pos=pos,node_size=500)\n",
        "nx.draw_networkx_labels(G2,pos)\n",
        "plt.show()"
      ]
    },
    {
      "cell_type": "code",
      "execution_count": null,
      "metadata": {
        "colab": {
          "base_uri": "https://localhost:8080/",
          "height": 53
        },
        "id": "Ygi5SDijFAYC",
        "outputId": "7baa754f-529a-4457-dd15-e3e2cbd18368"
      },
      "outputs": [
        {
          "name": "stdout",
          "output_type": "stream",
          "text": [
            "ruta :  ['U', 'W', 'Y', 'X', 'V']\n",
            "ruta :  ['U', 'W', 'V']\n"
          ]
        }
      ],
      "source": [
        "for path in nx.all_simple_paths(G2.to_undirected(), source='U', target='V'):\n",
        "    print('ruta : ',path)\n",
        "    \n"
      ]
    },
    {
      "cell_type": "code",
      "execution_count": null,
      "metadata": {
        "colab": {
          "base_uri": "https://localhost:8080/",
          "height": 71
        },
        "id": "YLMZ7vuaQGkG",
        "outputId": "fb115c46-bf90-4602-fab0-cb6a2aa616ca"
      },
      "outputs": [
        {
          "name": "stdout",
          "output_type": "stream",
          "text": [
            "U _|_ V   :  True\n",
            "U _|_ V| Y:  False\n",
            "U _|_ V| X:  True\n"
          ]
        }
      ],
      "source": [
        "print('U _|_ V   : ',d_separated(G2,{'U'},{'V'},{}))\n",
        "\n",
        "print('U _|_ V| Y: ',d_separated(G2,{'U'},{'V'},{'Y'}))\n",
        "\n",
        "print('U _|_ V| X: ',d_separated(G2,{'U'},{'V'},{'X'}))"
      ]
    },
    {
      "cell_type": "code",
      "execution_count": null,
      "metadata": {
        "colab": {
          "base_uri": "https://localhost:8080/",
          "height": 53
        },
        "id": "c8RDeEEYFV48",
        "outputId": "b31bc371-44a7-4077-b025-d3dc8d90d130"
      },
      "outputs": [
        {
          "name": "stdout",
          "output_type": "stream",
          "text": [
            "ruta :  ['Y', 'W', 'V', 'T', 'Z']\n",
            "ruta :  ['Y', 'X', 'V', 'T', 'Z']\n"
          ]
        }
      ],
      "source": [
        "for path in nx.all_simple_paths(G2.to_undirected(), source='Y', target='Z'):\n",
        "    print('ruta : ',path)"
      ]
    },
    {
      "cell_type": "code",
      "execution_count": null,
      "metadata": {
        "colab": {
          "base_uri": "https://localhost:8080/",
          "height": 35
        },
        "id": "gwQ_lHfwSU4_",
        "outputId": "b9a26e64-e5a5-4134-8f72-46945099e528"
      },
      "outputs": [
        {
          "name": "stdout",
          "output_type": "stream",
          "text": [
            "Y _|_ Z   :  False\n"
          ]
        }
      ],
      "source": [
        "print('Y _|_ Z   : ',d_separated(G2,{'Y'},{'Z'},{}))"
      ]
    },
    {
      "cell_type": "code",
      "execution_count": null,
      "metadata": {
        "colab": {
          "base_uri": "https://localhost:8080/",
          "height": 35
        },
        "id": "-2jtuS-2Sfys",
        "outputId": "6b7344c9-919d-4f0c-d623-8f74ed25082e"
      },
      "outputs": [
        {
          "name": "stdout",
          "output_type": "stream",
          "text": [
            "Y _|_ Z  | T :  True\n"
          ]
        }
      ],
      "source": [
        "print('Y _|_ Z  | T : ',d_separated(G2,{'Y'},{'Z'},{'T'}))"
      ]
    },
    {
      "cell_type": "markdown",
      "metadata": {
        "id": "bs3FIanPeZdN"
      },
      "source": [
        "# Red Asia"
      ]
    },
    {
      "cell_type": "code",
      "execution_count": null,
      "metadata": {
        "colab": {
          "base_uri": "https://localhost:8080/",
          "height": 319
        },
        "id": "FbbJSqzWVv2R",
        "outputId": "85c76e3c-4eaf-43b0-cda9-71386c61a119"
      },
      "outputs": [
        {
          "data": {
            "image/png": "[encoded data removed]",
            "text/plain": [
              "<Figure size 432x288 with 1 Axes>"
            ]
          },
          "metadata": {
            "tags": []
          },
          "output_type": "display_data"
        }
      ],
      "source": [
        "G3=nx.DiGraph()\n",
        "G3.add_edges_from([('A','T'),('S','L'),('S','B'),('L','E'),\n",
        "                 ('T','E'),('E','X'),('E','D'),('B','D')])\n",
        "pos={'A': (0,0),'S':(1.5,0),'T': (0,-1),'L': (1,-1),\n",
        "     'B':(2,-1),'E':(0.5,-2),'X':(0,-3),'D':(2,-3)}\n",
        "nx.draw(G3,pos=pos,node_size=500)\n",
        "nx.draw_networkx_labels(G3,pos)\n",
        "plt.show()"
      ]
    },
    {
      "cell_type": "code",
      "execution_count": null,
      "metadata": {
        "colab": {
          "base_uri": "https://localhost:8080/",
          "height": 53
        },
        "id": "r40YaToRXJoc",
        "outputId": "19002c08-4039-4480-885c-61365c3357ea"
      },
      "outputs": [
        {
          "name": "stdout",
          "output_type": "stream",
          "text": [
            "ruta :  ['T', 'E', 'L', 'S']\n",
            "ruta :  ['T', 'E', 'D', 'B', 'S']\n"
          ]
        }
      ],
      "source": [
        "for path in nx.all_simple_paths(G3.to_undirected(), source='T', target='S'):\n",
        "    print('ruta : ',path)"
      ]
    },
    {
      "cell_type": "code",
      "execution_count": null,
      "metadata": {
        "colab": {
          "base_uri": "https://localhost:8080/",
          "height": 53
        },
        "id": "TcCzfVy9Xw40",
        "outputId": "17d8b42a-714b-4b4f-95cf-19483841b595"
      },
      "outputs": [
        {
          "name": "stdout",
          "output_type": "stream",
          "text": [
            "ruta :  ['L', 'S', 'B']\n",
            "ruta :  ['L', 'E', 'D', 'B']\n"
          ]
        }
      ],
      "source": [
        "for path in nx.all_simple_paths(G3.to_undirected(), source='L', target='B'):\n",
        "    print('ruta : ',path)"
      ]
    },
    {
      "cell_type": "code",
      "execution_count": null,
      "metadata": {
        "colab": {
          "base_uri": "https://localhost:8080/",
          "height": 89
        },
        "id": "xiDr67_YXUad",
        "outputId": "29336ba0-f3b0-4688-fa19-c7d7386ef58c"
      },
      "outputs": [
        {
          "name": "stdout",
          "output_type": "stream",
          "text": [
            "T _|_ S  | D :  False\n",
            "L _|_ B  | S :  True\n",
            "A _|_ S  | L :  True\n",
            "A _|_ S  | L , D:  False\n"
          ]
        }
      ],
      "source": [
        "# Red Asia\n",
        "\n",
        "# Libro \"Bayesian Reasoning and Machine Learning, p. 51\"\n",
        "\n",
        "print('T _|_ S  | D : ',d_separated(G3,{'T'},{'S'},{'D'}))\n",
        "\n",
        "print('L _|_ B  | S : ',d_separated(G3,{'L'},{'B'},{'S'}))\n",
        "\n",
        "print('A _|_ S  | L : ',d_separated(G3,{'A'},{'S'},{'L'}))\n",
        "\n",
        "print('A _|_ S  | L , D: ',d_separated(G3,{'A'},{'S'},{'L','D'}))"
      ]
    },
    {
      "cell_type": "markdown",
      "metadata": {
        "id": "izFqv5sZfw5R"
      },
      "source": [
        "# Red Asia Usando PGMPY"
      ]
    },
    {
      "cell_type": "code",
      "execution_count": null,
      "metadata": {
        "colab": {
          "base_uri": "https://localhost:8080/",
          "height": 577
        },
        "id": "-gLu3x2LeiTd",
        "outputId": "c9aafd4a-3d39-43b0-a8b8-14c675412eeb"
      },
      "outputs": [
        {
          "name": "stdout",
          "output_type": "stream",
          "text": [
            "Collecting pgmpy\n",
            "\u001b[?25l  Downloading https://files.pythonhosted.org/packages/22/16/e2edff21fca7a2cacaedd293caaaae5eaea832af0dd347c1159b4455be6b/pgmpy-0.1.12-py3-none-any.whl (322kB)\n",
            "\r",
            "\u001b[K     |█                               | 10kB 14.5MB/s eta 0:00:01\r",
            "\u001b[K     |██                              | 20kB 5.1MB/s eta 0:00:01\r",
            "\u001b[K     |███                             | 30kB 6.4MB/s eta 0:00:01\r",
            "\u001b[K     |████                            | 40kB 7.2MB/s eta 0:00:01\r",
            "\u001b[K     |█████                           | 51kB 5.6MB/s eta 0:00:01\r",
            "\u001b[K     |██████                          | 61kB 6.4MB/s eta 0:00:01\r",
            "\u001b[K     |███████                         | 71kB 6.7MB/s eta 0:00:01\r",
            "\u001b[K     |████████▏                       | 81kB 7.5MB/s eta 0:00:01\r",
            "\u001b[K     |█████████▏                      | 92kB 8.1MB/s eta 0:00:01\r",
            "\u001b[K     |██████████▏                     | 102kB 7.5MB/s eta 0:00:01\r",
            "\u001b[K     |███████████▏                    | 112kB 7.5MB/s eta 0:00:01\r",
            "\u001b[K     |████████████▏                   | 122kB 7.5MB/s eta 0:00:01\r",
            "\u001b[K     |█████████████▏                  | 133kB 7.5MB/s eta 0:00:01\r",
            "\u001b[K     |██████████████▏                 | 143kB 7.5MB/s eta 0:00:01\r",
            "\u001b[K     |███████████████▏                | 153kB 7.5MB/s eta 0:00:01\r",
            "\u001b[K     |████████████████▎               | 163kB 7.5MB/s eta 0:00:01\r",
            "\u001b[K     |█████████████████▎              | 174kB 7.5MB/s eta 0:00:01\r",
            "\u001b[K     |██████████████████▎             | 184kB 7.5MB/s eta 0:00:01\r",
            "\u001b[K     |███████████████████▎            | 194kB 7.5MB/s eta 0:00:01\r",
            "\u001b[K     |████████████████████▎           | 204kB 7.5MB/s eta 0:00:01\r",
            "\u001b[K     |█████████████████████▎          | 215kB 7.5MB/s eta 0:00:01\r",
            "\u001b[K     |██████████████████████▎         | 225kB 7.5MB/s eta 0:00:01\r",
            "\u001b[K     |███████████████████████▍        | 235kB 7.5MB/s eta 0:00:01\r",
            "\u001b[K     |████████████████████████▍       | 245kB 7.5MB/s eta 0:00:01\r",
            "\u001b[K     |█████████████████████████▍      | 256kB 7.5MB/s eta 0:00:01\r",
            "\u001b[K     |██████████████████████████▍     | 266kB 7.5MB/s eta 0:00:01\r",
            "\u001b[K     |███████████████████████████▍    | 276kB 7.5MB/s eta 0:00:01\r",
            "\u001b[K     |████████████████████████████▍   | 286kB 7.5MB/s eta 0:00:01\r",
            "\u001b[K     |█████████████████████████████▍  | 296kB 7.5MB/s eta 0:00:01\r",
            "\u001b[K     |██████████████████████████████▍ | 307kB 7.5MB/s eta 0:00:01\r",
            "\u001b[K     |███████████████████████████████▌| 317kB 7.5MB/s eta 0:00:01\r",
            "\u001b[K     |████████████████████████████████| 327kB 7.5MB/s \n",
            "\u001b[?25hRequirement already satisfied: statsmodels in /usr/local/lib/python3.6/dist-packages (from pgmpy) (0.10.2)\n",
            "Requirement already satisfied: numpy in /usr/local/lib/python3.6/dist-packages (from pgmpy) (1.18.5)\n",
            "Requirement already satisfied: torch in /usr/local/lib/python3.6/dist-packages (from pgmpy) (1.6.0+cu101)\n",
            "Requirement already satisfied: joblib in /usr/local/lib/python3.6/dist-packages (from pgmpy) (0.16.0)\n",
            "Requirement already satisfied: scikit-learn in /usr/local/lib/python3.6/dist-packages (from pgmpy) (0.22.2.post1)\n",
            "Requirement already satisfied: scipy in /usr/local/lib/python3.6/dist-packages (from pgmpy) (1.4.1)\n",
            "Requirement already satisfied: tqdm in /usr/local/lib/python3.6/dist-packages (from pgmpy) (4.41.1)\n",
            "Requirement already satisfied: networkx in /usr/local/lib/python3.6/dist-packages (from pgmpy) (2.5)\n",
            "Requirement already satisfied: pyparsing in /usr/local/lib/python3.6/dist-packages (from pgmpy) (2.4.7)\n",
            "Requirement already satisfied: pandas in /usr/local/lib/python3.6/dist-packages (from pgmpy) (1.1.2)\n",
            "Requirement already satisfied: patsy>=0.4.0 in /usr/local/lib/python3.6/dist-packages (from statsmodels->pgmpy) (0.5.1)\n",
            "Requirement already satisfied: future in /usr/local/lib/python3.6/dist-packages (from torch->pgmpy) (0.16.0)\n",
            "Requirement already satisfied: decorator>=4.3.0 in /usr/local/lib/python3.6/dist-packages (from networkx->pgmpy) (4.4.2)\n",
            "Requirement already satisfied: python-dateutil>=2.7.3 in /usr/local/lib/python3.6/dist-packages (from pandas->pgmpy) (2.8.1)\n",
            "Requirement already satisfied: pytz>=2017.2 in /usr/local/lib/python3.6/dist-packages (from pandas->pgmpy) (2018.9)\n",
            "Requirement already satisfied: six in /usr/local/lib/python3.6/dist-packages (from patsy>=0.4.0->statsmodels->pgmpy) (1.15.0)\n",
            "Installing collected packages: pgmpy\n",
            "Successfully installed pgmpy-0.1.12\n",
            "Collecting wget\n",
            "  Downloading https://files.pythonhosted.org/packages/47/6a/62e288da7bcda82b935ff0c6cfe542970f04e29c756b0e147251b2fb251f/wget-3.2.zip\n",
            "Building wheels for collected packages: wget\n",
            "  Building wheel for wget (setup.py) ... \u001b[?25l\u001b[?25hdone\n",
            "  Created wheel for wget: filename=wget-3.2-cp36-none-any.whl size=9682 sha256=38e4012ecd798acbc160811ffda2fe1e7678115efa47c7ce1df04fee9e674c13\n",
            "  Stored in directory: /root/.cache/pip/wheels/40/15/30/7d8f7cea2902b4db79e3fea550d7d7b85ecb27ef992b618f3f\n",
            "Successfully built wget\n",
            "Installing collected packages: wget\n",
            "Successfully installed wget-3.2\n"
          ]
        }
      ],
      "source": [
        "! pip install --user pgmpy\n",
        "! pip install --user  wget"
      ]
    },
    {
      "cell_type": "code",
      "execution_count": null,
      "metadata": {
        "id": "6m6e1J0bkuv8"
      },
      "outputs": [],
      "source": [
        "from pgmpy.models import BayesianModel\n",
        "\n",
        "model = BayesianModel([('C', 'E'),\n",
        "                              ('E', 'F'),\n",
        "                              ('E', 'D')])"
      ]
    },
    {
      "cell_type": "code",
      "execution_count": null,
      "metadata": {
        "id": "85tryoJyk-lU"
      },
      "outputs": [],
      "source": [
        "from pgmpy.factors.discrete import TabularCPD\n",
        "\n",
        "cpd_c = TabularCPD(variable='C', variable_card=2,\n",
        "                      values=[[0.8], [0.2]])\n",
        "\n",
        "cpd_e = TabularCPD(variable='E', variable_card=2,\n",
        "                      values=[[0.9, 0.7], [0.1, 0.3]],\n",
        "                      evidence=['C'], evidence_card=[2])\n",
        "\n",
        "cpd_f = TabularCPD(variable='F', variable_card=2,\n",
        "                      values=[[0.9, 0.5], [0.1, 0.5]],\n",
        "                      evidence=['E'], evidence_card=[2])\n",
        "\n",
        "cpd_d = TabularCPD(variable='D', variable_card=2,\n",
        "                      values=[[0.7, 0.4], [0.3, 0.6]],\n",
        "                      evidence=['E'], evidence_card=[2])\n"
      ]
    },
    {
      "cell_type": "code",
      "execution_count": null,
      "metadata": {
        "colab": {
          "base_uri": "https://localhost:8080/",
          "height": 35
        },
        "id": "5X-1-ColmFuu",
        "outputId": "ed2374e4-c3cb-4771-d32a-3185d3fbd5bf"
      },
      "outputs": [
        {
          "data": {
            "text/plain": [
              "True"
            ]
          },
          "execution_count": 23,
          "metadata": {
            "tags": []
          },
          "output_type": "execute_result"
        }
      ],
      "source": [
        "model.add_cpds(cpd_c,cpd_e,cpd_f,cpd_d)\n",
        "\n",
        "# Checking if the cpds are valid for the model.\n",
        "model.check_model()"
      ]
    },
    {
      "cell_type": "code",
      "execution_count": null,
      "metadata": {
        "colab": {
          "base_uri": "https://localhost:8080/",
          "height": 107
        },
        "id": "nNY8W3KdmqZi",
        "outputId": "03c4da92-4c7e-4f7f-e90a-a61b2702e00b"
      },
      "outputs": [
        {
          "name": "stdout",
          "output_type": "stream",
          "text": [
            "+------+-----+\n",
            "| C(0) | 0.8 |\n",
            "+------+-----+\n",
            "| C(1) | 0.2 |\n",
            "+------+-----+\n"
          ]
        }
      ],
      "source": [
        "q=model.get_cpds(node='C')\n",
        "print(q)"
      ]
    },
    {
      "cell_type": "code",
      "execution_count": null,
      "metadata": {
        "colab": {
          "base_uri": "https://localhost:8080/",
          "height": 143
        },
        "id": "A0reClE6nUiN",
        "outputId": "6ed3004b-1cee-43a9-9b33-cf0161f9b4a9"
      },
      "outputs": [
        {
          "name": "stdout",
          "output_type": "stream",
          "text": [
            "+------+------+------+\n",
            "| E    | E(0) | E(1) |\n",
            "+------+------+------+\n",
            "| D(0) | 0.7  | 0.4  |\n",
            "+------+------+------+\n",
            "| D(1) | 0.3  | 0.6  |\n",
            "+------+------+------+\n"
          ]
        }
      ],
      "source": [
        "q=model.get_cpds(node='D')\n",
        "print(q)"
      ]
    },
    {
      "cell_type": "code",
      "execution_count": null,
      "metadata": {
        "id": "wAgdltuQon7Q"
      },
      "outputs": [],
      "source": [
        "from pgmpy.inference import VariableElimination\n",
        "\n",
        "infer = VariableElimination(model)"
      ]
    },
    {
      "cell_type": "code",
      "execution_count": null,
      "metadata": {
        "colab": {
          "base_uri": "https://localhost:8080/",
          "height": 179
        },
        "id": "ks0vBVYHozxJ",
        "outputId": "31da4d32-1807-40f9-cdfe-34d5f98768ce"
      },
      "outputs": [
        {
          "name": "stderr",
          "output_type": "stream",
          "text": [
            "Finding Elimination Order: : 100%|██████████| 3/3 [00:00<00:00, 2676.65it/s]\n",
            "Eliminating: F: 100%|██████████| 3/3 [00:00<00:00, 293.36it/s]"
          ]
        },
        {
          "name": "stdout",
          "output_type": "stream",
          "text": [
            "+------+----------+\n",
            "| E    |   phi(E) |\n",
            "+======+==========+\n",
            "| E(0) |   0.8600 |\n",
            "+------+----------+\n",
            "| E(1) |   0.1400 |\n",
            "+------+----------+\n"
          ]
        },
        {
          "name": "stderr",
          "output_type": "stream",
          "text": [
            "\n"
          ]
        }
      ],
      "source": [
        "q = infer.query(variables=['E'], evidence={}, joint=False)\n",
        "for factor in q.values():\n",
        "    print(factor)"
      ]
    },
    {
      "cell_type": "code",
      "execution_count": null,
      "metadata": {
        "colab": {
          "base_uri": "https://localhost:8080/",
          "height": 179
        },
        "id": "R9Bp4Qojp8hW",
        "outputId": "a9a1fddb-43ef-43d5-bb6e-ad8fc565d9f8"
      },
      "outputs": [
        {
          "name": "stderr",
          "output_type": "stream",
          "text": [
            "Finding Elimination Order: : 100%|██████████| 2/2 [00:00<00:00, 409.72it/s]\n",
            "Eliminating: F: 100%|██████████| 2/2 [00:00<00:00, 429.06it/s]"
          ]
        },
        {
          "name": "stdout",
          "output_type": "stream",
          "text": [
            "+------+----------+\n",
            "| E    |   phi(E) |\n",
            "+======+==========+\n",
            "| E(0) |   0.7544 |\n",
            "+------+----------+\n",
            "| E(1) |   0.2456 |\n",
            "+------+----------+\n"
          ]
        },
        {
          "name": "stderr",
          "output_type": "stream",
          "text": [
            "\n"
          ]
        }
      ],
      "source": [
        "q = infer.query(variables=['E'], evidence={'D':1}, joint=False)\n",
        "for factor in q.values():\n",
        "    print(factor)"
      ]
    },
    {
      "cell_type": "code",
      "execution_count": null,
      "metadata": {
        "colab": {
          "base_uri": "https://localhost:8080/",
          "height": 179
        },
        "id": "VKXHza_Nymhi",
        "outputId": "67245d16-391e-41e2-f246-998c55c5187d"
      },
      "outputs": [
        {
          "name": "stderr",
          "output_type": "stream",
          "text": [
            "Finding Elimination Order: : 100%|██████████| 3/3 [00:00<00:00, 836.52it/s]\n",
            "Eliminating: F: 100%|██████████| 3/3 [00:00<00:00, 302.16it/s]"
          ]
        },
        {
          "name": "stdout",
          "output_type": "stream",
          "text": [
            "+------+----------+\n",
            "| C    |   phi(C) |\n",
            "+======+==========+\n",
            "| C(0) |   0.8000 |\n",
            "+------+----------+\n",
            "| C(1) |   0.2000 |\n",
            "+------+----------+\n"
          ]
        },
        {
          "name": "stderr",
          "output_type": "stream",
          "text": [
            "\n"
          ]
        }
      ],
      "source": [
        "q = infer.query(variables=['C'], evidence={}, joint=False)\n",
        "for factor in q.values():\n",
        "    print(factor)"
      ]
    },
    {
      "cell_type": "code",
      "execution_count": null,
      "metadata": {
        "id": "cMPfwvIlfw5S"
      },
      "outputs": [],
      "source": [
        "import wget\n",
        "import gzip\n",
        "f = wget.download('http://www.bnlearn.com/bnrepository/asia/asia.bif.gz')\n",
        "with gzip.open('asia.bif.gz', mode='rb') as f:\n",
        "    file_content=f.read()\n",
        "with open('asia.bif', mode='wb') as f:\n",
        "    f.write(file_content)"
      ]
    },
    {
      "cell_type": "code",
      "execution_count": null,
      "metadata": {
        "id": "YgEcODZRfw5V"
      },
      "outputs": [],
      "source": [
        "from pgmpy.readwrite import BIFReader\n",
        "reader = BIFReader('asia.bif')\n",
        "!rm asia.bif\n",
        "!rm asia.bif.gz\n",
        "model = reader.get_model()"
      ]
    },
    {
      "cell_type": "code",
      "execution_count": null,
      "metadata": {
        "id": "o4kdpxryfw5Y"
      },
      "outputs": [],
      "source": [
        "#reader=BIFReader('data/asia.bif')\n",
        "#model=reader.get_model()"
      ]
    },
    {
      "cell_type": "code",
      "execution_count": null,
      "metadata": {
        "colab": {
          "base_uri": "https://localhost:8080/",
          "height": 35
        },
        "id": "kwp0Ei9Hfw5b",
        "outputId": "4435f458-62ed-4076-e8a4-6e3c9fe8ca86"
      },
      "outputs": [
        {
          "data": {
            "text/plain": [
              "NodeView(('asia', 'tub', 'smoke', 'lung', 'bronc', 'either', 'xray', 'dysp'))"
            ]
          },
          "execution_count": 53,
          "metadata": {
            "tags": []
          },
          "output_type": "execute_result"
        }
      ],
      "source": [
        "model.nodes()"
      ]
    },
    {
      "cell_type": "code",
      "execution_count": null,
      "metadata": {
        "colab": {
          "base_uri": "https://localhost:8080/",
          "height": 35
        },
        "id": "0tOsjHoFfw5e",
        "outputId": "02a84734-4b08-4067-e102-da6b1cc1db75"
      },
      "outputs": [
        {
          "data": {
            "image/png": "data/asia.png",
            "text/plain": [
              "<IPython.core.display.Image object>"
            ]
          },
          "execution_count": 54,
          "metadata": {
            "tags": []
          },
          "output_type": "execute_result"
        }
      ],
      "source": [
        "from IPython.display import Image\n",
        "Image('data/asia.png')"
      ]
    },
    {
      "cell_type": "code",
      "execution_count": null,
      "metadata": {
        "colab": {
          "base_uri": "https://localhost:8080/",
          "height": 35
        },
        "id": "eg1qz7D2fw5g",
        "outputId": "940911f5-a3be-4bb7-db3e-e163ec487790"
      },
      "outputs": [
        {
          "data": {
            "text/plain": [
              "True"
            ]
          },
          "execution_count": 55,
          "metadata": {
            "tags": []
          },
          "output_type": "execute_result"
        }
      ],
      "source": [
        "model.is_active_trail('tub', 'smoke', observed='dysp')"
      ]
    },
    {
      "cell_type": "code",
      "execution_count": null,
      "metadata": {
        "colab": {
          "base_uri": "https://localhost:8080/",
          "height": 35
        },
        "id": "RfjqXOd_fw5l",
        "outputId": "683541b7-a460-42d8-f7b2-fc9fffb4492c"
      },
      "outputs": [
        {
          "data": {
            "text/plain": [
              "False"
            ]
          },
          "execution_count": 56,
          "metadata": {
            "tags": []
          },
          "output_type": "execute_result"
        }
      ],
      "source": [
        "model.is_active_trail('tub', 'smoke')"
      ]
    },
    {
      "cell_type": "code",
      "execution_count": null,
      "metadata": {
        "colab": {
          "base_uri": "https://localhost:8080/",
          "height": 35
        },
        "id": "nTLADvxpfw5p",
        "outputId": "41e08e65-a629-47d0-aeee-ad4bc2e32670"
      },
      "outputs": [
        {
          "data": {
            "text/plain": [
              "False"
            ]
          },
          "execution_count": 57,
          "metadata": {
            "tags": []
          },
          "output_type": "execute_result"
        }
      ],
      "source": [
        "model.is_active_trail('lung', 'bronc', observed='smoke')"
      ]
    },
    {
      "cell_type": "code",
      "execution_count": null,
      "metadata": {
        "colab": {
          "base_uri": "https://localhost:8080/",
          "height": 35
        },
        "id": "skp58s_rfw5r",
        "outputId": "4606dc42-e5b2-4379-8252-41acf84916d4"
      },
      "outputs": [
        {
          "data": {
            "text/plain": [
              "False"
            ]
          },
          "execution_count": 58,
          "metadata": {
            "tags": []
          },
          "output_type": "execute_result"
        }
      ],
      "source": [
        "model.is_active_trail('asia', 'smoke', observed='lung')"
      ]
    },
    {
      "cell_type": "code",
      "execution_count": null,
      "metadata": {
        "colab": {
          "base_uri": "https://localhost:8080/",
          "height": 35
        },
        "id": "4ykzJT3ffw5u",
        "outputId": "51361b44-56d7-49fc-ad94-5aebbc501101"
      },
      "outputs": [
        {
          "data": {
            "text/plain": [
              "True"
            ]
          },
          "execution_count": 59,
          "metadata": {
            "tags": []
          },
          "output_type": "execute_result"
        }
      ],
      "source": [
        "model.is_active_trail('asia', 'smoke', observed=['lung','dysp'])"
      ]
    },
    {
      "cell_type": "code",
      "execution_count": null,
      "metadata": {
        "colab": {
          "base_uri": "https://localhost:8080/",
          "height": 35
        },
        "id": "BNSRvIxgfw53",
        "outputId": "9c04c723-a100-4211-ed48-1f33b69885c8"
      },
      "outputs": [
        {
          "data": {
            "text/plain": [
              "True"
            ]
          },
          "execution_count": 62,
          "metadata": {
            "tags": []
          },
          "output_type": "execute_result"
        }
      ],
      "source": [
        "model.is_active_trail('lung', 'tub', observed='either')"
      ]
    },
    {
      "cell_type": "code",
      "execution_count": null,
      "metadata": {
        "colab": {
          "base_uri": "https://localhost:8080/",
          "height": 35
        },
        "id": "q8PJGeEKfw55",
        "outputId": "02b06f90-9611-407e-c860-ec5eb6110521"
      },
      "outputs": [
        {
          "data": {
            "text/plain": [
              "NodeView(('asia', 'tub', 'smoke', 'lung', 'bronc', 'either', 'xray', 'dysp'))"
            ]
          },
          "execution_count": 63,
          "metadata": {
            "tags": []
          },
          "output_type": "execute_result"
        }
      ],
      "source": [
        "model.nodes()"
      ]
    },
    {
      "cell_type": "code",
      "execution_count": null,
      "metadata": {
        "id": "dxq2MKHP1cHQ"
      },
      "outputs": [],
      "source": [
        "from pgmpy.inference import BeliefPropagation\n",
        "\n",
        "jtree=BeliefPropagation(model)"
      ]
    },
    {
      "cell_type": "code",
      "execution_count": null,
      "metadata": {
        "colab": {
          "base_uri": "https://localhost:8080/",
          "height": 71
        },
        "id": "I_Svjwkd11I3",
        "outputId": "74c8e3cd-661c-416a-9b72-c96de4c7cb67"
      },
      "outputs": [
        {
          "name": "stdout",
          "output_type": "stream",
          "text": [
            "('xray', 'tub', 'bronc', 'dysp', 'lung', 'either')\n",
            "('xray', 'tub', 'bronc', 'dysp', 'lung', 'smoke')\n",
            "('xray', 'tub', 'bronc', 'dysp', 'asia', 'smoke')\n"
          ]
        }
      ],
      "source": [
        "for clique in jtree.get_cliques():\n",
        "  print(clique)"
      ]
    },
    {
      "cell_type": "code",
      "execution_count": null,
      "metadata": {
        "colab": {
          "base_uri": "https://localhost:8080/",
          "height": 107
        },
        "id": "lyUUoJZN3yuV",
        "outputId": "514c9a02-4b8e-4362-d151-532602b9853c"
      },
      "outputs": [
        {
          "name": "stdout",
          "output_type": "stream",
          "text": [
            "+-----------+------+\n",
            "| asia(yes) | 0.01 |\n",
            "+-----------+------+\n",
            "| asia(no)  | 0.99 |\n",
            "+-----------+------+\n"
          ]
        }
      ],
      "source": [
        "q=model.get_cpds(node='asia')\n",
        "print(q)"
      ]
    },
    {
      "cell_type": "code",
      "execution_count": null,
      "metadata": {
        "colab": {
          "base_uri": "https://localhost:8080/",
          "height": 161
        },
        "id": "d3vr1aPM2aig",
        "outputId": "62f10060-e2ab-4787-b050-1c4dc105adf0"
      },
      "outputs": [
        {
          "name": "stderr",
          "output_type": "stream",
          "text": [
            "Eliminating: tub: 100%|██████████| 5/5 [00:00<00:00, 215.91it/s]"
          ]
        },
        {
          "name": "stdout",
          "output_type": "stream",
          "text": [
            "+-----------+-------------+\n",
            "| asia      |   phi(asia) |\n",
            "+===========+=============+\n",
            "| asia(yes) |      0.0100 |\n",
            "+-----------+-------------+\n",
            "| asia(no)  |      0.9900 |\n",
            "+-----------+-------------+\n"
          ]
        },
        {
          "name": "stderr",
          "output_type": "stream",
          "text": [
            "\n"
          ]
        }
      ],
      "source": [
        "q=jtree.query(variables=['asia'],evidence={},joint=False)\n",
        "for factor in q.values():\n",
        "    print(factor)"
      ]
    },
    {
      "cell_type": "code",
      "execution_count": null,
      "metadata": {
        "colab": {
          "base_uri": "https://localhost:8080/",
          "height": 161
        },
        "id": "lw8PUTvJ3NTU",
        "outputId": "f3d19b99-97d1-4b90-a5d7-2cbb68eb0f68"
      },
      "outputs": [
        {
          "name": "stderr",
          "output_type": "stream",
          "text": [
            "Eliminating: smoke: 100%|██████████| 6/6 [00:00<00:00, 249.56it/s]"
          ]
        },
        {
          "name": "stdout",
          "output_type": "stream",
          "text": [
            "+-----------+-------------+\n",
            "| asia      |   phi(asia) |\n",
            "+===========+=============+\n",
            "| asia(yes) |      0.0097 |\n",
            "+-----------+-------------+\n",
            "| asia(no)  |      0.9903 |\n",
            "+-----------+-------------+\n"
          ]
        },
        {
          "name": "stderr",
          "output_type": "stream",
          "text": [
            "\n"
          ]
        }
      ],
      "source": [
        "q=jtree.query(variables=['asia'],evidence={'dysp':1},joint=False)\n",
        "for factor in q.values():\n",
        "    print(factor)"
      ]
    }
  ],
  "metadata": {
    "colab": {
      "name": "3.-Redes_Bayesianas.ipynb",
      "provenance": []
    },
    "kernelspec": {
      "display_name": "Python 3",
      "language": "python",
      "name": "python3"
    },
    "language_info": {
      "codemirror_mode": {
        "name": "ipython",
        "version": 3
      },
      "file_extension": ".py",
      "mimetype": "text/x-python",
      "name": "python",
      "nbconvert_exporter": "python",
      "pygments_lexer": "ipython3",
      "version": "3.8.5"
    },
    "widgets": {
      "application/vnd.jupyter.widget-state+json": {
        "d75abef92efb4030ae8cc06d2bb1c0a6": {
          "model_module": "@jupyter-widgets/controls",
          "model_name": "HBoxModel",
          "model_module_version": "1.5.0",
          "state": {
            "_dom_classes": [],
            "_model_module": "@jupyter-widgets/controls",
            "_model_module_version": "1.5.0",
            "_model_name": "HBoxModel",
            "_view_count": null,
            "_view_module": "@jupyter-widgets/controls",
            "_view_module_version": "1.5.0",
            "_view_name": "HBoxView",
            "box_style": "",
            "children": [
              "IPY_MODEL_a99e0aaec8e249aaaf97cd665bc2f0bf",
              "IPY_MODEL_3ba7878ea2ec4974869416d8cd15b5d2",
              "IPY_MODEL_2cb185fa139b4f92b32f777507e36c5e"
            ],
            "layout": "IPY_MODEL_cf3aa46f2ae84d76a06b1cd09fd3daab"
          }
        },
        "a99e0aaec8e249aaaf97cd665bc2f0bf": {
          "model_module": "@jupyter-widgets/controls",
          "model_name": "HTMLModel",
          "model_module_version": "1.5.0",
          "state": {
            "_dom_classes": [],
            "_model_module": "@jupyter-widgets/controls",
            "_model_module_version": "1.5.0",
            "_model_name": "HTMLModel",
            "_view_count": null,
            "_view_module": "@jupyter-widgets/controls",
            "_view_module_version": "1.5.0",
            "_view_name": "HTMLView",
            "description": "",
            "description_tooltip": null,
            "layout": "IPY_MODEL_819daa58184145a886ab1793db36517e",
            "placeholder": "​",
            "style": "IPY_MODEL_4b682dc68cce45f59499bc58748f31b9",
            "value": "Finding Elimination Order: : "
          }
        },
        "3ba7878ea2ec4974869416d8cd15b5d2": {
          "model_module": "@jupyter-widgets/controls",
          "model_name": "FloatProgressModel",
          "model_module_version": "1.5.0",
          "state": {
            "_dom_classes": [],
            "_model_module": "@jupyter-widgets/controls",
            "_model_module_version": "1.5.0",
            "_model_name": "FloatProgressModel",
            "_view_count": null,
            "_view_module": "@jupyter-widgets/controls",
            "_view_module_version": "1.5.0",
            "_view_name": "ProgressView",
            "bar_style": "success",
            "description": "",
            "description_tooltip": null,
            "layout": "IPY_MODEL_a600ef5371c24c6887714160a6f875ce",
            "max": 1,
            "min": 0,
            "orientation": "horizontal",
            "style": "IPY_MODEL_c827a375db96490cad2337b8e96fa297",
            "value": 0
          }
        },
        "2cb185fa139b4f92b32f777507e36c5e": {
          "model_module": "@jupyter-widgets/controls",
          "model_name": "HTMLModel",
          "model_module_version": "1.5.0",
          "state": {
            "_dom_classes": [],
            "_model_module": "@jupyter-widgets/controls",
            "_model_module_version": "1.5.0",
            "_model_name": "HTMLModel",
            "_view_count": null,
            "_view_module": "@jupyter-widgets/controls",
            "_view_module_version": "1.5.0",
            "_view_name": "HTMLView",
            "description": "",
            "description_tooltip": null,
            "layout": "IPY_MODEL_50ea43a80c8f45d8a6bc97b44863cf69",
            "placeholder": "​",
            "style": "IPY_MODEL_8564adba793a4e0d999fb79090fc0fdb",
            "value": " 0/0 [05:51&lt;?, ?it/s]"
          }
        },
        "cf3aa46f2ae84d76a06b1cd09fd3daab": {
          "model_module": "@jupyter-widgets/base",
          "model_name": "LayoutModel",
          "model_module_version": "1.2.0",
          "state": {
            "_model_module": "@jupyter-widgets/base",
            "_model_module_version": "1.2.0",
            "_model_name": "LayoutModel",
            "_view_count": null,
            "_view_module": "@jupyter-widgets/base",
            "_view_module_version": "1.2.0",
            "_view_name": "LayoutView",
            "align_content": null,
            "align_items": null,
            "align_self": null,
            "border": null,
            "bottom": null,
            "display": null,
            "flex": null,
            "flex_flow": null,
            "grid_area": null,
            "grid_auto_columns": null,
            "grid_auto_flow": null,
            "grid_auto_rows": null,
            "grid_column": null,
            "grid_gap": null,
            "grid_row": null,
            "grid_template_areas": null,
            "grid_template_columns": null,
            "grid_template_rows": null,
            "height": null,
            "justify_content": null,
            "justify_items": null,
            "left": null,
            "margin": null,
            "max_height": null,
            "max_width": null,
            "min_height": null,
            "min_width": null,
            "object_fit": null,
            "object_position": null,
            "order": null,
            "overflow": null,
            "overflow_x": null,
            "overflow_y": null,
            "padding": null,
            "right": null,
            "top": null,
            "visibility": null,
            "width": null
          }
        },
        "819daa58184145a886ab1793db36517e": {
          "model_module": "@jupyter-widgets/base",
          "model_name": "LayoutModel",
          "model_module_version": "1.2.0",
          "state": {
            "_model_module": "@jupyter-widgets/base",
            "_model_module_version": "1.2.0",
            "_model_name": "LayoutModel",
            "_view_count": null,
            "_view_module": "@jupyter-widgets/base",
            "_view_module_version": "1.2.0",
            "_view_name": "LayoutView",
            "align_content": null,
            "align_items": null,
            "align_self": null,
            "border": null,
            "bottom": null,
            "display": null,
            "flex": null,
            "flex_flow": null,
            "grid_area": null,
            "grid_auto_columns": null,
            "grid_auto_flow": null,
            "grid_auto_rows": null,
            "grid_column": null,
            "grid_gap": null,
            "grid_row": null,
            "grid_template_areas": null,
            "grid_template_columns": null,
            "grid_template_rows": null,
            "height": null,
            "justify_content": null,
            "justify_items": null,
            "left": null,
            "margin": null,
            "max_height": null,
            "max_width": null,
            "min_height": null,
            "min_width": null,
            "object_fit": null,
            "object_position": null,
            "order": null,
            "overflow": null,
            "overflow_x": null,
            "overflow_y": null,
            "padding": null,
            "right": null,
            "top": null,
            "visibility": null,
            "width": null
          }
        },
        "4b682dc68cce45f59499bc58748f31b9": {
          "model_module": "@jupyter-widgets/controls",
          "model_name": "DescriptionStyleModel",
          "model_module_version": "1.5.0",
          "state": {
            "_model_module": "@jupyter-widgets/controls",
            "_model_module_version": "1.5.0",
            "_model_name": "DescriptionStyleModel",
            "_view_count": null,
            "_view_module": "@jupyter-widgets/base",
            "_view_module_version": "1.2.0",
            "_view_name": "StyleView",
            "description_width": ""
          }
        },
        "a600ef5371c24c6887714160a6f875ce": {
          "model_module": "@jupyter-widgets/base",
          "model_name": "LayoutModel",
          "model_module_version": "1.2.0",
          "state": {
            "_model_module": "@jupyter-widgets/base",
            "_model_module_version": "1.2.0",
            "_model_name": "LayoutModel",
            "_view_count": null,
            "_view_module": "@jupyter-widgets/base",
            "_view_module_version": "1.2.0",
            "_view_name": "LayoutView",
            "align_content": null,
            "align_items": null,
            "align_self": null,
            "border": null,
            "bottom": null,
            "display": null,
            "flex": null,
            "flex_flow": null,
            "grid_area": null,
            "grid_auto_columns": null,
            "grid_auto_flow": null,
            "grid_auto_rows": null,
            "grid_column": null,
            "grid_gap": null,
            "grid_row": null,
            "grid_template_areas": null,
            "grid_template_columns": null,
            "grid_template_rows": null,
            "height": null,
            "justify_content": null,
            "justify_items": null,
            "left": null,
            "margin": null,
            "max_height": null,
            "max_width": null,
            "min_height": null,
            "min_width": null,
            "object_fit": null,
            "object_position": null,
            "order": null,
            "overflow": null,
            "overflow_x": null,
            "overflow_y": null,
            "padding": null,
            "right": null,
            "top": null,
            "visibility": null,
            "width": "20px"
          }
        },
        "c827a375db96490cad2337b8e96fa297": {
          "model_module": "@jupyter-widgets/controls",
          "model_name": "ProgressStyleModel",
          "model_module_version": "1.5.0",
          "state": {
            "_model_module": "@jupyter-widgets/controls",
            "_model_module_version": "1.5.0",
            "_model_name": "ProgressStyleModel",
            "_view_count": null,
            "_view_module": "@jupyter-widgets/base",
            "_view_module_version": "1.2.0",
            "_view_name": "StyleView",
            "bar_color": null,
            "description_width": ""
          }
        },
        "50ea43a80c8f45d8a6bc97b44863cf69": {
          "model_module": "@jupyter-widgets/base",
          "model_name": "LayoutModel",
          "model_module_version": "1.2.0",
          "state": {
            "_model_module": "@jupyter-widgets/base",
            "_model_module_version": "1.2.0",
            "_model_name": "LayoutModel",
            "_view_count": null,
            "_view_module": "@jupyter-widgets/base",
            "_view_module_version": "1.2.0",
            "_view_name": "LayoutView",
            "align_content": null,
            "align_items": null,
            "align_self": null,
            "border": null,
            "bottom": null,
            "display": null,
            "flex": null,
            "flex_flow": null,
            "grid_area": null,
            "grid_auto_columns": null,
            "grid_auto_flow": null,
            "grid_auto_rows": null,
            "grid_column": null,
            "grid_gap": null,
            "grid_row": null,
            "grid_template_areas": null,
            "grid_template_columns": null,
            "grid_template_rows": null,
            "height": null,
            "justify_content": null,
            "justify_items": null,
            "left": null,
            "margin": null,
            "max_height": null,
            "max_width": null,
            "min_height": null,
            "min_width": null,
            "object_fit": null,
            "object_position": null,
            "order": null,
            "overflow": null,
            "overflow_x": null,
            "overflow_y": null,
            "padding": null,
            "right": null,
            "top": null,
            "visibility": null,
            "width": null
          }
        },
        "8564adba793a4e0d999fb79090fc0fdb": {
          "model_module": "@jupyter-widgets/controls",
          "model_name": "DescriptionStyleModel",
          "model_module_version": "1.5.0",
          "state": {
            "_model_module": "@jupyter-widgets/controls",
            "_model_module_version": "1.5.0",
            "_model_name": "DescriptionStyleModel",
            "_view_count": null,
            "_view_module": "@jupyter-widgets/base",
            "_view_module_version": "1.2.0",
            "_view_name": "StyleView",
            "description_width": ""
          }
        },
        "bbb0d6d4030d4d1b8989327377cb7236": {
          "model_module": "@jupyter-widgets/controls",
          "model_name": "HBoxModel",
          "model_module_version": "1.5.0",
          "state": {
            "_dom_classes": [],
            "_model_module": "@jupyter-widgets/controls",
            "_model_module_version": "1.5.0",
            "_model_name": "HBoxModel",
            "_view_count": null,
            "_view_module": "@jupyter-widgets/controls",
            "_view_module_version": "1.5.0",
            "_view_name": "HBoxView",
            "box_style": "",
            "children": [
              "IPY_MODEL_936b17ca4997418583368fee8aeb49b7",
              "IPY_MODEL_09ec3e7e12bc40448aca75ce68fd93b3",
              "IPY_MODEL_d8974a1e1ca4415682723dd76d97d25d"
            ],
            "layout": "IPY_MODEL_59d67c1b236b4a7685d6066306465741"
          }
        },
        "936b17ca4997418583368fee8aeb49b7": {
          "model_module": "@jupyter-widgets/controls",
          "model_name": "HTMLModel",
          "model_module_version": "1.5.0",
          "state": {
            "_dom_classes": [],
            "_model_module": "@jupyter-widgets/controls",
            "_model_module_version": "1.5.0",
            "_model_name": "HTMLModel",
            "_view_count": null,
            "_view_module": "@jupyter-widgets/controls",
            "_view_module_version": "1.5.0",
            "_view_name": "HTMLView",
            "description": "",
            "description_tooltip": null,
            "layout": "IPY_MODEL_71744543e33541c9ae4384523cbe9292",
            "placeholder": "​",
            "style": "IPY_MODEL_a7183d4bd46b446bb09e3b7d1fa82697",
            "value": ""
          }
        },
        "09ec3e7e12bc40448aca75ce68fd93b3": {
          "model_module": "@jupyter-widgets/controls",
          "model_name": "FloatProgressModel",
          "model_module_version": "1.5.0",
          "state": {
            "_dom_classes": [],
            "_model_module": "@jupyter-widgets/controls",
            "_model_module_version": "1.5.0",
            "_model_name": "FloatProgressModel",
            "_view_count": null,
            "_view_module": "@jupyter-widgets/controls",
            "_view_module_version": "1.5.0",
            "_view_name": "ProgressView",
            "bar_style": "success",
            "description": "",
            "description_tooltip": null,
            "layout": "IPY_MODEL_960dc8b0c6a348be84674a535c088f52",
            "max": 1,
            "min": 0,
            "orientation": "horizontal",
            "style": "IPY_MODEL_64564c0f3b5741c79c073dd54ec08403",
            "value": 0
          }
        },
        "d8974a1e1ca4415682723dd76d97d25d": {
          "model_module": "@jupyter-widgets/controls",
          "model_name": "HTMLModel",
          "model_module_version": "1.5.0",
          "state": {
            "_dom_classes": [],
            "_model_module": "@jupyter-widgets/controls",
            "_model_module_version": "1.5.0",
            "_model_name": "HTMLModel",
            "_view_count": null,
            "_view_module": "@jupyter-widgets/controls",
            "_view_module_version": "1.5.0",
            "_view_name": "HTMLView",
            "description": "",
            "description_tooltip": null,
            "layout": "IPY_MODEL_eeaf9bec4d8b4cbab55f63b8a63490f9",
            "placeholder": "​",
            "style": "IPY_MODEL_163785864fe14f40a5bfd7279212be52",
            "value": " 0/0 [00:00&lt;?, ?it/s]"
          }
        },
        "59d67c1b236b4a7685d6066306465741": {
          "model_module": "@jupyter-widgets/base",
          "model_name": "LayoutModel",
          "model_module_version": "1.2.0",
          "state": {
            "_model_module": "@jupyter-widgets/base",
            "_model_module_version": "1.2.0",
            "_model_name": "LayoutModel",
            "_view_count": null,
            "_view_module": "@jupyter-widgets/base",
            "_view_module_version": "1.2.0",
            "_view_name": "LayoutView",
            "align_content": null,
            "align_items": null,
            "align_self": null,
            "border": null,
            "bottom": null,
            "display": null,
            "flex": null,
            "flex_flow": null,
            "grid_area": null,
            "grid_auto_columns": null,
            "grid_auto_flow": null,
            "grid_auto_rows": null,
            "grid_column": null,
            "grid_gap": null,
            "grid_row": null,
            "grid_template_areas": null,
            "grid_template_columns": null,
            "grid_template_rows": null,
            "height": null,
            "justify_content": null,
            "justify_items": null,
            "left": null,
            "margin": null,
            "max_height": null,
            "max_width": null,
            "min_height": null,
            "min_width": null,
            "object_fit": null,
            "object_position": null,
            "order": null,
            "overflow": null,
            "overflow_x": null,
            "overflow_y": null,
            "padding": null,
            "right": null,
            "top": null,
            "visibility": null,
            "width": null
          }
        },
        "71744543e33541c9ae4384523cbe9292": {
          "model_module": "@jupyter-widgets/base",
          "model_name": "LayoutModel",
          "model_module_version": "1.2.0",
          "state": {
            "_model_module": "@jupyter-widgets/base",
            "_model_module_version": "1.2.0",
            "_model_name": "LayoutModel",
            "_view_count": null,
            "_view_module": "@jupyter-widgets/base",
            "_view_module_version": "1.2.0",
            "_view_name": "LayoutView",
            "align_content": null,
            "align_items": null,
            "align_self": null,
            "border": null,
            "bottom": null,
            "display": null,
            "flex": null,
            "flex_flow": null,
            "grid_area": null,
            "grid_auto_columns": null,
            "grid_auto_flow": null,
            "grid_auto_rows": null,
            "grid_column": null,
            "grid_gap": null,
            "grid_row": null,
            "grid_template_areas": null,
            "grid_template_columns": null,
            "grid_template_rows": null,
            "height": null,
            "justify_content": null,
            "justify_items": null,
            "left": null,
            "margin": null,
            "max_height": null,
            "max_width": null,
            "min_height": null,
            "min_width": null,
            "object_fit": null,
            "object_position": null,
            "order": null,
            "overflow": null,
            "overflow_x": null,
            "overflow_y": null,
            "padding": null,
            "right": null,
            "top": null,
            "visibility": null,
            "width": null
          }
        },
        "a7183d4bd46b446bb09e3b7d1fa82697": {
          "model_module": "@jupyter-widgets/controls",
          "model_name": "DescriptionStyleModel",
          "model_module_version": "1.5.0",
          "state": {
            "_model_module": "@jupyter-widgets/controls",
            "_model_module_version": "1.5.0",
            "_model_name": "DescriptionStyleModel",
            "_view_count": null,
            "_view_module": "@jupyter-widgets/base",
            "_view_module_version": "1.2.0",
            "_view_name": "StyleView",
            "description_width": ""
          }
        },
        "960dc8b0c6a348be84674a535c088f52": {
          "model_module": "@jupyter-widgets/base",
          "model_name": "LayoutModel",
          "model_module_version": "1.2.0",
          "state": {
            "_model_module": "@jupyter-widgets/base",
            "_model_module_version": "1.2.0",
            "_model_name": "LayoutModel",
            "_view_count": null,
            "_view_module": "@jupyter-widgets/base",
            "_view_module_version": "1.2.0",
            "_view_name": "LayoutView",
            "align_content": null,
            "align_items": null,
            "align_self": null,
            "border": null,
            "bottom": null,
            "display": null,
            "flex": null,
            "flex_flow": null,
            "grid_area": null,
            "grid_auto_columns": null,
            "grid_auto_flow": null,
            "grid_auto_rows": null,
            "grid_column": null,
            "grid_gap": null,
            "grid_row": null,
            "grid_template_areas": null,
            "grid_template_columns": null,
            "grid_template_rows": null,
            "height": null,
            "justify_content": null,
            "justify_items": null,
            "left": null,
            "margin": null,
            "max_height": null,
            "max_width": null,
            "min_height": null,
            "min_width": null,
            "object_fit": null,
            "object_position": null,
            "order": null,
            "overflow": null,
            "overflow_x": null,
            "overflow_y": null,
            "padding": null,
            "right": null,
            "top": null,
            "visibility": null,
            "width": "20px"
          }
        },
        "64564c0f3b5741c79c073dd54ec08403": {
          "model_module": "@jupyter-widgets/controls",
          "model_name": "ProgressStyleModel",
          "model_module_version": "1.5.0",
          "state": {
            "_model_module": "@jupyter-widgets/controls",
            "_model_module_version": "1.5.0",
            "_model_name": "ProgressStyleModel",
            "_view_count": null,
            "_view_module": "@jupyter-widgets/base",
            "_view_module_version": "1.2.0",
            "_view_name": "StyleView",
            "bar_color": null,
            "description_width": ""
          }
        },
        "eeaf9bec4d8b4cbab55f63b8a63490f9": {
          "model_module": "@jupyter-widgets/base",
          "model_name": "LayoutModel",
          "model_module_version": "1.2.0",
          "state": {
            "_model_module": "@jupyter-widgets/base",
            "_model_module_version": "1.2.0",
            "_model_name": "LayoutModel",
            "_view_count": null,
            "_view_module": "@jupyter-widgets/base",
            "_view_module_version": "1.2.0",
            "_view_name": "LayoutView",
            "align_content": null,
            "align_items": null,
            "align_self": null,
            "border": null,
            "bottom": null,
            "display": null,
            "flex": null,
            "flex_flow": null,
            "grid_area": null,
            "grid_auto_columns": null,
            "grid_auto_flow": null,
            "grid_auto_rows": null,
            "grid_column": null,
            "grid_gap": null,
            "grid_row": null,
            "grid_template_areas": null,
            "grid_template_columns": null,
            "grid_template_rows": null,
            "height": null,
            "justify_content": null,
            "justify_items": null,
            "left": null,
            "margin": null,
            "max_height": null,
            "max_width": null,
            "min_height": null,
            "min_width": null,
            "object_fit": null,
            "object_position": null,
            "order": null,
            "overflow": null,
            "overflow_x": null,
            "overflow_y": null,
            "padding": null,
            "right": null,
            "top": null,
            "visibility": null,
            "width": null
          }
        },
        "163785864fe14f40a5bfd7279212be52": {
          "model_module": "@jupyter-widgets/controls",
          "model_name": "DescriptionStyleModel",
          "model_module_version": "1.5.0",
          "state": {
            "_model_module": "@jupyter-widgets/controls",
            "_model_module_version": "1.5.0",
            "_model_name": "DescriptionStyleModel",
            "_view_count": null,
            "_view_module": "@jupyter-widgets/base",
            "_view_module_version": "1.2.0",
            "_view_name": "StyleView",
            "description_width": ""
          }
        },
        "6e5ba2a820fe4bf8a6c42185a673f55c": {
          "model_module": "@jupyter-widgets/controls",
          "model_name": "HBoxModel",
          "model_module_version": "1.5.0",
          "state": {
            "_dom_classes": [],
            "_model_module": "@jupyter-widgets/controls",
            "_model_module_version": "1.5.0",
            "_model_name": "HBoxModel",
            "_view_count": null,
            "_view_module": "@jupyter-widgets/controls",
            "_view_module_version": "1.5.0",
            "_view_name": "HBoxView",
            "box_style": "",
            "children": [
              "IPY_MODEL_0f0c46a10bc94c54a791336b6a43edb8",
              "IPY_MODEL_68b0ac82c22b4edab1afbce52855eb66",
              "IPY_MODEL_3f0d8e6eec824264a9f3c3012cc70f06"
            ],
            "layout": "IPY_MODEL_ab36286fc8e94673b3dee328c594ab7d"
          }
        },
        "0f0c46a10bc94c54a791336b6a43edb8": {
          "model_module": "@jupyter-widgets/controls",
          "model_name": "HTMLModel",
          "model_module_version": "1.5.0",
          "state": {
            "_dom_classes": [],
            "_model_module": "@jupyter-widgets/controls",
            "_model_module_version": "1.5.0",
            "_model_name": "HTMLModel",
            "_view_count": null,
            "_view_module": "@jupyter-widgets/controls",
            "_view_module_version": "1.5.0",
            "_view_name": "HTMLView",
            "description": "",
            "description_tooltip": null,
            "layout": "IPY_MODEL_201ca3c52ee74c6fb9739df42e1f27ae",
            "placeholder": "​",
            "style": "IPY_MODEL_2f3eed3b0b8a479ba942673937cf3149",
            "value": "Finding Elimination Order: : 100%"
          }
        },
        "68b0ac82c22b4edab1afbce52855eb66": {
          "model_module": "@jupyter-widgets/controls",
          "model_name": "FloatProgressModel",
          "model_module_version": "1.5.0",
          "state": {
            "_dom_classes": [],
            "_model_module": "@jupyter-widgets/controls",
            "_model_module_version": "1.5.0",
            "_model_name": "FloatProgressModel",
            "_view_count": null,
            "_view_module": "@jupyter-widgets/controls",
            "_view_module_version": "1.5.0",
            "_view_name": "ProgressView",
            "bar_style": "success",
            "description": "",
            "description_tooltip": null,
            "layout": "IPY_MODEL_1cb480e406f0412fa77c00cf7262744a",
            "max": 1,
            "min": 0,
            "orientation": "horizontal",
            "style": "IPY_MODEL_7717d0e78aa94f5b8ab49d4cab4348cf",
            "value": 1
          }
        },
        "3f0d8e6eec824264a9f3c3012cc70f06": {
          "model_module": "@jupyter-widgets/controls",
          "model_name": "HTMLModel",
          "model_module_version": "1.5.0",
          "state": {
            "_dom_classes": [],
            "_model_module": "@jupyter-widgets/controls",
            "_model_module_version": "1.5.0",
            "_model_name": "HTMLModel",
            "_view_count": null,
            "_view_module": "@jupyter-widgets/controls",
            "_view_module_version": "1.5.0",
            "_view_name": "HTMLView",
            "description": "",
            "description_tooltip": null,
            "layout": "IPY_MODEL_b57fd36305b04f8eb0a7942193433c07",
            "placeholder": "​",
            "style": "IPY_MODEL_2de91909880942bd877c8150396259d1",
            "value": " 1/1 [00:00&lt;00:00, 11.80it/s]"
          }
        },
        "ab36286fc8e94673b3dee328c594ab7d": {
          "model_module": "@jupyter-widgets/base",
          "model_name": "LayoutModel",
          "model_module_version": "1.2.0",
          "state": {
            "_model_module": "@jupyter-widgets/base",
            "_model_module_version": "1.2.0",
            "_model_name": "LayoutModel",
            "_view_count": null,
            "_view_module": "@jupyter-widgets/base",
            "_view_module_version": "1.2.0",
            "_view_name": "LayoutView",
            "align_content": null,
            "align_items": null,
            "align_self": null,
            "border": null,
            "bottom": null,
            "display": null,
            "flex": null,
            "flex_flow": null,
            "grid_area": null,
            "grid_auto_columns": null,
            "grid_auto_flow": null,
            "grid_auto_rows": null,
            "grid_column": null,
            "grid_gap": null,
            "grid_row": null,
            "grid_template_areas": null,
            "grid_template_columns": null,
            "grid_template_rows": null,
            "height": null,
            "justify_content": null,
            "justify_items": null,
            "left": null,
            "margin": null,
            "max_height": null,
            "max_width": null,
            "min_height": null,
            "min_width": null,
            "object_fit": null,
            "object_position": null,
            "order": null,
            "overflow": null,
            "overflow_x": null,
            "overflow_y": null,
            "padding": null,
            "right": null,
            "top": null,
            "visibility": null,
            "width": null
          }
        },
        "201ca3c52ee74c6fb9739df42e1f27ae": {
          "model_module": "@jupyter-widgets/base",
          "model_name": "LayoutModel",
          "model_module_version": "1.2.0",
          "state": {
            "_model_module": "@jupyter-widgets/base",
            "_model_module_version": "1.2.0",
            "_model_name": "LayoutModel",
            "_view_count": null,
            "_view_module": "@jupyter-widgets/base",
            "_view_module_version": "1.2.0",
            "_view_name": "LayoutView",
            "align_content": null,
            "align_items": null,
            "align_self": null,
            "border": null,
            "bottom": null,
            "display": null,
            "flex": null,
            "flex_flow": null,
            "grid_area": null,
            "grid_auto_columns": null,
            "grid_auto_flow": null,
            "grid_auto_rows": null,
            "grid_column": null,
            "grid_gap": null,
            "grid_row": null,
            "grid_template_areas": null,
            "grid_template_columns": null,
            "grid_template_rows": null,
            "height": null,
            "justify_content": null,
            "justify_items": null,
            "left": null,
            "margin": null,
            "max_height": null,
            "max_width": null,
            "min_height": null,
            "min_width": null,
            "object_fit": null,
            "object_position": null,
            "order": null,
            "overflow": null,
            "overflow_x": null,
            "overflow_y": null,
            "padding": null,
            "right": null,
            "top": null,
            "visibility": null,
            "width": null
          }
        },
        "2f3eed3b0b8a479ba942673937cf3149": {
          "model_module": "@jupyter-widgets/controls",
          "model_name": "DescriptionStyleModel",
          "model_module_version": "1.5.0",
          "state": {
            "_model_module": "@jupyter-widgets/controls",
            "_model_module_version": "1.5.0",
            "_model_name": "DescriptionStyleModel",
            "_view_count": null,
            "_view_module": "@jupyter-widgets/base",
            "_view_module_version": "1.2.0",
            "_view_name": "StyleView",
            "description_width": ""
          }
        },
        "1cb480e406f0412fa77c00cf7262744a": {
          "model_module": "@jupyter-widgets/base",
          "model_name": "LayoutModel",
          "model_module_version": "1.2.0",
          "state": {
            "_model_module": "@jupyter-widgets/base",
            "_model_module_version": "1.2.0",
            "_model_name": "LayoutModel",
            "_view_count": null,
            "_view_module": "@jupyter-widgets/base",
            "_view_module_version": "1.2.0",
            "_view_name": "LayoutView",
            "align_content": null,
            "align_items": null,
            "align_self": null,
            "border": null,
            "bottom": null,
            "display": null,
            "flex": null,
            "flex_flow": null,
            "grid_area": null,
            "grid_auto_columns": null,
            "grid_auto_flow": null,
            "grid_auto_rows": null,
            "grid_column": null,
            "grid_gap": null,
            "grid_row": null,
            "grid_template_areas": null,
            "grid_template_columns": null,
            "grid_template_rows": null,
            "height": null,
            "justify_content": null,
            "justify_items": null,
            "left": null,
            "margin": null,
            "max_height": null,
            "max_width": null,
            "min_height": null,
            "min_width": null,
            "object_fit": null,
            "object_position": null,
            "order": null,
            "overflow": null,
            "overflow_x": null,
            "overflow_y": null,
            "padding": null,
            "right": null,
            "top": null,
            "visibility": null,
            "width": null
          }
        },
        "7717d0e78aa94f5b8ab49d4cab4348cf": {
          "model_module": "@jupyter-widgets/controls",
          "model_name": "ProgressStyleModel",
          "model_module_version": "1.5.0",
          "state": {
            "_model_module": "@jupyter-widgets/controls",
            "_model_module_version": "1.5.0",
            "_model_name": "ProgressStyleModel",
            "_view_count": null,
            "_view_module": "@jupyter-widgets/base",
            "_view_module_version": "1.2.0",
            "_view_name": "StyleView",
            "bar_color": null,
            "description_width": ""
          }
        },
        "b57fd36305b04f8eb0a7942193433c07": {
          "model_module": "@jupyter-widgets/base",
          "model_name": "LayoutModel",
          "model_module_version": "1.2.0",
          "state": {
            "_model_module": "@jupyter-widgets/base",
            "_model_module_version": "1.2.0",
            "_model_name": "LayoutModel",
            "_view_count": null,
            "_view_module": "@jupyter-widgets/base",
            "_view_module_version": "1.2.0",
            "_view_name": "LayoutView",
            "align_content": null,
            "align_items": null,
            "align_self": null,
            "border": null,
            "bottom": null,
            "display": null,
            "flex": null,
            "flex_flow": null,
            "grid_area": null,
            "grid_auto_columns": null,
            "grid_auto_flow": null,
            "grid_auto_rows": null,
            "grid_column": null,
            "grid_gap": null,
            "grid_row": null,
            "grid_template_areas": null,
            "grid_template_columns": null,
            "grid_template_rows": null,
            "height": null,
            "justify_content": null,
            "justify_items": null,
            "left": null,
            "margin": null,
            "max_height": null,
            "max_width": null,
            "min_height": null,
            "min_width": null,
            "object_fit": null,
            "object_position": null,
            "order": null,
            "overflow": null,
            "overflow_x": null,
            "overflow_y": null,
            "padding": null,
            "right": null,
            "top": null,
            "visibility": null,
            "width": null
          }
        },
        "2de91909880942bd877c8150396259d1": {
          "model_module": "@jupyter-widgets/controls",
          "model_name": "DescriptionStyleModel",
          "model_module_version": "1.5.0",
          "state": {
            "_model_module": "@jupyter-widgets/controls",
            "_model_module_version": "1.5.0",
            "_model_name": "DescriptionStyleModel",
            "_view_count": null,
            "_view_module": "@jupyter-widgets/base",
            "_view_module_version": "1.2.0",
            "_view_name": "StyleView",
            "description_width": ""
          }
        },
        "3f166205e73446af8ddcb94b7d1302d3": {
          "model_module": "@jupyter-widgets/controls",
          "model_name": "HBoxModel",
          "model_module_version": "1.5.0",
          "state": {
            "_dom_classes": [],
            "_model_module": "@jupyter-widgets/controls",
            "_model_module_version": "1.5.0",
            "_model_name": "HBoxModel",
            "_view_count": null,
            "_view_module": "@jupyter-widgets/controls",
            "_view_module_version": "1.5.0",
            "_view_name": "HBoxView",
            "box_style": "",
            "children": [
              "IPY_MODEL_50857aecc74943c59ddc7c2e5fb8b264",
              "IPY_MODEL_074b2b711f24455ca4e742c14b1247ef",
              "IPY_MODEL_ec069f4c6e4644a983c28254c830753d"
            ],
            "layout": "IPY_MODEL_8b883d44a60241bb881847655455331b"
          }
        },
        "50857aecc74943c59ddc7c2e5fb8b264": {
          "model_module": "@jupyter-widgets/controls",
          "model_name": "HTMLModel",
          "model_module_version": "1.5.0",
          "state": {
            "_dom_classes": [],
            "_model_module": "@jupyter-widgets/controls",
            "_model_module_version": "1.5.0",
            "_model_name": "HTMLModel",
            "_view_count": null,
            "_view_module": "@jupyter-widgets/controls",
            "_view_module_version": "1.5.0",
            "_view_name": "HTMLView",
            "description": "",
            "description_tooltip": null,
            "layout": "IPY_MODEL_01223ab1c4db4975a02d75f240810b7a",
            "placeholder": "​",
            "style": "IPY_MODEL_40c6e5ef531d46a7b2934d828d177892",
            "value": "Eliminating: Burglary: 100%"
          }
        },
        "074b2b711f24455ca4e742c14b1247ef": {
          "model_module": "@jupyter-widgets/controls",
          "model_name": "FloatProgressModel",
          "model_module_version": "1.5.0",
          "state": {
            "_dom_classes": [],
            "_model_module": "@jupyter-widgets/controls",
            "_model_module_version": "1.5.0",
            "_model_name": "FloatProgressModel",
            "_view_count": null,
            "_view_module": "@jupyter-widgets/controls",
            "_view_module_version": "1.5.0",
            "_view_name": "ProgressView",
            "bar_style": "success",
            "description": "",
            "description_tooltip": null,
            "layout": "IPY_MODEL_6820bc7fe6564c2a8f1b8d06f5ec568c",
            "max": 1,
            "min": 0,
            "orientation": "horizontal",
            "style": "IPY_MODEL_3221f2dfdb6c4b72ad99cc4f6b2f271f",
            "value": 1
          }
        },
        "ec069f4c6e4644a983c28254c830753d": {
          "model_module": "@jupyter-widgets/controls",
          "model_name": "HTMLModel",
          "model_module_version": "1.5.0",
          "state": {
            "_dom_classes": [],
            "_model_module": "@jupyter-widgets/controls",
            "_model_module_version": "1.5.0",
            "_model_name": "HTMLModel",
            "_view_count": null,
            "_view_module": "@jupyter-widgets/controls",
            "_view_module_version": "1.5.0",
            "_view_name": "HTMLView",
            "description": "",
            "description_tooltip": null,
            "layout": "IPY_MODEL_45483c9dcf27439b9d1037a3b000d0af",
            "placeholder": "​",
            "style": "IPY_MODEL_b80ce1b04d534d35a390b10f9f791409",
            "value": " 1/1 [00:00&lt;00:00, 17.34it/s]"
          }
        },
        "8b883d44a60241bb881847655455331b": {
          "model_module": "@jupyter-widgets/base",
          "model_name": "LayoutModel",
          "model_module_version": "1.2.0",
          "state": {
            "_model_module": "@jupyter-widgets/base",
            "_model_module_version": "1.2.0",
            "_model_name": "LayoutModel",
            "_view_count": null,
            "_view_module": "@jupyter-widgets/base",
            "_view_module_version": "1.2.0",
            "_view_name": "LayoutView",
            "align_content": null,
            "align_items": null,
            "align_self": null,
            "border": null,
            "bottom": null,
            "display": null,
            "flex": null,
            "flex_flow": null,
            "grid_area": null,
            "grid_auto_columns": null,
            "grid_auto_flow": null,
            "grid_auto_rows": null,
            "grid_column": null,
            "grid_gap": null,
            "grid_row": null,
            "grid_template_areas": null,
            "grid_template_columns": null,
            "grid_template_rows": null,
            "height": null,
            "justify_content": null,
            "justify_items": null,
            "left": null,
            "margin": null,
            "max_height": null,
            "max_width": null,
            "min_height": null,
            "min_width": null,
            "object_fit": null,
            "object_position": null,
            "order": null,
            "overflow": null,
            "overflow_x": null,
            "overflow_y": null,
            "padding": null,
            "right": null,
            "top": null,
            "visibility": null,
            "width": null
          }
        },
        "01223ab1c4db4975a02d75f240810b7a": {
          "model_module": "@jupyter-widgets/base",
          "model_name": "LayoutModel",
          "model_module_version": "1.2.0",
          "state": {
            "_model_module": "@jupyter-widgets/base",
            "_model_module_version": "1.2.0",
            "_model_name": "LayoutModel",
            "_view_count": null,
            "_view_module": "@jupyter-widgets/base",
            "_view_module_version": "1.2.0",
            "_view_name": "LayoutView",
            "align_content": null,
            "align_items": null,
            "align_self": null,
            "border": null,
            "bottom": null,
            "display": null,
            "flex": null,
            "flex_flow": null,
            "grid_area": null,
            "grid_auto_columns": null,
            "grid_auto_flow": null,
            "grid_auto_rows": null,
            "grid_column": null,
            "grid_gap": null,
            "grid_row": null,
            "grid_template_areas": null,
            "grid_template_columns": null,
            "grid_template_rows": null,
            "height": null,
            "justify_content": null,
            "justify_items": null,
            "left": null,
            "margin": null,
            "max_height": null,
            "max_width": null,
            "min_height": null,
            "min_width": null,
            "object_fit": null,
            "object_position": null,
            "order": null,
            "overflow": null,
            "overflow_x": null,
            "overflow_y": null,
            "padding": null,
            "right": null,
            "top": null,
            "visibility": null,
            "width": null
          }
        },
        "40c6e5ef531d46a7b2934d828d177892": {
          "model_module": "@jupyter-widgets/controls",
          "model_name": "DescriptionStyleModel",
          "model_module_version": "1.5.0",
          "state": {
            "_model_module": "@jupyter-widgets/controls",
            "_model_module_version": "1.5.0",
            "_model_name": "DescriptionStyleModel",
            "_view_count": null,
            "_view_module": "@jupyter-widgets/base",
            "_view_module_version": "1.2.0",
            "_view_name": "StyleView",
            "description_width": ""
          }
        },
        "6820bc7fe6564c2a8f1b8d06f5ec568c": {
          "model_module": "@jupyter-widgets/base",
          "model_name": "LayoutModel",
          "model_module_version": "1.2.0",
          "state": {
            "_model_module": "@jupyter-widgets/base",
            "_model_module_version": "1.2.0",
            "_model_name": "LayoutModel",
            "_view_count": null,
            "_view_module": "@jupyter-widgets/base",
            "_view_module_version": "1.2.0",
            "_view_name": "LayoutView",
            "align_content": null,
            "align_items": null,
            "align_self": null,
            "border": null,
            "bottom": null,
            "display": null,
            "flex": null,
            "flex_flow": null,
            "grid_area": null,
            "grid_auto_columns": null,
            "grid_auto_flow": null,
            "grid_auto_rows": null,
            "grid_column": null,
            "grid_gap": null,
            "grid_row": null,
            "grid_template_areas": null,
            "grid_template_columns": null,
            "grid_template_rows": null,
            "height": null,
            "justify_content": null,
            "justify_items": null,
            "left": null,
            "margin": null,
            "max_height": null,
            "max_width": null,
            "min_height": null,
            "min_width": null,
            "object_fit": null,
            "object_position": null,
            "order": null,
            "overflow": null,
            "overflow_x": null,
            "overflow_y": null,
            "padding": null,
            "right": null,
            "top": null,
            "visibility": null,
            "width": null
          }
        },
        "3221f2dfdb6c4b72ad99cc4f6b2f271f": {
          "model_module": "@jupyter-widgets/controls",
          "model_name": "ProgressStyleModel",
          "model_module_version": "1.5.0",
          "state": {
            "_model_module": "@jupyter-widgets/controls",
            "_model_module_version": "1.5.0",
            "_model_name": "ProgressStyleModel",
            "_view_count": null,
            "_view_module": "@jupyter-widgets/base",
            "_view_module_version": "1.2.0",
            "_view_name": "StyleView",
            "bar_color": null,
            "description_width": ""
          }
        },
        "45483c9dcf27439b9d1037a3b000d0af": {
          "model_module": "@jupyter-widgets/base",
          "model_name": "LayoutModel",
          "model_module_version": "1.2.0",
          "state": {
            "_model_module": "@jupyter-widgets/base",
            "_model_module_version": "1.2.0",
            "_model_name": "LayoutModel",
            "_view_count": null,
            "_view_module": "@jupyter-widgets/base",
            "_view_module_version": "1.2.0",
            "_view_name": "LayoutView",
            "align_content": null,
            "align_items": null,
            "align_self": null,
            "border": null,
            "bottom": null,
            "display": null,
            "flex": null,
            "flex_flow": null,
            "grid_area": null,
            "grid_auto_columns": null,
            "grid_auto_flow": null,
            "grid_auto_rows": null,
            "grid_column": null,
            "grid_gap": null,
            "grid_row": null,
            "grid_template_areas": null,
            "grid_template_columns": null,
            "grid_template_rows": null,
            "height": null,
            "justify_content": null,
            "justify_items": null,
            "left": null,
            "margin": null,
            "max_height": null,
            "max_width": null,
            "min_height": null,
            "min_width": null,
            "object_fit": null,
            "object_position": null,
            "order": null,
            "overflow": null,
            "overflow_x": null,
            "overflow_y": null,
            "padding": null,
            "right": null,
            "top": null,
            "visibility": null,
            "width": null
          }
        },
        "b80ce1b04d534d35a390b10f9f791409": {
          "model_module": "@jupyter-widgets/controls",
          "model_name": "DescriptionStyleModel",
          "model_module_version": "1.5.0",
          "state": {
            "_model_module": "@jupyter-widgets/controls",
            "_model_module_version": "1.5.0",
            "_model_name": "DescriptionStyleModel",
            "_view_count": null,
            "_view_module": "@jupyter-widgets/base",
            "_view_module_version": "1.2.0",
            "_view_name": "StyleView",
            "description_width": ""
          }
        },
        "627c02d98a7f4cb9b92d236170d3ccd6": {
          "model_module": "@jupyter-widgets/controls",
          "model_name": "HBoxModel",
          "model_module_version": "1.5.0",
          "state": {
            "_dom_classes": [],
            "_model_module": "@jupyter-widgets/controls",
            "_model_module_version": "1.5.0",
            "_model_name": "HBoxModel",
            "_view_count": null,
            "_view_module": "@jupyter-widgets/controls",
            "_view_module_version": "1.5.0",
            "_view_name": "HBoxView",
            "box_style": "",
            "children": [
              "IPY_MODEL_f397be6828de4a5a90ec41f7fd5f5c51",
              "IPY_MODEL_a90c6104103f49ed93e92821b2269d2a",
              "IPY_MODEL_25cf7f90e0fc4d46b1e71dcf0a5d2839"
            ],
            "layout": "IPY_MODEL_a69b568d6c1c4c8aa1125eab904ec0a3"
          }
        },
        "f397be6828de4a5a90ec41f7fd5f5c51": {
          "model_module": "@jupyter-widgets/controls",
          "model_name": "HTMLModel",
          "model_module_version": "1.5.0",
          "state": {
            "_dom_classes": [],
            "_model_module": "@jupyter-widgets/controls",
            "_model_module_version": "1.5.0",
            "_model_name": "HTMLModel",
            "_view_count": null,
            "_view_module": "@jupyter-widgets/controls",
            "_view_module_version": "1.5.0",
            "_view_name": "HTMLView",
            "description": "",
            "description_tooltip": null,
            "layout": "IPY_MODEL_cacdde64e0014065ae587df4b65c6f47",
            "placeholder": "​",
            "style": "IPY_MODEL_5d6e20dda5534a39960955e284f9d4dd",
            "value": "Finding Elimination Order: : "
          }
        },
        "a90c6104103f49ed93e92821b2269d2a": {
          "model_module": "@jupyter-widgets/controls",
          "model_name": "FloatProgressModel",
          "model_module_version": "1.5.0",
          "state": {
            "_dom_classes": [],
            "_model_module": "@jupyter-widgets/controls",
            "_model_module_version": "1.5.0",
            "_model_name": "FloatProgressModel",
            "_view_count": null,
            "_view_module": "@jupyter-widgets/controls",
            "_view_module_version": "1.5.0",
            "_view_name": "ProgressView",
            "bar_style": "success",
            "description": "",
            "description_tooltip": null,
            "layout": "IPY_MODEL_923d2065bf00418b8d8fef90367646e3",
            "max": 1,
            "min": 0,
            "orientation": "horizontal",
            "style": "IPY_MODEL_bbc55ede2bd44319b18371a680d51c60",
            "value": 0
          }
        },
        "25cf7f90e0fc4d46b1e71dcf0a5d2839": {
          "model_module": "@jupyter-widgets/controls",
          "model_name": "HTMLModel",
          "model_module_version": "1.5.0",
          "state": {
            "_dom_classes": [],
            "_model_module": "@jupyter-widgets/controls",
            "_model_module_version": "1.5.0",
            "_model_name": "HTMLModel",
            "_view_count": null,
            "_view_module": "@jupyter-widgets/controls",
            "_view_module_version": "1.5.0",
            "_view_name": "HTMLView",
            "description": "",
            "description_tooltip": null,
            "layout": "IPY_MODEL_8f4dcd48b4674b8cb23d785941e7ac9c",
            "placeholder": "​",
            "style": "IPY_MODEL_e03b138240164aa4bd6f38e57e0e731a",
            "value": " 0/0 [00:00&lt;?, ?it/s]"
          }
        },
        "a69b568d6c1c4c8aa1125eab904ec0a3": {
          "model_module": "@jupyter-widgets/base",
          "model_name": "LayoutModel",
          "model_module_version": "1.2.0",
          "state": {
            "_model_module": "@jupyter-widgets/base",
            "_model_module_version": "1.2.0",
            "_model_name": "LayoutModel",
            "_view_count": null,
            "_view_module": "@jupyter-widgets/base",
            "_view_module_version": "1.2.0",
            "_view_name": "LayoutView",
            "align_content": null,
            "align_items": null,
            "align_self": null,
            "border": null,
            "bottom": null,
            "display": null,
            "flex": null,
            "flex_flow": null,
            "grid_area": null,
            "grid_auto_columns": null,
            "grid_auto_flow": null,
            "grid_auto_rows": null,
            "grid_column": null,
            "grid_gap": null,
            "grid_row": null,
            "grid_template_areas": null,
            "grid_template_columns": null,
            "grid_template_rows": null,
            "height": null,
            "justify_content": null,
            "justify_items": null,
            "left": null,
            "margin": null,
            "max_height": null,
            "max_width": null,
            "min_height": null,
            "min_width": null,
            "object_fit": null,
            "object_position": null,
            "order": null,
            "overflow": null,
            "overflow_x": null,
            "overflow_y": null,
            "padding": null,
            "right": null,
            "top": null,
            "visibility": null,
            "width": null
          }
        },
        "cacdde64e0014065ae587df4b65c6f47": {
          "model_module": "@jupyter-widgets/base",
          "model_name": "LayoutModel",
          "model_module_version": "1.2.0",
          "state": {
            "_model_module": "@jupyter-widgets/base",
            "_model_module_version": "1.2.0",
            "_model_name": "LayoutModel",
            "_view_count": null,
            "_view_module": "@jupyter-widgets/base",
            "_view_module_version": "1.2.0",
            "_view_name": "LayoutView",
            "align_content": null,
            "align_items": null,
            "align_self": null,
            "border": null,
            "bottom": null,
            "display": null,
            "flex": null,
            "flex_flow": null,
            "grid_area": null,
            "grid_auto_columns": null,
            "grid_auto_flow": null,
            "grid_auto_rows": null,
            "grid_column": null,
            "grid_gap": null,
            "grid_row": null,
            "grid_template_areas": null,
            "grid_template_columns": null,
            "grid_template_rows": null,
            "height": null,
            "justify_content": null,
            "justify_items": null,
            "left": null,
            "margin": null,
            "max_height": null,
            "max_width": null,
            "min_height": null,
            "min_width": null,
            "object_fit": null,
            "object_position": null,
            "order": null,
            "overflow": null,
            "overflow_x": null,
            "overflow_y": null,
            "padding": null,
            "right": null,
            "top": null,
            "visibility": null,
            "width": null
          }
        },
        "5d6e20dda5534a39960955e284f9d4dd": {
          "model_module": "@jupyter-widgets/controls",
          "model_name": "DescriptionStyleModel",
          "model_module_version": "1.5.0",
          "state": {
            "_model_module": "@jupyter-widgets/controls",
            "_model_module_version": "1.5.0",
            "_model_name": "DescriptionStyleModel",
            "_view_count": null,
            "_view_module": "@jupyter-widgets/base",
            "_view_module_version": "1.2.0",
            "_view_name": "StyleView",
            "description_width": ""
          }
        },
        "923d2065bf00418b8d8fef90367646e3": {
          "model_module": "@jupyter-widgets/base",
          "model_name": "LayoutModel",
          "model_module_version": "1.2.0",
          "state": {
            "_model_module": "@jupyter-widgets/base",
            "_model_module_version": "1.2.0",
            "_model_name": "LayoutModel",
            "_view_count": null,
            "_view_module": "@jupyter-widgets/base",
            "_view_module_version": "1.2.0",
            "_view_name": "LayoutView",
            "align_content": null,
            "align_items": null,
            "align_self": null,
            "border": null,
            "bottom": null,
            "display": null,
            "flex": null,
            "flex_flow": null,
            "grid_area": null,
            "grid_auto_columns": null,
            "grid_auto_flow": null,
            "grid_auto_rows": null,
            "grid_column": null,
            "grid_gap": null,
            "grid_row": null,
            "grid_template_areas": null,
            "grid_template_columns": null,
            "grid_template_rows": null,
            "height": null,
            "justify_content": null,
            "justify_items": null,
            "left": null,
            "margin": null,
            "max_height": null,
            "max_width": null,
            "min_height": null,
            "min_width": null,
            "object_fit": null,
            "object_position": null,
            "order": null,
            "overflow": null,
            "overflow_x": null,
            "overflow_y": null,
            "padding": null,
            "right": null,
            "top": null,
            "visibility": null,
            "width": "20px"
          }
        },
        "bbc55ede2bd44319b18371a680d51c60": {
          "model_module": "@jupyter-widgets/controls",
          "model_name": "ProgressStyleModel",
          "model_module_version": "1.5.0",
          "state": {
            "_model_module": "@jupyter-widgets/controls",
            "_model_module_version": "1.5.0",
            "_model_name": "ProgressStyleModel",
            "_view_count": null,
            "_view_module": "@jupyter-widgets/base",
            "_view_module_version": "1.2.0",
            "_view_name": "StyleView",
            "bar_color": null,
            "description_width": ""
          }
        },
        "8f4dcd48b4674b8cb23d785941e7ac9c": {
          "model_module": "@jupyter-widgets/base",
          "model_name": "LayoutModel",
          "model_module_version": "1.2.0",
          "state": {
            "_model_module": "@jupyter-widgets/base",
            "_model_module_version": "1.2.0",
            "_model_name": "LayoutModel",
            "_view_count": null,
            "_view_module": "@jupyter-widgets/base",
            "_view_module_version": "1.2.0",
            "_view_name": "LayoutView",
            "align_content": null,
            "align_items": null,
            "align_self": null,
            "border": null,
            "bottom": null,
            "display": null,
            "flex": null,
            "flex_flow": null,
            "grid_area": null,
            "grid_auto_columns": null,
            "grid_auto_flow": null,
            "grid_auto_rows": null,
            "grid_column": null,
            "grid_gap": null,
            "grid_row": null,
            "grid_template_areas": null,
            "grid_template_columns": null,
            "grid_template_rows": null,
            "height": null,
            "justify_content": null,
            "justify_items": null,
            "left": null,
            "margin": null,
            "max_height": null,
            "max_width": null,
            "min_height": null,
            "min_width": null,
            "object_fit": null,
            "object_position": null,
            "order": null,
            "overflow": null,
            "overflow_x": null,
            "overflow_y": null,
            "padding": null,
            "right": null,
            "top": null,
            "visibility": null,
            "width": null
          }
        },
        "e03b138240164aa4bd6f38e57e0e731a": {
          "model_module": "@jupyter-widgets/controls",
          "model_name": "DescriptionStyleModel",
          "model_module_version": "1.5.0",
          "state": {
            "_model_module": "@jupyter-widgets/controls",
            "_model_module_version": "1.5.0",
            "_model_name": "DescriptionStyleModel",
            "_view_count": null,
            "_view_module": "@jupyter-widgets/base",
            "_view_module_version": "1.2.0",
            "_view_name": "StyleView",
            "description_width": ""
          }
        },
        "3ad395908ad1474997be3225cd5343a0": {
          "model_module": "@jupyter-widgets/controls",
          "model_name": "HBoxModel",
          "model_module_version": "1.5.0",
          "state": {
            "_dom_classes": [],
            "_model_module": "@jupyter-widgets/controls",
            "_model_module_version": "1.5.0",
            "_model_name": "HBoxModel",
            "_view_count": null,
            "_view_module": "@jupyter-widgets/controls",
            "_view_module_version": "1.5.0",
            "_view_name": "HBoxView",
            "box_style": "",
            "children": [
              "IPY_MODEL_15ef77a511434156804aa734c6147db6",
              "IPY_MODEL_0cdc90fa689f4d9a94714a72f5153ffc",
              "IPY_MODEL_315c462dbcd741a3aaf2ce5e1851d22e"
            ],
            "layout": "IPY_MODEL_32e7f7c0f2be4132a0bf9f1d83739065"
          }
        },
        "15ef77a511434156804aa734c6147db6": {
          "model_module": "@jupyter-widgets/controls",
          "model_name": "HTMLModel",
          "model_module_version": "1.5.0",
          "state": {
            "_dom_classes": [],
            "_model_module": "@jupyter-widgets/controls",
            "_model_module_version": "1.5.0",
            "_model_name": "HTMLModel",
            "_view_count": null,
            "_view_module": "@jupyter-widgets/controls",
            "_view_module_version": "1.5.0",
            "_view_name": "HTMLView",
            "description": "",
            "description_tooltip": null,
            "layout": "IPY_MODEL_65c6c82262144eb9ad2d18e13b669e8d",
            "placeholder": "​",
            "style": "IPY_MODEL_1b99cb9c49e945be9aa157b41c05198e",
            "value": ""
          }
        },
        "0cdc90fa689f4d9a94714a72f5153ffc": {
          "model_module": "@jupyter-widgets/controls",
          "model_name": "FloatProgressModel",
          "model_module_version": "1.5.0",
          "state": {
            "_dom_classes": [],
            "_model_module": "@jupyter-widgets/controls",
            "_model_module_version": "1.5.0",
            "_model_name": "FloatProgressModel",
            "_view_count": null,
            "_view_module": "@jupyter-widgets/controls",
            "_view_module_version": "1.5.0",
            "_view_name": "ProgressView",
            "bar_style": "success",
            "description": "",
            "description_tooltip": null,
            "layout": "IPY_MODEL_dbc1663a600f4e4fb675e272ae70fe1b",
            "max": 1,
            "min": 0,
            "orientation": "horizontal",
            "style": "IPY_MODEL_554df0482ec34f9b8293b8d06ee519af",
            "value": 0
          }
        },
        "315c462dbcd741a3aaf2ce5e1851d22e": {
          "model_module": "@jupyter-widgets/controls",
          "model_name": "HTMLModel",
          "model_module_version": "1.5.0",
          "state": {
            "_dom_classes": [],
            "_model_module": "@jupyter-widgets/controls",
            "_model_module_version": "1.5.0",
            "_model_name": "HTMLModel",
            "_view_count": null,
            "_view_module": "@jupyter-widgets/controls",
            "_view_module_version": "1.5.0",
            "_view_name": "HTMLView",
            "description": "",
            "description_tooltip": null,
            "layout": "IPY_MODEL_fdbba330f45140c39654b037c9ae2e4f",
            "placeholder": "​",
            "style": "IPY_MODEL_90fc0049b99140a893a023baf4a4c1c8",
            "value": " 0/0 [00:00&lt;?, ?it/s]"
          }
        },
        "32e7f7c0f2be4132a0bf9f1d83739065": {
          "model_module": "@jupyter-widgets/base",
          "model_name": "LayoutModel",
          "model_module_version": "1.2.0",
          "state": {
            "_model_module": "@jupyter-widgets/base",
            "_model_module_version": "1.2.0",
            "_model_name": "LayoutModel",
            "_view_count": null,
            "_view_module": "@jupyter-widgets/base",
            "_view_module_version": "1.2.0",
            "_view_name": "LayoutView",
            "align_content": null,
            "align_items": null,
            "align_self": null,
            "border": null,
            "bottom": null,
            "display": null,
            "flex": null,
            "flex_flow": null,
            "grid_area": null,
            "grid_auto_columns": null,
            "grid_auto_flow": null,
            "grid_auto_rows": null,
            "grid_column": null,
            "grid_gap": null,
            "grid_row": null,
            "grid_template_areas": null,
            "grid_template_columns": null,
            "grid_template_rows": null,
            "height": null,
            "justify_content": null,
            "justify_items": null,
            "left": null,
            "margin": null,
            "max_height": null,
            "max_width": null,
            "min_height": null,
            "min_width": null,
            "object_fit": null,
            "object_position": null,
            "order": null,
            "overflow": null,
            "overflow_x": null,
            "overflow_y": null,
            "padding": null,
            "right": null,
            "top": null,
            "visibility": null,
            "width": null
          }
        },
        "65c6c82262144eb9ad2d18e13b669e8d": {
          "model_module": "@jupyter-widgets/base",
          "model_name": "LayoutModel",
          "model_module_version": "1.2.0",
          "state": {
            "_model_module": "@jupyter-widgets/base",
            "_model_module_version": "1.2.0",
            "_model_name": "LayoutModel",
            "_view_count": null,
            "_view_module": "@jupyter-widgets/base",
            "_view_module_version": "1.2.0",
            "_view_name": "LayoutView",
            "align_content": null,
            "align_items": null,
            "align_self": null,
            "border": null,
            "bottom": null,
            "display": null,
            "flex": null,
            "flex_flow": null,
            "grid_area": null,
            "grid_auto_columns": null,
            "grid_auto_flow": null,
            "grid_auto_rows": null,
            "grid_column": null,
            "grid_gap": null,
            "grid_row": null,
            "grid_template_areas": null,
            "grid_template_columns": null,
            "grid_template_rows": null,
            "height": null,
            "justify_content": null,
            "justify_items": null,
            "left": null,
            "margin": null,
            "max_height": null,
            "max_width": null,
            "min_height": null,
            "min_width": null,
            "object_fit": null,
            "object_position": null,
            "order": null,
            "overflow": null,
            "overflow_x": null,
            "overflow_y": null,
            "padding": null,
            "right": null,
            "top": null,
            "visibility": null,
            "width": null
          }
        },
        "1b99cb9c49e945be9aa157b41c05198e": {
          "model_module": "@jupyter-widgets/controls",
          "model_name": "DescriptionStyleModel",
          "model_module_version": "1.5.0",
          "state": {
            "_model_module": "@jupyter-widgets/controls",
            "_model_module_version": "1.5.0",
            "_model_name": "DescriptionStyleModel",
            "_view_count": null,
            "_view_module": "@jupyter-widgets/base",
            "_view_module_version": "1.2.0",
            "_view_name": "StyleView",
            "description_width": ""
          }
        },
        "dbc1663a600f4e4fb675e272ae70fe1b": {
          "model_module": "@jupyter-widgets/base",
          "model_name": "LayoutModel",
          "model_module_version": "1.2.0",
          "state": {
            "_model_module": "@jupyter-widgets/base",
            "_model_module_version": "1.2.0",
            "_model_name": "LayoutModel",
            "_view_count": null,
            "_view_module": "@jupyter-widgets/base",
            "_view_module_version": "1.2.0",
            "_view_name": "LayoutView",
            "align_content": null,
            "align_items": null,
            "align_self": null,
            "border": null,
            "bottom": null,
            "display": null,
            "flex": null,
            "flex_flow": null,
            "grid_area": null,
            "grid_auto_columns": null,
            "grid_auto_flow": null,
            "grid_auto_rows": null,
            "grid_column": null,
            "grid_gap": null,
            "grid_row": null,
            "grid_template_areas": null,
            "grid_template_columns": null,
            "grid_template_rows": null,
            "height": null,
            "justify_content": null,
            "justify_items": null,
            "left": null,
            "margin": null,
            "max_height": null,
            "max_width": null,
            "min_height": null,
            "min_width": null,
            "object_fit": null,
            "object_position": null,
            "order": null,
            "overflow": null,
            "overflow_x": null,
            "overflow_y": null,
            "padding": null,
            "right": null,
            "top": null,
            "visibility": null,
            "width": "20px"
          }
        },
        "554df0482ec34f9b8293b8d06ee519af": {
          "model_module": "@jupyter-widgets/controls",
          "model_name": "ProgressStyleModel",
          "model_module_version": "1.5.0",
          "state": {
            "_model_module": "@jupyter-widgets/controls",
            "_model_module_version": "1.5.0",
            "_model_name": "ProgressStyleModel",
            "_view_count": null,
            "_view_module": "@jupyter-widgets/base",
            "_view_module_version": "1.2.0",
            "_view_name": "StyleView",
            "bar_color": null,
            "description_width": ""
          }
        },
        "fdbba330f45140c39654b037c9ae2e4f": {
          "model_module": "@jupyter-widgets/base",
          "model_name": "LayoutModel",
          "model_module_version": "1.2.0",
          "state": {
            "_model_module": "@jupyter-widgets/base",
            "_model_module_version": "1.2.0",
            "_model_name": "LayoutModel",
            "_view_count": null,
            "_view_module": "@jupyter-widgets/base",
            "_view_module_version": "1.2.0",
            "_view_name": "LayoutView",
            "align_content": null,
            "align_items": null,
            "align_self": null,
            "border": null,
            "bottom": null,
            "display": null,
            "flex": null,
            "flex_flow": null,
            "grid_area": null,
            "grid_auto_columns": null,
            "grid_auto_flow": null,
            "grid_auto_rows": null,
            "grid_column": null,
            "grid_gap": null,
            "grid_row": null,
            "grid_template_areas": null,
            "grid_template_columns": null,
            "grid_template_rows": null,
            "height": null,
            "justify_content": null,
            "justify_items": null,
            "left": null,
            "margin": null,
            "max_height": null,
            "max_width": null,
            "min_height": null,
            "min_width": null,
            "object_fit": null,
            "object_position": null,
            "order": null,
            "overflow": null,
            "overflow_x": null,
            "overflow_y": null,
            "padding": null,
            "right": null,
            "top": null,
            "visibility": null,
            "width": null
          }
        },
        "90fc0049b99140a893a023baf4a4c1c8": {
          "model_module": "@jupyter-widgets/controls",
          "model_name": "DescriptionStyleModel",
          "model_module_version": "1.5.0",
          "state": {
            "_model_module": "@jupyter-widgets/controls",
            "_model_module_version": "1.5.0",
            "_model_name": "DescriptionStyleModel",
            "_view_count": null,
            "_view_module": "@jupyter-widgets/base",
            "_view_module_version": "1.2.0",
            "_view_name": "StyleView",
            "description_width": ""
          }
        }
      }
    }
  },
  "nbformat": 4,
  "nbformat_minor": 0
}