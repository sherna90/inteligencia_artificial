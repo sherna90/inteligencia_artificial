{
 "cells": [
  {
   "cell_type": "markdown",
   "metadata": {
    "id": "z0W32S0wFqzf"
   },
   "source": [
    "# Reconocimiento de Actividades Humanas\n",
    "\n",
    "En este laboratorio usaremos registro de actividades capturado por smartphones que fueron desarrolladas por 30 personas distintas. Entre las actividades se incluyen:\n",
    "\n",
    "    1 WALKING\n",
    "    2 WALKING_UPSTAIRS\n",
    "    3 WALKING_DOWNSTAIRS\n",
    "    4 SITTING\n",
    "    5 STANDING\n",
    "    6 LAYING\n",
    "\n",
    "Al mismo tiempo, cada registro de la base de datos incluye las siguientes mediciones:ç\n",
    "\n",
    "-  Aceleracion total y aceleracion del cuerpo estimada en los 3 ejes (X-Y-Z)\n",
    "-  Velocidad angular del giroscopio en 3 los ejes (X-Y-Z)\n",
    "-  Un vector de dimensionalidad 561 con descriptores derivados a partir de los datos de movimiento.\n",
    "-  Etiqueta de actividad\n",
    "-  Un identificador de la persona que ejecuta la actividad\n",
    "\n",
    "Los datos originales se pueden encontrar en [este enlace](https://archive.ics.uci.edu/ml/datasets/Human+Activity+Recognition+Using+Smartphones#)\n",
    "\n",
    "Más información del dataset se encuentra en:\n",
    "\n",
    "- Davide Anguita, Alessandro Ghio, Luca Oneto, Xavier Parra and Jorge L. Reyes-Ortiz. A Public Domain Dataset for Human Activity Recognition Using Smartphones. 21th European Symposium on Artificial Neural Networks, Computational Intelligence and Machine Learning, ESANN 2013. Bruges, Belgium 24-26 April 2013. "
   ]
  },
  {
   "cell_type": "code",
   "execution_count": 1,
   "metadata": {
    "colab": {
     "base_uri": "https://localhost:8080/"
    },
    "id": "7wh1ffmyFqzf",
    "outputId": "ea1db297-1678-453e-e7c8-c5ffa3195aa9"
   },
   "outputs": [
    {
     "name": "stdout",
     "output_type": "stream",
     "text": [
      "Google Colab?  False\n"
     ]
    }
   ],
   "source": [
    "try:\n",
    "    # %tensorflow_version only exists in Colab.\n",
    "    %tensorflow_version 2.x\n",
    "    IS_COLAB = True\n",
    "except Exception:\n",
    "    IS_COLAB = False\n",
    "\n",
    "\n",
    "print('Google Colab? ',IS_COLAB)"
   ]
  },
  {
   "cell_type": "code",
   "execution_count": 2,
   "metadata": {},
   "outputs": [
    {
     "name": "stdout",
     "output_type": "stream",
     "text": [
      "x_test.npy  x_train.npy  y_test.npy  y_train.npy\r\n"
     ]
    }
   ],
   "source": [
    "!ls HAR"
   ]
  },
  {
   "cell_type": "code",
   "execution_count": 3,
   "metadata": {
    "colab": {
     "base_uri": "https://localhost:8080/"
    },
    "id": "_q8VDBQBFqzh",
    "outputId": "3debeead-9672-4de3-dc80-4bf4d027dfcb"
   },
   "outputs": [
    {
     "name": "stdout",
     "output_type": "stream",
     "text": [
      "--2021-11-10 18:05:26--  https://ucmcl-my.sharepoint.com/:u:/g/personal/shernandez_ucm_cl/EWvE2qLEt7lGkusfUcjYHnMBbtVOqIrdzY15Dnd2hHDUJA?e=NAeghv&download=1\n",
      "Resolviendo ucmcl-my.sharepoint.com (ucmcl-my.sharepoint.com)... 13.107.136.9, 13.107.138.9\n",
      "Conectando con ucmcl-my.sharepoint.com (ucmcl-my.sharepoint.com)[13.107.136.9]:443... conectado.\n",
      "Petición HTTP enviada, esperando respuesta... 302 Found\n",
      "Ubicación: /personal/shernandez_ucm_cl/Documents/HAR.tar.xz [siguiente]\n",
      "--2021-11-10 18:05:26--  https://ucmcl-my.sharepoint.com/personal/shernandez_ucm_cl/Documents/HAR.tar.xz\n",
      "Reutilizando la conexión con ucmcl-my.sharepoint.com:443.\n",
      "Petición HTTP enviada, esperando respuesta... 416 REQUESTED RANGE NOT SATISFIABLE\n",
      "\n",
      "    El archivo ya se ha obtenido por completo; no hay nada que hacer.\n",
      "\n"
     ]
    }
   ],
   "source": [
    "if not IS_COLAB:\n",
    "    ! wget  -c \"https://ucmcl-my.sharepoint.com/:u:/g/personal/shernandez_ucm_cl/EWvE2qLEt7lGkusfUcjYHnMBbtVOqIrdzY15Dnd2hHDUJA?e=NAeghv&download=1\" -O HAR.tar.xz\n",
    "    ! tar -xf HAR.tar.xz "
   ]
  },
  {
   "cell_type": "code",
   "execution_count": 4,
   "metadata": {
    "colab": {
     "base_uri": "https://localhost:8080/"
    },
    "id": "sLcHtvJPNMST",
    "outputId": "019e27fb-88d3-4165-dd95-f323da9f8c3e"
   },
   "outputs": [
    {
     "name": "stdout",
     "output_type": "stream",
     "text": [
      "x_test.npy  x_train.npy  y_test.npy  y_train.npy\r\n"
     ]
    }
   ],
   "source": [
    "! ls HAR"
   ]
  },
  {
   "cell_type": "code",
   "execution_count": 4,
   "metadata": {
    "id": "0tnr_ZgBFqzh"
   },
   "outputs": [],
   "source": [
    "import numpy as np\n",
    "\n",
    "X_train=np.load('HAR/x_train.npy')\n",
    "X_test=np.load('HAR/x_test.npy')\n",
    "y_train=np.load('HAR/y_train.npy')\n",
    "y_test=np.load('HAR/y_test.npy')\n",
    "\n",
    "label_to_activity = {1: 'walking horizontally', 2: 'walking upstairs', 3: 'walking downstairs',\n",
    "                     4: 'sitting', 5: 'standing', 6: 'laying'}"
   ]
  },
  {
   "cell_type": "code",
   "execution_count": 5,
   "metadata": {
    "id": "vAjlP5ksFqzh",
    "outputId": "c7b04091-5d9c-41b6-f41f-7b86924711a1"
   },
   "outputs": [
    {
     "data": {
      "text/plain": [
       "(7352, 1)"
      ]
     },
     "execution_count": 5,
     "metadata": {},
     "output_type": "execute_result"
    }
   ],
   "source": [
    "y_train.shape"
   ]
  },
  {
   "cell_type": "code",
   "execution_count": 6,
   "metadata": {
    "colab": {
     "base_uri": "https://localhost:8080/"
    },
    "id": "7HDPN5M5Fqzh",
    "outputId": "55efce25-4a81-4351-c517-df2122797e47"
   },
   "outputs": [
    {
     "data": {
      "text/plain": [
       "array([1, 2, 3, 4, 5, 6])"
      ]
     },
     "execution_count": 6,
     "metadata": {},
     "output_type": "execute_result"
    }
   ],
   "source": [
    "np.unique(y_train)"
   ]
  },
  {
   "cell_type": "code",
   "execution_count": 7,
   "metadata": {
    "colab": {
     "base_uri": "https://localhost:8080/"
    },
    "id": "3vrwnvJsFqzh",
    "outputId": "f311f096-3a64-469c-cc84-7658d0e291a4"
   },
   "outputs": [
    {
     "name": "stdout",
     "output_type": "stream",
     "text": [
      "(7352, 128, 9)\n"
     ]
    }
   ],
   "source": [
    "print(X_train.shape)"
   ]
  },
  {
   "cell_type": "code",
   "execution_count": 8,
   "metadata": {
    "colab": {
     "base_uri": "https://localhost:8080/",
     "height": 749
    },
    "id": "O36ei9pIFqzi",
    "outputId": "8ea7bee1-3153-4673-f9eb-badb49ab131f"
   },
   "outputs": [
    {
     "data": {
      "image/png": "[encoded data removed]",
      "text/plain": [
       "<Figure size 720x72 with 1 Axes>"
      ]
     },
     "metadata": {
      "needs_background": "light"
     },
     "output_type": "display_data"
    },
    {
     "data": {
      "image/png": "[encoded data removed]",
      "text/plain": [
       "<Figure size 720x72 with 1 Axes>"
      ]
     },
     "metadata": {
      "needs_background": "light"
     },
     "output_type": "display_data"
    },
    {
     "data": {
      "image/png": "[encoded data removed]",
      "text/plain": [
       "<Figure size 720x72 with 1 Axes>"
      ]
     },
     "metadata": {
      "needs_background": "light"
     },
     "output_type": "display_data"
    },
    {
     "data": {
      "image/png": "[encoded data removed]",
      "text/plain": [
       "<Figure size 720x72 with 1 Axes>"
      ]
     },
     "metadata": {
      "needs_background": "light"
     },
     "output_type": "display_data"
    },
    {
     "data": {
      "image/png": "[encoded data removed]",
      "text/plain": [
       "<Figure size 720x72 with 1 Axes>"
      ]
     },
     "metadata": {
      "needs_background": "light"
     },
     "output_type": "display_data"
    },
    {
     "data": {
      "image/png": "[encoded data removed]",
      "text/plain": [
       "<Figure size 720x72 with 1 Axes>"
      ]
     },
     "metadata": {
      "needs_background": "light"
     },
     "output_type": "display_data"
    },
    {
     "data": {
      "image/png": "[encoded data removed]",
      "text/plain": [
       "<Figure size 720x72 with 1 Axes>"
      ]
     },
     "metadata": {
      "needs_background": "light"
     },
     "output_type": "display_data"
    },
    {
     "data": {
      "image/png": "[encoded data removed]",
      "text/plain": [
       "<Figure size 720x72 with 1 Axes>"
      ]
     },
     "metadata": {
      "needs_background": "light"
     },
     "output_type": "display_data"
    },
    {
     "data": {
      "image/png": "[encoded data removed]",
      "text/plain": [
       "<Figure size 720x72 with 1 Axes>"
      ]
     },
     "metadata": {
      "needs_background": "light"
     },
     "output_type": "display_data"
    },
    {
     "data": {
      "image/png": "[encoded data removed]",
      "text/plain": [
       "<Figure size 720x72 with 1 Axes>"
      ]
     },
     "metadata": {
      "needs_background": "light"
     },
     "output_type": "display_data"
    },
    {
     "data": {
      "image/png": "[encoded data removed]",
      "text/plain": [
       "<Figure size 720x72 with 1 Axes>"
      ]
     },
     "metadata": {
      "needs_background": "light"
     },
     "output_type": "display_data"
    },
    {
     "data": {
      "image/png": "[encoded data removed]",
      "text/plain": [
       "<Figure size 720x72 with 1 Axes>"
      ]
     },
     "metadata": {
      "needs_background": "light"
     },
     "output_type": "display_data"
    }
   ],
   "source": [
    "import matplotlib.pyplot as plt\n",
    "\n",
    "def make_plots(num_examples_per_category):\n",
    "    for label in range(1,7):\n",
    "        x_label = X_train[y_train[:, 0] == label]\n",
    "        for i in range(num_examples_per_category):\n",
    "            fig, ax = plt.subplots(figsize=(10, 1))\n",
    "            ax.imshow(x_label[100*i].T, cmap='Greys', vmin=-1, vmax=1)\n",
    "            ax.axis('off')\n",
    "            if i == 0:\n",
    "                ax.set_title(label_to_activity[label])\n",
    "            plt.show()\n",
    "        \n",
    "make_plots(2)"
   ]
  },
  {
   "cell_type": "code",
   "execution_count": 9,
   "metadata": {
    "colab": {
     "base_uri": "https://localhost:8080/"
    },
    "id": "_N33_sx_Fqzi",
    "outputId": "b3bf84e3-5e90-4a41-e0d3-dd48a4ce0fe8"
   },
   "outputs": [
    {
     "name": "stdout",
     "output_type": "stream",
     "text": [
      "Model: \"sequential\"\n",
      "_________________________________________________________________\n",
      "Layer (type)                 Output Shape              Param #   \n",
      "=================================================================\n",
      "flatten (Flatten)            (None, 1152)              0         \n",
      "_________________________________________________________________\n",
      "dense (Dense)                (None, 32)                36896     \n",
      "_________________________________________________________________\n",
      "dense_1 (Dense)              (None, 6)                 198       \n",
      "=================================================================\n",
      "Total params: 37,094\n",
      "Trainable params: 37,094\n",
      "Non-trainable params: 0\n",
      "_________________________________________________________________\n"
     ]
    }
   ],
   "source": [
    "import tensorflow as tf\n",
    "from tensorflow import keras \n",
    "from tensorflow.keras.utils import to_categorical\n",
    "from tensorflow.keras.layers import Flatten,Dense\n",
    "\n",
    "model = keras.models.Sequential([\n",
    "    Flatten(input_shape=X_train.shape[1:]),\n",
    "    Dense(32,activation=\"relu\"),\n",
    "    Dense(6,activation=\"softmax\")\n",
    "])\n",
    "model.summary()"
   ]
  },
  {
   "cell_type": "code",
   "execution_count": 10,
   "metadata": {
    "id": "5erQzSsIFqzi"
   },
   "outputs": [],
   "source": [
    "y_train_onehot=to_categorical(y_train-1)\n",
    "y_test_onehot=to_categorical(y_test-1)"
   ]
  },
  {
   "cell_type": "code",
   "execution_count": 12,
   "metadata": {
    "colab": {
     "base_uri": "https://localhost:8080/"
    },
    "id": "AwDHHyNPFqzi",
    "outputId": "44b81d38-35de-4634-ad20-6d3089671b8a"
   },
   "outputs": [
    {
     "name": "stdout",
     "output_type": "stream",
     "text": [
      "Epoch 1/100\n",
      "15/15 [==============================] - 1s 31ms/step - loss: 1.7196 - accuracy: 0.3081 - val_loss: 1.2442 - val_accuracy: 0.5484\n",
      "Epoch 2/100\n",
      "15/15 [==============================] - 0s 7ms/step - loss: 1.1436 - accuracy: 0.5836 - val_loss: 1.1180 - val_accuracy: 0.5819\n",
      "Epoch 3/100\n",
      "15/15 [==============================] - 0s 6ms/step - loss: 0.9875 - accuracy: 0.6474 - val_loss: 1.0903 - val_accuracy: 0.6264\n",
      "Epoch 4/100\n",
      "15/15 [==============================] - 0s 6ms/step - loss: 0.9077 - accuracy: 0.6908 - val_loss: 1.0541 - val_accuracy: 0.6356\n",
      "Epoch 5/100\n",
      "15/15 [==============================] - 0s 6ms/step - loss: 0.8348 - accuracy: 0.7278 - val_loss: 1.0273 - val_accuracy: 0.6688\n",
      "Epoch 6/100\n",
      "15/15 [==============================] - 0s 6ms/step - loss: 0.7684 - accuracy: 0.7625 - val_loss: 0.9558 - val_accuracy: 0.6854\n",
      "Epoch 7/100\n",
      "15/15 [==============================] - 0s 6ms/step - loss: 0.6869 - accuracy: 0.7836 - val_loss: 0.9028 - val_accuracy: 0.7319\n",
      "Epoch 8/100\n",
      "15/15 [==============================] - 0s 7ms/step - loss: 0.6324 - accuracy: 0.8153 - val_loss: 0.8468 - val_accuracy: 0.7377\n",
      "Epoch 9/100\n",
      "15/15 [==============================] - 0s 7ms/step - loss: 0.5749 - accuracy: 0.8280 - val_loss: 0.8022 - val_accuracy: 0.7550\n",
      "Epoch 10/100\n",
      "15/15 [==============================] - 0s 6ms/step - loss: 0.5220 - accuracy: 0.8445 - val_loss: 0.7678 - val_accuracy: 0.7676\n",
      "Epoch 11/100\n",
      "15/15 [==============================] - 0s 6ms/step - loss: 0.4942 - accuracy: 0.8527 - val_loss: 0.7467 - val_accuracy: 0.7638\n",
      "Epoch 12/100\n",
      "15/15 [==============================] - 0s 7ms/step - loss: 0.4486 - accuracy: 0.8672 - val_loss: 0.7168 - val_accuracy: 0.7757\n",
      "Epoch 13/100\n",
      "15/15 [==============================] - 0s 6ms/step - loss: 0.4258 - accuracy: 0.8672 - val_loss: 0.6986 - val_accuracy: 0.7767\n",
      "Epoch 14/100\n",
      "15/15 [==============================] - 0s 6ms/step - loss: 0.4072 - accuracy: 0.8750 - val_loss: 0.6812 - val_accuracy: 0.7791\n",
      "Epoch 15/100\n",
      "15/15 [==============================] - 0s 6ms/step - loss: 0.3931 - accuracy: 0.8816 - val_loss: 0.6831 - val_accuracy: 0.7835\n",
      "Epoch 16/100\n",
      "15/15 [==============================] - 0s 6ms/step - loss: 0.3662 - accuracy: 0.8898 - val_loss: 0.6530 - val_accuracy: 0.7988\n",
      "Epoch 17/100\n",
      "15/15 [==============================] - 0s 6ms/step - loss: 0.3623 - accuracy: 0.8840 - val_loss: 0.6388 - val_accuracy: 0.7998\n",
      "Epoch 18/100\n",
      "15/15 [==============================] - 0s 6ms/step - loss: 0.3418 - accuracy: 0.8879 - val_loss: 0.6306 - val_accuracy: 0.8049\n",
      "Epoch 19/100\n",
      "15/15 [==============================] - 0s 6ms/step - loss: 0.3267 - accuracy: 0.9001 - val_loss: 0.6224 - val_accuracy: 0.8066\n",
      "Epoch 20/100\n",
      "15/15 [==============================] - 0s 6ms/step - loss: 0.3192 - accuracy: 0.8921 - val_loss: 0.6126 - val_accuracy: 0.8137\n",
      "Epoch 21/100\n",
      "15/15 [==============================] - 0s 6ms/step - loss: 0.3137 - accuracy: 0.8970 - val_loss: 0.6037 - val_accuracy: 0.8174\n",
      "Epoch 22/100\n",
      "15/15 [==============================] - 0s 6ms/step - loss: 0.3019 - accuracy: 0.9047 - val_loss: 0.5928 - val_accuracy: 0.8178\n",
      "Epoch 23/100\n",
      "15/15 [==============================] - 0s 6ms/step - loss: 0.2958 - accuracy: 0.9009 - val_loss: 0.5923 - val_accuracy: 0.8130\n",
      "Epoch 24/100\n",
      "15/15 [==============================] - 0s 6ms/step - loss: 0.2872 - accuracy: 0.9080 - val_loss: 0.5870 - val_accuracy: 0.8246\n",
      "Epoch 25/100\n",
      "15/15 [==============================] - 0s 6ms/step - loss: 0.2764 - accuracy: 0.9074 - val_loss: 0.5801 - val_accuracy: 0.8202\n",
      "Epoch 26/100\n",
      "15/15 [==============================] - 0s 6ms/step - loss: 0.2721 - accuracy: 0.9187 - val_loss: 0.5792 - val_accuracy: 0.8229\n",
      "Epoch 27/100\n",
      "15/15 [==============================] - 0s 6ms/step - loss: 0.2657 - accuracy: 0.9152 - val_loss: 0.5721 - val_accuracy: 0.8310\n",
      "Epoch 28/100\n",
      "15/15 [==============================] - 0s 6ms/step - loss: 0.2627 - accuracy: 0.9118 - val_loss: 0.5579 - val_accuracy: 0.8307\n",
      "Epoch 29/100\n",
      "15/15 [==============================] - 0s 6ms/step - loss: 0.2445 - accuracy: 0.9199 - val_loss: 0.5625 - val_accuracy: 0.8259\n",
      "Epoch 30/100\n",
      "15/15 [==============================] - 0s 6ms/step - loss: 0.2495 - accuracy: 0.9141 - val_loss: 0.5552 - val_accuracy: 0.8307\n",
      "Epoch 31/100\n",
      "15/15 [==============================] - 0s 6ms/step - loss: 0.2418 - accuracy: 0.9188 - val_loss: 0.5473 - val_accuracy: 0.8398\n",
      "Epoch 32/100\n",
      "15/15 [==============================] - 0s 6ms/step - loss: 0.2429 - accuracy: 0.9161 - val_loss: 0.5589 - val_accuracy: 0.8256\n",
      "Epoch 33/100\n",
      "15/15 [==============================] - 0s 6ms/step - loss: 0.2311 - accuracy: 0.9257 - val_loss: 0.5481 - val_accuracy: 0.8392\n",
      "Epoch 34/100\n",
      "15/15 [==============================] - 0s 6ms/step - loss: 0.2304 - accuracy: 0.9192 - val_loss: 0.5479 - val_accuracy: 0.8436\n",
      "Epoch 35/100\n",
      "15/15 [==============================] - 0s 6ms/step - loss: 0.2282 - accuracy: 0.9225 - val_loss: 0.5419 - val_accuracy: 0.8395\n",
      "Epoch 36/100\n",
      "15/15 [==============================] - 0s 6ms/step - loss: 0.2146 - accuracy: 0.9321 - val_loss: 0.5354 - val_accuracy: 0.8375\n",
      "Epoch 37/100\n",
      "15/15 [==============================] - 0s 6ms/step - loss: 0.2209 - accuracy: 0.9283 - val_loss: 0.5315 - val_accuracy: 0.8500\n",
      "Epoch 38/100\n",
      "15/15 [==============================] - 0s 6ms/step - loss: 0.2193 - accuracy: 0.9218 - val_loss: 0.5395 - val_accuracy: 0.8463\n",
      "Epoch 39/100\n",
      "15/15 [==============================] - 0s 6ms/step - loss: 0.2090 - accuracy: 0.9278 - val_loss: 0.5371 - val_accuracy: 0.8398\n",
      "Epoch 40/100\n",
      "15/15 [==============================] - 0s 6ms/step - loss: 0.2085 - accuracy: 0.9282 - val_loss: 0.5392 - val_accuracy: 0.8409\n",
      "Epoch 41/100\n",
      "15/15 [==============================] - 0s 6ms/step - loss: 0.2018 - accuracy: 0.9299 - val_loss: 0.5297 - val_accuracy: 0.8524\n",
      "Epoch 42/100\n",
      "15/15 [==============================] - 0s 6ms/step - loss: 0.2017 - accuracy: 0.9290 - val_loss: 0.5337 - val_accuracy: 0.8409\n",
      "Epoch 43/100\n",
      "15/15 [==============================] - 0s 6ms/step - loss: 0.2051 - accuracy: 0.9352 - val_loss: 0.5336 - val_accuracy: 0.8507\n",
      "Epoch 44/100\n",
      "15/15 [==============================] - 0s 6ms/step - loss: 0.1955 - accuracy: 0.9324 - val_loss: 0.5338 - val_accuracy: 0.8524\n",
      "Epoch 45/100\n",
      "15/15 [==============================] - 0s 6ms/step - loss: 0.1936 - accuracy: 0.9313 - val_loss: 0.5341 - val_accuracy: 0.8548\n",
      "Epoch 46/100\n",
      "15/15 [==============================] - 0s 6ms/step - loss: 0.1903 - accuracy: 0.9323 - val_loss: 0.5273 - val_accuracy: 0.8493\n",
      "Epoch 47/100\n",
      "15/15 [==============================] - 0s 6ms/step - loss: 0.1850 - accuracy: 0.9335 - val_loss: 0.5267 - val_accuracy: 0.8531\n",
      "Epoch 48/100\n",
      "15/15 [==============================] - 0s 6ms/step - loss: 0.1883 - accuracy: 0.9326 - val_loss: 0.5246 - val_accuracy: 0.8493\n",
      "Epoch 49/100\n",
      "15/15 [==============================] - 0s 6ms/step - loss: 0.1816 - accuracy: 0.9381 - val_loss: 0.5264 - val_accuracy: 0.8568\n",
      "Epoch 50/100\n",
      "15/15 [==============================] - 0s 6ms/step - loss: 0.1823 - accuracy: 0.9356 - val_loss: 0.5274 - val_accuracy: 0.8551\n",
      "Epoch 51/100\n",
      "15/15 [==============================] - 0s 6ms/step - loss: 0.1831 - accuracy: 0.9398 - val_loss: 0.5246 - val_accuracy: 0.8459\n",
      "Epoch 52/100\n",
      "15/15 [==============================] - 0s 6ms/step - loss: 0.1756 - accuracy: 0.9450 - val_loss: 0.5305 - val_accuracy: 0.8541\n",
      "Epoch 53/100\n",
      "15/15 [==============================] - 0s 6ms/step - loss: 0.1705 - accuracy: 0.9420 - val_loss: 0.5299 - val_accuracy: 0.8537\n",
      "Epoch 54/100\n",
      "15/15 [==============================] - 0s 6ms/step - loss: 0.1716 - accuracy: 0.9403 - val_loss: 0.5260 - val_accuracy: 0.8578\n",
      "Epoch 55/100\n",
      "15/15 [==============================] - 0s 6ms/step - loss: 0.1699 - accuracy: 0.9442 - val_loss: 0.5259 - val_accuracy: 0.8578\n",
      "Epoch 56/100\n",
      "15/15 [==============================] - 0s 6ms/step - loss: 0.1666 - accuracy: 0.9393 - val_loss: 0.5243 - val_accuracy: 0.8490\n",
      "Epoch 57/100\n",
      "15/15 [==============================] - 0s 6ms/step - loss: 0.1722 - accuracy: 0.9418 - val_loss: 0.5236 - val_accuracy: 0.8507\n",
      "Epoch 58/100\n",
      "15/15 [==============================] - 0s 6ms/step - loss: 0.1704 - accuracy: 0.9465 - val_loss: 0.5258 - val_accuracy: 0.8571\n"
     ]
    },
    {
     "name": "stdout",
     "output_type": "stream",
     "text": [
      "Epoch 59/100\n",
      "15/15 [==============================] - 0s 6ms/step - loss: 0.1632 - accuracy: 0.9462 - val_loss: 0.5241 - val_accuracy: 0.8551\n",
      "Epoch 60/100\n",
      "15/15 [==============================] - 0s 6ms/step - loss: 0.1670 - accuracy: 0.9414 - val_loss: 0.5233 - val_accuracy: 0.8504\n",
      "Epoch 61/100\n",
      "15/15 [==============================] - 0s 6ms/step - loss: 0.1594 - accuracy: 0.9476 - val_loss: 0.5278 - val_accuracy: 0.8521\n",
      "Epoch 62/100\n",
      "15/15 [==============================] - 0s 6ms/step - loss: 0.1615 - accuracy: 0.9515 - val_loss: 0.5293 - val_accuracy: 0.8565\n",
      "Epoch 63/100\n",
      "15/15 [==============================] - 0s 6ms/step - loss: 0.1569 - accuracy: 0.9484 - val_loss: 0.5290 - val_accuracy: 0.8595\n",
      "Epoch 64/100\n",
      "15/15 [==============================] - 0s 6ms/step - loss: 0.1602 - accuracy: 0.9412 - val_loss: 0.5252 - val_accuracy: 0.8510\n",
      "Epoch 65/100\n",
      "15/15 [==============================] - 0s 6ms/step - loss: 0.1615 - accuracy: 0.9432 - val_loss: 0.5292 - val_accuracy: 0.8616\n",
      "Epoch 66/100\n",
      "15/15 [==============================] - 0s 6ms/step - loss: 0.1634 - accuracy: 0.9441 - val_loss: 0.5291 - val_accuracy: 0.8463\n",
      "Epoch 67/100\n",
      "15/15 [==============================] - 0s 6ms/step - loss: 0.1526 - accuracy: 0.9509 - val_loss: 0.5289 - val_accuracy: 0.8544\n",
      "Epoch 68/100\n",
      "15/15 [==============================] - 0s 6ms/step - loss: 0.1564 - accuracy: 0.9445 - val_loss: 0.5366 - val_accuracy: 0.8592\n",
      "Epoch 69/100\n",
      "15/15 [==============================] - 0s 6ms/step - loss: 0.1552 - accuracy: 0.9469 - val_loss: 0.5314 - val_accuracy: 0.8548\n",
      "Epoch 70/100\n",
      "15/15 [==============================] - 0s 6ms/step - loss: 0.1588 - accuracy: 0.9461 - val_loss: 0.5331 - val_accuracy: 0.8571\n",
      "Epoch 71/100\n",
      "15/15 [==============================] - 0s 6ms/step - loss: 0.1490 - accuracy: 0.9495 - val_loss: 0.5330 - val_accuracy: 0.8602\n",
      "Epoch 72/100\n",
      "15/15 [==============================] - 0s 6ms/step - loss: 0.1509 - accuracy: 0.9469 - val_loss: 0.5358 - val_accuracy: 0.8612\n",
      "Epoch 73/100\n",
      "15/15 [==============================] - 0s 6ms/step - loss: 0.1463 - accuracy: 0.9501 - val_loss: 0.5337 - val_accuracy: 0.8548\n",
      "Epoch 74/100\n",
      "15/15 [==============================] - 0s 6ms/step - loss: 0.1491 - accuracy: 0.9548 - val_loss: 0.5376 - val_accuracy: 0.8605\n",
      "Epoch 75/100\n",
      "15/15 [==============================] - 0s 6ms/step - loss: 0.1466 - accuracy: 0.9501 - val_loss: 0.5370 - val_accuracy: 0.8561\n",
      "Epoch 76/100\n",
      "15/15 [==============================] - 0s 6ms/step - loss: 0.1514 - accuracy: 0.9486 - val_loss: 0.5395 - val_accuracy: 0.8507\n",
      "Epoch 77/100\n",
      "15/15 [==============================] - 0s 6ms/step - loss: 0.1468 - accuracy: 0.9517 - val_loss: 0.5386 - val_accuracy: 0.8551\n",
      "Epoch 78/100\n",
      "15/15 [==============================] - 0s 6ms/step - loss: 0.1497 - accuracy: 0.9484 - val_loss: 0.5381 - val_accuracy: 0.8605\n",
      "Epoch 79/100\n",
      "15/15 [==============================] - 0s 6ms/step - loss: 0.1435 - accuracy: 0.9509 - val_loss: 0.5397 - val_accuracy: 0.8582\n",
      "Epoch 80/100\n",
      "15/15 [==============================] - 0s 6ms/step - loss: 0.1454 - accuracy: 0.9477 - val_loss: 0.5413 - val_accuracy: 0.8619\n",
      "Epoch 81/100\n",
      "15/15 [==============================] - 0s 6ms/step - loss: 0.1422 - accuracy: 0.9482 - val_loss: 0.5410 - val_accuracy: 0.8554\n",
      "Epoch 82/100\n",
      "15/15 [==============================] - 0s 6ms/step - loss: 0.1449 - accuracy: 0.9524 - val_loss: 0.5434 - val_accuracy: 0.8524\n",
      "Epoch 83/100\n",
      "15/15 [==============================] - 0s 6ms/step - loss: 0.1399 - accuracy: 0.9543 - val_loss: 0.5410 - val_accuracy: 0.8558\n",
      "Epoch 84/100\n",
      "15/15 [==============================] - 0s 6ms/step - loss: 0.1414 - accuracy: 0.9509 - val_loss: 0.5456 - val_accuracy: 0.8531\n",
      "Epoch 85/100\n",
      "15/15 [==============================] - 0s 6ms/step - loss: 0.1338 - accuracy: 0.9550 - val_loss: 0.5450 - val_accuracy: 0.8578\n",
      "Epoch 86/100\n",
      "15/15 [==============================] - 0s 6ms/step - loss: 0.1336 - accuracy: 0.9530 - val_loss: 0.5481 - val_accuracy: 0.8609\n",
      "Epoch 87/100\n",
      "15/15 [==============================] - 0s 6ms/step - loss: 0.1359 - accuracy: 0.9493 - val_loss: 0.5461 - val_accuracy: 0.8609\n",
      "Epoch 88/100\n",
      "15/15 [==============================] - 0s 6ms/step - loss: 0.1318 - accuracy: 0.9550 - val_loss: 0.5507 - val_accuracy: 0.8595\n",
      "Epoch 89/100\n",
      "15/15 [==============================] - 0s 6ms/step - loss: 0.1367 - accuracy: 0.9507 - val_loss: 0.5482 - val_accuracy: 0.8575\n",
      "Epoch 90/100\n",
      "15/15 [==============================] - 0s 6ms/step - loss: 0.1300 - accuracy: 0.9594 - val_loss: 0.5479 - val_accuracy: 0.8537\n",
      "Epoch 91/100\n",
      "15/15 [==============================] - 0s 6ms/step - loss: 0.1369 - accuracy: 0.9533 - val_loss: 0.5461 - val_accuracy: 0.8588\n",
      "Epoch 92/100\n",
      "15/15 [==============================] - 0s 6ms/step - loss: 0.1309 - accuracy: 0.9575 - val_loss: 0.5505 - val_accuracy: 0.8622\n",
      "Epoch 93/100\n",
      "15/15 [==============================] - 0s 6ms/step - loss: 0.1279 - accuracy: 0.9538 - val_loss: 0.5468 - val_accuracy: 0.8565\n",
      "Epoch 94/100\n",
      "15/15 [==============================] - 0s 6ms/step - loss: 0.1286 - accuracy: 0.9554 - val_loss: 0.5507 - val_accuracy: 0.8616\n",
      "Epoch 95/100\n",
      "15/15 [==============================] - 0s 6ms/step - loss: 0.1311 - accuracy: 0.9567 - val_loss: 0.5541 - val_accuracy: 0.8612\n",
      "Epoch 96/100\n",
      "15/15 [==============================] - 0s 6ms/step - loss: 0.1369 - accuracy: 0.9515 - val_loss: 0.5646 - val_accuracy: 0.8554\n",
      "Epoch 97/100\n",
      "15/15 [==============================] - 0s 6ms/step - loss: 0.1307 - accuracy: 0.9525 - val_loss: 0.5541 - val_accuracy: 0.8585\n",
      "Epoch 98/100\n",
      "15/15 [==============================] - 0s 6ms/step - loss: 0.1263 - accuracy: 0.9555 - val_loss: 0.5598 - val_accuracy: 0.8609\n",
      "Epoch 99/100\n",
      "15/15 [==============================] - 0s 6ms/step - loss: 0.1387 - accuracy: 0.9478 - val_loss: 0.5512 - val_accuracy: 0.8582\n",
      "Epoch 100/100\n",
      "15/15 [==============================] - 0s 5ms/step - loss: 0.1255 - accuracy: 0.9555 - val_loss: 0.5531 - val_accuracy: 0.8595\n"
     ]
    }
   ],
   "source": [
    "opt = keras.optimizers.SGD(lr=0.01, momentum=0.9)\n",
    "model.compile(loss='categorical_crossentropy',\n",
    "              optimizer=opt,\n",
    "              metrics=['accuracy'])\n",
    "history = model.fit(X_train, y_train_onehot,batch_size=512,epochs=100, verbose=1,validation_data=(X_test, y_test_onehot))\n",
    "score = model.evaluate(X_test, y_test_onehot, verbose=0)"
   ]
  },
  {
   "cell_type": "code",
   "execution_count": 13,
   "metadata": {
    "colab": {
     "base_uri": "https://localhost:8080/"
    },
    "id": "wNyL2e8bFqzi",
    "outputId": "9221fcf6-cadf-4177-d619-330f08b3aaaa"
   },
   "outputs": [
    {
     "name": "stdout",
     "output_type": "stream",
     "text": [
      "validation loss : 0.55, validation accuracy : 0.86\n"
     ]
    }
   ],
   "source": [
    "print('validation loss : {0:0.2f}, validation accuracy : {1:0.2f}'.format(*score))"
   ]
  },
  {
   "cell_type": "code",
   "execution_count": 14,
   "metadata": {
    "colab": {
     "base_uri": "https://localhost:8080/",
     "height": 298
    },
    "id": "Gi_-8DXYFqzi",
    "outputId": "844a7330-0a00-4513-c7e1-f2790069a9a9"
   },
   "outputs": [
    {
     "data": {
      "text/plain": [
       "Text(0.5, 1.0, 'accuracy')"
      ]
     },
     "execution_count": 14,
     "metadata": {},
     "output_type": "execute_result"
    },
    {
     "data": {
      "image/png": "[encoded data removed]",
      "text/plain": [
       "<Figure size 1080x288 with 2 Axes>"
      ]
     },
     "metadata": {
      "needs_background": "light"
     },
     "output_type": "display_data"
    }
   ],
   "source": [
    "import matplotlib.pyplot as plt\n",
    "\n",
    "plt.figure(figsize=(15,4))\n",
    "plt.subplot(1, 2, 1)\n",
    "plt.plot(history.history['loss'])\n",
    "plt.plot(history.history['val_loss'])\n",
    "plt.title('loss')\n",
    "plt.subplot(1, 2, 2)\n",
    "plt.plot(history.history['accuracy'])\n",
    "plt.plot(history.history['val_accuracy'])\n",
    "plt.title('accuracy')"
   ]
  },
  {
   "cell_type": "code",
   "execution_count": 15,
   "metadata": {
    "id": "XQ7KpibpFqzi"
   },
   "outputs": [],
   "source": [
    "from tensorflow.keras.layers import Flatten,Dense,SimpleRNN\n",
    "\n",
    "rnn_model = keras.models.Sequential([\n",
    "    SimpleRNN(32, return_sequences=True, input_shape=X_train.shape[1:]),\n",
    "    SimpleRNN(32),\n",
    "    Dense(6,activation=\"softmax\")\n",
    "])"
   ]
  },
  {
   "cell_type": "code",
   "execution_count": 16,
   "metadata": {
    "colab": {
     "base_uri": "https://localhost:8080/"
    },
    "id": "4aV1ZEcgFqzi",
    "outputId": "7b89848e-b04f-4bdf-c95b-24012ad3db95"
   },
   "outputs": [
    {
     "name": "stdout",
     "output_type": "stream",
     "text": [
      "Model: \"sequential_1\"\n",
      "_________________________________________________________________\n",
      "Layer (type)                 Output Shape              Param #   \n",
      "=================================================================\n",
      "simple_rnn (SimpleRNN)       (None, 128, 32)           1344      \n",
      "_________________________________________________________________\n",
      "simple_rnn_1 (SimpleRNN)     (None, 32)                2080      \n",
      "_________________________________________________________________\n",
      "dense_2 (Dense)              (None, 6)                 198       \n",
      "=================================================================\n",
      "Total params: 3,622\n",
      "Trainable params: 3,622\n",
      "Non-trainable params: 0\n",
      "_________________________________________________________________\n"
     ]
    }
   ],
   "source": [
    "rnn_model.summary()"
   ]
  },
  {
   "cell_type": "code",
   "execution_count": 17,
   "metadata": {
    "colab": {
     "base_uri": "https://localhost:8080/"
    },
    "id": "2Eut0pO4Fqzi",
    "outputId": "d3199003-0229-46bf-ef6d-4e9b5ee40d5e"
   },
   "outputs": [
    {
     "name": "stdout",
     "output_type": "stream",
     "text": [
      "Epoch 1/20\n",
      "15/15 [==============================] - 3s 158ms/step - loss: 1.5034 - accuracy: 0.3435 - val_loss: 1.2116 - val_accuracy: 0.5287\n",
      "Epoch 2/20\n",
      "15/15 [==============================] - 2s 148ms/step - loss: 1.0737 - accuracy: 0.5610 - val_loss: 1.0325 - val_accuracy: 0.5568\n",
      "Epoch 3/20\n",
      "15/15 [==============================] - 2s 147ms/step - loss: 0.8277 - accuracy: 0.6488 - val_loss: 0.9750 - val_accuracy: 0.6064\n",
      "Epoch 4/20\n",
      "15/15 [==============================] - 2s 144ms/step - loss: 0.8642 - accuracy: 0.6397 - val_loss: 0.8285 - val_accuracy: 0.6522\n",
      "Epoch 5/20\n",
      "15/15 [==============================] - 2s 144ms/step - loss: 0.6738 - accuracy: 0.6992 - val_loss: 0.7064 - val_accuracy: 0.6552\n",
      "Epoch 6/20\n",
      "15/15 [==============================] - 2s 147ms/step - loss: 0.5837 - accuracy: 0.7268 - val_loss: 0.6944 - val_accuracy: 0.6851\n",
      "Epoch 7/20\n",
      "15/15 [==============================] - 2s 145ms/step - loss: 0.5599 - accuracy: 0.7401 - val_loss: 0.6948 - val_accuracy: 0.6899\n",
      "Epoch 8/20\n",
      "15/15 [==============================] - 2s 148ms/step - loss: 0.5637 - accuracy: 0.7515 - val_loss: 0.6680 - val_accuracy: 0.7122\n",
      "Epoch 9/20\n",
      "15/15 [==============================] - 2s 149ms/step - loss: 0.4980 - accuracy: 0.7876 - val_loss: 0.6383 - val_accuracy: 0.7275\n",
      "Epoch 10/20\n",
      "15/15 [==============================] - 2s 148ms/step - loss: 0.4572 - accuracy: 0.8117 - val_loss: 0.6258 - val_accuracy: 0.7377\n",
      "Epoch 11/20\n",
      "15/15 [==============================] - 2s 149ms/step - loss: 0.5007 - accuracy: 0.7847 - val_loss: 0.6258 - val_accuracy: 0.7228\n",
      "Epoch 12/20\n",
      "15/15 [==============================] - 2s 145ms/step - loss: 0.4786 - accuracy: 0.8048 - val_loss: 0.7698 - val_accuracy: 0.6844\n",
      "Epoch 13/20\n",
      "15/15 [==============================] - 2s 144ms/step - loss: 0.6065 - accuracy: 0.7394 - val_loss: 0.7158 - val_accuracy: 0.7048\n",
      "Epoch 14/20\n",
      "15/15 [==============================] - 2s 144ms/step - loss: 0.5726 - accuracy: 0.7397 - val_loss: 0.6652 - val_accuracy: 0.7231\n",
      "Epoch 15/20\n",
      "15/15 [==============================] - 2s 149ms/step - loss: 0.5158 - accuracy: 0.7827 - val_loss: 0.6848 - val_accuracy: 0.7282\n",
      "Epoch 16/20\n",
      "15/15 [==============================] - 2s 147ms/step - loss: 0.4576 - accuracy: 0.8146 - val_loss: 0.6269 - val_accuracy: 0.7465\n",
      "Epoch 17/20\n",
      "15/15 [==============================] - 2s 149ms/step - loss: 0.4310 - accuracy: 0.8257 - val_loss: 0.5804 - val_accuracy: 0.7950\n",
      "Epoch 18/20\n",
      "15/15 [==============================] - 2s 146ms/step - loss: 0.4234 - accuracy: 0.8425 - val_loss: 0.8091 - val_accuracy: 0.7089\n",
      "Epoch 19/20\n",
      "15/15 [==============================] - 2s 151ms/step - loss: 0.5154 - accuracy: 0.7777 - val_loss: 0.7664 - val_accuracy: 0.7458\n",
      "Epoch 20/20\n",
      "15/15 [==============================] - 2s 147ms/step - loss: 0.4579 - accuracy: 0.8216 - val_loss: 0.6877 - val_accuracy: 0.7611\n"
     ]
    }
   ],
   "source": [
    "optimizer = keras.optimizers.Adam(learning_rate=0.01)\n",
    "rnn_model.compile(loss='categorical_crossentropy',\n",
    "              optimizer=optimizer,\n",
    "              metrics=['accuracy'])\n",
    "history = rnn_model.fit(X_train, y_train_onehot,batch_size=512,epochs=20, verbose=1,validation_data=(X_test, y_test_onehot))\n",
    "score = rnn_model.evaluate(X_test, y_test_onehot, verbose=0)"
   ]
  },
  {
   "cell_type": "code",
   "execution_count": 18,
   "metadata": {
    "id": "xCnYH5_UFqzi"
   },
   "outputs": [
    {
     "name": "stdout",
     "output_type": "stream",
     "text": [
      "validation loss : 0.69, validation accuracy : 0.76\n"
     ]
    }
   ],
   "source": [
    "print('validation loss : {0:0.2f}, validation accuracy : {1:0.2f}'.format(*score))"
   ]
  },
  {
   "cell_type": "code",
   "execution_count": 19,
   "metadata": {},
   "outputs": [
    {
     "data": {
      "text/plain": [
       "Text(0.5, 1.0, 'accuracy')"
      ]
     },
     "execution_count": 19,
     "metadata": {},
     "output_type": "execute_result"
    },
    {
     "data": {
      "image/png": "[encoded data removed]",
      "text/plain": [
       "<Figure size 1080x288 with 2 Axes>"
      ]
     },
     "metadata": {
      "needs_background": "light"
     },
     "output_type": "display_data"
    }
   ],
   "source": [
    "plt.figure(figsize=(15,4))\n",
    "plt.subplot(1, 2, 1)\n",
    "plt.plot(history.history['loss'])\n",
    "plt.plot(history.history['val_loss'])\n",
    "plt.title('loss')\n",
    "plt.subplot(1, 2, 2)\n",
    "plt.plot(history.history['accuracy'])\n",
    "plt.plot(history.history['val_accuracy'])\n",
    "plt.title('accuracy')"
   ]
  },
  {
   "cell_type": "code",
   "execution_count": 13,
   "metadata": {},
   "outputs": [
    {
     "name": "stdout",
     "output_type": "stream",
     "text": [
      "WARNING:tensorflow:Layer lstm_1 will not use cuDNN kernel since it doesn't meet the cuDNN kernel criteria. It will use generic GPU kernel as fallback when running on GPU\n",
      "Epoch 1/20\n",
      "15/15 [==============================] - 15s 185ms/step - loss: 1.5359 - accuracy: 0.3029 - val_loss: 1.1637 - val_accuracy: 0.4788\n",
      "Epoch 2/20\n",
      "15/15 [==============================] - 1s 53ms/step - loss: 0.9986 - accuracy: 0.5699 - val_loss: 1.0918 - val_accuracy: 0.5534\n",
      "Epoch 3/20\n",
      "15/15 [==============================] - 1s 55ms/step - loss: 0.8918 - accuracy: 0.6433 - val_loss: 0.8612 - val_accuracy: 0.6264\n",
      "Epoch 4/20\n",
      "15/15 [==============================] - 1s 56ms/step - loss: 0.7594 - accuracy: 0.6800 - val_loss: 0.8618 - val_accuracy: 0.6580\n",
      "Epoch 5/20\n",
      "15/15 [==============================] - 1s 56ms/step - loss: 0.7632 - accuracy: 0.7041 - val_loss: 0.7549 - val_accuracy: 0.7136\n",
      "Epoch 6/20\n",
      "15/15 [==============================] - 1s 56ms/step - loss: 0.6591 - accuracy: 0.7466 - val_loss: 1.2926 - val_accuracy: 0.5881\n",
      "Epoch 7/20\n",
      "15/15 [==============================] - 1s 54ms/step - loss: 0.9739 - accuracy: 0.6135 - val_loss: 0.9806 - val_accuracy: 0.6301\n",
      "Epoch 8/20\n",
      "15/15 [==============================] - 1s 54ms/step - loss: 0.7931 - accuracy: 0.6800 - val_loss: 0.8064 - val_accuracy: 0.7143\n",
      "Epoch 9/20\n",
      "15/15 [==============================] - 1s 59ms/step - loss: 0.6063 - accuracy: 0.7801 - val_loss: 0.6606 - val_accuracy: 0.7906\n",
      "Epoch 10/20\n",
      "15/15 [==============================] - 1s 60ms/step - loss: 0.4570 - accuracy: 0.8420 - val_loss: 0.5080 - val_accuracy: 0.8320\n",
      "Epoch 11/20\n",
      "15/15 [==============================] - 1s 53ms/step - loss: 0.3582 - accuracy: 0.8804 - val_loss: 0.5333 - val_accuracy: 0.8334\n",
      "Epoch 12/20\n",
      "15/15 [==============================] - 1s 52ms/step - loss: 0.3147 - accuracy: 0.8981 - val_loss: 0.4218 - val_accuracy: 0.8765\n",
      "Epoch 13/20\n",
      "15/15 [==============================] - 1s 53ms/step - loss: 0.2442 - accuracy: 0.9227 - val_loss: 0.4952 - val_accuracy: 0.8415\n",
      "Epoch 14/20\n",
      "15/15 [==============================] - 1s 54ms/step - loss: 0.2085 - accuracy: 0.9249 - val_loss: 0.4136 - val_accuracy: 0.8721\n",
      "Epoch 15/20\n",
      "15/15 [==============================] - 1s 53ms/step - loss: 0.1879 - accuracy: 0.9331 - val_loss: 0.3557 - val_accuracy: 0.8860\n",
      "Epoch 16/20\n",
      "15/15 [==============================] - 1s 55ms/step - loss: 0.1699 - accuracy: 0.9423 - val_loss: 0.3759 - val_accuracy: 0.8897\n",
      "Epoch 17/20\n",
      "15/15 [==============================] - 1s 53ms/step - loss: 0.1618 - accuracy: 0.9464 - val_loss: 0.4884 - val_accuracy: 0.8578\n",
      "Epoch 18/20\n",
      "15/15 [==============================] - 1s 54ms/step - loss: 0.2037 - accuracy: 0.9366 - val_loss: 0.4002 - val_accuracy: 0.8724\n",
      "Epoch 19/20\n",
      "15/15 [==============================] - 1s 55ms/step - loss: 0.1563 - accuracy: 0.9471 - val_loss: 0.3723 - val_accuracy: 0.8799\n",
      "Epoch 20/20\n",
      "15/15 [==============================] - 1s 53ms/step - loss: 0.1400 - accuracy: 0.9520 - val_loss: 0.3649 - val_accuracy: 0.8843\n"
     ]
    }
   ],
   "source": [
    "from tensorflow.keras.layers import LSTM,Conv1D\n",
    "\n",
    "lstm_model = keras.models.Sequential([\n",
    "    LSTM(32,input_shape=X_train.shape[1:],unroll=True),\n",
    "    Dense(6,activation=\"softmax\")\n",
    "])\n",
    "\n",
    "optimizer = keras.optimizers.Adam(learning_rate=0.01)\n",
    "lstm_model.compile(loss='categorical_crossentropy',\n",
    "              optimizer=optimizer,\n",
    "              metrics=['accuracy'])\n",
    "history = lstm_model.fit(X_train, y_train_onehot,batch_size=512,epochs=20, verbose=1,validation_data=(X_test, y_test_onehot))\n",
    "score = lstm_model.evaluate(X_test, y_test_onehot, verbose=0)\n"
   ]
  },
  {
   "cell_type": "code",
   "execution_count": 14,
   "metadata": {},
   "outputs": [
    {
     "data": {
      "text/plain": [
       "Text(0.5, 1.0, 'accuracy')"
      ]
     },
     "execution_count": 14,
     "metadata": {},
     "output_type": "execute_result"
    },
    {
     "data": {
      "image/png": "[encoded data removed]",
      "text/plain": [
       "<Figure size 1080x288 with 2 Axes>"
      ]
     },
     "metadata": {
      "needs_background": "light"
     },
     "output_type": "display_data"
    }
   ],
   "source": [
    "plt.figure(figsize=(15,4))\n",
    "plt.subplot(1, 2, 1)\n",
    "plt.plot(history.history['loss'])\n",
    "plt.plot(history.history['val_loss'])\n",
    "plt.title('loss')\n",
    "plt.subplot(1, 2, 2)\n",
    "plt.plot(history.history['accuracy'])\n",
    "plt.plot(history.history['val_accuracy'])\n",
    "plt.title('accuracy')"
   ]
  },
  {
   "cell_type": "code",
   "execution_count": 12,
   "metadata": {},
   "outputs": [
    {
     "data": {
      "text/plain": [
       "(128, 9)"
      ]
     },
     "execution_count": 12,
     "metadata": {},
     "output_type": "execute_result"
    }
   ],
   "source": [
    "X_train.shape[1:]"
   ]
  },
  {
   "cell_type": "code",
   "execution_count": null,
   "metadata": {},
   "outputs": [],
   "source": []
  },
  {
   "cell_type": "code",
   "execution_count": null,
   "metadata": {},
   "outputs": [],
   "source": []
  }
 ],
 "metadata": {
  "accelerator": "GPU",
  "colab": {
   "name": "9.-rnn_har.ipynb",
   "provenance": []
  },
  "kernelspec": {
   "display_name": "Python 3",
   "language": "python",
   "name": "python3"
  },
  "language_info": {
   "codemirror_mode": {
    "name": "ipython",
    "version": 3
   },
   "file_extension": ".py",
   "mimetype": "text/x-python",
   "name": "python",
   "nbconvert_exporter": "python",
   "pygments_lexer": "ipython3",
   "version": "3.8.10"
  }
 },
 "nbformat": 4,
 "nbformat_minor": 1
}
