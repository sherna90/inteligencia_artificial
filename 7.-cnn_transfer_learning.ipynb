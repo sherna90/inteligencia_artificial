{
  "cells": [
    {
      "cell_type": "markdown",
      "metadata": {
        "id": "view-in-github",
        "colab_type": "text"
      },
      "source": [
        "<a href=\"https://colab.research.google.com/github/sherna90/inteligencia_artificial/blob/master/7.-cnn_transfer_learning.ipynb\" target=\"_parent\"><img src=\"https://colab.research.google.com/assets/colab-badge.svg\" alt=\"Open In Colab\"/></a>"
      ]
    },
    {
      "cell_type": "markdown",
      "metadata": {
        "id": "hRTa3Ee15WsJ"
      },
      "source": [
        "# Transfer learning and fine-tuning"
      ]
    },
    {
      "cell_type": "markdown",
      "metadata": {
        "id": "2X4KyhORdSeO"
      },
      "source": [
        "Este tutorial te guiará a través del proceso de creación, entrenamiento y validación de una red neuronal convolucional (CNN) usando JAX y Flax para clasificar imágenes del dataset MNIST.\n",
        "\n",
        "1. Examine and understand the data\n",
        "1. Build an input pipeline, in this case using Keras ImageDataGenerator\n",
        "1. Compose the model\n",
        "   * Load in the pretrained base model (and pretrained weights)\n",
        "   * Stack the classification layers on top\n",
        "1. Train the model\n",
        "1. Evaluate model\n"
      ]
    },
    {
      "cell_type": "code",
      "execution_count": null,
      "metadata": {
        "execution": {
          "iopub.execute_input": "2023-10-27T06:20:25.912144Z",
          "iopub.status.busy": "2023-10-27T06:20:25.911675Z",
          "iopub.status.idle": "2023-10-27T06:20:28.516843Z",
          "shell.execute_reply": "2023-10-27T06:20:28.516151Z"
        },
        "id": "TqOt6Sv7AsMi"
      },
      "outputs": [],
      "source": [
        "!pip install jax jaxlib flax optax matplotlib\n"
      ]
    },
    {
      "cell_type": "code",
      "execution_count": null,
      "metadata": {
        "execution": {
          "iopub.execute_input": "2023-10-27T06:20:28.521737Z",
          "iopub.status.busy": "2023-10-27T06:20:28.520994Z",
          "iopub.status.idle": "2023-10-27T06:20:32.908007Z",
          "shell.execute_reply": "2023-10-27T06:20:32.907251Z"
        },
        "id": "ro4oYaEmxe4r"
      },
      "outputs": [],
      "source": [
        "import jax\n",
        "import jax.numpy as jnp\n",
        "import flax.linen as nn\n",
        "from flax.training import train_state\n",
        "import optax\n",
        "import numpy as np\n",
        "import matplotlib.pyplot as plt\n",
        "import tensorflow as tf\n",
        "from tensorflow.keras.datasets import mnist"
      ]
    },
    {
      "cell_type": "markdown",
      "metadata": {
        "id": "v77rlkCKW0IJ"
      },
      "source": [
        "### Arquitectura de la CNN"
      ]
    },
    {
      "cell_type": "markdown",
      "metadata": {
        "id": "0GoKGm1duzgk"
      },
      "source": [
        "### Modelo"
      ]
    },
    {
      "cell_type": "markdown",
      "metadata": {
        "id": "vHP9qMJxt2oz"
      },
      "source": [
        "Usaremos Flax Linen para definir la CNN. Este ejemplo incluye dos capas convolucionales seguidas de una capa densa para la clasificación.\n",
        "\n"
      ]
    },
    {
      "cell_type": "code",
      "execution_count": null,
      "metadata": {
        "execution": {
          "iopub.execute_input": "2023-10-27T06:20:32.912005Z",
          "iopub.status.busy": "2023-10-27T06:20:32.911580Z",
          "iopub.status.idle": "2023-10-27T06:20:32.979955Z",
          "shell.execute_reply": "2023-10-27T06:20:32.979342Z"
        },
        "id": "cAvtLwi7_J__"
      },
      "outputs": [],
      "source": [
        "class CNN(nn.Module):\n",
        "    @nn.compact\n",
        "    def __call__(self, x):\n",
        "      x = nn.Conv(features=32, kernel_size=(3, 3))(x)\n",
        "      x = nn.relu(x)\n",
        "      x = nn.max_pool(x, window_shape=(2, 2), strides=(2, 2))\n",
        "      x = nn.Conv(features=64, kernel_size=(3, 3))(x)\n",
        "      x = nn.relu(x)\n",
        "      x = nn.max_pool(x, window_shape=(2, 2), strides=(2, 2))\n",
        "      x = x.reshape((x.shape[0], -1)) # Aplanar la salida para la capa densa\n",
        "      x = nn.Dense(features=10)(x)\n",
        "      return x"
      ]
    },
    {
      "cell_type": "markdown",
      "metadata": {
        "id": "yO1Q2JaW5sIy"
      },
      "source": [
        "Cargar y preprocesar el dataset MNIST:"
      ]
    },
    {
      "cell_type": "code",
      "execution_count": null,
      "metadata": {
        "execution": {
          "iopub.execute_input": "2023-10-27T06:20:32.983580Z",
          "iopub.status.busy": "2023-10-27T06:20:32.982941Z",
          "iopub.status.idle": "2023-10-27T06:20:33.965642Z",
          "shell.execute_reply": "2023-10-27T06:20:33.964851Z"
        },
        "id": "K5BeQyKThC_Y"
      },
      "outputs": [],
      "source": [
        "(x_train, y_train), (x_test, y_test) = mnist.load_data()\n",
        "\n",
        "# Normalizar y añadir una dimensión para el canal\n",
        "x_train = x_train.astype(jnp.float32) / 255.0\n",
        "x_train = x_train.reshape(-1, 28, 28, 1)\n",
        "x_test = x_test.astype(jnp.float32) / 255.0\n",
        "x_test = x_test.reshape(-1, 28, 28, 1)\n",
        "\n",
        "y_train = jax.nn.one_hot(y_train, num_classes=10)\n",
        "y_test = jax.nn.one_hot(y_test, num_classes=10)\n",
        "\n"
      ]
    },
    {
      "cell_type": "code",
      "source": [
        "x_train.shape,y_train.shape"
      ],
      "metadata": {
        "id": "KivjsxAHDdc1"
      },
      "execution_count": null,
      "outputs": []
    },
    {
      "cell_type": "markdown",
      "source": [],
      "metadata": {
        "id": "H3kegalOENPq"
      }
    },
    {
      "cell_type": "code",
      "source": [
        "class_names = ['0', '1', '2', '3', '4', '5', '6', '7', '8', '9']"
      ],
      "metadata": {
        "id": "NHSbQOncD9gD"
      },
      "execution_count": null,
      "outputs": []
    },
    {
      "cell_type": "code",
      "source": [
        "plt.figure(figsize=(10, 10))\n",
        "for i in range(9):\n",
        "  ax = plt.subplot(3, 3, i + 1)\n",
        "  plt.imshow(x_train[i],cmap='gray')\n",
        "  plt.title(class_names[jnp.argmax(y_train[i])])\n",
        "  plt.axis(\"off\")"
      ],
      "metadata": {
        "id": "OL8KmCvb0wLu"
      },
      "execution_count": null,
      "outputs": []
    },
    {
      "cell_type": "markdown",
      "metadata": {
        "id": "EZqCX_mpV3Mx"
      },
      "source": [
        "As the original dataset doesn't contain a test set, you will create one. To do so, determine how many batches of data are available in the validation set using `tf.data.experimental.cardinality`, then move 20% of them to a test set."
      ]
    },
    {
      "cell_type": "code",
      "execution_count": null,
      "metadata": {
        "execution": {
          "iopub.execute_input": "2023-10-27T06:20:33.979709Z",
          "iopub.status.busy": "2023-10-27T06:20:33.979411Z",
          "iopub.status.idle": "2023-10-27T06:20:33.989106Z",
          "shell.execute_reply": "2023-10-27T06:20:33.988369Z"
        },
        "id": "uFFIYrTFV9RO"
      },
      "outputs": [],
      "source": [
        "def loss_fn(params, images, labels):\n",
        "    logits = model.apply({'params': params}, images)\n",
        "    loss = optax.softmax_cross_entropy_with_integer_labels(logits=logits, labels=jnp.argmax(labels, axis=-1)).mean()\n",
        "    return loss\n"
      ]
    },
    {
      "cell_type": "code",
      "execution_count": null,
      "metadata": {
        "execution": {
          "iopub.execute_input": "2023-10-27T06:20:33.992687Z",
          "iopub.status.busy": "2023-10-27T06:20:33.992029Z",
          "iopub.status.idle": "2023-10-27T06:20:33.996689Z",
          "shell.execute_reply": "2023-10-27T06:20:33.995957Z"
        },
        "id": "Q9pFlFWgBKgH"
      },
      "outputs": [],
      "source": [
        "key = jax.random.PRNGKey(0)\n",
        "model = CNN()\n",
        "\n",
        "dummy_input = jnp.zeros((1, 28, 28, 1))\n",
        "params = model.init(key, dummy_input)['params']\n",
        "\n",
        "optim = optax.sgd(1e-3)\n",
        "train_state_ = optim.init(params)"
      ]
    },
    {
      "cell_type": "code",
      "source": [
        "train_state_"
      ],
      "metadata": {
        "id": "oiuhiGiLHOQG"
      },
      "execution_count": null,
      "outputs": []
    },
    {
      "cell_type": "code",
      "execution_count": null,
      "metadata": {
        "id": "uKIByL01da8c"
      },
      "outputs": [],
      "source": [
        "@jax.jit\n",
        "def train_step(state, images, labels):\n",
        "    grad_fn = jax.value_and_grad(loss_fn)\n",
        "    loss, grads = grad_fn(state.params, images, labels)\n",
        "    state = state.apply_gradients(grads=grads)\n",
        "    return state, loss"
      ]
    },
    {
      "cell_type": "code",
      "source": [
        "epochs = 5\n",
        "batch_size = 32\n",
        "\n",
        "for epoch in range(epochs):\n",
        "    for i in range(0, len(x_train), batch_size):\n",
        "        batch_images = x_train[i:i+batch_size]\n",
        "        batch_labels = y_train[i:i+batch_size]\n",
        "        train_state_, loss = train_step(train_state_, batch_images, batch_labels)\n",
        "    print(f\"Epoch {epoch+1}, Loss: {loss}\")"
      ],
      "metadata": {
        "id": "xkuTQn4nGvEZ"
      },
      "execution_count": null,
      "outputs": []
    }
  ],
  "metadata": {
    "accelerator": "GPU",
    "colab": {
      "private_outputs": true,
      "toc_visible": true,
      "provenance": [],
      "include_colab_link": true
    },
    "kernelspec": {
      "display_name": "Python 3",
      "name": "python3"
    },
    "language_info": {
      "codemirror_mode": {
        "name": "ipython",
        "version": 3
      },
      "file_extension": ".py",
      "mimetype": "text/x-python",
      "name": "python",
      "nbconvert_exporter": "python",
      "pygments_lexer": "ipython3",
      "version": "3.8.15"
    }
  },
  "nbformat": 4,
  "nbformat_minor": 0
}