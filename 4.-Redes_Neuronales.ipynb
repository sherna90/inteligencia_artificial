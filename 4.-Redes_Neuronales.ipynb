{
  "nbformat": 4,
  "nbformat_minor": 0,
  "metadata": {
    "kernelspec": {
      "display_name": "Python 3",
      "language": "python",
      "name": "python3"
    },
    "language_info": {
      "codemirror_mode": {
        "name": "ipython",
        "version": 3
      },
      "file_extension": ".py",
      "mimetype": "text/x-python",
      "name": "python",
      "nbconvert_exporter": "python",
      "pygments_lexer": "ipython3",
      "version": "3.6.9"
    },
    "colab": {
      "name": "4.-Redes_Neuronales.ipynb",
      "provenance": []
    }
  },
  "cells": [
    {
      "cell_type": "markdown",
      "metadata": {
        "id": "qUT684B16j_f"
      },
      "source": [
        "# Diferenciacion automatica\n",
        "\n",
        "Supongamos que necesitamos encontrar derivadas de la funcion $F(x)=(5x+1)^2$\n",
        "\n",
        "Si descomponemos la funci\\'on $F(x)=f(g(x))$, donde $f(x)=x^2$ y $g(x)=5x+1$ entonces podemos calcular la derivada de $\\frac{\\partial F(x)}{\\partial x}$ como:\n",
        "\n",
        "\\begin{align}\n",
        "\\frac{\\partial F(x)}{\\partial x}=\\frac{\\partial f(g(x))}{\\partial g(x)} \\times \\frac{\\partial g(x)}{\\partial x}\n",
        "\\end{align}"
      ]
    },
    {
      "cell_type": "code",
      "metadata": {
        "colab": {
          "base_uri": "https://localhost:8080/"
        },
        "id": "pVfvQ1Zz6j_h",
        "outputId": "fa7c29f2-63e1-44ce-fb33-fcd5c525d5bd"
      },
      "source": [
        "from autograd import grad\n",
        "from autograd.core import primitive\n",
        "import autograd.numpy as np\n",
        "\n",
        "def g(x):\n",
        "  return 5*x+1\n",
        "\n",
        "def f(x):\n",
        "    return x**2\n",
        "\n",
        "def h(x):\n",
        "  return f(g(x))\n",
        "\n",
        "grad_h = grad(h)\n",
        "\n",
        "print ('F(X) : %.6f'%h(10.0))\n",
        "print ('dF/dx : %.6f'%grad_h(10.0))"
      ],
      "execution_count": 49,
      "outputs": [
        {
          "output_type": "stream",
          "name": "stdout",
          "text": [
            "F(X) : 2601.000000\n",
            "dF/dx : 510.000000\n"
          ]
        }
      ]
    },
    {
      "cell_type": "code",
      "metadata": {
        "id": "K3lYl9ItANab",
        "outputId": "d7853359-7958-4305-ada4-20bd7a08edf8",
        "colab": {
          "base_uri": "https://localhost:8080/"
        }
      },
      "source": [
        "2*g(10)*5"
      ],
      "execution_count": 50,
      "outputs": [
        {
          "output_type": "execute_result",
          "data": {
            "text/plain": [
              "510"
            ]
          },
          "metadata": {},
          "execution_count": 50
        }
      ]
    },
    {
      "cell_type": "code",
      "metadata": {
        "id": "NJxmTSF2AoJV",
        "outputId": "c9dbe7a6-55f4-41b3-969b-3eba3f4c86ae",
        "colab": {
          "base_uri": "https://localhost:8080/",
          "height": 283
        }
      },
      "source": [
        "import random \n",
        "import matplotlib.pyplot as plt\n",
        "\n",
        "\n",
        "# Training data\n",
        "X = np.linspace(0,11,num=100)\n",
        "y = np.asarray([8*x + 2 for x in X]) # y = 6x^2 + 8x + 2\n",
        "#y=np.asarray([np.sin(x)+np.random.normal(0,0.2) for x in X]) # y = 6x^2 + 8x + 2\n",
        "\n",
        "plt.plot(X,y)"
      ],
      "execution_count": 51,
      "outputs": [
        {
          "output_type": "execute_result",
          "data": {
            "text/plain": [
              "[<matplotlib.lines.Line2D at 0x7fb8f0e19bd0>]"
            ]
          },
          "metadata": {},
          "execution_count": 51
        },
        {
          "output_type": "display_data",
          "data": {
            "image/png": "[encoded data removed]",
            "text/plain": [
              "<Figure size 432x288 with 1 Axes>"
            ]
          },
          "metadata": {
            "needs_background": "light"
          }
        }
      ]
    },
    {
      "cell_type": "code",
      "metadata": {
        "id": "3e_2hifLC0vb"
      },
      "source": [
        "\n",
        "par={'weights':np.random.normal(0,.1),'bias':np.random.normal(0,.1)}\n",
        "\n",
        "def rmse(y_true,y_hat):\n",
        "  return np.sqrt(np.sum((y_true-y_hat)**2))\n",
        "\n",
        "def net(X,par):\n",
        "  return np.dot(X,par['weights'])+par['bias']\n",
        "\n",
        "def training_loss(par):\n",
        "  n_data=len(y)\n",
        "  y_hat=net(X,par)\n",
        "  return rmse(y,y_hat)*(1./n_data)\n",
        "\n",
        "grad_theta=grad(training_loss)"
      ],
      "execution_count": 52,
      "outputs": []
    },
    {
      "cell_type": "code",
      "metadata": {
        "id": "jucFlW2UFCTK",
        "outputId": "d5f4be0d-6af2-4ba2-909b-df0916b8cf5c",
        "colab": {
          "base_uri": "https://localhost:8080/"
        }
      },
      "source": [
        "grad_theta(par)"
      ],
      "execution_count": 53,
      "outputs": [
        {
          "output_type": "execute_result",
          "data": {
            "text/plain": [
              "{'bias': array(-0.0874354), 'weights': array(-0.63654333)}"
            ]
          },
          "metadata": {},
          "execution_count": 53
        }
      ]
    },
    {
      "cell_type": "code",
      "metadata": {
        "id": "VgD1gBulGtfT"
      },
      "source": [
        "def train_net(par,iterations,eta=0.1):\n",
        "    loss_history=[]\n",
        "    for i in range(iterations):\n",
        "      grad=grad_theta(par)\n",
        "      for var in par.keys():\n",
        "        par[var] -= grad[var] * eta\n",
        "      loss_history.append(training_loss(par))\n",
        "      if i%(iterations/10)==0:\n",
        "        print(\"Iteration : {0}, Trained loss: {1:0.4f}\".format(i,training_loss(par)))\n",
        "    return par,loss_history"
      ],
      "execution_count": 56,
      "outputs": []
    },
    {
      "cell_type": "code",
      "metadata": {
        "id": "txeGFibxHFY3",
        "outputId": "f7330c44-2110-412b-830f-8de65bc56ca6",
        "colab": {
          "base_uri": "https://localhost:8080/"
        }
      },
      "source": [
        "par,loss=train_net(par,1000,1e-2)"
      ],
      "execution_count": 58,
      "outputs": [
        {
          "output_type": "stream",
          "name": "stdout",
          "text": [
            "Iteration : 0, Trained loss: 1.1991\n",
            "Iteration : 100, Trained loss: 0.7876\n",
            "Iteration : 200, Trained loss: 0.3790\n",
            "Iteration : 300, Trained loss: 0.0576\n",
            "Iteration : 400, Trained loss: 0.0523\n",
            "Iteration : 500, Trained loss: 0.0498\n",
            "Iteration : 600, Trained loss: 0.0474\n",
            "Iteration : 700, Trained loss: 0.0449\n",
            "Iteration : 800, Trained loss: 0.0424\n",
            "Iteration : 900, Trained loss: 0.0399\n"
          ]
        }
      ]
    },
    {
      "cell_type": "code",
      "metadata": {
        "id": "9BFk_EwyHV0K",
        "outputId": "1fa8649f-6f2d-49f9-c1b0-85fefaa55955",
        "colab": {
          "base_uri": "https://localhost:8080/",
          "height": 283
        }
      },
      "source": [
        "plt.plot(loss)"
      ],
      "execution_count": 59,
      "outputs": [
        {
          "output_type": "execute_result",
          "data": {
            "text/plain": [
              "[<matplotlib.lines.Line2D at 0x7fb8f0aa1b50>]"
            ]
          },
          "metadata": {},
          "execution_count": 59
        },
        {
          "output_type": "display_data",
          "data": {
            "image/png": "[encoded data removed]",
            "text/plain": [
              "<Figure size 432x288 with 1 Axes>"
            ]
          },
          "metadata": {
            "needs_background": "light"
          }
        }
      ]
    },
    {
      "cell_type": "code",
      "metadata": {
        "id": "KDrttnguHpYP",
        "outputId": "8547218e-eb59-496f-9eab-867c8d649dba",
        "colab": {
          "base_uri": "https://localhost:8080/",
          "height": 283
        }
      },
      "source": [
        "y_hat=net(X,par)\n",
        "\n",
        "plt.scatter(y,y_hat)"
      ],
      "execution_count": 61,
      "outputs": [
        {
          "output_type": "execute_result",
          "data": {
            "text/plain": [
              "<matplotlib.collections.PathCollection at 0x7fb8f097e510>"
            ]
          },
          "metadata": {},
          "execution_count": 61
        },
        {
          "output_type": "display_data",
          "data": {
            "image/png": "[encoded data removed]",
            "text/plain": [
              "<Figure size 432x288 with 1 Axes>"
            ]
          },
          "metadata": {
            "needs_background": "light"
          }
        }
      ]
    },
    {
      "cell_type": "code",
      "metadata": {
        "id": "oRk9f18aH5U4",
        "outputId": "3019cb1e-aa83-4bf6-b508-d85690d8cf0d",
        "colab": {
          "base_uri": "https://localhost:8080/"
        }
      },
      "source": [
        "par"
      ],
      "execution_count": 62,
      "outputs": [
        {
          "output_type": "execute_result",
          "data": {
            "text/plain": [
              "{'bias': 1.257316704397698, 'weights': 8.101389246780409}"
            ]
          },
          "metadata": {},
          "execution_count": 62
        }
      ]
    },
    {
      "cell_type": "code",
      "metadata": {
        "colab": {
          "base_uri": "https://localhost:8080/"
        },
        "id": "6cB6qKi08bQf",
        "outputId": "f8bb2995-5ee6-48d2-f966-cd39b02e41e8"
      },
      "source": [
        "training_gradient_fun(par)"
      ],
      "execution_count": null,
      "outputs": [
        {
          "output_type": "execute_result",
          "data": {
            "text/plain": [
              "{'bias': array(-0.02566037), 'weights': array(-0.27857165)}"
            ]
          },
          "metadata": {
            "tags": []
          },
          "execution_count": 108
        }
      ]
    },
    {
      "cell_type": "code",
      "metadata": {
        "id": "YTeyxBiF9Lrg"
      },
      "source": [
        "def train_net(par,iterations,eta=0.1):\n",
        "    loss_history=[]\n",
        "    for i in range(iterations):\n",
        "      grad=training_gradient_fun(par)\n",
        "      for var in par.keys():\n",
        "        par[var] -= grad[var] * eta\n",
        "      loss_history.append(training_loss(par))\n",
        "      if i%(iterations/10)==0:\n",
        "        print(\"Iteration : {0}, Trained loss: {1:0.4f}\".format(i,training_loss(par)))\n",
        "    return par,loss_history"
      ],
      "execution_count": null,
      "outputs": []
    },
    {
      "cell_type": "code",
      "metadata": {
        "colab": {
          "base_uri": "https://localhost:8080/"
        },
        "id": "gZRXb-JZJLZq",
        "outputId": "dc69aeb9-cb23-404f-90af-eff90a9cf35a"
      },
      "source": [
        "par,loss=train_net(par,100,eta=0.1)"
      ],
      "execution_count": null,
      "outputs": [
        {
          "output_type": "stream",
          "text": [
            "Iteration : 0, Trained loss: 0.1497\n",
            "Iteration : 10, Trained loss: 0.1492\n",
            "Iteration : 20, Trained loss: 0.1491\n",
            "Iteration : 30, Trained loss: 0.1490\n",
            "Iteration : 40, Trained loss: 0.1490\n",
            "Iteration : 50, Trained loss: 0.1490\n",
            "Iteration : 60, Trained loss: 0.1490\n",
            "Iteration : 70, Trained loss: 0.1490\n",
            "Iteration : 80, Trained loss: 0.1489\n",
            "Iteration : 90, Trained loss: 0.1489\n"
          ],
          "name": "stdout"
        }
      ]
    },
    {
      "cell_type": "code",
      "metadata": {
        "colab": {
          "base_uri": "https://localhost:8080/"
        },
        "id": "5vN9vjPHKf4r",
        "outputId": "b2fdcd5f-ed43-4620-87a8-d3555ba82ebc"
      },
      "source": [
        "par"
      ],
      "execution_count": null,
      "outputs": [
        {
          "output_type": "execute_result",
          "data": {
            "text/plain": [
              "{'bias': 0.20879242576317122, 'weights': 0.9008428898838783}"
            ]
          },
          "metadata": {
            "tags": []
          },
          "execution_count": 118
        }
      ]
    },
    {
      "cell_type": "markdown",
      "metadata": {
        "id": "8aq9vbQN6j_j"
      },
      "source": [
        "# Redes Neuronales\n",
        "\n",
        "Ahora en el contexto del aprendizaje automatico, queremos eoncontrar derivadas parciales de una funcion objetivo con respecto a los parametros del modelo. En el caso de problemas de clasificacion binaria multi-variable contamos con datos de entrada $\\textbf X=(\\mathbf x_1,\\ldots,\\mathbf x_n)$ y sus correspondientes etiquetas $\\textbf y=(y_1,\\ldots,y_n)$.\n",
        "\n",
        "Para cada tupla $(x_i,y_i)$ podemos establecer la siguiente relacion lineal:\n",
        "\n",
        "\\begin{align}\n",
        "\\text{log}\\left(\\frac{p( C=1 \\vert \\mathbf x_i )}{p(C=0 \\vert \\mathbf x_i )} \\right)&=w_0+\\sum_{j=1}^{d} w_j\\,x_{ij}\\\\\n",
        "&=\\mathbf w^T \\mathbf x_i\n",
        "\\end{align}  \n",
        "\n",
        "Al mismo tiempo , podemos obtener las probabilidades condicionales para cada clase:\n",
        "\n",
        "\\begin{align}\n",
        "p(C=1\\vert \\textbf x_i)&= \\phi(\\mathbf w^T \\mathbf x_i)=\\frac{\\text{exp}(\\mathbf w^T \\mathbf x_i)}{1+\\text{exp}(\\mathbf w^T \\mathbf x_i)}\n",
        "\\end{align} \n",
        "\n",
        "Donde $\\phi(\\cdot)$ es la llamada función sigmoide.\n",
        "\n",
        "La funcion sigmoide convierte cualquier entrada $\\mathbf w^T \\mathbf x_i \\in [-\\inf,\\inf]$ hacia el intervalo $(0,1)$, por lo tanto podemos utilizar la funcion de verosimilitud de la distribucion de Bernoulli para comparar las probabilidad de clase con las etiquetas binarias:\n",
        "\n",
        "\\begin{align}\n",
        "p(\\textbf y, \\textbf X,\\mathbf w)= \\prod_{i=1}^N (\\phi(\\mathbf w^T \\mathbf x_i))^{y_i} \\times (1-\\phi(\\mathbf w^T \\mathbf x_i))^{1-y_i}\n",
        "\\end{align}\n",
        "\n",
        "Ahora queremos obtener los parametros $\\hat{\\mathbf w}$ que maximicen la verosimilitud $p(\\textbf y, \\textbf X,\\mathbf w)$. Dado que la funcion logaritmo es monotona en todo el dominio $[-\\inf,\\inf]$ utilizamos $\\operatorname{log} p(\\textbf y, \\textbf X,\\mathbf w)$ como funcion objetivo (log-loss):\n",
        "\n",
        "\\begin{align}\n",
        "L(\\mathbf w)=\\sum_{i=1}^N (y_i \\operatorname{log} \\phi(\\mathbf w^T \\mathbf x_i)) + ({1-y_i}) \\operatorname{log} (1-\\phi(\\mathbf w^T \\mathbf x_i))\n",
        "\\end{align}\n",
        "\n",
        "Ahora que tenemos definida una funcion objetivo, podemos evaluar iterativamente los pesos $w$ escogiendo la direccion de maximo crecimiento (gradiente).\n",
        "\n",
        "\\begin{align}\n",
        "\\mathbf w^{j+1}= \\mathbf  w^j-\\eta \\frac{\\partial L(\\mathbf w)}{\\partial \\mathbf w}\n",
        "\\end{align}\n",
        "\n",
        "Donde $\\eta > 0$ es un factor de descuento o tasa de aprendizaje."
      ]
    },
    {
      "cell_type": "code",
      "metadata": {
        "id": "vNLWnmyb6j_k"
      },
      "source": [
        "from __future__ import absolute_import\n",
        "from __future__ import print_function\n",
        "from builtins import range\n",
        "import autograd.numpy as np\n",
        "from autograd import grad\n",
        "from autograd.test_util import check_grads\n",
        "import matplotlib.pyplot as plt\n",
        "\n",
        "def sigmoid(x):\n",
        "    return np.exp(x)/(1+np.exp(x))\n",
        "\n",
        "def net(weights, inputs):\n",
        "    # Outputs probability of a label being true according to logistic model.\n",
        "    return sigmoid(np.dot(inputs, weights))\n",
        "\n",
        "def training_loss(weights):\n",
        "    # Training loss is the negative log-likelihood of the training labels.\n",
        "    preds = net(weights, inputs)\n",
        "    label_probabilities = np.log(preds) * targets + np.log((1 - preds)) * (1 - targets)\n",
        "    return -np.sum(label_probabilities)\n",
        "\n",
        "def train_net(weights,iterations,eta=0.1):\n",
        "    loss_history=[]\n",
        "    for i in range(iterations):\n",
        "        weights -= training_gradient_fun(weights) * eta\n",
        "        loss_history.append(training_loss(weights))\n",
        "        if i%(iterations/10)==0:\n",
        "            print(\"Iteration : {0}, Trained loss: {1}\".format(i,training_loss(weights)))\n",
        "    return weights,loss_history\n",
        "\n",
        "# Build a function that returns gradients of training loss using autograd.\n",
        "training_gradient_fun = grad(training_loss)"
      ],
      "execution_count": 90,
      "outputs": []
    },
    {
      "cell_type": "code",
      "metadata": {
        "id": "ApFnev7bRvZJ",
        "outputId": "b0d8578f-9a63-4244-d006-b56154bfafa2",
        "colab": {
          "base_uri": "https://localhost:8080/",
          "height": 283
        }
      },
      "source": [
        "x=np.linspace(-3,3,num=100)\n",
        "plt.plot(sigmoid(x))"
      ],
      "execution_count": 88,
      "outputs": [
        {
          "output_type": "execute_result",
          "data": {
            "text/plain": [
              "[<matplotlib.lines.Line2D at 0x7fb8f08d9a10>]"
            ]
          },
          "metadata": {},
          "execution_count": 88
        },
        {
          "output_type": "display_data",
          "data": {
            "image/png": "[encoded data removed]",
            "text/plain": [
              "<Figure size 432x288 with 1 Axes>"
            ]
          },
          "metadata": {
            "needs_background": "light"
          }
        }
      ]
    },
    {
      "cell_type": "code",
      "metadata": {
        "id": "tx0hEejiTXpx"
      },
      "source": [
        "# Build a toy dataset.\n",
        "inputs = np.array([[0.52, 1.12,  0.77],\n",
        "                   [0.88, -1.08, 0.15],\n",
        "                   [0.52, 0.06, -1.30],\n",
        "                   [0.74, -2.49, 1.39]])\n",
        "targets = np.array([True, True, False, True])\n",
        "\n",
        "# Check the gradients numerically, just to be safe.\n",
        "weights = np.array([0.0, 0.0, 0.0])"
      ],
      "execution_count": 91,
      "outputs": []
    },
    {
      "cell_type": "code",
      "metadata": {
        "id": "xeU5aX3_TY_q"
      },
      "source": [
        "y_hat=net(weights,inputs)"
      ],
      "execution_count": 92,
      "outputs": []
    },
    {
      "cell_type": "code",
      "metadata": {
        "id": "onfNxgmSTgvO"
      },
      "source": [
        "grads=training_gradient_fun(weights)"
      ],
      "execution_count": 107,
      "outputs": []
    },
    {
      "cell_type": "code",
      "metadata": {
        "id": "Y96x4JPWT2xU",
        "outputId": "d28ebe62-bde6-4199-b403-ab45f14e04ef",
        "colab": {
          "base_uri": "https://localhost:8080/"
        }
      },
      "source": [
        "training_loss(weights)"
      ],
      "execution_count": 108,
      "outputs": [
        {
          "output_type": "execute_result",
          "data": {
            "text/plain": [
              "1.9724735775892923"
            ]
          },
          "metadata": {},
          "execution_count": 108
        }
      ]
    },
    {
      "cell_type": "code",
      "metadata": {
        "id": "1dN9_yoGTxcb",
        "outputId": "41fed0ef-ea83-447e-e04b-e7cd7b04d1d8",
        "colab": {
          "base_uri": "https://localhost:8080/"
        }
      },
      "source": [
        "grads"
      ],
      "execution_count": 109,
      "outputs": [
        {
          "output_type": "execute_result",
          "data": {
            "text/plain": [
              "array([-0.57290258,  0.5519025 , -1.30807308])"
            ]
          },
          "metadata": {},
          "execution_count": 109
        }
      ]
    },
    {
      "cell_type": "code",
      "metadata": {
        "id": "KNP6ks5JT-eR"
      },
      "source": [
        "weights-=grads*0.1"
      ],
      "execution_count": 110,
      "outputs": []
    },
    {
      "cell_type": "code",
      "metadata": {
        "id": "y2iYPYayUGcO",
        "outputId": "fda7ebdb-a6b9-4036-e81a-12757dd72f81",
        "colab": {
          "base_uri": "https://localhost:8080/"
        }
      },
      "source": [
        "training_loss(weights)"
      ],
      "execution_count": 111,
      "outputs": [
        {
          "output_type": "execute_result",
          "data": {
            "text/plain": [
              "1.7547154210000155"
            ]
          },
          "metadata": {},
          "execution_count": 111
        }
      ]
    },
    {
      "cell_type": "code",
      "metadata": {
        "id": "NaoXB_AiUVSA",
        "outputId": "146b76df-1b4a-4641-d72b-b6871346b08b",
        "colab": {
          "base_uri": "https://localhost:8080/"
        }
      },
      "source": [
        "weights"
      ],
      "execution_count": 106,
      "outputs": [
        {
          "output_type": "execute_result",
          "data": {
            "text/plain": [
              "array([ 0.14777058, -0.20795657,  0.33188054])"
            ]
          },
          "metadata": {},
          "execution_count": 106
        }
      ]
    },
    {
      "cell_type": "code",
      "metadata": {
        "colab": {
          "base_uri": "https://localhost:8080/",
          "height": 456
        },
        "id": "QObZ0aDm6j_l",
        "outputId": "8a68186d-0a04-4724-e8e6-bd1f330ed6ba"
      },
      "source": [
        "# Build a toy dataset.\n",
        "inputs = np.array([[0.52, 1.12,  0.77],\n",
        "                   [0.88, -1.08, 0.15],\n",
        "                   [0.52, 0.06, -1.30],\n",
        "                   [0.74, -2.49, 1.39]])\n",
        "targets = np.array([True, True, False, True])\n",
        "\n",
        "# Check the gradients numerically, just to be safe.\n",
        "weights = np.array([0.0, 0.0, 0.0])\n",
        "print(check_grads(training_loss, modes=['rev'])(weights))\n",
        "w_hat,loss=train_net(weights,1000)\n",
        "plt.plot(loss)\n",
        "plt.show()"
      ],
      "execution_count": 112,
      "outputs": [
        {
          "output_type": "stream",
          "name": "stdout",
          "text": [
            "None\n",
            "Iteration : 0, Trained loss: 2.283497754191519\n",
            "Iteration : 100, Trained loss: 0.16583313868587368\n",
            "Iteration : 200, Trained loss: 0.0849810893765908\n",
            "Iteration : 300, Trained loss: 0.05693670361850768\n",
            "Iteration : 400, Trained loss: 0.04275843168296321\n",
            "Iteration : 500, Trained loss: 0.034214708136425354\n",
            "Iteration : 600, Trained loss: 0.028508088444567543\n",
            "Iteration : 700, Trained loss: 0.024428500857397714\n",
            "Iteration : 800, Trained loss: 0.021367810994468505\n",
            "Iteration : 900, Trained loss: 0.01898713850700256\n"
          ]
        },
        {
          "output_type": "display_data",
          "data": {
            "image/png": "[encoded data removed]",
            "text/plain": [
              "<Figure size 432x288 with 1 Axes>"
            ]
          },
          "metadata": {
            "needs_background": "light"
          }
        }
      ]
    },
    {
      "cell_type": "code",
      "metadata": {
        "id": "YtJXTea5U0Uk"
      },
      "source": [
        "y_hat=net(weights,inputs)"
      ],
      "execution_count": 117,
      "outputs": []
    },
    {
      "cell_type": "code",
      "metadata": {
        "id": "s32fQqieU6dW",
        "outputId": "e812f956-3b92-499d-aabe-0c24f0f2bff1",
        "colab": {
          "base_uri": "https://localhost:8080/"
        }
      },
      "source": [
        "y_hat>0.5"
      ],
      "execution_count": 118,
      "outputs": [
        {
          "output_type": "execute_result",
          "data": {
            "text/plain": [
              "array([ True,  True, False,  True])"
            ]
          },
          "metadata": {},
          "execution_count": 118
        }
      ]
    },
    {
      "cell_type": "code",
      "metadata": {
        "id": "lN0NCVDtVASy",
        "outputId": "520b803d-5032-4a75-d354-491e26bff058",
        "colab": {
          "base_uri": "https://localhost:8080/"
        }
      },
      "source": [
        "targets"
      ],
      "execution_count": 119,
      "outputs": [
        {
          "output_type": "execute_result",
          "data": {
            "text/plain": [
              "array([ True,  True, False,  True])"
            ]
          },
          "metadata": {},
          "execution_count": 119
        }
      ]
    },
    {
      "cell_type": "code",
      "metadata": {
        "colab": {
          "base_uri": "https://localhost:8080/",
          "height": 473
        },
        "id": "JF1r0mQi6j_m",
        "outputId": "bf375fd0-cb45-4e3c-9ec8-437ca3e01198"
      },
      "source": [
        "inputs = np.array([[1, 1],\n",
        "                   [4,2],\n",
        "                   [4,5],\n",
        "                   [5,5]])\n",
        "targets = np.array([True, False, False, True])\n",
        "\n",
        "# Check the gradients numerically, just to be safe.\n",
        "weights = np.array([0.0, 0.0])\n",
        "print(check_grads(training_loss, modes=['rev'])(weights))\n",
        "w_hat,loss=train_net(weights,1000,eta=0.05)\n",
        "print(w_hat)\n",
        "plt.plot(loss)\n",
        "plt.show()\n"
      ],
      "execution_count": 130,
      "outputs": [
        {
          "output_type": "stream",
          "name": "stdout",
          "text": [
            "None\n",
            "Iteration : 0, Trained loss: 2.749205428823657\n",
            "Iteration : 100, Trained loss: 2.6560057996788666\n",
            "Iteration : 200, Trained loss: 2.6556672808685096\n",
            "Iteration : 300, Trained loss: 2.655665618068137\n",
            "Iteration : 400, Trained loss: 2.6556656097306766\n",
            "Iteration : 500, Trained loss: 2.6556656096888105\n",
            "Iteration : 600, Trained loss: 2.6556656096886\n",
            "Iteration : 700, Trained loss: 2.6556656096885995\n",
            "Iteration : 800, Trained loss: 2.655665609688599\n",
            "Iteration : 900, Trained loss: 2.655665609688599\n",
            "[-0.43716075  0.390301  ]\n"
          ]
        },
        {
          "output_type": "display_data",
          "data": {
            "image/png": "[encoded data removed]",
            "text/plain": [
              "<Figure size 432x288 with 1 Axes>"
            ]
          },
          "metadata": {
            "needs_background": "light"
          }
        }
      ]
    },
    {
      "cell_type": "code",
      "metadata": {
        "colab": {
          "base_uri": "https://localhost:8080/",
          "height": 371
        },
        "id": "P4LDiP9c6j_n",
        "outputId": "f50350a5-bd2d-4553-aded-89e6d3fc73a1"
      },
      "source": [
        "import matplotlib.pyplot as plt\n",
        "\n",
        "\n",
        "plt.figure(figsize=(7,5))\n",
        "plt.scatter(inputs[:, 0], inputs[:, 1], c=targets, cmap=plt.cm.Set1,edgecolor='k',s=120)\n",
        "xmin, xmax = plt.xlim()\n",
        "ymin, ymax = plt.ylim()\n",
        "\n",
        "def line(x0):\n",
        "    return (-(x0 * w_hat[0]) ) / w_hat[1]\n",
        "\n",
        "plt.plot([xmin, xmax], [line(xmin), line(xmax)],ls=\"--\")\n",
        "plt.xlabel('x1')\n",
        "plt.ylabel('x2')\n",
        "plt.title(r'Estimador de Maxima Verosimilitud $\\hat w=[{0:0.2f},{1:0.2f}]$'.format(w_hat[0],w_hat[1]))\n",
        "#plt.savefig('prueba_clasificador.png')\n",
        "#plt.close()"
      ],
      "execution_count": 131,
      "outputs": [
        {
          "output_type": "execute_result",
          "data": {
            "text/plain": [
              "Text(0.5, 1.0, 'Estimador de Maxima Verosimilitud $\\\\hat w=[-0.44,0.39]$')"
            ]
          },
          "metadata": {},
          "execution_count": 131
        },
        {
          "output_type": "display_data",
          "data": {
            "image/png": "[encoded data removed]",
            "text/plain": [
              "<Figure size 504x360 with 1 Axes>"
            ]
          },
          "metadata": {
            "needs_background": "light"
          }
        }
      ]
    },
    {
      "cell_type": "markdown",
      "metadata": {
        "id": "bpJ263Aq6j_q"
      },
      "source": [
        "# Redes Neuronales Profundas\n",
        "\n",
        "Una alternativa para superar el problema de la separacion lineal entre clases es utilizar multiples perceptrones ordenados en capas\n",
        "\n",
        "La salida toma la siguiente forma:\n",
        "\\begin{align*}\n",
        "f(\\mathbf x) = \\phi_0 \\left(w_0+\\sum_h w_{hk}\\phi_h (\\alpha_h+\\sum_i w_{ih}x_i) \\right)\n",
        "\\end{align*}"
      ]
    },
    {
      "cell_type": "code",
      "metadata": {
        "id": "KsZmTg8A6j_r"
      },
      "source": [
        "def sigmoid(x):\n",
        "    return np.exp(x)/(1+np.exp(x))\n",
        "    \n",
        "def init_bnn_params(layer_widths):\n",
        "    weights = {}\n",
        "    for i, (n_in, n_out) in enumerate(zip(layer_widths[:-1], layer_widths[1:])):\n",
        "        weights.update({f\"w_{i}\":np.random.normal(0,.1,size=(n_in, n_out))})\n",
        "    return weights\n",
        "\n",
        "def net(weights, inputs, n_hidden_layers):\n",
        "    z = inputs\n",
        "    for i in range(n_hidden_layers + 1):\n",
        "        z = z @ weights[f\"w_{i}\"]\n",
        "        z = np.tanh(z) if i != n_hidden_layers else z\n",
        "    z = z.squeeze(-1)\n",
        "    return sigmoid(z)\n",
        "\n",
        "def training_loss(weights):\n",
        "    # Training loss is the negative log-likelihood of the training labels.\n",
        "    preds = net(weights, inputs,n_hidden_layers)\n",
        "    label_probabilities = np.log(preds) * targets + np.log((1 - preds)) * (1 - targets)\n",
        "    return -np.sum(label_probabilities)\n",
        "\n",
        "def train_net(weights,iterations,eta=0.1):\n",
        "    loss_history=[]\n",
        "    for i in range(iterations):\n",
        "      grads=training_gradient_fun(weights)\n",
        "      for var in weights.keys():\n",
        "        weights[var] -=  grads[var]* eta\n",
        "      loss_history.append(training_loss(weights))\n",
        "      if i%(iterations/10)==0:\n",
        "        print(\"Iteration : {0}, Trained loss: {1}\".format(i,training_loss(weights)))\n",
        "    return weights,loss_history\n",
        "\n",
        "training_gradient_fun = grad(training_loss)"
      ],
      "execution_count": 262,
      "outputs": []
    },
    {
      "cell_type": "code",
      "metadata": {
        "id": "gkncJmwZ6j_r"
      },
      "source": [
        "inputs = np.array([[1, 1],\n",
        "                   [4,2],\n",
        "                   [4,5],\n",
        "                   [5,5]])\n",
        "targets = np.array([True, False, False, True])\n",
        "\n",
        "layer_widths=[inputs.shape[1],5,1]\n",
        "weights=init_bnn_params(layer_widths)\n",
        "n_hidden_layers=len(layer_widths) - 2"
      ],
      "execution_count": 268,
      "outputs": []
    },
    {
      "cell_type": "code",
      "metadata": {
        "id": "mx7bh7Q26j_s",
        "colab": {
          "base_uri": "https://localhost:8080/"
        },
        "outputId": "896152e2-bd12-412d-f615-c968768e39d2"
      },
      "source": [
        "training_loss(weights)"
      ],
      "execution_count": 269,
      "outputs": [
        {
          "output_type": "execute_result",
          "data": {
            "text/plain": [
              "2.7691254256265374"
            ]
          },
          "metadata": {},
          "execution_count": 269
        }
      ]
    },
    {
      "cell_type": "code",
      "metadata": {
        "id": "vHBNvIYDh07M",
        "outputId": "35165f89-6882-4c8f-f554-0bebb1d1ce93",
        "colab": {
          "base_uri": "https://localhost:8080/"
        }
      },
      "source": [
        "weights,loss=train_net(weights,10000,eta=0.01)"
      ],
      "execution_count": 270,
      "outputs": [
        {
          "output_type": "stream",
          "name": "stdout",
          "text": [
            "Iteration : 0, Trained loss: 2.7688125196769433\n",
            "Iteration : 1000, Trained loss: 2.6519578968379784\n",
            "Iteration : 2000, Trained loss: 1.8925044450139707\n",
            "Iteration : 3000, Trained loss: 0.9140011748247299\n",
            "Iteration : 4000, Trained loss: 0.23724165151590038\n",
            "Iteration : 5000, Trained loss: 0.12644703943854707\n",
            "Iteration : 6000, Trained loss: 0.08473909348194839\n",
            "Iteration : 7000, Trained loss: 0.06323603786269574\n",
            "Iteration : 8000, Trained loss: 0.05023068948642155\n",
            "Iteration : 9000, Trained loss: 0.04156026806370294\n"
          ]
        }
      ]
    },
    {
      "cell_type": "code",
      "metadata": {
        "id": "W90Tf3IAkTKB",
        "outputId": "065addeb-bc45-4a00-ed94-75501a8badc2",
        "colab": {
          "base_uri": "https://localhost:8080/",
          "height": 283
        }
      },
      "source": [
        "plt.plot(loss)"
      ],
      "execution_count": 271,
      "outputs": [
        {
          "output_type": "execute_result",
          "data": {
            "text/plain": [
              "[<matplotlib.lines.Line2D at 0x7fb8d7e05850>]"
            ]
          },
          "metadata": {},
          "execution_count": 271
        },
        {
          "output_type": "display_data",
          "data": {
            "image/png": "[encoded data removed]",
            "text/plain": [
              "<Figure size 432x288 with 1 Axes>"
            ]
          },
          "metadata": {}
        }
      ]
    },
    {
      "cell_type": "code",
      "metadata": {
        "id": "Z8QkhaI1k5Bi"
      },
      "source": [
        "h = .02  # step size in the mesh\n",
        "x_min, x_max = inputs[:, 0].min() , inputs[:, 0].max()\n",
        "y_min, y_max = inputs[:, 1].min() , inputs[:, 1].max()\n",
        "xx, yy = np.meshgrid(np.arange(x_min, x_max, h),np.arange(y_min, y_max, h))\n",
        "X_grid=np.vstack([xx.ravel(),yy.ravel()]).T\n",
        "\n",
        "#plt.savefig('prueba_clasificador.png')\n",
        "#plt.close()"
      ],
      "execution_count": 272,
      "outputs": []
    },
    {
      "cell_type": "code",
      "metadata": {
        "id": "BvemMK2Kl1n-",
        "outputId": "036e2f5f-1cba-41d9-fa85-799010a52842",
        "colab": {
          "base_uri": "https://localhost:8080/",
          "height": 287
        }
      },
      "source": [
        "import seaborn as sns\n",
        "\n",
        "sns.set_style(\"white\")\n",
        "\n",
        "cmap = sns.diverging_palette(250, 12, s=85, l=25, as_cmap=True)\n",
        "\n",
        "Z_pred=net(weights, X_grid, n_hidden_layers)\n",
        "plt.contourf(xx, yy, Z_pred.reshape(xx.shape), cmap=cmap,alpha=.8)\n",
        "plt.scatter(inputs[:, 0], inputs[:, 1], c=targets, cmap=cmap,edgecolor='k',s=120)\n",
        "plt.xlim(x_min, x_max)\n",
        "plt.ylim(y_min, y_max)"
      ],
      "execution_count": 273,
      "outputs": [
        {
          "output_type": "execute_result",
          "data": {
            "text/plain": [
              "(1.0, 5.0)"
            ]
          },
          "metadata": {},
          "execution_count": 273
        },
        {
          "output_type": "display_data",
          "data": {
            "image/png": "[encoded data removed]",
            "text/plain": [
              "<Figure size 432x288 with 1 Axes>"
            ]
          },
          "metadata": {}
        }
      ]
    }
  ]
}