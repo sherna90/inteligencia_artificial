{
  "nbformat": 4,
  "nbformat_minor": 0,
  "metadata": {
    "colab": {
      "name": "naive_bayes_ejemplo.ipynb",
      "private_outputs": true,
      "provenance": [],
      "collapsed_sections": [],
      "include_colab_link": true
    },
    "kernelspec": {
      "display_name": "Python 3",
      "language": "python",
      "name": "python3"
    },
    "language_info": {
      "codemirror_mode": {
        "name": "ipython",
        "version": 3
      },
      "file_extension": ".py",
      "mimetype": "text/x-python",
      "name": "python",
      "nbconvert_exporter": "python",
      "pygments_lexer": "ipython3",
      "version": "3.6.9"
    },
    "accelerator": "GPU"
  },
  "cells": [
    {
      "cell_type": "markdown",
      "metadata": {
        "id": "view-in-github",
        "colab_type": "text"
      },
      "source": [
        "<a href=\"https://colab.research.google.com/github/sherna90/inteligencia_artificial/blob/master/7.-redes_neuronales_tensorflow.ipynb\" target=\"_parent\"><img src=\"https://colab.research.google.com/assets/colab-badge.svg\" alt=\"Open In Colab\"/></a>"
      ]
    },
    {
      "cell_type": "code",
      "metadata": {
        "id": "0trJmd6DjqBZ"
      },
      "source": [
        "import tensorflow as tf"
      ],
      "execution_count": null,
      "outputs": []
    },
    {
      "cell_type": "code",
      "metadata": {
        "id": "pOwWhYDRHNGW"
      },
      "source": [
        "print(tf.__version__)"
      ],
      "execution_count": null,
      "outputs": []
    },
    {
      "cell_type": "code",
      "metadata": {
        "id": "7FP5258xjs-v"
      },
      "source": [
        "import numpy as np\n",
        "import random \n",
        "import matplotlib.pyplot as plt\n",
        "\n",
        "\n",
        "X=np.array([[1,0.5],[1.5,1],[0.5,1],[1,1.5]])\n",
        "y=np.array([0,0,1,1]).T\n",
        "plt.scatter(X[0:2,0],X[0:2,1],marker='o',c='k')\n",
        "plt.scatter(X[2:4,0],X[2:4,1],marker='x',c='b')"
      ],
      "execution_count": null,
      "outputs": []
    },
    {
      "cell_type": "markdown",
      "source": [
        "\\begin{align*}J(\\theta)=-\\frac{1}{m}\\sum_{i=1}^{m}y^{i}\\log(h_\\theta(x^{i}))+(1-y^{i})\\log(1-h_\\theta(x^{i}))\\end{align*}"
      ],
      "metadata": {
        "id": "hLgVhZ8CTUOW"
      }
    },
    {
      "cell_type": "code",
      "metadata": {
        "id": "_khQ8_zRfyMC"
      },
      "source": [
        "def sigmoid(x):\n",
        "    return 1.0/(1.0+np.exp(-x))\n",
        "\n",
        "def logistic_predictions(weights, inputs):\n",
        "    # Outputs probability of a label being true according to logistic model.\n",
        "    return sigmoid(np.matmul(inputs, weights))\n",
        "\n",
        "def training_loss(inputs,targets,weights):\n",
        "    # Training loss is the negative log-likelihood of the training labels.\n",
        "    preds = logistic_predictions(weights, inputs)\n",
        "    label_probabilities = preds * targets + (1 - preds) * (1 - targets)\n",
        "    return -np.sum(np.log(label_probabilities))"
      ],
      "execution_count": null,
      "outputs": []
    },
    {
      "cell_type": "markdown",
      "source": [
        "\\begin{align*}\n",
        "\\frac{\\partial }{\\partial \\theta_j} L(\\theta) &= -\\frac{1}{m}\\sum\\limits_{i=1}^{m}{y_i.\\frac{\\partial }{\\partial \\theta_j} log P(y_i|x_i,\\theta)   + (1-y_i).\\frac{\\partial }{\\partial \\theta_j} \\log{(1 - P(y_i|x_i,\\theta))}} \\\\\n",
        "&=-\\frac{1}{m}\\sum\\limits_{i=1}^{m}{y_i.x_i^j.\\left(1-P(y_i|x_i,\\theta)\\right) - (1-y_i).x_i^j.P(y_i|x_i,\\theta)} \\\\\n",
        "&=-\\frac{1}{m}\\sum\\limits_{i=1}^{m}{y_i.x_i^j - x_i^j.P(y_i|x_i,\\theta)} \\\\\n",
        "&=\\frac{1}{m}\\sum\\limits_{i=1}^{m}{(P(y_i|x_i,\\theta)-y_i).x_i^j}\n",
        "\\end{align*}"
      ],
      "metadata": {
        "id": "Vu9Otn8ySlvz"
      }
    },
    {
      "cell_type": "code",
      "source": [
        "def log_sigmoid_derivative(x):\n",
        "  return 1.0/(1.0+np.exp(x))\n",
        "\n",
        "def training_loss_derivative(inputs,targets,weights):\n",
        "  preds = logistic_predictions(weights, inputs)\n",
        "  return np.mean((preds-targets.reshape((-1,1)))*inputs)"
      ],
      "metadata": {
        "id": "0TDac4p_JV5f"
      },
      "execution_count": null,
      "outputs": []
    },
    {
      "cell_type": "code",
      "source": [
        "w=np.random.normal(0,1,2).reshape((-1,1))"
      ],
      "metadata": {
        "id": "t-aatMJ2RCW0"
      },
      "execution_count": null,
      "outputs": []
    },
    {
      "cell_type": "markdown",
      "source": [],
      "metadata": {
        "id": "97Hd3w4kQxol"
      }
    },
    {
      "cell_type": "code",
      "source": [
        "training_loss_derivative(X,y,w)"
      ],
      "metadata": {
        "id": "wc7aprYuLpmd"
      },
      "execution_count": null,
      "outputs": []
    },
    {
      "cell_type": "markdown",
      "metadata": {
        "id": "3MUELYVDw-8r"
      },
      "source": [
        "https://math.stackexchange.com/questions/2320905/obtaining-derivative-of-log-of-sigmoid-function"
      ]
    },
    {
      "cell_type": "code",
      "source": [
        "for i in range(10):\n",
        "    w -= training_loss_derivative(X,y,w) * 0.01"
      ],
      "metadata": {
        "id": "q_5b4ac-JOb4"
      },
      "execution_count": null,
      "outputs": []
    },
    {
      "cell_type": "code",
      "source": [
        "x_min, x_max = X[:, 0].min() - .5, X[:, 0].max() + .5\n",
        "y_min, y_max = X[:, 1].min() - .5, X[:, 1].max() + .5\n",
        "h = 0.01\n",
        "xx, yy = np.meshgrid(np.arange(x_min, x_max, h), np.arange(y_min, y_max, h))\n"
      ],
      "metadata": {
        "id": "JvajNhDcQ6Gu"
      },
      "execution_count": null,
      "outputs": []
    },
    {
      "cell_type": "code",
      "source": [
        "Z=logistic_predictions(w,np.c_[xx.ravel(), yy.ravel()])\n",
        "Z = Z.reshape(xx.shape)"
      ],
      "metadata": {
        "id": "aBG3JYM9UZv5"
      },
      "execution_count": null,
      "outputs": []
    },
    {
      "cell_type": "code",
      "source": [
        "X=np.array([[1,0.5],[1.5,1],[0.5,1],[1,1.5]])\n",
        "y=[0,0,1,1]\n",
        "plt.contourf(xx, yy, Z, cmap=plt.cm.Blues)\n",
        "plt.scatter(X[0:2,0],X[0:2,1],marker='o',c='w')\n",
        "plt.scatter(X[2:4,0],X[2:4,1],marker='x',c='b')"
      ],
      "metadata": {
        "id": "ZpzCaEbhMNVi"
      },
      "execution_count": null,
      "outputs": []
    },
    {
      "cell_type": "code",
      "metadata": {
        "id": "UWtwmW3X_kmH"
      },
      "source": [
        "from tensorflow import keras\n",
        "from tensorflow.keras.models import Sequential\n",
        "from tensorflow.keras.layers import Dense, Dropout,Input\n",
        "from tensorflow.keras.optimizers import RMSprop,SGD\n",
        "from tensorflow.keras import regularizers\n",
        "\n",
        "model = Sequential()\n",
        "model.add(Input(1))\n",
        "model.add(Dense(32,activation='relu'))\n",
        "model.add(Dropout(0.1))\n",
        "model.add(Dense(64,activation='relu'))\n",
        "model.add(Dropout(0.1))\n",
        "model.add(Dense(1,activation='linear'))\n",
        "model.summary()"
      ],
      "execution_count": null,
      "outputs": []
    },
    {
      "cell_type": "code",
      "metadata": {
        "id": "jnRX_n0e_66a"
      },
      "source": [
        "epochs=5000\n",
        "opt = RMSprop(1e-3)\n",
        "model.compile(loss='mean_squared_error',\n",
        "              optimizer=opt,\n",
        "              metrics=['mean_squared_error'])\n",
        "history = model.fit(X_train, y_train,epochs=epochs, verbose=0)\n",
        "score = model.evaluate(X_test, y_test, verbose=0)"
      ],
      "execution_count": null,
      "outputs": []
    },
    {
      "cell_type": "code",
      "metadata": {
        "id": "zbYib2q5B66I"
      },
      "source": [
        "plt.plot(history.history[\"loss\"])"
      ],
      "execution_count": null,
      "outputs": []
    },
    {
      "cell_type": "code",
      "metadata": {
        "id": "flIL4Tc8AikY"
      },
      "source": [
        "y_pred=model.predict(X_test)"
      ],
      "execution_count": null,
      "outputs": []
    },
    {
      "cell_type": "code",
      "metadata": {
        "id": "MxQ378lLAs3p"
      },
      "source": [
        "plt.figure(figsize=(15,8))\n",
        "plt.subplot(1, 2, 1)\n",
        "plt.scatter(X_test,y_pred_exact,c='green')\n",
        "plt.scatter(X_test,y_test,c='red',alpha=.5)\n",
        "plt.title('forma cerrada')\n",
        "plt.subplot(1, 2, 2)\n",
        "plt.scatter(X_test,y_pred,c='blue')\n",
        "plt.scatter(X_test,y_test,c='red',alpha=.5)\n",
        "plt.title('descenso del gradiente keras')"
      ],
      "execution_count": null,
      "outputs": []
    },
    {
      "cell_type": "markdown",
      "metadata": {
        "id": "ur0rrELcfyMk"
      },
      "source": [
        "# Redes Neuronales Tensorflow"
      ]
    },
    {
      "cell_type": "code",
      "metadata": {
        "id": "SEZaPVQlfyMk"
      },
      "source": [
        "import tensorflow as tf\n",
        "from tensorflow import keras\n",
        "from tensorflow.keras.models import Sequential\n",
        "from tensorflow.keras.layers import Dense, Dropout,Flatten\n",
        "from tensorflow.keras.optimizers import RMSprop,SGD\n",
        "\n",
        "# Model / data parameters\n",
        "num_classes = 10\n",
        "input_shape = (28, 28, 1)\n",
        "\n",
        "# the data, split between train and test sets\n",
        "(x_train, y_train), (x_test, y_test) = keras.datasets.mnist.load_data()\n",
        "\n",
        "# Scale images to the [0, 1] range\n",
        "x_train = x_train.astype(\"float32\") / 255\n",
        "x_test = x_test.astype(\"float32\") / 255\n",
        "# Make sure images have shape (28, 28, 1)\n",
        "x_train=x_train.reshape((-1,784))\n",
        "x_test=x_test.reshape((-1,784))\n",
        "print(\"x_train shape:\", x_train.shape)\n",
        "print(x_train.shape[0], \"train samples\")\n",
        "print(x_test.shape[0], \"test samples\")\n",
        "\n",
        "\n",
        "# convert class vectors to binary class matrices\n",
        "y_train = keras.utils.to_categorical(y_train, num_classes)\n",
        "y_test = keras.utils.to_categorical(y_test, num_classes)\n"
      ],
      "execution_count": null,
      "outputs": []
    },
    {
      "cell_type": "code",
      "metadata": {
        "id": "4ULgMNK9fyMn"
      },
      "source": [
        "from tensorflow.keras import regularizers\n",
        "\n",
        "model = Sequential()\n",
        "model.add(Input(784))\n",
        "model.add(Dropout(0.1))\n",
        "model.add(Dense(128, activation='relu'))\n",
        "model.add(Dropout(0.1))\n",
        "model.add(Dense(10, activation='softmax'))\n",
        "model.summary()\n",
        "\n"
      ],
      "execution_count": null,
      "outputs": []
    },
    {
      "cell_type": "code",
      "metadata": {
        "id": "dlifK1c9VPBC"
      },
      "source": [
        "784*10+10"
      ],
      "execution_count": null,
      "outputs": []
    },
    {
      "cell_type": "code",
      "metadata": {
        "id": "6sxfEd4CVBoN"
      },
      "source": [
        "epochs=100\n",
        "sgd = SGD(lr=0.01, decay=0, momentum=0.9)\n",
        "model.compile(loss='categorical_crossentropy',\n",
        "              optimizer=sgd,\n",
        "              metrics=['accuracy'])\n",
        "history = model.fit(x_train, y_train,\n",
        "                    batch_size=128,\n",
        "                    epochs=epochs,\n",
        "                    verbose=1,\n",
        "                    validation_data=(x_test, y_test))\n",
        "score = model.evaluate(x_test, y_test, verbose=0)"
      ],
      "execution_count": null,
      "outputs": []
    },
    {
      "cell_type": "code",
      "metadata": {
        "id": "EAn_qfLYfyMq"
      },
      "source": [
        "print(score)"
      ],
      "execution_count": null,
      "outputs": []
    },
    {
      "cell_type": "code",
      "metadata": {
        "id": "b6kJqNBUfyMu"
      },
      "source": [
        "import matplotlib.pyplot as plt\n",
        "import numpy as np\n",
        "\n",
        "N = np.arange(0, epochs)\n",
        "plt.style.use(\"ggplot\")\n",
        "\n",
        "fig = plt.figure(figsize=(15,7))\n",
        "fig.subplots_adjust(hspace=0.4, wspace=0.4)\n",
        "\n",
        "plt.subplot(1, 2, 1)\n",
        "plt.plot(N, history.history[\"loss\"], label=\"train_loss\")\n",
        "plt.plot(N, history.history[\"val_loss\"], label=\"val_loss\")\n",
        "plt.title(\"Train/Val Loss (Simple NN)\")\n",
        "plt.xlabel(\"Epoch #\")\n",
        "plt.ylabel(\"Loss\")\n",
        "plt.legend()\n",
        "plt.subplot(1, 2, 2)\n",
        "plt.plot(N, history.history[\"accuracy\"], label=\"train_acc\")\n",
        "plt.plot(N, history.history[\"val_accuracy\"], label=\"val_acc\")\n",
        "plt.title(\"Train/Val Accuracy (Simple NN)\")\n",
        "plt.xlabel(\"Epoch #\")\n",
        "plt.ylabel(\"Accuracy\")\n",
        "plt.legend()\n",
        "plt.show()"
      ],
      "execution_count": null,
      "outputs": []
    },
    {
      "cell_type": "code",
      "metadata": {
        "id": "hlPoxwxfYavf"
      },
      "source": [
        "print(input_shape)\n",
        "print(num_classes)"
      ],
      "execution_count": null,
      "outputs": []
    },
    {
      "cell_type": "code",
      "metadata": {
        "id": "vfO-UGj6YvKl"
      },
      "source": [
        "from keras.layers import Conv2D,MaxPooling2D\n",
        "\n"
      ],
      "execution_count": null,
      "outputs": []
    },
    {
      "cell_type": "code",
      "metadata": {
        "id": "RJ4g7FBMfyM5"
      },
      "source": [
        "model = keras.Sequential(\n",
        "    [\n",
        "        keras.Input(shape=input_shape),\n",
        "        Conv2D(32, kernel_size=(3, 3), activation=\"relu\",padding=\"same\"),\n",
        "        MaxPooling2D(pool_size=(2, 2)),\n",
        "        Conv2D(64, kernel_size=(3, 3), activation=\"relu\",padding=\"same\"),\n",
        "        MaxPooling2D(pool_size=(2, 2)),\n",
        "        Flatten(),\n",
        "        Dropout(0.5),\n",
        "        Dense(num_classes, activation=\"softmax\"),\n",
        "    ]\n",
        ")\n",
        "\n",
        "model.summary()"
      ],
      "execution_count": null,
      "outputs": []
    },
    {
      "cell_type": "code",
      "metadata": {
        "id": "MExSljZQcFw6"
      },
      "source": [
        "(x_train, y_train), (x_test, y_test) = keras.datasets.mnist.load_data()\n",
        "\n",
        "# Scale images to the [0, 1] range\n",
        "x_train = x_train.astype(\"float32\") / 255\n",
        "x_test = x_test.astype(\"float32\") / 255"
      ],
      "execution_count": null,
      "outputs": []
    },
    {
      "cell_type": "code",
      "metadata": {
        "id": "o_XGYPG0dVN4"
      },
      "source": [
        "y_train = keras.utils.to_categorical(y_train, num_classes)\n",
        "y_test = keras.utils.to_categorical(y_test, num_classes)"
      ],
      "execution_count": null,
      "outputs": []
    },
    {
      "cell_type": "code",
      "metadata": {
        "id": "TuinLiu4cmhJ"
      },
      "source": [
        "y_train.shape\n"
      ],
      "execution_count": null,
      "outputs": []
    },
    {
      "cell_type": "code",
      "metadata": {
        "id": "ZMvRiZyodcJ2"
      },
      "source": [
        "def log_loss(y_pred,y_true):\n",
        "  return -1.0*np.mean(y_true*np.log(y_pred))"
      ],
      "execution_count": null,
      "outputs": []
    },
    {
      "cell_type": "code",
      "metadata": {
        "id": "sYaXhqHldzLm"
      },
      "source": [
        "theta=np.random.beta(1,1,size=y_train.shape)"
      ],
      "execution_count": null,
      "outputs": []
    },
    {
      "cell_type": "code",
      "metadata": {
        "id": "UQ2LrZjieD99"
      },
      "source": [
        "prob=theta/np.repeat(np.sum(theta,axis=1),repeats=10).reshape(theta.shape)"
      ],
      "execution_count": null,
      "outputs": []
    },
    {
      "cell_type": "code",
      "metadata": {
        "id": "uHlsuJtgevJ5"
      },
      "source": [
        "log_loss(prob,y_train)"
      ],
      "execution_count": null,
      "outputs": []
    },
    {
      "cell_type": "code",
      "metadata": {
        "id": "6Cai20UNcVIB"
      },
      "source": [
        "x_train=np.expand_dims(x_train,3)\n",
        "x_test=np.expand_dims(x_test,3)"
      ],
      "execution_count": null,
      "outputs": []
    },
    {
      "cell_type": "code",
      "metadata": {
        "id": "aSwxtUrecvSo"
      },
      "source": [
        "x_train.shape"
      ],
      "execution_count": null,
      "outputs": []
    },
    {
      "cell_type": "code",
      "metadata": {
        "id": "ir9eCk0xcEoD"
      },
      "source": [
        "epochs=100\n",
        "sgd = SGD(lr=0.01, decay=0, momentum=0.9)\n",
        "model.compile(loss='categorical_crossentropy',\n",
        "              optimizer=sgd,\n",
        "              metrics=['accuracy'])\n",
        "history = model.fit(x_train, y_train,\n",
        "                    batch_size=128,\n",
        "                    epochs=epochs,\n",
        "                    verbose=1,\n",
        "                    validation_data=(x_test, y_test))\n",
        "score = model.evaluate(x_test, y_test, verbose=0)"
      ],
      "execution_count": null,
      "outputs": []
    },
    {
      "cell_type": "code",
      "metadata": {
        "id": "ksx6avHOhK5A"
      },
      "source": [
        "import matplotlib.pyplot as plt\n",
        "import numpy as np\n",
        "\n",
        "N = np.arange(0, epochs)\n",
        "plt.style.use(\"ggplot\")\n",
        "\n",
        "fig = plt.figure(figsize=(15,7))\n",
        "fig.subplots_adjust(hspace=0.4, wspace=0.4)\n",
        "\n",
        "plt.subplot(1, 2, 1)\n",
        "plt.plot(N, history.history[\"loss\"], label=\"train_loss\")\n",
        "plt.plot(N, history.history[\"val_loss\"], label=\"val_loss\")\n",
        "plt.title(\"Train/Val Loss (Convolutional NN)\")\n",
        "plt.xlabel(\"Epoch #\")\n",
        "plt.ylabel(\"Loss\")\n",
        "plt.legend()\n",
        "plt.subplot(1, 2, 2)\n",
        "plt.plot(N, history.history[\"accuracy\"], label=\"train_acc\")\n",
        "plt.plot(N, history.history[\"val_accuracy\"], label=\"val_acc\")\n",
        "plt.title(\"Train/Val Accuracy (Convolutional NN)\")\n",
        "plt.xlabel(\"Epoch #\")\n",
        "plt.ylabel(\"Accuracy\")\n",
        "plt.legend()\n",
        "plt.show()"
      ],
      "execution_count": null,
      "outputs": []
    }
  ]
}