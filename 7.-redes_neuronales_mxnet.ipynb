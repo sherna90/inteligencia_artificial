{
  "cells": [
    {
      "cell_type": "markdown",
      "id": "ece9e5d3",
      "metadata": {
        "id": "ece9e5d3"
      },
      "source": [
        "# Redes Neuronales Convolucionales MxNet"
      ]
    },
    {
      "cell_type": "code",
      "source": [
        "!nvidia-smi"
      ],
      "metadata": {
        "id": "GZJ4zkc81CPA",
        "outputId": "43c19435-f88c-4240-e9f4-f79803c529ab",
        "colab": {
          "base_uri": "https://localhost:8080/"
        }
      },
      "id": "GZJ4zkc81CPA",
      "execution_count": 1,
      "outputs": [
        {
          "output_type": "stream",
          "name": "stdout",
          "text": [
            "Wed Nov 16 00:26:23 2022       \n",
            "+-----------------------------------------------------------------------------+\n",
            "| NVIDIA-SMI 460.32.03    Driver Version: 460.32.03    CUDA Version: 11.2     |\n",
            "|-------------------------------+----------------------+----------------------+\n",
            "| GPU  Name        Persistence-M| Bus-Id        Disp.A | Volatile Uncorr. ECC |\n",
            "| Fan  Temp  Perf  Pwr:Usage/Cap|         Memory-Usage | GPU-Util  Compute M. |\n",
            "|                               |                      |               MIG M. |\n",
            "|===============================+======================+======================|\n",
            "|   0  Tesla T4            Off  | 00000000:00:04.0 Off |                    0 |\n",
            "| N/A   63C    P8    10W /  70W |      0MiB / 15109MiB |      0%      Default |\n",
            "|                               |                      |                  N/A |\n",
            "+-------------------------------+----------------------+----------------------+\n",
            "                                                                               \n",
            "+-----------------------------------------------------------------------------+\n",
            "| Processes:                                                                  |\n",
            "|  GPU   GI   CI        PID   Type   Process name                  GPU Memory |\n",
            "|        ID   ID                                                   Usage      |\n",
            "|=============================================================================|\n",
            "|  No running processes found                                                 |\n",
            "+-----------------------------------------------------------------------------+\n"
          ]
        }
      ]
    },
    {
      "cell_type": "code",
      "source": [
        "!pip install --user mxnet-cu112"
      ],
      "metadata": {
        "id": "iYEURT-r1Hni",
        "outputId": "0f1c873b-a295-42ae-dec9-c939e558f126",
        "colab": {
          "base_uri": "https://localhost:8080/"
        }
      },
      "id": "iYEURT-r1Hni",
      "execution_count": 2,
      "outputs": [
        {
          "output_type": "stream",
          "name": "stdout",
          "text": [
            "Looking in indexes: https://pypi.org/simple, https://us-python.pkg.dev/colab-wheels/public/simple/\n",
            "Collecting mxnet-cu112\n",
            "  Downloading mxnet_cu112-1.9.1-py3-none-manylinux2014_x86_64.whl (499.4 MB)\n",
            "\u001b[K     |████████████████████████████████| 499.4 MB 1.7 kB/s \n",
            "\u001b[?25hRequirement already satisfied: numpy<2.0.0,>1.16.0 in /usr/local/lib/python3.7/dist-packages (from mxnet-cu112) (1.21.6)\n",
            "Collecting graphviz<0.9.0,>=0.8.1\n",
            "  Downloading graphviz-0.8.4-py2.py3-none-any.whl (16 kB)\n",
            "Requirement already satisfied: requests<3,>=2.20.0 in /usr/local/lib/python3.7/dist-packages (from mxnet-cu112) (2.23.0)\n",
            "Requirement already satisfied: certifi>=2017.4.17 in /usr/local/lib/python3.7/dist-packages (from requests<3,>=2.20.0->mxnet-cu112) (2022.9.24)\n",
            "Requirement already satisfied: chardet<4,>=3.0.2 in /usr/local/lib/python3.7/dist-packages (from requests<3,>=2.20.0->mxnet-cu112) (3.0.4)\n",
            "Requirement already satisfied: urllib3!=1.25.0,!=1.25.1,<1.26,>=1.21.1 in /usr/local/lib/python3.7/dist-packages (from requests<3,>=2.20.0->mxnet-cu112) (1.24.3)\n",
            "Requirement already satisfied: idna<3,>=2.5 in /usr/local/lib/python3.7/dist-packages (from requests<3,>=2.20.0->mxnet-cu112) (2.10)\n",
            "Installing collected packages: graphviz, mxnet-cu112\n",
            "Successfully installed graphviz-0.8.4 mxnet-cu112-1.9.1\n"
          ]
        }
      ]
    },
    {
      "cell_type": "code",
      "execution_count": 1,
      "id": "064c3984",
      "metadata": {
        "id": "064c3984"
      },
      "outputs": [],
      "source": [
        "import numpy as np\n",
        "import mxnet as mx\n",
        "import matplotlib.pyplot as plt\n",
        "\n",
        "from mxnet import gluon, nd, image\n",
        "from mxnet.gluon.data.vision import transforms\n",
        "from mxnet.gluon.model_zoo import vision\n"
      ]
    },
    {
      "cell_type": "code",
      "execution_count": 4,
      "id": "48508541",
      "metadata": {
        "id": "48508541"
      },
      "outputs": [],
      "source": [
        "transform_train = transforms.Compose([\n",
        "    # Randomly crop an area and resize it to be 32x32, then pad it to be 40x40\n",
        "    transforms.RandomResizedCrop(32),\n",
        "    # Randomly flip the image horizontally\n",
        "    transforms.RandomFlipLeftRight(),\n",
        "    # Transpose the image from height*width*num_channels to num_channels*height*width\n",
        "    # and map values from [0, 255] to [0,1]\n",
        "    transforms.ToTensor(),\n",
        "    # Normalize the image with mean and standard deviation calculated across all images\n",
        "    transforms.Normalize([0.4914, 0.4822, 0.4465], [0.2023, 0.1994, 0.2010])\n",
        "])\n",
        "\n",
        "transform_test = transforms.Compose([\n",
        "    transforms.ToTensor(),\n",
        "    transforms.Normalize([0.4914, 0.4822, 0.4465], [0.2023, 0.1994, 0.2010])\n",
        "])"
      ]
    },
    {
      "cell_type": "code",
      "execution_count": 5,
      "id": "c932048f",
      "metadata": {
        "id": "c932048f",
        "outputId": "a25d00e8-7beb-4e9e-88c5-efeccf884e28",
        "colab": {
          "base_uri": "https://localhost:8080/"
        }
      },
      "outputs": [
        {
          "output_type": "stream",
          "name": "stdout",
          "text": [
            "Downloading /root/.mxnet/datasets/cifar100/cifar-100-binary.tar.gz from https://apache-mxnet.s3-accelerate.dualstack.amazonaws.com/gluon/dataset/cifar100/cifar-100-binary.tar.gz...\n"
          ]
        }
      ],
      "source": [
        "# Number of data loader workers\n",
        "num_workers = 8\n",
        "# Calculate effective total batch size\n",
        "batch_size = 128 \n",
        "\n",
        "# Set train=True for training data\n",
        "# Set shuffle=True to shuffle the training data\n",
        "train_data = gluon.data.DataLoader(\n",
        "    gluon.data.vision.CIFAR10(train=True).transform_first(transform_train),\n",
        "    batch_size=batch_size, shuffle=True, last_batch='discard', num_workers=num_workers)\n",
        "\n",
        "# Set train=False for validation data\n",
        "val_data = gluon.data.DataLoader(\n",
        "    gluon.data.vision.CIFAR10(train=False).transform_first(transform_test),\n",
        "    batch_size=batch_size, shuffle=False, num_workers=num_workers)"
      ]
    },
    {
      "cell_type": "code",
      "source": [
        "for data,label in train_data:\n",
        "  break"
      ],
      "metadata": {
        "id": "xuxEm5Cn15Aq"
      },
      "id": "xuxEm5Cn15Aq",
      "execution_count": 6,
      "outputs": []
    },
    {
      "cell_type": "code",
      "source": [
        "import matplotlib.pyplot as plt\n",
        "\n",
        "image=data[1,:].asnumpy().reshape(3,32,32).transpose(1,2,0)"
      ],
      "metadata": {
        "id": "AfcjBhA418j_"
      },
      "id": "AfcjBhA418j_",
      "execution_count": 25,
      "outputs": []
    },
    {
      "cell_type": "markdown",
      "id": "29ad4616",
      "metadata": {
        "id": "29ad4616"
      },
      "source": [
        "# 1.1 Entrenar modelo from scrath\n",
        "\n",
        "Descargamos un modelo desde el repositorio de MxNet."
      ]
    },
    {
      "cell_type": "code",
      "execution_count": 29,
      "id": "de143377",
      "metadata": {
        "id": "de143377"
      },
      "outputs": [],
      "source": [
        "# https://mxnet.apache.org/versions/1.9.1/api/python/docs/api/gluon/model_zoo/index.html\n",
        "\n",
        "model = vision.resnet18_v1(pretrained=False)"
      ]
    },
    {
      "cell_type": "code",
      "execution_count": 30,
      "id": "bf489e39",
      "metadata": {
        "id": "bf489e39",
        "outputId": "2caf73f0-aebe-4b1c-9da0-4ca7d3994ac5",
        "colab": {
          "base_uri": "https://localhost:8080/"
        }
      },
      "outputs": [
        {
          "output_type": "execute_result",
          "data": {
            "text/plain": [
              "resnetv10_ (\n",
              "  Parameter resnetv10_conv0_weight (shape=(64, 0, 7, 7), dtype=<class 'numpy.float32'>)\n",
              "  Parameter resnetv10_batchnorm0_gamma (shape=(0,), dtype=<class 'numpy.float32'>)\n",
              "  Parameter resnetv10_batchnorm0_beta (shape=(0,), dtype=<class 'numpy.float32'>)\n",
              "  Parameter resnetv10_batchnorm0_running_mean (shape=(0,), dtype=<class 'numpy.float32'>)\n",
              "  Parameter resnetv10_batchnorm0_running_var (shape=(0,), dtype=<class 'numpy.float32'>)\n",
              "  Parameter resnetv10_stage1_conv0_weight (shape=(64, 64, 3, 3), dtype=<class 'numpy.float32'>)\n",
              "  Parameter resnetv10_stage1_batchnorm0_gamma (shape=(0,), dtype=<class 'numpy.float32'>)\n",
              "  Parameter resnetv10_stage1_batchnorm0_beta (shape=(0,), dtype=<class 'numpy.float32'>)\n",
              "  Parameter resnetv10_stage1_batchnorm0_running_mean (shape=(0,), dtype=<class 'numpy.float32'>)\n",
              "  Parameter resnetv10_stage1_batchnorm0_running_var (shape=(0,), dtype=<class 'numpy.float32'>)\n",
              "  Parameter resnetv10_stage1_conv1_weight (shape=(64, 64, 3, 3), dtype=<class 'numpy.float32'>)\n",
              "  Parameter resnetv10_stage1_batchnorm1_gamma (shape=(0,), dtype=<class 'numpy.float32'>)\n",
              "  Parameter resnetv10_stage1_batchnorm1_beta (shape=(0,), dtype=<class 'numpy.float32'>)\n",
              "  Parameter resnetv10_stage1_batchnorm1_running_mean (shape=(0,), dtype=<class 'numpy.float32'>)\n",
              "  Parameter resnetv10_stage1_batchnorm1_running_var (shape=(0,), dtype=<class 'numpy.float32'>)\n",
              "  Parameter resnetv10_stage1_conv2_weight (shape=(64, 64, 3, 3), dtype=<class 'numpy.float32'>)\n",
              "  Parameter resnetv10_stage1_batchnorm2_gamma (shape=(0,), dtype=<class 'numpy.float32'>)\n",
              "  Parameter resnetv10_stage1_batchnorm2_beta (shape=(0,), dtype=<class 'numpy.float32'>)\n",
              "  Parameter resnetv10_stage1_batchnorm2_running_mean (shape=(0,), dtype=<class 'numpy.float32'>)\n",
              "  Parameter resnetv10_stage1_batchnorm2_running_var (shape=(0,), dtype=<class 'numpy.float32'>)\n",
              "  Parameter resnetv10_stage1_conv3_weight (shape=(64, 64, 3, 3), dtype=<class 'numpy.float32'>)\n",
              "  Parameter resnetv10_stage1_batchnorm3_gamma (shape=(0,), dtype=<class 'numpy.float32'>)\n",
              "  Parameter resnetv10_stage1_batchnorm3_beta (shape=(0,), dtype=<class 'numpy.float32'>)\n",
              "  Parameter resnetv10_stage1_batchnorm3_running_mean (shape=(0,), dtype=<class 'numpy.float32'>)\n",
              "  Parameter resnetv10_stage1_batchnorm3_running_var (shape=(0,), dtype=<class 'numpy.float32'>)\n",
              "  Parameter resnetv10_stage2_conv0_weight (shape=(128, 64, 3, 3), dtype=<class 'numpy.float32'>)\n",
              "  Parameter resnetv10_stage2_batchnorm0_gamma (shape=(0,), dtype=<class 'numpy.float32'>)\n",
              "  Parameter resnetv10_stage2_batchnorm0_beta (shape=(0,), dtype=<class 'numpy.float32'>)\n",
              "  Parameter resnetv10_stage2_batchnorm0_running_mean (shape=(0,), dtype=<class 'numpy.float32'>)\n",
              "  Parameter resnetv10_stage2_batchnorm0_running_var (shape=(0,), dtype=<class 'numpy.float32'>)\n",
              "  Parameter resnetv10_stage2_conv1_weight (shape=(128, 128, 3, 3), dtype=<class 'numpy.float32'>)\n",
              "  Parameter resnetv10_stage2_batchnorm1_gamma (shape=(0,), dtype=<class 'numpy.float32'>)\n",
              "  Parameter resnetv10_stage2_batchnorm1_beta (shape=(0,), dtype=<class 'numpy.float32'>)\n",
              "  Parameter resnetv10_stage2_batchnorm1_running_mean (shape=(0,), dtype=<class 'numpy.float32'>)\n",
              "  Parameter resnetv10_stage2_batchnorm1_running_var (shape=(0,), dtype=<class 'numpy.float32'>)\n",
              "  Parameter resnetv10_stage2_conv2_weight (shape=(128, 64, 1, 1), dtype=<class 'numpy.float32'>)\n",
              "  Parameter resnetv10_stage2_batchnorm2_gamma (shape=(0,), dtype=<class 'numpy.float32'>)\n",
              "  Parameter resnetv10_stage2_batchnorm2_beta (shape=(0,), dtype=<class 'numpy.float32'>)\n",
              "  Parameter resnetv10_stage2_batchnorm2_running_mean (shape=(0,), dtype=<class 'numpy.float32'>)\n",
              "  Parameter resnetv10_stage2_batchnorm2_running_var (shape=(0,), dtype=<class 'numpy.float32'>)\n",
              "  Parameter resnetv10_stage2_conv3_weight (shape=(128, 128, 3, 3), dtype=<class 'numpy.float32'>)\n",
              "  Parameter resnetv10_stage2_batchnorm3_gamma (shape=(0,), dtype=<class 'numpy.float32'>)\n",
              "  Parameter resnetv10_stage2_batchnorm3_beta (shape=(0,), dtype=<class 'numpy.float32'>)\n",
              "  Parameter resnetv10_stage2_batchnorm3_running_mean (shape=(0,), dtype=<class 'numpy.float32'>)\n",
              "  Parameter resnetv10_stage2_batchnorm3_running_var (shape=(0,), dtype=<class 'numpy.float32'>)\n",
              "  Parameter resnetv10_stage2_conv4_weight (shape=(128, 128, 3, 3), dtype=<class 'numpy.float32'>)\n",
              "  Parameter resnetv10_stage2_batchnorm4_gamma (shape=(0,), dtype=<class 'numpy.float32'>)\n",
              "  Parameter resnetv10_stage2_batchnorm4_beta (shape=(0,), dtype=<class 'numpy.float32'>)\n",
              "  Parameter resnetv10_stage2_batchnorm4_running_mean (shape=(0,), dtype=<class 'numpy.float32'>)\n",
              "  Parameter resnetv10_stage2_batchnorm4_running_var (shape=(0,), dtype=<class 'numpy.float32'>)\n",
              "  Parameter resnetv10_stage3_conv0_weight (shape=(256, 128, 3, 3), dtype=<class 'numpy.float32'>)\n",
              "  Parameter resnetv10_stage3_batchnorm0_gamma (shape=(0,), dtype=<class 'numpy.float32'>)\n",
              "  Parameter resnetv10_stage3_batchnorm0_beta (shape=(0,), dtype=<class 'numpy.float32'>)\n",
              "  Parameter resnetv10_stage3_batchnorm0_running_mean (shape=(0,), dtype=<class 'numpy.float32'>)\n",
              "  Parameter resnetv10_stage3_batchnorm0_running_var (shape=(0,), dtype=<class 'numpy.float32'>)\n",
              "  Parameter resnetv10_stage3_conv1_weight (shape=(256, 256, 3, 3), dtype=<class 'numpy.float32'>)\n",
              "  Parameter resnetv10_stage3_batchnorm1_gamma (shape=(0,), dtype=<class 'numpy.float32'>)\n",
              "  Parameter resnetv10_stage3_batchnorm1_beta (shape=(0,), dtype=<class 'numpy.float32'>)\n",
              "  Parameter resnetv10_stage3_batchnorm1_running_mean (shape=(0,), dtype=<class 'numpy.float32'>)\n",
              "  Parameter resnetv10_stage3_batchnorm1_running_var (shape=(0,), dtype=<class 'numpy.float32'>)\n",
              "  Parameter resnetv10_stage3_conv2_weight (shape=(256, 128, 1, 1), dtype=<class 'numpy.float32'>)\n",
              "  Parameter resnetv10_stage3_batchnorm2_gamma (shape=(0,), dtype=<class 'numpy.float32'>)\n",
              "  Parameter resnetv10_stage3_batchnorm2_beta (shape=(0,), dtype=<class 'numpy.float32'>)\n",
              "  Parameter resnetv10_stage3_batchnorm2_running_mean (shape=(0,), dtype=<class 'numpy.float32'>)\n",
              "  Parameter resnetv10_stage3_batchnorm2_running_var (shape=(0,), dtype=<class 'numpy.float32'>)\n",
              "  Parameter resnetv10_stage3_conv3_weight (shape=(256, 256, 3, 3), dtype=<class 'numpy.float32'>)\n",
              "  Parameter resnetv10_stage3_batchnorm3_gamma (shape=(0,), dtype=<class 'numpy.float32'>)\n",
              "  Parameter resnetv10_stage3_batchnorm3_beta (shape=(0,), dtype=<class 'numpy.float32'>)\n",
              "  Parameter resnetv10_stage3_batchnorm3_running_mean (shape=(0,), dtype=<class 'numpy.float32'>)\n",
              "  Parameter resnetv10_stage3_batchnorm3_running_var (shape=(0,), dtype=<class 'numpy.float32'>)\n",
              "  Parameter resnetv10_stage3_conv4_weight (shape=(256, 256, 3, 3), dtype=<class 'numpy.float32'>)\n",
              "  Parameter resnetv10_stage3_batchnorm4_gamma (shape=(0,), dtype=<class 'numpy.float32'>)\n",
              "  Parameter resnetv10_stage3_batchnorm4_beta (shape=(0,), dtype=<class 'numpy.float32'>)\n",
              "  Parameter resnetv10_stage3_batchnorm4_running_mean (shape=(0,), dtype=<class 'numpy.float32'>)\n",
              "  Parameter resnetv10_stage3_batchnorm4_running_var (shape=(0,), dtype=<class 'numpy.float32'>)\n",
              "  Parameter resnetv10_stage4_conv0_weight (shape=(512, 256, 3, 3), dtype=<class 'numpy.float32'>)\n",
              "  Parameter resnetv10_stage4_batchnorm0_gamma (shape=(0,), dtype=<class 'numpy.float32'>)\n",
              "  Parameter resnetv10_stage4_batchnorm0_beta (shape=(0,), dtype=<class 'numpy.float32'>)\n",
              "  Parameter resnetv10_stage4_batchnorm0_running_mean (shape=(0,), dtype=<class 'numpy.float32'>)\n",
              "  Parameter resnetv10_stage4_batchnorm0_running_var (shape=(0,), dtype=<class 'numpy.float32'>)\n",
              "  Parameter resnetv10_stage4_conv1_weight (shape=(512, 512, 3, 3), dtype=<class 'numpy.float32'>)\n",
              "  Parameter resnetv10_stage4_batchnorm1_gamma (shape=(0,), dtype=<class 'numpy.float32'>)\n",
              "  Parameter resnetv10_stage4_batchnorm1_beta (shape=(0,), dtype=<class 'numpy.float32'>)\n",
              "  Parameter resnetv10_stage4_batchnorm1_running_mean (shape=(0,), dtype=<class 'numpy.float32'>)\n",
              "  Parameter resnetv10_stage4_batchnorm1_running_var (shape=(0,), dtype=<class 'numpy.float32'>)\n",
              "  Parameter resnetv10_stage4_conv2_weight (shape=(512, 256, 1, 1), dtype=<class 'numpy.float32'>)\n",
              "  Parameter resnetv10_stage4_batchnorm2_gamma (shape=(0,), dtype=<class 'numpy.float32'>)\n",
              "  Parameter resnetv10_stage4_batchnorm2_beta (shape=(0,), dtype=<class 'numpy.float32'>)\n",
              "  Parameter resnetv10_stage4_batchnorm2_running_mean (shape=(0,), dtype=<class 'numpy.float32'>)\n",
              "  Parameter resnetv10_stage4_batchnorm2_running_var (shape=(0,), dtype=<class 'numpy.float32'>)\n",
              "  Parameter resnetv10_stage4_conv3_weight (shape=(512, 512, 3, 3), dtype=<class 'numpy.float32'>)\n",
              "  Parameter resnetv10_stage4_batchnorm3_gamma (shape=(0,), dtype=<class 'numpy.float32'>)\n",
              "  Parameter resnetv10_stage4_batchnorm3_beta (shape=(0,), dtype=<class 'numpy.float32'>)\n",
              "  Parameter resnetv10_stage4_batchnorm3_running_mean (shape=(0,), dtype=<class 'numpy.float32'>)\n",
              "  Parameter resnetv10_stage4_batchnorm3_running_var (shape=(0,), dtype=<class 'numpy.float32'>)\n",
              "  Parameter resnetv10_stage4_conv4_weight (shape=(512, 512, 3, 3), dtype=<class 'numpy.float32'>)\n",
              "  Parameter resnetv10_stage4_batchnorm4_gamma (shape=(0,), dtype=<class 'numpy.float32'>)\n",
              "  Parameter resnetv10_stage4_batchnorm4_beta (shape=(0,), dtype=<class 'numpy.float32'>)\n",
              "  Parameter resnetv10_stage4_batchnorm4_running_mean (shape=(0,), dtype=<class 'numpy.float32'>)\n",
              "  Parameter resnetv10_stage4_batchnorm4_running_var (shape=(0,), dtype=<class 'numpy.float32'>)\n",
              "  Parameter resnetv10_dense0_weight (shape=(1000, 512), dtype=float32)\n",
              "  Parameter resnetv10_dense0_bias (shape=(1000,), dtype=float32)\n",
              ")"
            ]
          },
          "metadata": {},
          "execution_count": 30
        }
      ],
      "source": [
        "model.collect_params()"
      ]
    },
    {
      "cell_type": "markdown",
      "id": "b48acee9",
      "metadata": {
        "id": "b48acee9"
      },
      "source": [
        "Inicializamos los parametros en la GPU."
      ]
    },
    {
      "cell_type": "code",
      "execution_count": 31,
      "id": "11982153",
      "metadata": {
        "id": "11982153"
      },
      "outputs": [],
      "source": [
        "from mxnet.gluon import nn\n",
        "\n",
        "ctx=[mx.gpu()]\n",
        "model.output = nn.Dense(10)\n",
        "model.initialize(mx.init.Xavier(), ctx = ctx)"
      ]
    },
    {
      "cell_type": "code",
      "execution_count": 32,
      "id": "a1fd149f",
      "metadata": {
        "id": "a1fd149f"
      },
      "outputs": [],
      "source": [
        "# Learning rate decay factor\n",
        "lr_decay = 0.1\n",
        "# Epochs where learning rate decays\n",
        "lr_decay_epoch = [80, 160, np.inf]\n",
        "\n",
        "# Nesterov accelerated gradient descent\n",
        "optimizer = 'sgd'\n",
        "# Set parameters\n",
        "optimizer_params = {'learning_rate': 0.1, 'wd': 0.0001, 'momentum': 0.9}\n",
        "\n",
        "# Define our trainer for net\n",
        "trainer = gluon.Trainer(model.collect_params(), optimizer, optimizer_params)"
      ]
    },
    {
      "cell_type": "code",
      "execution_count": 33,
      "id": "2a68ba3f",
      "metadata": {
        "id": "2a68ba3f"
      },
      "outputs": [],
      "source": [
        "loss_fn = gluon.loss.SoftmaxCrossEntropyLoss()"
      ]
    },
    {
      "cell_type": "code",
      "execution_count": 35,
      "id": "188debc9",
      "metadata": {
        "id": "188debc9"
      },
      "outputs": [],
      "source": [
        "train_metric = mx.metric.Accuracy()"
      ]
    },
    {
      "cell_type": "code",
      "execution_count": 36,
      "id": "a445d2fb",
      "metadata": {
        "id": "a445d2fb"
      },
      "outputs": [],
      "source": [
        "def test(ctx, val_data):\n",
        "    metric = mx.metric.Accuracy()\n",
        "    for i, batch in enumerate(val_data):\n",
        "        data = gluon.utils.split_and_load(batch[0], ctx_list=ctx, batch_axis=0)\n",
        "        label = gluon.utils.split_and_load(batch[1], ctx_list=ctx, batch_axis=0)\n",
        "        outputs = [model(X) for X in data]\n",
        "        metric.update(label, outputs)\n",
        "    return metric.get()"
      ]
    },
    {
      "cell_type": "code",
      "execution_count": null,
      "id": "f18283fd",
      "metadata": {
        "id": "f18283fd",
        "outputId": "15f3a257-d73d-4ba1-dc8d-dde602179280",
        "colab": {
          "base_uri": "https://localhost:8080/"
        }
      },
      "outputs": [
        {
          "output_type": "stream",
          "name": "stdout",
          "text": [
            "[Epoch 0] train=0.148177 val=0.225900 loss=154703.140625 time: 40.631672\n",
            "[Epoch 1] train=0.228626 val=0.272800 loss=125123.421875 time: 39.539554\n",
            "[Epoch 2] train=0.266647 val=0.319300 loss=119076.085938 time: 36.565133\n",
            "[Epoch 3] train=0.288842 val=0.356000 loss=115011.906250 time: 44.655553\n",
            "[Epoch 4] train=0.310998 val=0.358100 loss=111829.289062 time: 36.633148\n",
            "[Epoch 5] train=0.301402 val=0.357000 loss=112860.976562 time: 35.575439\n",
            "[Epoch 6] train=0.330148 val=0.381700 loss=108552.492188 time: 37.290272\n",
            "[Epoch 7] train=0.347937 val=0.390100 loss=105559.031250 time: 35.789214\n",
            "[Epoch 8] train=0.361599 val=0.408700 loss=103192.296875 time: 36.723151\n",
            "[Epoch 9] train=0.371414 val=0.400000 loss=100968.609375 time: 36.614420\n",
            "[Epoch 10] train=0.375240 val=0.434500 loss=100819.750000 time: 37.074393\n",
            "[Epoch 11] train=0.391526 val=0.457400 loss=98379.328125 time: 38.572261\n",
            "[Epoch 12] train=0.396334 val=0.460300 loss=97518.734375 time: 34.972316\n",
            "[Epoch 13] train=0.408333 val=0.465200 loss=95307.156250 time: 36.930568\n",
            "[Epoch 14] train=0.415084 val=0.469700 loss=93783.343750 time: 35.227502\n",
            "[Epoch 15] train=0.426663 val=0.489900 loss=92389.617188 time: 36.858555\n",
            "[Epoch 16] train=0.432412 val=0.492900 loss=91441.398438 time: 35.034067\n",
            "[Epoch 17] train=0.439002 val=0.477100 loss=90147.789062 time: 38.583891\n",
            "[Epoch 18] train=0.443610 val=0.471100 loss=89459.132812 time: 37.629660\n",
            "[Epoch 19] train=0.453105 val=0.502000 loss=87948.125000 time: 35.833405\n",
            "[Epoch 20] train=0.455449 val=0.471200 loss=87589.695312 time: 36.964916\n",
            "[Epoch 21] train=0.460617 val=0.519700 loss=86413.031250 time: 35.045528\n",
            "[Epoch 22] train=0.466927 val=0.517400 loss=85478.562500 time: 36.773797\n",
            "[Epoch 23] train=0.472256 val=0.502300 loss=84335.195312 time: 35.269658\n"
          ]
        }
      ],
      "source": [
        "import time \n",
        "from mxnet import autograd as ag\n",
        "\n",
        "epochs = 20\n",
        "lr_decay_count = 0\n",
        "train_history=list()\n",
        "val_accuracy=list()\n",
        "train_accuracy=list()\n",
        "for epoch in range(epochs):\n",
        "    tic = time.time()\n",
        "    train_metric.reset()\n",
        "    train_loss = 0\n",
        "\n",
        "    # Learning rate decay\n",
        "    if epoch == lr_decay_epoch[lr_decay_count]:\n",
        "        trainer.set_learning_rate(trainer.learning_rate*lr_decay)\n",
        "        lr_decay_count += 1\n",
        "\n",
        "    # Loop through each batch of training data\n",
        "    for i, batch in enumerate(train_data):\n",
        "        # Extract data and label\n",
        "        data = gluon.utils.split_and_load(batch[0], ctx_list=ctx, batch_axis=0)\n",
        "        label = gluon.utils.split_and_load(batch[1], ctx_list=ctx, batch_axis=0)\n",
        "\n",
        "        # AutoGrad\n",
        "        with ag.record():\n",
        "            output = [model(X) for X in data]\n",
        "            loss = [loss_fn(yhat, y) for yhat, y in zip(output, label)]\n",
        "\n",
        "        # Backpropagation\n",
        "        for l in loss:\n",
        "            l.backward()\n",
        "\n",
        "        # Optimize\n",
        "        trainer.step(batch_size)\n",
        "\n",
        "        # Update metrics\n",
        "        train_loss += sum([l.sum().asnumpy() for l in loss])\n",
        "        train_metric.update(label, output)\n",
        "    train_history.append(train_loss/(i*batch_size))\n",
        "    name, acc = train_metric.get()\n",
        "    train_accuracy.append(acc)\n",
        "    # Evaluate on Validation data\n",
        "    name, val_acc = test(ctx, val_data)\n",
        "    val_accuracy.append(val_acc)\n",
        "    print('[Epoch %d] train=%f val=%f loss=%f time: %f' %\n",
        "        (epoch, acc, val_acc, train_loss, time.time()-tic))\n",
        "\n"
      ]
    },
    {
      "cell_type": "code",
      "execution_count": null,
      "id": "123e5b30",
      "metadata": {
        "id": "123e5b30",
        "outputId": "6d897542-2bc5-4fcd-ba27-980cfc129a7d"
      },
      "outputs": [
        {
          "data": {
            "text/plain": [
              "101842.68449401855"
            ]
          },
          "execution_count": 18,
          "metadata": {},
          "output_type": "execute_result"
        }
      ],
      "source": [
        "train_loss"
      ]
    },
    {
      "cell_type": "code",
      "execution_count": null,
      "id": "b8ee60e4",
      "metadata": {
        "id": "b8ee60e4"
      },
      "outputs": [],
      "source": []
    }
  ],
  "metadata": {
    "kernelspec": {
      "display_name": "Python 3",
      "language": "python",
      "name": "python3"
    },
    "language_info": {
      "codemirror_mode": {
        "name": "ipython",
        "version": 3
      },
      "file_extension": ".py",
      "mimetype": "text/x-python",
      "name": "python",
      "nbconvert_exporter": "python",
      "pygments_lexer": "ipython3",
      "version": "3.8.10"
    },
    "colab": {
      "provenance": []
    },
    "accelerator": "GPU",
    "gpuClass": "standard"
  },
  "nbformat": 4,
  "nbformat_minor": 5
}