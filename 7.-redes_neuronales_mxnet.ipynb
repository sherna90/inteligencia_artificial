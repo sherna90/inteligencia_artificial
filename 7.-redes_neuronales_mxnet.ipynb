{
 "cells": [
  {
   "cell_type": "markdown",
   "id": "ece9e5d3",
   "metadata": {},
   "source": [
    "# Redes Neuronales Convolucionales MxNet"
   ]
  },
  {
   "cell_type": "code",
   "execution_count": 19,
   "id": "064c3984",
   "metadata": {},
   "outputs": [],
   "source": [
    "import numpy as np\n",
    "import mxnet as mx\n",
    "import matplotlib.pyplot as plt\n",
    "\n",
    "from mxnet import gluon, nd, image\n",
    "from mxnet.gluon.data.vision import transforms\n",
    "from mxnet.gluon.model_zoo import vision\n"
   ]
  },
  {
   "cell_type": "code",
   "execution_count": 20,
   "id": "48508541",
   "metadata": {},
   "outputs": [],
   "source": [
    "transform_train = transforms.Compose([\n",
    "    # Randomly crop an area and resize it to be 32x32, then pad it to be 40x40\n",
    "    transforms.RandomCrop(32, pad=4),\n",
    "    # Randomly flip the image horizontally\n",
    "    transforms.RandomFlipLeftRight(),\n",
    "    # Transpose the image from height*width*num_channels to num_channels*height*width\n",
    "    # and map values from [0, 255] to [0,1]\n",
    "    transforms.ToTensor(),\n",
    "    # Normalize the image with mean and standard deviation calculated across all images\n",
    "    transforms.Normalize([0.4914, 0.4822, 0.4465], [0.2023, 0.1994, 0.2010])\n",
    "])\n",
    "\n",
    "transform_test = transforms.Compose([\n",
    "    transforms.ToTensor(),\n",
    "    transforms.Normalize([0.4914, 0.4822, 0.4465], [0.2023, 0.1994, 0.2010])\n",
    "])"
   ]
  },
  {
   "cell_type": "code",
   "execution_count": 21,
   "id": "c932048f",
   "metadata": {},
   "outputs": [],
   "source": [
    "# Number of data loader workers\n",
    "num_workers = 8\n",
    "# Calculate effective total batch size\n",
    "batch_size = 128 \n",
    "\n",
    "# Set train=True for training data\n",
    "# Set shuffle=True to shuffle the training data\n",
    "train_data = gluon.data.DataLoader(\n",
    "    gluon.data.vision.CIFAR100(train=True).transform_first(transform_train),\n",
    "    batch_size=batch_size, shuffle=True, last_batch='discard', num_workers=num_workers)\n",
    "\n",
    "# Set train=False for validation data\n",
    "val_data = gluon.data.DataLoader(\n",
    "    gluon.data.vision.CIFAR100(train=False).transform_first(transform_test),\n",
    "    batch_size=batch_size, shuffle=False, num_workers=num_workers)"
   ]
  },
  {
   "cell_type": "markdown",
   "id": "29ad4616",
   "metadata": {},
   "source": [
    "# 1.1 Entrenar modelo from scrath\n",
    "\n",
    "Descargamos un modelo desde el repositorio de MxNet."
   ]
  },
  {
   "cell_type": "code",
   "execution_count": 2,
   "id": "de143377",
   "metadata": {},
   "outputs": [],
   "source": [
    "# https://mxnet.apache.org/versions/1.9.1/api/python/docs/api/gluon/model_zoo/index.html\n",
    "\n",
    "model = vision.resnet18_v1(pretrained=False)"
   ]
  },
  {
   "cell_type": "code",
   "execution_count": 3,
   "id": "bf489e39",
   "metadata": {},
   "outputs": [
    {
     "data": {
      "text/plain": [
       "{'features.0.weight': Parameter (shape=(64, -1, 7, 7), dtype=<class 'numpy.float32'>),\n",
       " 'features.1.gamma': Parameter (shape=(-1,), dtype=<class 'numpy.float32'>),\n",
       " 'features.1.beta': Parameter (shape=(-1,), dtype=<class 'numpy.float32'>),\n",
       " 'features.1.running_mean': Parameter (shape=(-1,), dtype=<class 'numpy.float32'>),\n",
       " 'features.1.running_var': Parameter (shape=(-1,), dtype=<class 'numpy.float32'>),\n",
       " 'features.4.0.body.0.weight': Parameter (shape=(64, -1, 3, 3), dtype=<class 'numpy.float32'>),\n",
       " 'features.4.0.body.1.gamma': Parameter (shape=(-1,), dtype=<class 'numpy.float32'>),\n",
       " 'features.4.0.body.1.beta': Parameter (shape=(-1,), dtype=<class 'numpy.float32'>),\n",
       " 'features.4.0.body.1.running_mean': Parameter (shape=(-1,), dtype=<class 'numpy.float32'>),\n",
       " 'features.4.0.body.1.running_var': Parameter (shape=(-1,), dtype=<class 'numpy.float32'>),\n",
       " 'features.4.0.body.3.weight': Parameter (shape=(64, -1, 3, 3), dtype=<class 'numpy.float32'>),\n",
       " 'features.4.0.body.4.gamma': Parameter (shape=(-1,), dtype=<class 'numpy.float32'>),\n",
       " 'features.4.0.body.4.beta': Parameter (shape=(-1,), dtype=<class 'numpy.float32'>),\n",
       " 'features.4.0.body.4.running_mean': Parameter (shape=(-1,), dtype=<class 'numpy.float32'>),\n",
       " 'features.4.0.body.4.running_var': Parameter (shape=(-1,), dtype=<class 'numpy.float32'>),\n",
       " 'features.4.1.body.0.weight': Parameter (shape=(64, -1, 3, 3), dtype=<class 'numpy.float32'>),\n",
       " 'features.4.1.body.1.gamma': Parameter (shape=(-1,), dtype=<class 'numpy.float32'>),\n",
       " 'features.4.1.body.1.beta': Parameter (shape=(-1,), dtype=<class 'numpy.float32'>),\n",
       " 'features.4.1.body.1.running_mean': Parameter (shape=(-1,), dtype=<class 'numpy.float32'>),\n",
       " 'features.4.1.body.1.running_var': Parameter (shape=(-1,), dtype=<class 'numpy.float32'>),\n",
       " 'features.4.1.body.3.weight': Parameter (shape=(64, -1, 3, 3), dtype=<class 'numpy.float32'>),\n",
       " 'features.4.1.body.4.gamma': Parameter (shape=(-1,), dtype=<class 'numpy.float32'>),\n",
       " 'features.4.1.body.4.beta': Parameter (shape=(-1,), dtype=<class 'numpy.float32'>),\n",
       " 'features.4.1.body.4.running_mean': Parameter (shape=(-1,), dtype=<class 'numpy.float32'>),\n",
       " 'features.4.1.body.4.running_var': Parameter (shape=(-1,), dtype=<class 'numpy.float32'>),\n",
       " 'features.5.0.body.0.weight': Parameter (shape=(128, -1, 3, 3), dtype=<class 'numpy.float32'>),\n",
       " 'features.5.0.body.1.gamma': Parameter (shape=(-1,), dtype=<class 'numpy.float32'>),\n",
       " 'features.5.0.body.1.beta': Parameter (shape=(-1,), dtype=<class 'numpy.float32'>),\n",
       " 'features.5.0.body.1.running_mean': Parameter (shape=(-1,), dtype=<class 'numpy.float32'>),\n",
       " 'features.5.0.body.1.running_var': Parameter (shape=(-1,), dtype=<class 'numpy.float32'>),\n",
       " 'features.5.0.body.3.weight': Parameter (shape=(128, -1, 3, 3), dtype=<class 'numpy.float32'>),\n",
       " 'features.5.0.body.4.gamma': Parameter (shape=(-1,), dtype=<class 'numpy.float32'>),\n",
       " 'features.5.0.body.4.beta': Parameter (shape=(-1,), dtype=<class 'numpy.float32'>),\n",
       " 'features.5.0.body.4.running_mean': Parameter (shape=(-1,), dtype=<class 'numpy.float32'>),\n",
       " 'features.5.0.body.4.running_var': Parameter (shape=(-1,), dtype=<class 'numpy.float32'>),\n",
       " 'features.5.0.downsample.0.weight': Parameter (shape=(128, -1, 1, 1), dtype=<class 'numpy.float32'>),\n",
       " 'features.5.0.downsample.1.gamma': Parameter (shape=(-1,), dtype=<class 'numpy.float32'>),\n",
       " 'features.5.0.downsample.1.beta': Parameter (shape=(-1,), dtype=<class 'numpy.float32'>),\n",
       " 'features.5.0.downsample.1.running_mean': Parameter (shape=(-1,), dtype=<class 'numpy.float32'>),\n",
       " 'features.5.0.downsample.1.running_var': Parameter (shape=(-1,), dtype=<class 'numpy.float32'>),\n",
       " 'features.5.1.body.0.weight': Parameter (shape=(128, -1, 3, 3), dtype=<class 'numpy.float32'>),\n",
       " 'features.5.1.body.1.gamma': Parameter (shape=(-1,), dtype=<class 'numpy.float32'>),\n",
       " 'features.5.1.body.1.beta': Parameter (shape=(-1,), dtype=<class 'numpy.float32'>),\n",
       " 'features.5.1.body.1.running_mean': Parameter (shape=(-1,), dtype=<class 'numpy.float32'>),\n",
       " 'features.5.1.body.1.running_var': Parameter (shape=(-1,), dtype=<class 'numpy.float32'>),\n",
       " 'features.5.1.body.3.weight': Parameter (shape=(128, -1, 3, 3), dtype=<class 'numpy.float32'>),\n",
       " 'features.5.1.body.4.gamma': Parameter (shape=(-1,), dtype=<class 'numpy.float32'>),\n",
       " 'features.5.1.body.4.beta': Parameter (shape=(-1,), dtype=<class 'numpy.float32'>),\n",
       " 'features.5.1.body.4.running_mean': Parameter (shape=(-1,), dtype=<class 'numpy.float32'>),\n",
       " 'features.5.1.body.4.running_var': Parameter (shape=(-1,), dtype=<class 'numpy.float32'>),\n",
       " 'features.6.0.body.0.weight': Parameter (shape=(256, -1, 3, 3), dtype=<class 'numpy.float32'>),\n",
       " 'features.6.0.body.1.gamma': Parameter (shape=(-1,), dtype=<class 'numpy.float32'>),\n",
       " 'features.6.0.body.1.beta': Parameter (shape=(-1,), dtype=<class 'numpy.float32'>),\n",
       " 'features.6.0.body.1.running_mean': Parameter (shape=(-1,), dtype=<class 'numpy.float32'>),\n",
       " 'features.6.0.body.1.running_var': Parameter (shape=(-1,), dtype=<class 'numpy.float32'>),\n",
       " 'features.6.0.body.3.weight': Parameter (shape=(256, -1, 3, 3), dtype=<class 'numpy.float32'>),\n",
       " 'features.6.0.body.4.gamma': Parameter (shape=(-1,), dtype=<class 'numpy.float32'>),\n",
       " 'features.6.0.body.4.beta': Parameter (shape=(-1,), dtype=<class 'numpy.float32'>),\n",
       " 'features.6.0.body.4.running_mean': Parameter (shape=(-1,), dtype=<class 'numpy.float32'>),\n",
       " 'features.6.0.body.4.running_var': Parameter (shape=(-1,), dtype=<class 'numpy.float32'>),\n",
       " 'features.6.0.downsample.0.weight': Parameter (shape=(256, -1, 1, 1), dtype=<class 'numpy.float32'>),\n",
       " 'features.6.0.downsample.1.gamma': Parameter (shape=(-1,), dtype=<class 'numpy.float32'>),\n",
       " 'features.6.0.downsample.1.beta': Parameter (shape=(-1,), dtype=<class 'numpy.float32'>),\n",
       " 'features.6.0.downsample.1.running_mean': Parameter (shape=(-1,), dtype=<class 'numpy.float32'>),\n",
       " 'features.6.0.downsample.1.running_var': Parameter (shape=(-1,), dtype=<class 'numpy.float32'>),\n",
       " 'features.6.1.body.0.weight': Parameter (shape=(256, -1, 3, 3), dtype=<class 'numpy.float32'>),\n",
       " 'features.6.1.body.1.gamma': Parameter (shape=(-1,), dtype=<class 'numpy.float32'>),\n",
       " 'features.6.1.body.1.beta': Parameter (shape=(-1,), dtype=<class 'numpy.float32'>),\n",
       " 'features.6.1.body.1.running_mean': Parameter (shape=(-1,), dtype=<class 'numpy.float32'>),\n",
       " 'features.6.1.body.1.running_var': Parameter (shape=(-1,), dtype=<class 'numpy.float32'>),\n",
       " 'features.6.1.body.3.weight': Parameter (shape=(256, -1, 3, 3), dtype=<class 'numpy.float32'>),\n",
       " 'features.6.1.body.4.gamma': Parameter (shape=(-1,), dtype=<class 'numpy.float32'>),\n",
       " 'features.6.1.body.4.beta': Parameter (shape=(-1,), dtype=<class 'numpy.float32'>),\n",
       " 'features.6.1.body.4.running_mean': Parameter (shape=(-1,), dtype=<class 'numpy.float32'>),\n",
       " 'features.6.1.body.4.running_var': Parameter (shape=(-1,), dtype=<class 'numpy.float32'>),\n",
       " 'features.7.0.body.0.weight': Parameter (shape=(512, -1, 3, 3), dtype=<class 'numpy.float32'>),\n",
       " 'features.7.0.body.1.gamma': Parameter (shape=(-1,), dtype=<class 'numpy.float32'>),\n",
       " 'features.7.0.body.1.beta': Parameter (shape=(-1,), dtype=<class 'numpy.float32'>),\n",
       " 'features.7.0.body.1.running_mean': Parameter (shape=(-1,), dtype=<class 'numpy.float32'>),\n",
       " 'features.7.0.body.1.running_var': Parameter (shape=(-1,), dtype=<class 'numpy.float32'>),\n",
       " 'features.7.0.body.3.weight': Parameter (shape=(512, -1, 3, 3), dtype=<class 'numpy.float32'>),\n",
       " 'features.7.0.body.4.gamma': Parameter (shape=(-1,), dtype=<class 'numpy.float32'>),\n",
       " 'features.7.0.body.4.beta': Parameter (shape=(-1,), dtype=<class 'numpy.float32'>),\n",
       " 'features.7.0.body.4.running_mean': Parameter (shape=(-1,), dtype=<class 'numpy.float32'>),\n",
       " 'features.7.0.body.4.running_var': Parameter (shape=(-1,), dtype=<class 'numpy.float32'>),\n",
       " 'features.7.0.downsample.0.weight': Parameter (shape=(512, -1, 1, 1), dtype=<class 'numpy.float32'>),\n",
       " 'features.7.0.downsample.1.gamma': Parameter (shape=(-1,), dtype=<class 'numpy.float32'>),\n",
       " 'features.7.0.downsample.1.beta': Parameter (shape=(-1,), dtype=<class 'numpy.float32'>),\n",
       " 'features.7.0.downsample.1.running_mean': Parameter (shape=(-1,), dtype=<class 'numpy.float32'>),\n",
       " 'features.7.0.downsample.1.running_var': Parameter (shape=(-1,), dtype=<class 'numpy.float32'>),\n",
       " 'features.7.1.body.0.weight': Parameter (shape=(512, -1, 3, 3), dtype=<class 'numpy.float32'>),\n",
       " 'features.7.1.body.1.gamma': Parameter (shape=(-1,), dtype=<class 'numpy.float32'>),\n",
       " 'features.7.1.body.1.beta': Parameter (shape=(-1,), dtype=<class 'numpy.float32'>),\n",
       " 'features.7.1.body.1.running_mean': Parameter (shape=(-1,), dtype=<class 'numpy.float32'>),\n",
       " 'features.7.1.body.1.running_var': Parameter (shape=(-1,), dtype=<class 'numpy.float32'>),\n",
       " 'features.7.1.body.3.weight': Parameter (shape=(512, -1, 3, 3), dtype=<class 'numpy.float32'>),\n",
       " 'features.7.1.body.4.gamma': Parameter (shape=(-1,), dtype=<class 'numpy.float32'>),\n",
       " 'features.7.1.body.4.beta': Parameter (shape=(-1,), dtype=<class 'numpy.float32'>),\n",
       " 'features.7.1.body.4.running_mean': Parameter (shape=(-1,), dtype=<class 'numpy.float32'>),\n",
       " 'features.7.1.body.4.running_var': Parameter (shape=(-1,), dtype=<class 'numpy.float32'>),\n",
       " 'output.weight': Parameter (shape=(1000, 512), dtype=float32),\n",
       " 'output.bias': Parameter (shape=(1000,), dtype=float32)}"
      ]
     },
     "execution_count": 3,
     "metadata": {},
     "output_type": "execute_result"
    }
   ],
   "source": [
    "model.collect_params()"
   ]
  },
  {
   "cell_type": "markdown",
   "id": "b48acee9",
   "metadata": {},
   "source": [
    "Inicializamos los parametros en la GPU."
   ]
  },
  {
   "cell_type": "code",
   "execution_count": 5,
   "id": "11982153",
   "metadata": {},
   "outputs": [],
   "source": [
    "from mxnet.gluon import nn\n",
    "\n",
    "ctx=[mx.gpu()]\n",
    "model.output = nn.Dense(100)\n",
    "model.initialize(mx.init.Xavier(), ctx = ctx)"
   ]
  },
  {
   "cell_type": "code",
   "execution_count": 11,
   "id": "a1fd149f",
   "metadata": {},
   "outputs": [],
   "source": [
    "# Learning rate decay factor\n",
    "lr_decay = 0.1\n",
    "# Epochs where learning rate decays\n",
    "lr_decay_epoch = [80, 160, np.inf]\n",
    "\n",
    "# Nesterov accelerated gradient descent\n",
    "optimizer = 'sgd'\n",
    "# Set parameters\n",
    "optimizer_params = {'learning_rate': 0.1, 'wd': 0.0001, 'momentum': 0.9}\n",
    "\n",
    "# Define our trainer for net\n",
    "trainer = gluon.Trainer(model.collect_params(), optimizer, optimizer_params)"
   ]
  },
  {
   "cell_type": "code",
   "execution_count": 12,
   "id": "2a68ba3f",
   "metadata": {},
   "outputs": [],
   "source": [
    "loss_fn = gluon.loss.SoftmaxCrossEntropyLoss()"
   ]
  },
  {
   "cell_type": "code",
   "execution_count": 13,
   "id": "188debc9",
   "metadata": {},
   "outputs": [],
   "source": [
    "train_metric = mx.gluon.metric.Accuracy()"
   ]
  },
  {
   "cell_type": "code",
   "execution_count": 16,
   "id": "a445d2fb",
   "metadata": {},
   "outputs": [],
   "source": [
    "def test(ctx, val_data):\n",
    "    metric = mx.gluon.metric.Accuracy()\n",
    "    for i, batch in enumerate(val_data):\n",
    "        data = gluon.utils.split_and_load(batch[0], ctx_list=ctx, batch_axis=0)\n",
    "        label = gluon.utils.split_and_load(batch[1], ctx_list=ctx, batch_axis=0)\n",
    "        outputs = [model(X) for X in data]\n",
    "        metric.update(label, outputs)\n",
    "    return metric.get()"
   ]
  },
  {
   "cell_type": "code",
   "execution_count": 17,
   "id": "f18283fd",
   "metadata": {},
   "outputs": [
    {
     "name": "stdout",
     "output_type": "stream",
     "text": [
      "[Epoch 0] train=0.277103 val=0.327500 loss=116590.569061 time: 66.905487\n",
      "[Epoch 1] train=0.325040 val=0.351500 loss=108665.043823 time: 67.415293\n",
      "[Epoch 2] train=0.368670 val=0.393100 loss=101842.684494 time: 67.596745\n"
     ]
    }
   ],
   "source": [
    "import time \n",
    "from mxnet import autograd as ag\n",
    "\n",
    "epochs = 100\n",
    "lr_decay_count = 0\n",
    "\n",
    "for epoch in range(epochs):\n",
    "    tic = time.time()\n",
    "    train_metric.reset()\n",
    "    train_loss = 0\n",
    "\n",
    "    # Learning rate decay\n",
    "    if epoch == lr_decay_epoch[lr_decay_count]:\n",
    "        trainer.set_learning_rate(trainer.learning_rate*lr_decay)\n",
    "        lr_decay_count += 1\n",
    "\n",
    "    # Loop through each batch of training data\n",
    "    for i, batch in enumerate(train_data):\n",
    "        # Extract data and label\n",
    "        data = gluon.utils.split_and_load(batch[0], ctx_list=ctx, batch_axis=0)\n",
    "        label = gluon.utils.split_and_load(batch[1], ctx_list=ctx, batch_axis=0)\n",
    "\n",
    "        # AutoGrad\n",
    "        with ag.record():\n",
    "            output = [model(X) for X in data]\n",
    "            loss = [loss_fn(yhat, y) for yhat, y in zip(output, label)]\n",
    "\n",
    "        # Backpropagation\n",
    "        for l in loss:\n",
    "            l.backward()\n",
    "\n",
    "        # Optimize\n",
    "        trainer.step(batch_size)\n",
    "\n",
    "        # Update metrics\n",
    "        train_loss += sum([l.sum().asnumpy() for l in loss])\n",
    "        train_metric.update(label, output)\n",
    "\n",
    "    name, acc = train_metric.get()\n",
    "    # Evaluate on Validation data\n",
    "    name, val_acc = test(ctx, val_data)\n",
    "    print('[Epoch %d] train=%f val=%f loss=%f time: %f' %\n",
    "        (epoch, acc, val_acc, train_loss, time.time()-tic))\n",
    "\n"
   ]
  },
  {
   "cell_type": "code",
   "execution_count": 18,
   "id": "123e5b30",
   "metadata": {},
   "outputs": [
    {
     "data": {
      "text/plain": [
       "101842.68449401855"
      ]
     },
     "execution_count": 18,
     "metadata": {},
     "output_type": "execute_result"
    }
   ],
   "source": [
    "train_loss"
   ]
  },
  {
   "cell_type": "code",
   "execution_count": null,
   "id": "b8ee60e4",
   "metadata": {},
   "outputs": [],
   "source": []
  }
 ],
 "metadata": {
  "kernelspec": {
   "display_name": "Python 3",
   "language": "python",
   "name": "python3"
  },
  "language_info": {
   "codemirror_mode": {
    "name": "ipython",
    "version": 3
   },
   "file_extension": ".py",
   "mimetype": "text/x-python",
   "name": "python",
   "nbconvert_exporter": "python",
   "pygments_lexer": "ipython3",
   "version": "3.8.10"
  }
 },
 "nbformat": 4,
 "nbformat_minor": 5
}
